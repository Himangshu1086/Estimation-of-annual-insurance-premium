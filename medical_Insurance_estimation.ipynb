{
 "cells": [
  {
   "cell_type": "markdown",
   "id": "0e28a1a1",
   "metadata": {},
   "source": [
    "# ESTIMATION OF ANNUAL INSURANCE CHARGES"
   ]
  },
  {
   "cell_type": "markdown",
   "id": "878f37c0",
   "metadata": {},
   "source": [
    "#PROBLEM STATEMENT\n",
    "\n",
    "> ACME Insurance Inc. offers affordable health insurance to thousands of customer all over the United States.**I need to create an automated system to estimate the annual medical expenditure for new customers**, using information such as their age, sex, BMI, children, smoking habits and region of residence. \n",
    "\n"
   ]
  },
  {
   "cell_type": "markdown",
   "id": "9593108f",
   "metadata": {},
   "source": [
    "# 1. DATA ACQUISITION"
   ]
  },
  {
   "cell_type": "markdown",
   "metadata": {},
   "source": [
    "# **Dataset source**\n",
    "[Data Set](https://github.com/stedy/Machine-Learning-with-R-datasets)"
   ]
  },
  {
   "cell_type": "code",
   "execution_count": 1,
   "id": "9f0716e7",
   "metadata": {},
   "outputs": [],
   "source": [
    "import pandas as pd"
   ]
  },
  {
   "cell_type": "code",
   "execution_count": 2,
   "id": "201518f6",
   "metadata": {},
   "outputs": [],
   "source": [
    "data =  pd.read_csv('medical.csv')\n",
    "medical_df = data.copy()"
   ]
  },
  {
   "cell_type": "code",
   "execution_count": 3,
   "id": "4cd12809",
   "metadata": {
    "scrolled": false
   },
   "outputs": [
    {
     "data": {
      "text/html": [
       "<div>\n",
       "<style scoped>\n",
       "    .dataframe tbody tr th:only-of-type {\n",
       "        vertical-align: middle;\n",
       "    }\n",
       "\n",
       "    .dataframe tbody tr th {\n",
       "        vertical-align: top;\n",
       "    }\n",
       "\n",
       "    .dataframe thead th {\n",
       "        text-align: right;\n",
       "    }\n",
       "</style>\n",
       "<table border=\"1\" class=\"dataframe\">\n",
       "  <thead>\n",
       "    <tr style=\"text-align: right;\">\n",
       "      <th></th>\n",
       "      <th>age</th>\n",
       "      <th>sex</th>\n",
       "      <th>bmi</th>\n",
       "      <th>children</th>\n",
       "      <th>smoker</th>\n",
       "      <th>region</th>\n",
       "      <th>charges</th>\n",
       "    </tr>\n",
       "  </thead>\n",
       "  <tbody>\n",
       "    <tr>\n",
       "      <th>0</th>\n",
       "      <td>19</td>\n",
       "      <td>female</td>\n",
       "      <td>27.900</td>\n",
       "      <td>0</td>\n",
       "      <td>yes</td>\n",
       "      <td>southwest</td>\n",
       "      <td>16884.92400</td>\n",
       "    </tr>\n",
       "    <tr>\n",
       "      <th>1</th>\n",
       "      <td>18</td>\n",
       "      <td>male</td>\n",
       "      <td>33.770</td>\n",
       "      <td>1</td>\n",
       "      <td>no</td>\n",
       "      <td>southeast</td>\n",
       "      <td>1725.55230</td>\n",
       "    </tr>\n",
       "    <tr>\n",
       "      <th>2</th>\n",
       "      <td>28</td>\n",
       "      <td>male</td>\n",
       "      <td>33.000</td>\n",
       "      <td>3</td>\n",
       "      <td>no</td>\n",
       "      <td>southeast</td>\n",
       "      <td>4449.46200</td>\n",
       "    </tr>\n",
       "    <tr>\n",
       "      <th>3</th>\n",
       "      <td>33</td>\n",
       "      <td>male</td>\n",
       "      <td>22.705</td>\n",
       "      <td>0</td>\n",
       "      <td>no</td>\n",
       "      <td>northwest</td>\n",
       "      <td>21984.47061</td>\n",
       "    </tr>\n",
       "    <tr>\n",
       "      <th>4</th>\n",
       "      <td>32</td>\n",
       "      <td>male</td>\n",
       "      <td>28.880</td>\n",
       "      <td>0</td>\n",
       "      <td>no</td>\n",
       "      <td>northwest</td>\n",
       "      <td>3866.85520</td>\n",
       "    </tr>\n",
       "  </tbody>\n",
       "</table>\n",
       "</div>"
      ],
      "text/plain": [
       "   age     sex     bmi  children smoker     region      charges\n",
       "0   19  female  27.900         0    yes  southwest  16884.92400\n",
       "1   18    male  33.770         1     no  southeast   1725.55230\n",
       "2   28    male  33.000         3     no  southeast   4449.46200\n",
       "3   33    male  22.705         0     no  northwest  21984.47061\n",
       "4   32    male  28.880         0     no  northwest   3866.85520"
      ]
     },
     "execution_count": 3,
     "metadata": {},
     "output_type": "execute_result"
    }
   ],
   "source": [
    "medical_df.head()"
   ]
  },
  {
   "cell_type": "markdown",
   "id": "b51fe0a5",
   "metadata": {},
   "source": [
    "The dataset contains 1338 rows and 7 columns. Each row of the dataset contains information about one customer. \n",
    "\n",
    "Our objective is to find a way to estimate the value in the \"charges\" column using the values in the other columns."
   ]
  },
  {
   "cell_type": "code",
   "execution_count": 4,
   "id": "ec3846db",
   "metadata": {},
   "outputs": [
    {
     "name": "stdout",
     "output_type": "stream",
     "text": [
      "<class 'pandas.core.frame.DataFrame'>\n",
      "RangeIndex: 1338 entries, 0 to 1337\n",
      "Data columns (total 7 columns):\n",
      " #   Column    Non-Null Count  Dtype  \n",
      "---  ------    --------------  -----  \n",
      " 0   age       1338 non-null   int64  \n",
      " 1   sex       1338 non-null   object \n",
      " 2   bmi       1338 non-null   float64\n",
      " 3   children  1338 non-null   int64  \n",
      " 4   smoker    1338 non-null   object \n",
      " 5   region    1338 non-null   object \n",
      " 6   charges   1338 non-null   float64\n",
      "dtypes: float64(2), int64(2), object(3)\n",
      "memory usage: 73.3+ KB\n"
     ]
    }
   ],
   "source": [
    "medical_df.info()"
   ]
  },
  {
   "cell_type": "markdown",
   "id": "f7daf1ef",
   "metadata": {},
   "source": [
    "Looks like \"age\", \"children\", \"bmi\" ([body mass index](https://en.wikipedia.org/wiki/Body_mass_index)) and \"charges\" are numbers, whereas \"sex\", \"smoker\" and \"region\" are strings (possibly categories). None of the columns contain any missing values.\n",
    "\n",
    "## Here are some statistics for the numerical columns:"
   ]
  },
  {
   "cell_type": "code",
   "execution_count": null,
   "id": "601dd869",
   "metadata": {},
   "outputs": [],
   "source": [
    "medical_df.describe()"
   ]
  },
  {
   "cell_type": "markdown",
   "id": "7fddbb64",
   "metadata": {},
   "source": [
    "The ranges of values in the numerical columns seem reasonable too (no negative ages!). The \"charges\" column seems to be significantly skewed however, as the median (50 percentile) is much lower than the maximum value.\n",
    "\n",
    "\n"
   ]
  },
  {
   "cell_type": "markdown",
   "id": "12a03b56",
   "metadata": {},
   "source": [
    "# 2. DATA EXPLORATION"
   ]
  },
  {
   "cell_type": "code",
   "execution_count": null,
   "id": "f2e85bc8",
   "metadata": {},
   "outputs": [],
   "source": [
    "# !pip install plotly matplotlib seaborn --quiet"
   ]
  },
  {
   "cell_type": "code",
   "execution_count": 5,
   "id": "66d82725",
   "metadata": {},
   "outputs": [],
   "source": [
    "import plotly.express as px\n",
    "import matplotlib\n",
    "import matplotlib.pyplot as plt\n",
    "import seaborn as sns\n",
    "%matplotlib inline"
   ]
  },
  {
   "cell_type": "markdown",
   "id": "60caa58a",
   "metadata": {},
   "source": [
    "The following settings will improve the default style and font sizes for our charts."
   ]
  },
  {
   "cell_type": "code",
   "execution_count": 6,
   "id": "8ffedac7",
   "metadata": {},
   "outputs": [],
   "source": [
    "sns.set_style('darkgrid')\n",
    "matplotlib.rcParams['font.size'] = 14\n",
    "matplotlib.rcParams['figure.figsize'] = (10, 6)\n",
    "matplotlib.rcParams['figure.facecolor'] = '#00000000'"
   ]
  },
  {
   "cell_type": "markdown",
   "id": "e17a8220",
   "metadata": {},
   "source": [
    "### Age\n",
    "\n",
    "Age is a numeric column. The minimum age in the dataset is 18 and the maximum age is 64. Thus, we can visualize the distribution of age using a histogram with 47 bins (one for each year) and a box plot. "
   ]
  },
  {
   "cell_type": "code",
   "execution_count": null,
   "id": "1252a914",
   "metadata": {},
   "outputs": [],
   "source": [
    "medical_df.age.describe()"
   ]
  },
  {
   "cell_type": "code",
   "execution_count": 7,
   "id": "fa559500",
   "metadata": {},
   "outputs": [
    {
     "data": {
      "application/vnd.plotly.v1+json": {
       "config": {
        "plotlyServerURL": "https://plot.ly"
       },
       "data": [
        {
         "alignmentgroup": "True",
         "bingroup": "x",
         "hovertemplate": "age=%{x}<br>count=%{y}<extra></extra>",
         "legendgroup": "",
         "marker": {
          "color": "#636efa",
          "pattern": {
           "shape": ""
          }
         },
         "name": "",
         "nbinsx": 47,
         "offsetgroup": "",
         "orientation": "v",
         "showlegend": false,
         "type": "histogram",
         "x": [
          19,
          18,
          28,
          33,
          32,
          31,
          46,
          37,
          37,
          60,
          25,
          62,
          23,
          56,
          27,
          19,
          52,
          23,
          56,
          30,
          60,
          30,
          18,
          34,
          37,
          59,
          63,
          55,
          23,
          31,
          22,
          18,
          19,
          63,
          28,
          19,
          62,
          26,
          35,
          60,
          24,
          31,
          41,
          37,
          38,
          55,
          18,
          28,
          60,
          36,
          18,
          21,
          48,
          36,
          40,
          58,
          58,
          18,
          53,
          34,
          43,
          25,
          64,
          28,
          20,
          19,
          61,
          40,
          40,
          28,
          27,
          31,
          53,
          58,
          44,
          57,
          29,
          21,
          22,
          41,
          31,
          45,
          22,
          48,
          37,
          45,
          57,
          56,
          46,
          55,
          21,
          53,
          59,
          35,
          64,
          28,
          54,
          55,
          56,
          38,
          41,
          30,
          18,
          61,
          34,
          20,
          19,
          26,
          29,
          63,
          54,
          55,
          37,
          21,
          52,
          60,
          58,
          29,
          49,
          37,
          44,
          18,
          20,
          44,
          47,
          26,
          19,
          52,
          32,
          38,
          59,
          61,
          53,
          19,
          20,
          22,
          19,
          22,
          54,
          22,
          34,
          26,
          34,
          29,
          30,
          29,
          46,
          51,
          53,
          19,
          35,
          48,
          32,
          42,
          40,
          44,
          48,
          18,
          30,
          50,
          42,
          18,
          54,
          32,
          37,
          47,
          20,
          32,
          19,
          27,
          63,
          49,
          18,
          35,
          24,
          63,
          38,
          54,
          46,
          41,
          58,
          18,
          22,
          44,
          44,
          36,
          26,
          30,
          41,
          29,
          61,
          36,
          25,
          56,
          18,
          19,
          39,
          45,
          51,
          64,
          19,
          48,
          60,
          27,
          46,
          28,
          59,
          35,
          63,
          40,
          20,
          40,
          24,
          34,
          45,
          41,
          53,
          27,
          26,
          24,
          34,
          53,
          32,
          19,
          42,
          55,
          28,
          58,
          41,
          47,
          42,
          59,
          19,
          59,
          39,
          40,
          18,
          31,
          19,
          44,
          23,
          33,
          55,
          40,
          63,
          54,
          60,
          24,
          19,
          29,
          18,
          63,
          54,
          27,
          50,
          55,
          56,
          38,
          51,
          19,
          58,
          20,
          52,
          19,
          53,
          46,
          40,
          59,
          45,
          49,
          18,
          50,
          41,
          50,
          25,
          47,
          19,
          22,
          59,
          51,
          40,
          54,
          30,
          55,
          52,
          46,
          46,
          63,
          59,
          52,
          28,
          29,
          25,
          22,
          25,
          18,
          19,
          47,
          31,
          48,
          36,
          53,
          56,
          28,
          57,
          29,
          28,
          30,
          58,
          41,
          50,
          19,
          43,
          49,
          27,
          52,
          50,
          54,
          44,
          32,
          34,
          26,
          34,
          57,
          29,
          40,
          27,
          45,
          64,
          52,
          61,
          52,
          61,
          56,
          43,
          64,
          60,
          62,
          50,
          46,
          24,
          62,
          60,
          63,
          49,
          34,
          33,
          46,
          36,
          19,
          57,
          50,
          30,
          33,
          18,
          46,
          46,
          47,
          23,
          18,
          48,
          35,
          19,
          21,
          21,
          49,
          56,
          42,
          44,
          18,
          61,
          57,
          42,
          26,
          20,
          23,
          39,
          24,
          64,
          62,
          27,
          55,
          55,
          35,
          44,
          19,
          58,
          50,
          26,
          24,
          48,
          19,
          48,
          49,
          46,
          46,
          43,
          21,
          64,
          18,
          51,
          47,
          64,
          49,
          31,
          52,
          33,
          47,
          38,
          32,
          19,
          44,
          26,
          25,
          19,
          43,
          52,
          36,
          64,
          63,
          64,
          61,
          40,
          25,
          48,
          45,
          38,
          18,
          21,
          27,
          19,
          29,
          42,
          60,
          31,
          60,
          22,
          35,
          52,
          26,
          31,
          33,
          18,
          59,
          56,
          45,
          60,
          56,
          40,
          35,
          39,
          30,
          24,
          20,
          32,
          59,
          55,
          57,
          56,
          40,
          49,
          42,
          62,
          56,
          19,
          30,
          60,
          56,
          28,
          18,
          27,
          18,
          19,
          47,
          54,
          61,
          24,
          25,
          21,
          23,
          63,
          49,
          18,
          51,
          48,
          31,
          54,
          19,
          44,
          53,
          19,
          61,
          18,
          61,
          21,
          20,
          31,
          45,
          44,
          62,
          29,
          43,
          51,
          19,
          38,
          37,
          22,
          21,
          24,
          57,
          56,
          27,
          51,
          19,
          39,
          58,
          20,
          45,
          35,
          31,
          50,
          32,
          51,
          38,
          42,
          18,
          19,
          51,
          46,
          18,
          57,
          62,
          59,
          37,
          64,
          38,
          33,
          46,
          46,
          53,
          34,
          20,
          63,
          54,
          54,
          49,
          28,
          54,
          25,
          43,
          63,
          32,
          62,
          52,
          25,
          28,
          46,
          34,
          35,
          19,
          46,
          54,
          27,
          50,
          18,
          19,
          38,
          41,
          49,
          48,
          31,
          18,
          30,
          62,
          57,
          58,
          22,
          31,
          52,
          25,
          59,
          19,
          39,
          32,
          19,
          33,
          21,
          34,
          61,
          38,
          58,
          47,
          20,
          21,
          41,
          46,
          42,
          34,
          43,
          52,
          18,
          51,
          56,
          64,
          19,
          51,
          27,
          59,
          28,
          30,
          47,
          38,
          18,
          34,
          20,
          47,
          56,
          49,
          19,
          55,
          30,
          37,
          49,
          18,
          59,
          29,
          36,
          33,
          58,
          44,
          53,
          24,
          29,
          40,
          51,
          64,
          19,
          35,
          39,
          56,
          33,
          42,
          61,
          23,
          43,
          48,
          39,
          40,
          18,
          58,
          49,
          53,
          48,
          45,
          59,
          52,
          26,
          27,
          48,
          57,
          37,
          57,
          32,
          18,
          64,
          43,
          49,
          40,
          62,
          40,
          30,
          29,
          36,
          41,
          44,
          45,
          55,
          60,
          56,
          49,
          21,
          19,
          39,
          53,
          33,
          53,
          42,
          40,
          47,
          27,
          21,
          47,
          20,
          24,
          27,
          26,
          53,
          41,
          56,
          23,
          21,
          50,
          53,
          34,
          47,
          33,
          51,
          49,
          31,
          36,
          18,
          50,
          43,
          20,
          24,
          60,
          49,
          60,
          51,
          58,
          51,
          53,
          62,
          19,
          50,
          30,
          41,
          29,
          18,
          41,
          35,
          53,
          24,
          48,
          59,
          49,
          37,
          26,
          23,
          29,
          45,
          27,
          53,
          31,
          50,
          50,
          34,
          19,
          47,
          28,
          37,
          21,
          64,
          58,
          24,
          31,
          39,
          47,
          30,
          18,
          22,
          23,
          33,
          27,
          45,
          57,
          47,
          42,
          64,
          38,
          61,
          53,
          44,
          19,
          41,
          51,
          40,
          45,
          35,
          53,
          30,
          18,
          51,
          50,
          31,
          35,
          60,
          21,
          29,
          62,
          39,
          19,
          22,
          53,
          39,
          27,
          30,
          30,
          58,
          33,
          42,
          64,
          21,
          18,
          23,
          45,
          40,
          19,
          18,
          25,
          46,
          33,
          54,
          28,
          36,
          20,
          24,
          23,
          47,
          33,
          45,
          26,
          18,
          44,
          60,
          64,
          56,
          36,
          41,
          39,
          63,
          36,
          28,
          58,
          36,
          42,
          36,
          56,
          35,
          59,
          21,
          59,
          23,
          57,
          53,
          60,
          51,
          23,
          27,
          55,
          37,
          61,
          46,
          53,
          49,
          20,
          48,
          25,
          25,
          57,
          37,
          38,
          55,
          36,
          51,
          40,
          18,
          57,
          61,
          25,
          50,
          26,
          42,
          43,
          44,
          23,
          49,
          33,
          41,
          37,
          22,
          23,
          21,
          51,
          25,
          32,
          57,
          36,
          22,
          57,
          64,
          36,
          54,
          47,
          62,
          61,
          43,
          19,
          18,
          19,
          49,
          60,
          26,
          49,
          60,
          26,
          27,
          44,
          63,
          32,
          22,
          18,
          59,
          44,
          33,
          24,
          43,
          45,
          61,
          35,
          62,
          62,
          38,
          34,
          43,
          50,
          19,
          57,
          62,
          41,
          26,
          39,
          46,
          45,
          32,
          59,
          44,
          39,
          18,
          53,
          18,
          50,
          18,
          19,
          62,
          56,
          42,
          37,
          42,
          25,
          57,
          51,
          30,
          44,
          34,
          31,
          54,
          24,
          43,
          48,
          19,
          29,
          63,
          46,
          52,
          35,
          51,
          44,
          21,
          39,
          50,
          34,
          22,
          19,
          26,
          29,
          48,
          26,
          45,
          36,
          54,
          34,
          31,
          27,
          20,
          44,
          43,
          45,
          34,
          24,
          26,
          38,
          50,
          38,
          27,
          39,
          39,
          63,
          33,
          36,
          30,
          24,
          24,
          48,
          47,
          29,
          28,
          47,
          25,
          51,
          48,
          43,
          61,
          48,
          38,
          59,
          19,
          26,
          54,
          21,
          51,
          22,
          47,
          18,
          47,
          21,
          19,
          23,
          54,
          37,
          46,
          55,
          30,
          18,
          61,
          54,
          22,
          45,
          22,
          19,
          35,
          18,
          20,
          28,
          55,
          43,
          43,
          22,
          25,
          49,
          44,
          64,
          49,
          47,
          27,
          55,
          48,
          45,
          24,
          32,
          24,
          57,
          59,
          36,
          29,
          42,
          48,
          39,
          63,
          54,
          37,
          63,
          21,
          54,
          60,
          32,
          47,
          21,
          28,
          63,
          18,
          32,
          38,
          32,
          62,
          39,
          55,
          57,
          52,
          56,
          47,
          55,
          23,
          22,
          50,
          18,
          51,
          22,
          52,
          25,
          33,
          53,
          29,
          58,
          37,
          54,
          49,
          50,
          26,
          45,
          54,
          38,
          48,
          28,
          23,
          55,
          41,
          25,
          33,
          30,
          23,
          46,
          53,
          27,
          23,
          63,
          55,
          35,
          34,
          19,
          39,
          27,
          57,
          52,
          28,
          50,
          44,
          26,
          33,
          19,
          50,
          41,
          52,
          39,
          50,
          52,
          60,
          20,
          55,
          42,
          18,
          58,
          43,
          35,
          48,
          36,
          19,
          23,
          20,
          32,
          43,
          34,
          30,
          18,
          41,
          35,
          57,
          29,
          32,
          37,
          18,
          43,
          56,
          38,
          29,
          22,
          52,
          40,
          23,
          31,
          42,
          24,
          25,
          48,
          23,
          45,
          20,
          62,
          43,
          23,
          31,
          41,
          58,
          48,
          31,
          19,
          19,
          41,
          40,
          31,
          37,
          46,
          22,
          51,
          18,
          35,
          59,
          36,
          37,
          59,
          36,
          39,
          18,
          52,
          27,
          18,
          40,
          29,
          46,
          38,
          30,
          40,
          50,
          20,
          41,
          33,
          38,
          42,
          56,
          58,
          52,
          20,
          54,
          58,
          45,
          26,
          63,
          58,
          37,
          25,
          52,
          64,
          22,
          28,
          18,
          28,
          45,
          33,
          18,
          32,
          24,
          19,
          20,
          40,
          34,
          42,
          51,
          54,
          55,
          52,
          32,
          28,
          41,
          43,
          49,
          64,
          55,
          24,
          20,
          45,
          26,
          25,
          43,
          35,
          26,
          57,
          22,
          32,
          39,
          25,
          48,
          47,
          18,
          18,
          61,
          47,
          28,
          36,
          20,
          44,
          38,
          19,
          21,
          46,
          58,
          20,
          18,
          28,
          33,
          19,
          45,
          62,
          25,
          43,
          42,
          24,
          29,
          32,
          25,
          41,
          42,
          33,
          34,
          19,
          30,
          18,
          19,
          18,
          35,
          39,
          31,
          62,
          62,
          42,
          31,
          61,
          42,
          51,
          23,
          52,
          57,
          23,
          52,
          50,
          18,
          18,
          21,
          61
         ],
         "xaxis": "x",
         "yaxis": "y"
        },
        {
         "alignmentgroup": "True",
         "hovertemplate": "age=%{x}<extra></extra>",
         "legendgroup": "",
         "marker": {
          "color": "#636efa"
         },
         "name": "",
         "notched": true,
         "offsetgroup": "",
         "showlegend": false,
         "type": "box",
         "x": [
          19,
          18,
          28,
          33,
          32,
          31,
          46,
          37,
          37,
          60,
          25,
          62,
          23,
          56,
          27,
          19,
          52,
          23,
          56,
          30,
          60,
          30,
          18,
          34,
          37,
          59,
          63,
          55,
          23,
          31,
          22,
          18,
          19,
          63,
          28,
          19,
          62,
          26,
          35,
          60,
          24,
          31,
          41,
          37,
          38,
          55,
          18,
          28,
          60,
          36,
          18,
          21,
          48,
          36,
          40,
          58,
          58,
          18,
          53,
          34,
          43,
          25,
          64,
          28,
          20,
          19,
          61,
          40,
          40,
          28,
          27,
          31,
          53,
          58,
          44,
          57,
          29,
          21,
          22,
          41,
          31,
          45,
          22,
          48,
          37,
          45,
          57,
          56,
          46,
          55,
          21,
          53,
          59,
          35,
          64,
          28,
          54,
          55,
          56,
          38,
          41,
          30,
          18,
          61,
          34,
          20,
          19,
          26,
          29,
          63,
          54,
          55,
          37,
          21,
          52,
          60,
          58,
          29,
          49,
          37,
          44,
          18,
          20,
          44,
          47,
          26,
          19,
          52,
          32,
          38,
          59,
          61,
          53,
          19,
          20,
          22,
          19,
          22,
          54,
          22,
          34,
          26,
          34,
          29,
          30,
          29,
          46,
          51,
          53,
          19,
          35,
          48,
          32,
          42,
          40,
          44,
          48,
          18,
          30,
          50,
          42,
          18,
          54,
          32,
          37,
          47,
          20,
          32,
          19,
          27,
          63,
          49,
          18,
          35,
          24,
          63,
          38,
          54,
          46,
          41,
          58,
          18,
          22,
          44,
          44,
          36,
          26,
          30,
          41,
          29,
          61,
          36,
          25,
          56,
          18,
          19,
          39,
          45,
          51,
          64,
          19,
          48,
          60,
          27,
          46,
          28,
          59,
          35,
          63,
          40,
          20,
          40,
          24,
          34,
          45,
          41,
          53,
          27,
          26,
          24,
          34,
          53,
          32,
          19,
          42,
          55,
          28,
          58,
          41,
          47,
          42,
          59,
          19,
          59,
          39,
          40,
          18,
          31,
          19,
          44,
          23,
          33,
          55,
          40,
          63,
          54,
          60,
          24,
          19,
          29,
          18,
          63,
          54,
          27,
          50,
          55,
          56,
          38,
          51,
          19,
          58,
          20,
          52,
          19,
          53,
          46,
          40,
          59,
          45,
          49,
          18,
          50,
          41,
          50,
          25,
          47,
          19,
          22,
          59,
          51,
          40,
          54,
          30,
          55,
          52,
          46,
          46,
          63,
          59,
          52,
          28,
          29,
          25,
          22,
          25,
          18,
          19,
          47,
          31,
          48,
          36,
          53,
          56,
          28,
          57,
          29,
          28,
          30,
          58,
          41,
          50,
          19,
          43,
          49,
          27,
          52,
          50,
          54,
          44,
          32,
          34,
          26,
          34,
          57,
          29,
          40,
          27,
          45,
          64,
          52,
          61,
          52,
          61,
          56,
          43,
          64,
          60,
          62,
          50,
          46,
          24,
          62,
          60,
          63,
          49,
          34,
          33,
          46,
          36,
          19,
          57,
          50,
          30,
          33,
          18,
          46,
          46,
          47,
          23,
          18,
          48,
          35,
          19,
          21,
          21,
          49,
          56,
          42,
          44,
          18,
          61,
          57,
          42,
          26,
          20,
          23,
          39,
          24,
          64,
          62,
          27,
          55,
          55,
          35,
          44,
          19,
          58,
          50,
          26,
          24,
          48,
          19,
          48,
          49,
          46,
          46,
          43,
          21,
          64,
          18,
          51,
          47,
          64,
          49,
          31,
          52,
          33,
          47,
          38,
          32,
          19,
          44,
          26,
          25,
          19,
          43,
          52,
          36,
          64,
          63,
          64,
          61,
          40,
          25,
          48,
          45,
          38,
          18,
          21,
          27,
          19,
          29,
          42,
          60,
          31,
          60,
          22,
          35,
          52,
          26,
          31,
          33,
          18,
          59,
          56,
          45,
          60,
          56,
          40,
          35,
          39,
          30,
          24,
          20,
          32,
          59,
          55,
          57,
          56,
          40,
          49,
          42,
          62,
          56,
          19,
          30,
          60,
          56,
          28,
          18,
          27,
          18,
          19,
          47,
          54,
          61,
          24,
          25,
          21,
          23,
          63,
          49,
          18,
          51,
          48,
          31,
          54,
          19,
          44,
          53,
          19,
          61,
          18,
          61,
          21,
          20,
          31,
          45,
          44,
          62,
          29,
          43,
          51,
          19,
          38,
          37,
          22,
          21,
          24,
          57,
          56,
          27,
          51,
          19,
          39,
          58,
          20,
          45,
          35,
          31,
          50,
          32,
          51,
          38,
          42,
          18,
          19,
          51,
          46,
          18,
          57,
          62,
          59,
          37,
          64,
          38,
          33,
          46,
          46,
          53,
          34,
          20,
          63,
          54,
          54,
          49,
          28,
          54,
          25,
          43,
          63,
          32,
          62,
          52,
          25,
          28,
          46,
          34,
          35,
          19,
          46,
          54,
          27,
          50,
          18,
          19,
          38,
          41,
          49,
          48,
          31,
          18,
          30,
          62,
          57,
          58,
          22,
          31,
          52,
          25,
          59,
          19,
          39,
          32,
          19,
          33,
          21,
          34,
          61,
          38,
          58,
          47,
          20,
          21,
          41,
          46,
          42,
          34,
          43,
          52,
          18,
          51,
          56,
          64,
          19,
          51,
          27,
          59,
          28,
          30,
          47,
          38,
          18,
          34,
          20,
          47,
          56,
          49,
          19,
          55,
          30,
          37,
          49,
          18,
          59,
          29,
          36,
          33,
          58,
          44,
          53,
          24,
          29,
          40,
          51,
          64,
          19,
          35,
          39,
          56,
          33,
          42,
          61,
          23,
          43,
          48,
          39,
          40,
          18,
          58,
          49,
          53,
          48,
          45,
          59,
          52,
          26,
          27,
          48,
          57,
          37,
          57,
          32,
          18,
          64,
          43,
          49,
          40,
          62,
          40,
          30,
          29,
          36,
          41,
          44,
          45,
          55,
          60,
          56,
          49,
          21,
          19,
          39,
          53,
          33,
          53,
          42,
          40,
          47,
          27,
          21,
          47,
          20,
          24,
          27,
          26,
          53,
          41,
          56,
          23,
          21,
          50,
          53,
          34,
          47,
          33,
          51,
          49,
          31,
          36,
          18,
          50,
          43,
          20,
          24,
          60,
          49,
          60,
          51,
          58,
          51,
          53,
          62,
          19,
          50,
          30,
          41,
          29,
          18,
          41,
          35,
          53,
          24,
          48,
          59,
          49,
          37,
          26,
          23,
          29,
          45,
          27,
          53,
          31,
          50,
          50,
          34,
          19,
          47,
          28,
          37,
          21,
          64,
          58,
          24,
          31,
          39,
          47,
          30,
          18,
          22,
          23,
          33,
          27,
          45,
          57,
          47,
          42,
          64,
          38,
          61,
          53,
          44,
          19,
          41,
          51,
          40,
          45,
          35,
          53,
          30,
          18,
          51,
          50,
          31,
          35,
          60,
          21,
          29,
          62,
          39,
          19,
          22,
          53,
          39,
          27,
          30,
          30,
          58,
          33,
          42,
          64,
          21,
          18,
          23,
          45,
          40,
          19,
          18,
          25,
          46,
          33,
          54,
          28,
          36,
          20,
          24,
          23,
          47,
          33,
          45,
          26,
          18,
          44,
          60,
          64,
          56,
          36,
          41,
          39,
          63,
          36,
          28,
          58,
          36,
          42,
          36,
          56,
          35,
          59,
          21,
          59,
          23,
          57,
          53,
          60,
          51,
          23,
          27,
          55,
          37,
          61,
          46,
          53,
          49,
          20,
          48,
          25,
          25,
          57,
          37,
          38,
          55,
          36,
          51,
          40,
          18,
          57,
          61,
          25,
          50,
          26,
          42,
          43,
          44,
          23,
          49,
          33,
          41,
          37,
          22,
          23,
          21,
          51,
          25,
          32,
          57,
          36,
          22,
          57,
          64,
          36,
          54,
          47,
          62,
          61,
          43,
          19,
          18,
          19,
          49,
          60,
          26,
          49,
          60,
          26,
          27,
          44,
          63,
          32,
          22,
          18,
          59,
          44,
          33,
          24,
          43,
          45,
          61,
          35,
          62,
          62,
          38,
          34,
          43,
          50,
          19,
          57,
          62,
          41,
          26,
          39,
          46,
          45,
          32,
          59,
          44,
          39,
          18,
          53,
          18,
          50,
          18,
          19,
          62,
          56,
          42,
          37,
          42,
          25,
          57,
          51,
          30,
          44,
          34,
          31,
          54,
          24,
          43,
          48,
          19,
          29,
          63,
          46,
          52,
          35,
          51,
          44,
          21,
          39,
          50,
          34,
          22,
          19,
          26,
          29,
          48,
          26,
          45,
          36,
          54,
          34,
          31,
          27,
          20,
          44,
          43,
          45,
          34,
          24,
          26,
          38,
          50,
          38,
          27,
          39,
          39,
          63,
          33,
          36,
          30,
          24,
          24,
          48,
          47,
          29,
          28,
          47,
          25,
          51,
          48,
          43,
          61,
          48,
          38,
          59,
          19,
          26,
          54,
          21,
          51,
          22,
          47,
          18,
          47,
          21,
          19,
          23,
          54,
          37,
          46,
          55,
          30,
          18,
          61,
          54,
          22,
          45,
          22,
          19,
          35,
          18,
          20,
          28,
          55,
          43,
          43,
          22,
          25,
          49,
          44,
          64,
          49,
          47,
          27,
          55,
          48,
          45,
          24,
          32,
          24,
          57,
          59,
          36,
          29,
          42,
          48,
          39,
          63,
          54,
          37,
          63,
          21,
          54,
          60,
          32,
          47,
          21,
          28,
          63,
          18,
          32,
          38,
          32,
          62,
          39,
          55,
          57,
          52,
          56,
          47,
          55,
          23,
          22,
          50,
          18,
          51,
          22,
          52,
          25,
          33,
          53,
          29,
          58,
          37,
          54,
          49,
          50,
          26,
          45,
          54,
          38,
          48,
          28,
          23,
          55,
          41,
          25,
          33,
          30,
          23,
          46,
          53,
          27,
          23,
          63,
          55,
          35,
          34,
          19,
          39,
          27,
          57,
          52,
          28,
          50,
          44,
          26,
          33,
          19,
          50,
          41,
          52,
          39,
          50,
          52,
          60,
          20,
          55,
          42,
          18,
          58,
          43,
          35,
          48,
          36,
          19,
          23,
          20,
          32,
          43,
          34,
          30,
          18,
          41,
          35,
          57,
          29,
          32,
          37,
          18,
          43,
          56,
          38,
          29,
          22,
          52,
          40,
          23,
          31,
          42,
          24,
          25,
          48,
          23,
          45,
          20,
          62,
          43,
          23,
          31,
          41,
          58,
          48,
          31,
          19,
          19,
          41,
          40,
          31,
          37,
          46,
          22,
          51,
          18,
          35,
          59,
          36,
          37,
          59,
          36,
          39,
          18,
          52,
          27,
          18,
          40,
          29,
          46,
          38,
          30,
          40,
          50,
          20,
          41,
          33,
          38,
          42,
          56,
          58,
          52,
          20,
          54,
          58,
          45,
          26,
          63,
          58,
          37,
          25,
          52,
          64,
          22,
          28,
          18,
          28,
          45,
          33,
          18,
          32,
          24,
          19,
          20,
          40,
          34,
          42,
          51,
          54,
          55,
          52,
          32,
          28,
          41,
          43,
          49,
          64,
          55,
          24,
          20,
          45,
          26,
          25,
          43,
          35,
          26,
          57,
          22,
          32,
          39,
          25,
          48,
          47,
          18,
          18,
          61,
          47,
          28,
          36,
          20,
          44,
          38,
          19,
          21,
          46,
          58,
          20,
          18,
          28,
          33,
          19,
          45,
          62,
          25,
          43,
          42,
          24,
          29,
          32,
          25,
          41,
          42,
          33,
          34,
          19,
          30,
          18,
          19,
          18,
          35,
          39,
          31,
          62,
          62,
          42,
          31,
          61,
          42,
          51,
          23,
          52,
          57,
          23,
          52,
          50,
          18,
          18,
          21,
          61
         ],
         "xaxis": "x2",
         "yaxis": "y2"
        }
       ],
       "layout": {
        "bargap": 0.1,
        "barmode": "relative",
        "legend": {
         "tracegroupgap": 0
        },
        "template": {
         "data": {
          "bar": [
           {
            "error_x": {
             "color": "#2a3f5f"
            },
            "error_y": {
             "color": "#2a3f5f"
            },
            "marker": {
             "line": {
              "color": "#E5ECF6",
              "width": 0.5
             },
             "pattern": {
              "fillmode": "overlay",
              "size": 10,
              "solidity": 0.2
             }
            },
            "type": "bar"
           }
          ],
          "barpolar": [
           {
            "marker": {
             "line": {
              "color": "#E5ECF6",
              "width": 0.5
             },
             "pattern": {
              "fillmode": "overlay",
              "size": 10,
              "solidity": 0.2
             }
            },
            "type": "barpolar"
           }
          ],
          "carpet": [
           {
            "aaxis": {
             "endlinecolor": "#2a3f5f",
             "gridcolor": "white",
             "linecolor": "white",
             "minorgridcolor": "white",
             "startlinecolor": "#2a3f5f"
            },
            "baxis": {
             "endlinecolor": "#2a3f5f",
             "gridcolor": "white",
             "linecolor": "white",
             "minorgridcolor": "white",
             "startlinecolor": "#2a3f5f"
            },
            "type": "carpet"
           }
          ],
          "choropleth": [
           {
            "colorbar": {
             "outlinewidth": 0,
             "ticks": ""
            },
            "type": "choropleth"
           }
          ],
          "contour": [
           {
            "colorbar": {
             "outlinewidth": 0,
             "ticks": ""
            },
            "colorscale": [
             [
              0,
              "#0d0887"
             ],
             [
              0.1111111111111111,
              "#46039f"
             ],
             [
              0.2222222222222222,
              "#7201a8"
             ],
             [
              0.3333333333333333,
              "#9c179e"
             ],
             [
              0.4444444444444444,
              "#bd3786"
             ],
             [
              0.5555555555555556,
              "#d8576b"
             ],
             [
              0.6666666666666666,
              "#ed7953"
             ],
             [
              0.7777777777777778,
              "#fb9f3a"
             ],
             [
              0.8888888888888888,
              "#fdca26"
             ],
             [
              1,
              "#f0f921"
             ]
            ],
            "type": "contour"
           }
          ],
          "contourcarpet": [
           {
            "colorbar": {
             "outlinewidth": 0,
             "ticks": ""
            },
            "type": "contourcarpet"
           }
          ],
          "heatmap": [
           {
            "colorbar": {
             "outlinewidth": 0,
             "ticks": ""
            },
            "colorscale": [
             [
              0,
              "#0d0887"
             ],
             [
              0.1111111111111111,
              "#46039f"
             ],
             [
              0.2222222222222222,
              "#7201a8"
             ],
             [
              0.3333333333333333,
              "#9c179e"
             ],
             [
              0.4444444444444444,
              "#bd3786"
             ],
             [
              0.5555555555555556,
              "#d8576b"
             ],
             [
              0.6666666666666666,
              "#ed7953"
             ],
             [
              0.7777777777777778,
              "#fb9f3a"
             ],
             [
              0.8888888888888888,
              "#fdca26"
             ],
             [
              1,
              "#f0f921"
             ]
            ],
            "type": "heatmap"
           }
          ],
          "heatmapgl": [
           {
            "colorbar": {
             "outlinewidth": 0,
             "ticks": ""
            },
            "colorscale": [
             [
              0,
              "#0d0887"
             ],
             [
              0.1111111111111111,
              "#46039f"
             ],
             [
              0.2222222222222222,
              "#7201a8"
             ],
             [
              0.3333333333333333,
              "#9c179e"
             ],
             [
              0.4444444444444444,
              "#bd3786"
             ],
             [
              0.5555555555555556,
              "#d8576b"
             ],
             [
              0.6666666666666666,
              "#ed7953"
             ],
             [
              0.7777777777777778,
              "#fb9f3a"
             ],
             [
              0.8888888888888888,
              "#fdca26"
             ],
             [
              1,
              "#f0f921"
             ]
            ],
            "type": "heatmapgl"
           }
          ],
          "histogram": [
           {
            "marker": {
             "pattern": {
              "fillmode": "overlay",
              "size": 10,
              "solidity": 0.2
             }
            },
            "type": "histogram"
           }
          ],
          "histogram2d": [
           {
            "colorbar": {
             "outlinewidth": 0,
             "ticks": ""
            },
            "colorscale": [
             [
              0,
              "#0d0887"
             ],
             [
              0.1111111111111111,
              "#46039f"
             ],
             [
              0.2222222222222222,
              "#7201a8"
             ],
             [
              0.3333333333333333,
              "#9c179e"
             ],
             [
              0.4444444444444444,
              "#bd3786"
             ],
             [
              0.5555555555555556,
              "#d8576b"
             ],
             [
              0.6666666666666666,
              "#ed7953"
             ],
             [
              0.7777777777777778,
              "#fb9f3a"
             ],
             [
              0.8888888888888888,
              "#fdca26"
             ],
             [
              1,
              "#f0f921"
             ]
            ],
            "type": "histogram2d"
           }
          ],
          "histogram2dcontour": [
           {
            "colorbar": {
             "outlinewidth": 0,
             "ticks": ""
            },
            "colorscale": [
             [
              0,
              "#0d0887"
             ],
             [
              0.1111111111111111,
              "#46039f"
             ],
             [
              0.2222222222222222,
              "#7201a8"
             ],
             [
              0.3333333333333333,
              "#9c179e"
             ],
             [
              0.4444444444444444,
              "#bd3786"
             ],
             [
              0.5555555555555556,
              "#d8576b"
             ],
             [
              0.6666666666666666,
              "#ed7953"
             ],
             [
              0.7777777777777778,
              "#fb9f3a"
             ],
             [
              0.8888888888888888,
              "#fdca26"
             ],
             [
              1,
              "#f0f921"
             ]
            ],
            "type": "histogram2dcontour"
           }
          ],
          "mesh3d": [
           {
            "colorbar": {
             "outlinewidth": 0,
             "ticks": ""
            },
            "type": "mesh3d"
           }
          ],
          "parcoords": [
           {
            "line": {
             "colorbar": {
              "outlinewidth": 0,
              "ticks": ""
             }
            },
            "type": "parcoords"
           }
          ],
          "pie": [
           {
            "automargin": true,
            "type": "pie"
           }
          ],
          "scatter": [
           {
            "marker": {
             "colorbar": {
              "outlinewidth": 0,
              "ticks": ""
             }
            },
            "type": "scatter"
           }
          ],
          "scatter3d": [
           {
            "line": {
             "colorbar": {
              "outlinewidth": 0,
              "ticks": ""
             }
            },
            "marker": {
             "colorbar": {
              "outlinewidth": 0,
              "ticks": ""
             }
            },
            "type": "scatter3d"
           }
          ],
          "scattercarpet": [
           {
            "marker": {
             "colorbar": {
              "outlinewidth": 0,
              "ticks": ""
             }
            },
            "type": "scattercarpet"
           }
          ],
          "scattergeo": [
           {
            "marker": {
             "colorbar": {
              "outlinewidth": 0,
              "ticks": ""
             }
            },
            "type": "scattergeo"
           }
          ],
          "scattergl": [
           {
            "marker": {
             "colorbar": {
              "outlinewidth": 0,
              "ticks": ""
             }
            },
            "type": "scattergl"
           }
          ],
          "scattermapbox": [
           {
            "marker": {
             "colorbar": {
              "outlinewidth": 0,
              "ticks": ""
             }
            },
            "type": "scattermapbox"
           }
          ],
          "scatterpolar": [
           {
            "marker": {
             "colorbar": {
              "outlinewidth": 0,
              "ticks": ""
             }
            },
            "type": "scatterpolar"
           }
          ],
          "scatterpolargl": [
           {
            "marker": {
             "colorbar": {
              "outlinewidth": 0,
              "ticks": ""
             }
            },
            "type": "scatterpolargl"
           }
          ],
          "scatterternary": [
           {
            "marker": {
             "colorbar": {
              "outlinewidth": 0,
              "ticks": ""
             }
            },
            "type": "scatterternary"
           }
          ],
          "surface": [
           {
            "colorbar": {
             "outlinewidth": 0,
             "ticks": ""
            },
            "colorscale": [
             [
              0,
              "#0d0887"
             ],
             [
              0.1111111111111111,
              "#46039f"
             ],
             [
              0.2222222222222222,
              "#7201a8"
             ],
             [
              0.3333333333333333,
              "#9c179e"
             ],
             [
              0.4444444444444444,
              "#bd3786"
             ],
             [
              0.5555555555555556,
              "#d8576b"
             ],
             [
              0.6666666666666666,
              "#ed7953"
             ],
             [
              0.7777777777777778,
              "#fb9f3a"
             ],
             [
              0.8888888888888888,
              "#fdca26"
             ],
             [
              1,
              "#f0f921"
             ]
            ],
            "type": "surface"
           }
          ],
          "table": [
           {
            "cells": {
             "fill": {
              "color": "#EBF0F8"
             },
             "line": {
              "color": "white"
             }
            },
            "header": {
             "fill": {
              "color": "#C8D4E3"
             },
             "line": {
              "color": "white"
             }
            },
            "type": "table"
           }
          ]
         },
         "layout": {
          "annotationdefaults": {
           "arrowcolor": "#2a3f5f",
           "arrowhead": 0,
           "arrowwidth": 1
          },
          "autotypenumbers": "strict",
          "coloraxis": {
           "colorbar": {
            "outlinewidth": 0,
            "ticks": ""
           }
          },
          "colorscale": {
           "diverging": [
            [
             0,
             "#8e0152"
            ],
            [
             0.1,
             "#c51b7d"
            ],
            [
             0.2,
             "#de77ae"
            ],
            [
             0.3,
             "#f1b6da"
            ],
            [
             0.4,
             "#fde0ef"
            ],
            [
             0.5,
             "#f7f7f7"
            ],
            [
             0.6,
             "#e6f5d0"
            ],
            [
             0.7,
             "#b8e186"
            ],
            [
             0.8,
             "#7fbc41"
            ],
            [
             0.9,
             "#4d9221"
            ],
            [
             1,
             "#276419"
            ]
           ],
           "sequential": [
            [
             0,
             "#0d0887"
            ],
            [
             0.1111111111111111,
             "#46039f"
            ],
            [
             0.2222222222222222,
             "#7201a8"
            ],
            [
             0.3333333333333333,
             "#9c179e"
            ],
            [
             0.4444444444444444,
             "#bd3786"
            ],
            [
             0.5555555555555556,
             "#d8576b"
            ],
            [
             0.6666666666666666,
             "#ed7953"
            ],
            [
             0.7777777777777778,
             "#fb9f3a"
            ],
            [
             0.8888888888888888,
             "#fdca26"
            ],
            [
             1,
             "#f0f921"
            ]
           ],
           "sequentialminus": [
            [
             0,
             "#0d0887"
            ],
            [
             0.1111111111111111,
             "#46039f"
            ],
            [
             0.2222222222222222,
             "#7201a8"
            ],
            [
             0.3333333333333333,
             "#9c179e"
            ],
            [
             0.4444444444444444,
             "#bd3786"
            ],
            [
             0.5555555555555556,
             "#d8576b"
            ],
            [
             0.6666666666666666,
             "#ed7953"
            ],
            [
             0.7777777777777778,
             "#fb9f3a"
            ],
            [
             0.8888888888888888,
             "#fdca26"
            ],
            [
             1,
             "#f0f921"
            ]
           ]
          },
          "colorway": [
           "#636efa",
           "#EF553B",
           "#00cc96",
           "#ab63fa",
           "#FFA15A",
           "#19d3f3",
           "#FF6692",
           "#B6E880",
           "#FF97FF",
           "#FECB52"
          ],
          "font": {
           "color": "#2a3f5f"
          },
          "geo": {
           "bgcolor": "white",
           "lakecolor": "white",
           "landcolor": "#E5ECF6",
           "showlakes": true,
           "showland": true,
           "subunitcolor": "white"
          },
          "hoverlabel": {
           "align": "left"
          },
          "hovermode": "closest",
          "mapbox": {
           "style": "light"
          },
          "paper_bgcolor": "white",
          "plot_bgcolor": "#E5ECF6",
          "polar": {
           "angularaxis": {
            "gridcolor": "white",
            "linecolor": "white",
            "ticks": ""
           },
           "bgcolor": "#E5ECF6",
           "radialaxis": {
            "gridcolor": "white",
            "linecolor": "white",
            "ticks": ""
           }
          },
          "scene": {
           "xaxis": {
            "backgroundcolor": "#E5ECF6",
            "gridcolor": "white",
            "gridwidth": 2,
            "linecolor": "white",
            "showbackground": true,
            "ticks": "",
            "zerolinecolor": "white"
           },
           "yaxis": {
            "backgroundcolor": "#E5ECF6",
            "gridcolor": "white",
            "gridwidth": 2,
            "linecolor": "white",
            "showbackground": true,
            "ticks": "",
            "zerolinecolor": "white"
           },
           "zaxis": {
            "backgroundcolor": "#E5ECF6",
            "gridcolor": "white",
            "gridwidth": 2,
            "linecolor": "white",
            "showbackground": true,
            "ticks": "",
            "zerolinecolor": "white"
           }
          },
          "shapedefaults": {
           "line": {
            "color": "#2a3f5f"
           }
          },
          "ternary": {
           "aaxis": {
            "gridcolor": "white",
            "linecolor": "white",
            "ticks": ""
           },
           "baxis": {
            "gridcolor": "white",
            "linecolor": "white",
            "ticks": ""
           },
           "bgcolor": "#E5ECF6",
           "caxis": {
            "gridcolor": "white",
            "linecolor": "white",
            "ticks": ""
           }
          },
          "title": {
           "x": 0.05
          },
          "xaxis": {
           "automargin": true,
           "gridcolor": "white",
           "linecolor": "white",
           "ticks": "",
           "title": {
            "standoff": 15
           },
           "zerolinecolor": "white",
           "zerolinewidth": 2
          },
          "yaxis": {
           "automargin": true,
           "gridcolor": "white",
           "linecolor": "white",
           "ticks": "",
           "title": {
            "standoff": 15
           },
           "zerolinecolor": "white",
           "zerolinewidth": 2
          }
         }
        },
        "title": {
         "text": "Distribution of Age"
        },
        "xaxis": {
         "anchor": "y",
         "domain": [
          0,
          1
         ],
         "title": {
          "text": "age"
         }
        },
        "xaxis2": {
         "anchor": "y2",
         "domain": [
          0,
          1
         ],
         "matches": "x",
         "showgrid": true,
         "showticklabels": false
        },
        "yaxis": {
         "anchor": "x",
         "domain": [
          0,
          0.8316
         ],
         "title": {
          "text": "count"
         }
        },
        "yaxis2": {
         "anchor": "x2",
         "domain": [
          0.8416,
          1
         ],
         "matches": "y2",
         "showgrid": false,
         "showline": false,
         "showticklabels": false,
         "ticks": ""
        }
       }
      }
     },
     "metadata": {},
     "output_type": "display_data"
    }
   ],
   "source": [
    "fig = px.histogram(medical_df, \n",
    "                   x='age', \n",
    "                   marginal='box', \n",
    "                   nbins=47, \n",
    "                   title='Distribution of Age')\n",
    "fig.update_layout(bargap=0.1)\n",
    "fig.show()"
   ]
  },
  {
   "cell_type": "markdown",
   "id": "75c5caa6",
   "metadata": {},
   "source": [
    "The distribution of ages in the dataset is almost uniform, with 20-30 customers at every age, except for the ages 18 and 19, which seem to have over twice as many customers as other ages. The uniform distribution might arise from the fact that there isn't a big variation in the [number of people of any given age](https://www.statista.com/statistics/241488/population-of-the-us-by-sex-and-age/) (between 18 & 64) in the USA.\n",
    "\n",
    "\n"
   ]
  },
  {
   "cell_type": "markdown",
   "id": "cd8e283b",
   "metadata": {},
   "source": [
    "### Body Mass Index\n",
    "\n",
    "Let's look at the distribution of BMI (Body Mass Index) of customers, using a histogram and box plot."
   ]
  },
  {
   "cell_type": "code",
   "execution_count": 8,
   "id": "8ab40b89",
   "metadata": {
    "scrolled": false
   },
   "outputs": [
    {
     "data": {
      "application/vnd.plotly.v1+json": {
       "config": {
        "plotlyServerURL": "https://plot.ly"
       },
       "data": [
        {
         "alignmentgroup": "True",
         "bingroup": "x",
         "hovertemplate": "bmi=%{x}<br>count=%{y}<extra></extra>",
         "legendgroup": "",
         "marker": {
          "color": "green",
          "pattern": {
           "shape": ""
          }
         },
         "name": "",
         "offsetgroup": "",
         "orientation": "v",
         "showlegend": false,
         "type": "histogram",
         "x": [
          27.9,
          33.77,
          33,
          22.705,
          28.88,
          25.74,
          33.44,
          27.74,
          29.83,
          25.84,
          26.22,
          26.29,
          34.4,
          39.82,
          42.13,
          24.6,
          30.78,
          23.845,
          40.3,
          35.3,
          36.005,
          32.4,
          34.1,
          31.92,
          28.025,
          27.72,
          23.085,
          32.775,
          17.385,
          36.3,
          35.6,
          26.315,
          28.6,
          28.31,
          36.4,
          20.425,
          32.965,
          20.8,
          36.67,
          39.9,
          26.6,
          36.63,
          21.78,
          30.8,
          37.05,
          37.3,
          38.665,
          34.77,
          24.53,
          35.2,
          35.625,
          33.63,
          28,
          34.43,
          28.69,
          36.955,
          31.825,
          31.68,
          22.88,
          37.335,
          27.36,
          33.66,
          24.7,
          25.935,
          22.42,
          28.9,
          39.1,
          26.315,
          36.19,
          23.98,
          24.75,
          28.5,
          28.1,
          32.01,
          27.4,
          34.01,
          29.59,
          35.53,
          39.805,
          32.965,
          26.885,
          38.285,
          37.62,
          41.23,
          34.8,
          22.895,
          31.16,
          27.2,
          27.74,
          26.98,
          39.49,
          24.795,
          29.83,
          34.77,
          31.3,
          37.62,
          30.8,
          38.28,
          19.95,
          19.3,
          31.6,
          25.46,
          30.115,
          29.92,
          27.5,
          28.025,
          28.4,
          30.875,
          27.94,
          35.09,
          33.63,
          29.7,
          30.8,
          35.72,
          32.205,
          28.595,
          49.06,
          27.94,
          27.17,
          23.37,
          37.1,
          23.75,
          28.975,
          31.35,
          33.915,
          28.785,
          28.3,
          37.4,
          17.765,
          34.7,
          26.505,
          22.04,
          35.9,
          25.555,
          28.785,
          28.05,
          34.1,
          25.175,
          31.9,
          36,
          22.42,
          32.49,
          25.3,
          29.735,
          28.69,
          38.83,
          30.495,
          37.73,
          37.43,
          28.4,
          24.13,
          29.7,
          37.145,
          23.37,
          25.46,
          39.52,
          24.42,
          25.175,
          35.53,
          27.83,
          26.6,
          36.85,
          39.6,
          29.8,
          29.64,
          28.215,
          37,
          33.155,
          31.825,
          18.905,
          41.47,
          30.3,
          15.96,
          34.8,
          33.345,
          37.7,
          27.835,
          29.2,
          28.9,
          33.155,
          28.595,
          38.28,
          19.95,
          26.41,
          30.69,
          41.895,
          29.92,
          30.9,
          32.2,
          32.11,
          31.57,
          26.2,
          25.74,
          26.6,
          34.43,
          30.59,
          32.8,
          28.6,
          18.05,
          39.33,
          32.11,
          32.23,
          24.035,
          36.08,
          22.3,
          28.88,
          26.4,
          27.74,
          31.8,
          41.23,
          33,
          30.875,
          28.5,
          26.73,
          30.9,
          37.1,
          26.6,
          23.1,
          29.92,
          23.21,
          33.7,
          33.25,
          30.8,
          34.8,
          24.64,
          33.88,
          38.06,
          41.91,
          31.635,
          25.46,
          36.195,
          27.83,
          17.8,
          27.5,
          24.51,
          22.22,
          26.73,
          38.39,
          29.07,
          38.06,
          36.67,
          22.135,
          26.8,
          35.3,
          27.74,
          30.02,
          38.06,
          35.86,
          20.9,
          28.975,
          17.29,
          32.2,
          34.21,
          30.3,
          31.825,
          25.365,
          33.63,
          40.15,
          24.415,
          31.92,
          25.2,
          26.84,
          24.32,
          36.955,
          38.06,
          42.35,
          19.8,
          32.395,
          30.2,
          25.84,
          29.37,
          34.2,
          37.05,
          27.455,
          27.55,
          26.6,
          20.615,
          24.3,
          31.79,
          21.56,
          28.12,
          40.565,
          27.645,
          32.395,
          31.2,
          26.62,
          48.07,
          26.22,
          36.765,
          26.4,
          33.4,
          29.64,
          45.54,
          28.82,
          26.8,
          22.99,
          27.7,
          25.41,
          34.39,
          28.88,
          27.55,
          22.61,
          37.51,
          33,
          38,
          33.345,
          27.5,
          33.33,
          34.865,
          33.06,
          26.6,
          24.7,
          35.97,
          35.86,
          31.4,
          33.25,
          32.205,
          32.775,
          27.645,
          37.335,
          25.27,
          29.64,
          30.8,
          40.945,
          27.2,
          34.105,
          23.21,
          36.48,
          33.8,
          36.7,
          36.385,
          27.36,
          31.16,
          28.785,
          35.72,
          34.5,
          25.74,
          27.55,
          32.3,
          27.72,
          27.6,
          30.02,
          27.55,
          36.765,
          41.47,
          29.26,
          35.75,
          33.345,
          29.92,
          27.835,
          23.18,
          25.6,
          27.7,
          35.245,
          38.28,
          27.6,
          43.89,
          29.83,
          41.91,
          20.79,
          32.3,
          30.5,
          21.7,
          26.4,
          21.89,
          30.78,
          32.3,
          24.985,
          32.015,
          30.4,
          21.09,
          22.23,
          33.155,
          32.9,
          33.33,
          28.31,
          24.89,
          40.15,
          30.115,
          31.46,
          17.955,
          30.685,
          33,
          43.34,
          22.135,
          34.4,
          39.05,
          25.365,
          22.61,
          30.21,
          35.625,
          37.43,
          31.445,
          31.35,
          32.3,
          19.855,
          34.4,
          31.02,
          25.6,
          38.17,
          20.6,
          47.52,
          32.965,
          32.3,
          20.4,
          38.38,
          24.31,
          23.6,
          21.12,
          30.03,
          17.48,
          20.235,
          17.195,
          23.9,
          35.15,
          35.64,
          34.1,
          22.6,
          39.16,
          26.98,
          33.88,
          35.86,
          32.775,
          30.59,
          30.2,
          24.31,
          27.265,
          29.165,
          16.815,
          30.4,
          33.1,
          20.235,
          26.9,
          30.5,
          28.595,
          33.11,
          31.73,
          28.9,
          46.75,
          29.45,
          32.68,
          33.5,
          43.01,
          36.52,
          26.695,
          33.1,
          29.64,
          25.65,
          29.6,
          38.6,
          29.6,
          24.13,
          23.4,
          29.735,
          46.53,
          37.4,
          30.14,
          30.495,
          39.6,
          33,
          36.63,
          30,
          38.095,
          25.935,
          25.175,
          28.38,
          28.7,
          33.82,
          24.32,
          24.09,
          32.67,
          30.115,
          29.8,
          33.345,
          25.1,
          28.31,
          28.5,
          35.625,
          36.85,
          32.56,
          41.325,
          37.51,
          31.35,
          39.5,
          34.3,
          31.065,
          21.47,
          28.7,
          38.06,
          31.16,
          32.9,
          25.08,
          25.08,
          43.4,
          25.7,
          27.93,
          23.6,
          28.7,
          23.98,
          39.2,
          34.4,
          26.03,
          23.21,
          30.25,
          28.93,
          30.875,
          31.35,
          23.75,
          25.27,
          28.7,
          32.11,
          33.66,
          22.42,
          30.4,
          28.3,
          35.7,
          35.31,
          30.495,
          31,
          30.875,
          27.36,
          44.22,
          33.915,
          37.73,
          26.07,
          33.88,
          30.59,
          25.8,
          39.425,
          25.46,
          42.13,
          31.73,
          29.7,
          36.19,
          40.48,
          28.025,
          38.9,
          30.2,
          28.05,
          31.35,
          38,
          31.79,
          36.3,
          47.41,
          30.21,
          25.84,
          35.435,
          46.7,
          28.595,
          46.2,
          30.8,
          28.93,
          21.4,
          31.73,
          41.325,
          23.8,
          33.44,
          34.21,
          34.105,
          35.53,
          19.95,
          32.68,
          30.5,
          44.77,
          32.12,
          30.495,
          40.565,
          30.59,
          31.9,
          40.565,
          29.1,
          37.29,
          43.12,
          36.86,
          34.295,
          27.17,
          26.84,
          38.095,
          30.2,
          23.465,
          25.46,
          30.59,
          45.43,
          23.65,
          20.7,
          28.27,
          20.235,
          30.21,
          35.91,
          30.69,
          29,
          19.57,
          31.13,
          21.85,
          40.26,
          33.725,
          29.48,
          33.25,
          32.6,
          37.525,
          39.16,
          31.635,
          25.3,
          39.05,
          28.31,
          34.1,
          25.175,
          23.655,
          26.98,
          37.8,
          29.37,
          34.8,
          33.155,
          19,
          33,
          36.63,
          28.595,
          25.6,
          33.11,
          37.1,
          31.4,
          34.1,
          21.3,
          33.535,
          28.785,
          26.03,
          28.88,
          42.46,
          38,
          38.95,
          36.1,
          29.3,
          35.53,
          22.705,
          39.7,
          38.19,
          24.51,
          38.095,
          26.41,
          33.66,
          42.4,
          28.31,
          33.915,
          34.96,
          35.31,
          30.78,
          26.22,
          23.37,
          28.5,
          32.965,
          42.68,
          39.6,
          31.13,
          36.3,
          35.2,
          25.3,
          42.4,
          33.155,
          35.91,
          28.785,
          46.53,
          23.98,
          31.54,
          33.66,
          22.99,
          38.06,
          28.7,
          32.775,
          32.015,
          29.81,
          31.57,
          31.16,
          29.7,
          31.02,
          43.89,
          21.375,
          40.81,
          31.35,
          36.1,
          23.18,
          17.4,
          20.3,
          35.3,
          24.32,
          18.5,
          26.41,
          26.125,
          41.69,
          24.1,
          31.13,
          27.36,
          36.2,
          32.395,
          23.655,
          34.8,
          40.185,
          32.3,
          35.75,
          33.725,
          39.27,
          34.87,
          44.745,
          41.47,
          26.41,
          29.545,
          32.9,
          38.06,
          28.69,
          30.495,
          27.74,
          35.2,
          23.54,
          30.685,
          40.47,
          22.6,
          28.9,
          22.61,
          24.32,
          36.67,
          33.44,
          40.66,
          36.6,
          37.4,
          35.4,
          27.075,
          39.05,
          28.405,
          21.755,
          40.28,
          36.08,
          24.42,
          21.4,
          30.1,
          27.265,
          32.1,
          34.77,
          38.39,
          23.7,
          31.73,
          35.5,
          24.035,
          29.15,
          34.105,
          26.62,
          26.41,
          30.115,
          27,
          21.755,
          36,
          30.875,
          26.4,
          28.975,
          37.905,
          22.77,
          33.63,
          27.645,
          22.8,
          27.83,
          37.43,
          38.17,
          34.58,
          35.2,
          27.1,
          26.03,
          25.175,
          31.825,
          32.3,
          29,
          39.7,
          19.475,
          36.1,
          26.7,
          36.48,
          28.88,
          34.2,
          33.33,
          32.3,
          39.805,
          34.32,
          28.88,
          24.4,
          41.14,
          35.97,
          27.6,
          29.26,
          27.7,
          36.955,
          36.86,
          22.515,
          29.92,
          41.8,
          27.6,
          23.18,
          20.9,
          31.92,
          28.5,
          44.22,
          22.895,
          33.1,
          24.795,
          26.18,
          35.97,
          22.3,
          42.24,
          26.51,
          35.815,
          41.42,
          36.575,
          30.14,
          25.84,
          30.8,
          42.94,
          21.01,
          22.515,
          34.43,
          31.46,
          24.225,
          37.1,
          26.125,
          35.53,
          33.7,
          17.67,
          31.13,
          29.81,
          24.32,
          31.825,
          31.79,
          28.025,
          30.78,
          21.85,
          33.1,
          25.84,
          23.845,
          34.39,
          33.82,
          35.97,
          31.5,
          28.31,
          23.465,
          31.35,
          31.1,
          24.7,
          32.78,
          29.81,
          30.495,
          32.45,
          34.2,
          50.38,
          24.1,
          32.775,
          30.78,
          32.3,
          35.53,
          23.75,
          23.845,
          29.6,
          33.11,
          24.13,
          32.23,
          28.1,
          47.6,
          28,
          33.535,
          19.855,
          25.4,
          29.9,
          37.29,
          43.7,
          23.655,
          24.3,
          36.2,
          29.48,
          24.86,
          30.1,
          21.85,
          28.12,
          27.1,
          33.44,
          28.8,
          29.5,
          34.8,
          27.36,
          22.135,
          37.05,
          26.695,
          28.93,
          28.975,
          30.02,
          39.5,
          33.63,
          26.885,
          29.04,
          24.035,
          38.94,
          32.11,
          44,
          20.045,
          25.555,
          40.26,
          22.515,
          22.515,
          40.92,
          27.265,
          36.85,
          35.1,
          29.355,
          32.585,
          32.34,
          39.8,
          24.6,
          28.31,
          31.73,
          26.695,
          27.5,
          24.605,
          33.99,
          26.885,
          22.895,
          28.2,
          34.21,
          25,
          33.2,
          31,
          35.815,
          23.2,
          32.11,
          23.4,
          20.1,
          39.16,
          34.21,
          46.53,
          32.5,
          25.8,
          35.3,
          37.18,
          27.5,
          29.735,
          24.225,
          26.18,
          29.48,
          23.21,
          46.09,
          40.185,
          22.61,
          39.93,
          35.8,
          35.8,
          34.2,
          31.255,
          29.7,
          18.335,
          42.9,
          28.405,
          30.2,
          27.835,
          39.49,
          30.8,
          26.79,
          34.96,
          36.67,
          39.615,
          25.9,
          35.2,
          24.795,
          36.765,
          27.1,
          24.795,
          25.365,
          25.745,
          34.32,
          28.16,
          23.56,
          20.235,
          40.5,
          35.42,
          22.895,
          40.15,
          29.15,
          39.995,
          29.92,
          25.46,
          21.375,
          25.9,
          30.59,
          30.115,
          25.8,
          30.115,
          27.645,
          34.675,
          20.52,
          19.8,
          27.835,
          31.6,
          28.27,
          20.045,
          23.275,
          34.1,
          36.85,
          36.29,
          26.885,
          22.99,
          32.7,
          25.8,
          29.6,
          19.19,
          31.73,
          29.26,
          28.215,
          24.985,
          27.74,
          22.8,
          20.13,
          33.33,
          32.3,
          27.6,
          25.46,
          24.605,
          34.2,
          35.815,
          32.68,
          37,
          31.02,
          36.08,
          23.32,
          45.32,
          34.6,
          26.03,
          18.715,
          31.6,
          17.29,
          23.655,
          35.2,
          27.93,
          21.565,
          38.38,
          23,
          37.07,
          30.495,
          28.88,
          27.265,
          28.025,
          23.085,
          30.685,
          25.8,
          35.245,
          24.7,
          25.08,
          52.58,
          22.515,
          30.9,
          36.955,
          26.41,
          29.83,
          29.8,
          21.47,
          27.645,
          28.9,
          31.79,
          39.49,
          33.82,
          32.01,
          27.94,
          41.14,
          28.595,
          25.6,
          25.3,
          37.29,
          42.655,
          21.66,
          31.9,
          37.07,
          31.445,
          31.255,
          28.88,
          18.335,
          29.59,
          32,
          26.03,
          31.68,
          33.66,
          21.78,
          27.835,
          19.95,
          31.5,
          30.495,
          18.3,
          28.975,
          31.54,
          47.74,
          22.1,
          36.19,
          29.83,
          32.7,
          30.4,
          33.7,
          31.35,
          34.96,
          33.77,
          30.875,
          33.99,
          19.095,
          28.6,
          38.94,
          36.08,
          29.8,
          31.24,
          29.925,
          26.22,
          30,
          20.35,
          32.3,
          38.39,
          25.85,
          26.315,
          24.51,
          32.67,
          29.64,
          33.33,
          35.75,
          19.95,
          31.4,
          38.17,
          36.86,
          32.395,
          42.75,
          25.08,
          29.9,
          35.86,
          32.8,
          18.6,
          23.87,
          45.9,
          40.28,
          18.335,
          33.82,
          28.12,
          25,
          22.23,
          30.25,
          32.49,
          37.07,
          32.6,
          24.86,
          32.34,
          32.3,
          32.775,
          32.8,
          31.92,
          21.5,
          34.1,
          30.305,
          36.48,
          32.56,
          35.815,
          27.93,
          22.135,
          44.88,
          23.18,
          30.59,
          41.1,
          34.58,
          42.13,
          38.83,
          28.215,
          28.31,
          26.125,
          40.37,
          24.6,
          35.2,
          34.105,
          27.36,
          26.7,
          41.91,
          29.26,
          32.11,
          27.1,
          24.13,
          27.4,
          34.865,
          29.81,
          41.325,
          29.925,
          30.3,
          27.36,
          28.49,
          23.56,
          35.625,
          32.68,
          25.27,
          28,
          32.775,
          21.755,
          32.395,
          36.575,
          21.755,
          27.93,
          30.02,
          33.55,
          29.355,
          25.8,
          24.32,
          40.375,
          32.11,
          32.3,
          27.28,
          17.86,
          34.8,
          33.4,
          25.555,
          37.1,
          30.875,
          34.1,
          21.47,
          33.3,
          31.255,
          39.14,
          25.08,
          37.29,
          34.6,
          30.21,
          21.945,
          24.97,
          25.3,
          24.42,
          23.94,
          39.82,
          16.815,
          37.18,
          34.43,
          30.305,
          34.485,
          21.8,
          24.605,
          23.3,
          27.83,
          31.065,
          21.66,
          28.215,
          22.705,
          42.13,
          41.8,
          36.96,
          21.28,
          33.11,
          33.33,
          24.3,
          25.7,
          29.4,
          39.82,
          33.63,
          29.83,
          19.8,
          27.3,
          29.3,
          27.72,
          37.9,
          36.385,
          27.645,
          37.715,
          23.18,
          20.52,
          37.1,
          28.05,
          29.9,
          33.345,
          23.76,
          30.5,
          31.065,
          33.3,
          27.5,
          33.915,
          34.485,
          25.52,
          27.61,
          27.06,
          23.7,
          30.4,
          29.735,
          29.925,
          26.79,
          33.33,
          27.645,
          21.66,
          30.03,
          36.3,
          24.32,
          17.29,
          25.9,
          39.4,
          34.32,
          19.95,
          34.9,
          23.21,
          25.745,
          25.175,
          22,
          26.125,
          26.51,
          27.455,
          25.745,
          30.36,
          30.875,
          20.8,
          27.8,
          24.605,
          27.72,
          21.85,
          28.12,
          30.2,
          32.2,
          26.315,
          26.695,
          42.9,
          34.7,
          23.655,
          28.31,
          20.6,
          53.13,
          39.71,
          26.315,
          31.065,
          26.695,
          38.83,
          40.37,
          25.935,
          33.535,
          32.87,
          30.03,
          24.225,
          38.6,
          25.74,
          33.4,
          44.7,
          30.97,
          31.92,
          36.85,
          25.8,
          29.07
         ],
         "xaxis": "x",
         "yaxis": "y"
        },
        {
         "alignmentgroup": "True",
         "hovertemplate": "bmi=%{x}<extra></extra>",
         "legendgroup": "",
         "marker": {
          "color": "green"
         },
         "name": "",
         "notched": true,
         "offsetgroup": "",
         "showlegend": false,
         "type": "box",
         "x": [
          27.9,
          33.77,
          33,
          22.705,
          28.88,
          25.74,
          33.44,
          27.74,
          29.83,
          25.84,
          26.22,
          26.29,
          34.4,
          39.82,
          42.13,
          24.6,
          30.78,
          23.845,
          40.3,
          35.3,
          36.005,
          32.4,
          34.1,
          31.92,
          28.025,
          27.72,
          23.085,
          32.775,
          17.385,
          36.3,
          35.6,
          26.315,
          28.6,
          28.31,
          36.4,
          20.425,
          32.965,
          20.8,
          36.67,
          39.9,
          26.6,
          36.63,
          21.78,
          30.8,
          37.05,
          37.3,
          38.665,
          34.77,
          24.53,
          35.2,
          35.625,
          33.63,
          28,
          34.43,
          28.69,
          36.955,
          31.825,
          31.68,
          22.88,
          37.335,
          27.36,
          33.66,
          24.7,
          25.935,
          22.42,
          28.9,
          39.1,
          26.315,
          36.19,
          23.98,
          24.75,
          28.5,
          28.1,
          32.01,
          27.4,
          34.01,
          29.59,
          35.53,
          39.805,
          32.965,
          26.885,
          38.285,
          37.62,
          41.23,
          34.8,
          22.895,
          31.16,
          27.2,
          27.74,
          26.98,
          39.49,
          24.795,
          29.83,
          34.77,
          31.3,
          37.62,
          30.8,
          38.28,
          19.95,
          19.3,
          31.6,
          25.46,
          30.115,
          29.92,
          27.5,
          28.025,
          28.4,
          30.875,
          27.94,
          35.09,
          33.63,
          29.7,
          30.8,
          35.72,
          32.205,
          28.595,
          49.06,
          27.94,
          27.17,
          23.37,
          37.1,
          23.75,
          28.975,
          31.35,
          33.915,
          28.785,
          28.3,
          37.4,
          17.765,
          34.7,
          26.505,
          22.04,
          35.9,
          25.555,
          28.785,
          28.05,
          34.1,
          25.175,
          31.9,
          36,
          22.42,
          32.49,
          25.3,
          29.735,
          28.69,
          38.83,
          30.495,
          37.73,
          37.43,
          28.4,
          24.13,
          29.7,
          37.145,
          23.37,
          25.46,
          39.52,
          24.42,
          25.175,
          35.53,
          27.83,
          26.6,
          36.85,
          39.6,
          29.8,
          29.64,
          28.215,
          37,
          33.155,
          31.825,
          18.905,
          41.47,
          30.3,
          15.96,
          34.8,
          33.345,
          37.7,
          27.835,
          29.2,
          28.9,
          33.155,
          28.595,
          38.28,
          19.95,
          26.41,
          30.69,
          41.895,
          29.92,
          30.9,
          32.2,
          32.11,
          31.57,
          26.2,
          25.74,
          26.6,
          34.43,
          30.59,
          32.8,
          28.6,
          18.05,
          39.33,
          32.11,
          32.23,
          24.035,
          36.08,
          22.3,
          28.88,
          26.4,
          27.74,
          31.8,
          41.23,
          33,
          30.875,
          28.5,
          26.73,
          30.9,
          37.1,
          26.6,
          23.1,
          29.92,
          23.21,
          33.7,
          33.25,
          30.8,
          34.8,
          24.64,
          33.88,
          38.06,
          41.91,
          31.635,
          25.46,
          36.195,
          27.83,
          17.8,
          27.5,
          24.51,
          22.22,
          26.73,
          38.39,
          29.07,
          38.06,
          36.67,
          22.135,
          26.8,
          35.3,
          27.74,
          30.02,
          38.06,
          35.86,
          20.9,
          28.975,
          17.29,
          32.2,
          34.21,
          30.3,
          31.825,
          25.365,
          33.63,
          40.15,
          24.415,
          31.92,
          25.2,
          26.84,
          24.32,
          36.955,
          38.06,
          42.35,
          19.8,
          32.395,
          30.2,
          25.84,
          29.37,
          34.2,
          37.05,
          27.455,
          27.55,
          26.6,
          20.615,
          24.3,
          31.79,
          21.56,
          28.12,
          40.565,
          27.645,
          32.395,
          31.2,
          26.62,
          48.07,
          26.22,
          36.765,
          26.4,
          33.4,
          29.64,
          45.54,
          28.82,
          26.8,
          22.99,
          27.7,
          25.41,
          34.39,
          28.88,
          27.55,
          22.61,
          37.51,
          33,
          38,
          33.345,
          27.5,
          33.33,
          34.865,
          33.06,
          26.6,
          24.7,
          35.97,
          35.86,
          31.4,
          33.25,
          32.205,
          32.775,
          27.645,
          37.335,
          25.27,
          29.64,
          30.8,
          40.945,
          27.2,
          34.105,
          23.21,
          36.48,
          33.8,
          36.7,
          36.385,
          27.36,
          31.16,
          28.785,
          35.72,
          34.5,
          25.74,
          27.55,
          32.3,
          27.72,
          27.6,
          30.02,
          27.55,
          36.765,
          41.47,
          29.26,
          35.75,
          33.345,
          29.92,
          27.835,
          23.18,
          25.6,
          27.7,
          35.245,
          38.28,
          27.6,
          43.89,
          29.83,
          41.91,
          20.79,
          32.3,
          30.5,
          21.7,
          26.4,
          21.89,
          30.78,
          32.3,
          24.985,
          32.015,
          30.4,
          21.09,
          22.23,
          33.155,
          32.9,
          33.33,
          28.31,
          24.89,
          40.15,
          30.115,
          31.46,
          17.955,
          30.685,
          33,
          43.34,
          22.135,
          34.4,
          39.05,
          25.365,
          22.61,
          30.21,
          35.625,
          37.43,
          31.445,
          31.35,
          32.3,
          19.855,
          34.4,
          31.02,
          25.6,
          38.17,
          20.6,
          47.52,
          32.965,
          32.3,
          20.4,
          38.38,
          24.31,
          23.6,
          21.12,
          30.03,
          17.48,
          20.235,
          17.195,
          23.9,
          35.15,
          35.64,
          34.1,
          22.6,
          39.16,
          26.98,
          33.88,
          35.86,
          32.775,
          30.59,
          30.2,
          24.31,
          27.265,
          29.165,
          16.815,
          30.4,
          33.1,
          20.235,
          26.9,
          30.5,
          28.595,
          33.11,
          31.73,
          28.9,
          46.75,
          29.45,
          32.68,
          33.5,
          43.01,
          36.52,
          26.695,
          33.1,
          29.64,
          25.65,
          29.6,
          38.6,
          29.6,
          24.13,
          23.4,
          29.735,
          46.53,
          37.4,
          30.14,
          30.495,
          39.6,
          33,
          36.63,
          30,
          38.095,
          25.935,
          25.175,
          28.38,
          28.7,
          33.82,
          24.32,
          24.09,
          32.67,
          30.115,
          29.8,
          33.345,
          25.1,
          28.31,
          28.5,
          35.625,
          36.85,
          32.56,
          41.325,
          37.51,
          31.35,
          39.5,
          34.3,
          31.065,
          21.47,
          28.7,
          38.06,
          31.16,
          32.9,
          25.08,
          25.08,
          43.4,
          25.7,
          27.93,
          23.6,
          28.7,
          23.98,
          39.2,
          34.4,
          26.03,
          23.21,
          30.25,
          28.93,
          30.875,
          31.35,
          23.75,
          25.27,
          28.7,
          32.11,
          33.66,
          22.42,
          30.4,
          28.3,
          35.7,
          35.31,
          30.495,
          31,
          30.875,
          27.36,
          44.22,
          33.915,
          37.73,
          26.07,
          33.88,
          30.59,
          25.8,
          39.425,
          25.46,
          42.13,
          31.73,
          29.7,
          36.19,
          40.48,
          28.025,
          38.9,
          30.2,
          28.05,
          31.35,
          38,
          31.79,
          36.3,
          47.41,
          30.21,
          25.84,
          35.435,
          46.7,
          28.595,
          46.2,
          30.8,
          28.93,
          21.4,
          31.73,
          41.325,
          23.8,
          33.44,
          34.21,
          34.105,
          35.53,
          19.95,
          32.68,
          30.5,
          44.77,
          32.12,
          30.495,
          40.565,
          30.59,
          31.9,
          40.565,
          29.1,
          37.29,
          43.12,
          36.86,
          34.295,
          27.17,
          26.84,
          38.095,
          30.2,
          23.465,
          25.46,
          30.59,
          45.43,
          23.65,
          20.7,
          28.27,
          20.235,
          30.21,
          35.91,
          30.69,
          29,
          19.57,
          31.13,
          21.85,
          40.26,
          33.725,
          29.48,
          33.25,
          32.6,
          37.525,
          39.16,
          31.635,
          25.3,
          39.05,
          28.31,
          34.1,
          25.175,
          23.655,
          26.98,
          37.8,
          29.37,
          34.8,
          33.155,
          19,
          33,
          36.63,
          28.595,
          25.6,
          33.11,
          37.1,
          31.4,
          34.1,
          21.3,
          33.535,
          28.785,
          26.03,
          28.88,
          42.46,
          38,
          38.95,
          36.1,
          29.3,
          35.53,
          22.705,
          39.7,
          38.19,
          24.51,
          38.095,
          26.41,
          33.66,
          42.4,
          28.31,
          33.915,
          34.96,
          35.31,
          30.78,
          26.22,
          23.37,
          28.5,
          32.965,
          42.68,
          39.6,
          31.13,
          36.3,
          35.2,
          25.3,
          42.4,
          33.155,
          35.91,
          28.785,
          46.53,
          23.98,
          31.54,
          33.66,
          22.99,
          38.06,
          28.7,
          32.775,
          32.015,
          29.81,
          31.57,
          31.16,
          29.7,
          31.02,
          43.89,
          21.375,
          40.81,
          31.35,
          36.1,
          23.18,
          17.4,
          20.3,
          35.3,
          24.32,
          18.5,
          26.41,
          26.125,
          41.69,
          24.1,
          31.13,
          27.36,
          36.2,
          32.395,
          23.655,
          34.8,
          40.185,
          32.3,
          35.75,
          33.725,
          39.27,
          34.87,
          44.745,
          41.47,
          26.41,
          29.545,
          32.9,
          38.06,
          28.69,
          30.495,
          27.74,
          35.2,
          23.54,
          30.685,
          40.47,
          22.6,
          28.9,
          22.61,
          24.32,
          36.67,
          33.44,
          40.66,
          36.6,
          37.4,
          35.4,
          27.075,
          39.05,
          28.405,
          21.755,
          40.28,
          36.08,
          24.42,
          21.4,
          30.1,
          27.265,
          32.1,
          34.77,
          38.39,
          23.7,
          31.73,
          35.5,
          24.035,
          29.15,
          34.105,
          26.62,
          26.41,
          30.115,
          27,
          21.755,
          36,
          30.875,
          26.4,
          28.975,
          37.905,
          22.77,
          33.63,
          27.645,
          22.8,
          27.83,
          37.43,
          38.17,
          34.58,
          35.2,
          27.1,
          26.03,
          25.175,
          31.825,
          32.3,
          29,
          39.7,
          19.475,
          36.1,
          26.7,
          36.48,
          28.88,
          34.2,
          33.33,
          32.3,
          39.805,
          34.32,
          28.88,
          24.4,
          41.14,
          35.97,
          27.6,
          29.26,
          27.7,
          36.955,
          36.86,
          22.515,
          29.92,
          41.8,
          27.6,
          23.18,
          20.9,
          31.92,
          28.5,
          44.22,
          22.895,
          33.1,
          24.795,
          26.18,
          35.97,
          22.3,
          42.24,
          26.51,
          35.815,
          41.42,
          36.575,
          30.14,
          25.84,
          30.8,
          42.94,
          21.01,
          22.515,
          34.43,
          31.46,
          24.225,
          37.1,
          26.125,
          35.53,
          33.7,
          17.67,
          31.13,
          29.81,
          24.32,
          31.825,
          31.79,
          28.025,
          30.78,
          21.85,
          33.1,
          25.84,
          23.845,
          34.39,
          33.82,
          35.97,
          31.5,
          28.31,
          23.465,
          31.35,
          31.1,
          24.7,
          32.78,
          29.81,
          30.495,
          32.45,
          34.2,
          50.38,
          24.1,
          32.775,
          30.78,
          32.3,
          35.53,
          23.75,
          23.845,
          29.6,
          33.11,
          24.13,
          32.23,
          28.1,
          47.6,
          28,
          33.535,
          19.855,
          25.4,
          29.9,
          37.29,
          43.7,
          23.655,
          24.3,
          36.2,
          29.48,
          24.86,
          30.1,
          21.85,
          28.12,
          27.1,
          33.44,
          28.8,
          29.5,
          34.8,
          27.36,
          22.135,
          37.05,
          26.695,
          28.93,
          28.975,
          30.02,
          39.5,
          33.63,
          26.885,
          29.04,
          24.035,
          38.94,
          32.11,
          44,
          20.045,
          25.555,
          40.26,
          22.515,
          22.515,
          40.92,
          27.265,
          36.85,
          35.1,
          29.355,
          32.585,
          32.34,
          39.8,
          24.6,
          28.31,
          31.73,
          26.695,
          27.5,
          24.605,
          33.99,
          26.885,
          22.895,
          28.2,
          34.21,
          25,
          33.2,
          31,
          35.815,
          23.2,
          32.11,
          23.4,
          20.1,
          39.16,
          34.21,
          46.53,
          32.5,
          25.8,
          35.3,
          37.18,
          27.5,
          29.735,
          24.225,
          26.18,
          29.48,
          23.21,
          46.09,
          40.185,
          22.61,
          39.93,
          35.8,
          35.8,
          34.2,
          31.255,
          29.7,
          18.335,
          42.9,
          28.405,
          30.2,
          27.835,
          39.49,
          30.8,
          26.79,
          34.96,
          36.67,
          39.615,
          25.9,
          35.2,
          24.795,
          36.765,
          27.1,
          24.795,
          25.365,
          25.745,
          34.32,
          28.16,
          23.56,
          20.235,
          40.5,
          35.42,
          22.895,
          40.15,
          29.15,
          39.995,
          29.92,
          25.46,
          21.375,
          25.9,
          30.59,
          30.115,
          25.8,
          30.115,
          27.645,
          34.675,
          20.52,
          19.8,
          27.835,
          31.6,
          28.27,
          20.045,
          23.275,
          34.1,
          36.85,
          36.29,
          26.885,
          22.99,
          32.7,
          25.8,
          29.6,
          19.19,
          31.73,
          29.26,
          28.215,
          24.985,
          27.74,
          22.8,
          20.13,
          33.33,
          32.3,
          27.6,
          25.46,
          24.605,
          34.2,
          35.815,
          32.68,
          37,
          31.02,
          36.08,
          23.32,
          45.32,
          34.6,
          26.03,
          18.715,
          31.6,
          17.29,
          23.655,
          35.2,
          27.93,
          21.565,
          38.38,
          23,
          37.07,
          30.495,
          28.88,
          27.265,
          28.025,
          23.085,
          30.685,
          25.8,
          35.245,
          24.7,
          25.08,
          52.58,
          22.515,
          30.9,
          36.955,
          26.41,
          29.83,
          29.8,
          21.47,
          27.645,
          28.9,
          31.79,
          39.49,
          33.82,
          32.01,
          27.94,
          41.14,
          28.595,
          25.6,
          25.3,
          37.29,
          42.655,
          21.66,
          31.9,
          37.07,
          31.445,
          31.255,
          28.88,
          18.335,
          29.59,
          32,
          26.03,
          31.68,
          33.66,
          21.78,
          27.835,
          19.95,
          31.5,
          30.495,
          18.3,
          28.975,
          31.54,
          47.74,
          22.1,
          36.19,
          29.83,
          32.7,
          30.4,
          33.7,
          31.35,
          34.96,
          33.77,
          30.875,
          33.99,
          19.095,
          28.6,
          38.94,
          36.08,
          29.8,
          31.24,
          29.925,
          26.22,
          30,
          20.35,
          32.3,
          38.39,
          25.85,
          26.315,
          24.51,
          32.67,
          29.64,
          33.33,
          35.75,
          19.95,
          31.4,
          38.17,
          36.86,
          32.395,
          42.75,
          25.08,
          29.9,
          35.86,
          32.8,
          18.6,
          23.87,
          45.9,
          40.28,
          18.335,
          33.82,
          28.12,
          25,
          22.23,
          30.25,
          32.49,
          37.07,
          32.6,
          24.86,
          32.34,
          32.3,
          32.775,
          32.8,
          31.92,
          21.5,
          34.1,
          30.305,
          36.48,
          32.56,
          35.815,
          27.93,
          22.135,
          44.88,
          23.18,
          30.59,
          41.1,
          34.58,
          42.13,
          38.83,
          28.215,
          28.31,
          26.125,
          40.37,
          24.6,
          35.2,
          34.105,
          27.36,
          26.7,
          41.91,
          29.26,
          32.11,
          27.1,
          24.13,
          27.4,
          34.865,
          29.81,
          41.325,
          29.925,
          30.3,
          27.36,
          28.49,
          23.56,
          35.625,
          32.68,
          25.27,
          28,
          32.775,
          21.755,
          32.395,
          36.575,
          21.755,
          27.93,
          30.02,
          33.55,
          29.355,
          25.8,
          24.32,
          40.375,
          32.11,
          32.3,
          27.28,
          17.86,
          34.8,
          33.4,
          25.555,
          37.1,
          30.875,
          34.1,
          21.47,
          33.3,
          31.255,
          39.14,
          25.08,
          37.29,
          34.6,
          30.21,
          21.945,
          24.97,
          25.3,
          24.42,
          23.94,
          39.82,
          16.815,
          37.18,
          34.43,
          30.305,
          34.485,
          21.8,
          24.605,
          23.3,
          27.83,
          31.065,
          21.66,
          28.215,
          22.705,
          42.13,
          41.8,
          36.96,
          21.28,
          33.11,
          33.33,
          24.3,
          25.7,
          29.4,
          39.82,
          33.63,
          29.83,
          19.8,
          27.3,
          29.3,
          27.72,
          37.9,
          36.385,
          27.645,
          37.715,
          23.18,
          20.52,
          37.1,
          28.05,
          29.9,
          33.345,
          23.76,
          30.5,
          31.065,
          33.3,
          27.5,
          33.915,
          34.485,
          25.52,
          27.61,
          27.06,
          23.7,
          30.4,
          29.735,
          29.925,
          26.79,
          33.33,
          27.645,
          21.66,
          30.03,
          36.3,
          24.32,
          17.29,
          25.9,
          39.4,
          34.32,
          19.95,
          34.9,
          23.21,
          25.745,
          25.175,
          22,
          26.125,
          26.51,
          27.455,
          25.745,
          30.36,
          30.875,
          20.8,
          27.8,
          24.605,
          27.72,
          21.85,
          28.12,
          30.2,
          32.2,
          26.315,
          26.695,
          42.9,
          34.7,
          23.655,
          28.31,
          20.6,
          53.13,
          39.71,
          26.315,
          31.065,
          26.695,
          38.83,
          40.37,
          25.935,
          33.535,
          32.87,
          30.03,
          24.225,
          38.6,
          25.74,
          33.4,
          44.7,
          30.97,
          31.92,
          36.85,
          25.8,
          29.07
         ],
         "xaxis": "x2",
         "yaxis": "y2"
        }
       ],
       "layout": {
        "bargap": 0.1,
        "barmode": "relative",
        "legend": {
         "tracegroupgap": 0
        },
        "template": {
         "data": {
          "bar": [
           {
            "error_x": {
             "color": "#2a3f5f"
            },
            "error_y": {
             "color": "#2a3f5f"
            },
            "marker": {
             "line": {
              "color": "#E5ECF6",
              "width": 0.5
             },
             "pattern": {
              "fillmode": "overlay",
              "size": 10,
              "solidity": 0.2
             }
            },
            "type": "bar"
           }
          ],
          "barpolar": [
           {
            "marker": {
             "line": {
              "color": "#E5ECF6",
              "width": 0.5
             },
             "pattern": {
              "fillmode": "overlay",
              "size": 10,
              "solidity": 0.2
             }
            },
            "type": "barpolar"
           }
          ],
          "carpet": [
           {
            "aaxis": {
             "endlinecolor": "#2a3f5f",
             "gridcolor": "white",
             "linecolor": "white",
             "minorgridcolor": "white",
             "startlinecolor": "#2a3f5f"
            },
            "baxis": {
             "endlinecolor": "#2a3f5f",
             "gridcolor": "white",
             "linecolor": "white",
             "minorgridcolor": "white",
             "startlinecolor": "#2a3f5f"
            },
            "type": "carpet"
           }
          ],
          "choropleth": [
           {
            "colorbar": {
             "outlinewidth": 0,
             "ticks": ""
            },
            "type": "choropleth"
           }
          ],
          "contour": [
           {
            "colorbar": {
             "outlinewidth": 0,
             "ticks": ""
            },
            "colorscale": [
             [
              0,
              "#0d0887"
             ],
             [
              0.1111111111111111,
              "#46039f"
             ],
             [
              0.2222222222222222,
              "#7201a8"
             ],
             [
              0.3333333333333333,
              "#9c179e"
             ],
             [
              0.4444444444444444,
              "#bd3786"
             ],
             [
              0.5555555555555556,
              "#d8576b"
             ],
             [
              0.6666666666666666,
              "#ed7953"
             ],
             [
              0.7777777777777778,
              "#fb9f3a"
             ],
             [
              0.8888888888888888,
              "#fdca26"
             ],
             [
              1,
              "#f0f921"
             ]
            ],
            "type": "contour"
           }
          ],
          "contourcarpet": [
           {
            "colorbar": {
             "outlinewidth": 0,
             "ticks": ""
            },
            "type": "contourcarpet"
           }
          ],
          "heatmap": [
           {
            "colorbar": {
             "outlinewidth": 0,
             "ticks": ""
            },
            "colorscale": [
             [
              0,
              "#0d0887"
             ],
             [
              0.1111111111111111,
              "#46039f"
             ],
             [
              0.2222222222222222,
              "#7201a8"
             ],
             [
              0.3333333333333333,
              "#9c179e"
             ],
             [
              0.4444444444444444,
              "#bd3786"
             ],
             [
              0.5555555555555556,
              "#d8576b"
             ],
             [
              0.6666666666666666,
              "#ed7953"
             ],
             [
              0.7777777777777778,
              "#fb9f3a"
             ],
             [
              0.8888888888888888,
              "#fdca26"
             ],
             [
              1,
              "#f0f921"
             ]
            ],
            "type": "heatmap"
           }
          ],
          "heatmapgl": [
           {
            "colorbar": {
             "outlinewidth": 0,
             "ticks": ""
            },
            "colorscale": [
             [
              0,
              "#0d0887"
             ],
             [
              0.1111111111111111,
              "#46039f"
             ],
             [
              0.2222222222222222,
              "#7201a8"
             ],
             [
              0.3333333333333333,
              "#9c179e"
             ],
             [
              0.4444444444444444,
              "#bd3786"
             ],
             [
              0.5555555555555556,
              "#d8576b"
             ],
             [
              0.6666666666666666,
              "#ed7953"
             ],
             [
              0.7777777777777778,
              "#fb9f3a"
             ],
             [
              0.8888888888888888,
              "#fdca26"
             ],
             [
              1,
              "#f0f921"
             ]
            ],
            "type": "heatmapgl"
           }
          ],
          "histogram": [
           {
            "marker": {
             "pattern": {
              "fillmode": "overlay",
              "size": 10,
              "solidity": 0.2
             }
            },
            "type": "histogram"
           }
          ],
          "histogram2d": [
           {
            "colorbar": {
             "outlinewidth": 0,
             "ticks": ""
            },
            "colorscale": [
             [
              0,
              "#0d0887"
             ],
             [
              0.1111111111111111,
              "#46039f"
             ],
             [
              0.2222222222222222,
              "#7201a8"
             ],
             [
              0.3333333333333333,
              "#9c179e"
             ],
             [
              0.4444444444444444,
              "#bd3786"
             ],
             [
              0.5555555555555556,
              "#d8576b"
             ],
             [
              0.6666666666666666,
              "#ed7953"
             ],
             [
              0.7777777777777778,
              "#fb9f3a"
             ],
             [
              0.8888888888888888,
              "#fdca26"
             ],
             [
              1,
              "#f0f921"
             ]
            ],
            "type": "histogram2d"
           }
          ],
          "histogram2dcontour": [
           {
            "colorbar": {
             "outlinewidth": 0,
             "ticks": ""
            },
            "colorscale": [
             [
              0,
              "#0d0887"
             ],
             [
              0.1111111111111111,
              "#46039f"
             ],
             [
              0.2222222222222222,
              "#7201a8"
             ],
             [
              0.3333333333333333,
              "#9c179e"
             ],
             [
              0.4444444444444444,
              "#bd3786"
             ],
             [
              0.5555555555555556,
              "#d8576b"
             ],
             [
              0.6666666666666666,
              "#ed7953"
             ],
             [
              0.7777777777777778,
              "#fb9f3a"
             ],
             [
              0.8888888888888888,
              "#fdca26"
             ],
             [
              1,
              "#f0f921"
             ]
            ],
            "type": "histogram2dcontour"
           }
          ],
          "mesh3d": [
           {
            "colorbar": {
             "outlinewidth": 0,
             "ticks": ""
            },
            "type": "mesh3d"
           }
          ],
          "parcoords": [
           {
            "line": {
             "colorbar": {
              "outlinewidth": 0,
              "ticks": ""
             }
            },
            "type": "parcoords"
           }
          ],
          "pie": [
           {
            "automargin": true,
            "type": "pie"
           }
          ],
          "scatter": [
           {
            "marker": {
             "colorbar": {
              "outlinewidth": 0,
              "ticks": ""
             }
            },
            "type": "scatter"
           }
          ],
          "scatter3d": [
           {
            "line": {
             "colorbar": {
              "outlinewidth": 0,
              "ticks": ""
             }
            },
            "marker": {
             "colorbar": {
              "outlinewidth": 0,
              "ticks": ""
             }
            },
            "type": "scatter3d"
           }
          ],
          "scattercarpet": [
           {
            "marker": {
             "colorbar": {
              "outlinewidth": 0,
              "ticks": ""
             }
            },
            "type": "scattercarpet"
           }
          ],
          "scattergeo": [
           {
            "marker": {
             "colorbar": {
              "outlinewidth": 0,
              "ticks": ""
             }
            },
            "type": "scattergeo"
           }
          ],
          "scattergl": [
           {
            "marker": {
             "colorbar": {
              "outlinewidth": 0,
              "ticks": ""
             }
            },
            "type": "scattergl"
           }
          ],
          "scattermapbox": [
           {
            "marker": {
             "colorbar": {
              "outlinewidth": 0,
              "ticks": ""
             }
            },
            "type": "scattermapbox"
           }
          ],
          "scatterpolar": [
           {
            "marker": {
             "colorbar": {
              "outlinewidth": 0,
              "ticks": ""
             }
            },
            "type": "scatterpolar"
           }
          ],
          "scatterpolargl": [
           {
            "marker": {
             "colorbar": {
              "outlinewidth": 0,
              "ticks": ""
             }
            },
            "type": "scatterpolargl"
           }
          ],
          "scatterternary": [
           {
            "marker": {
             "colorbar": {
              "outlinewidth": 0,
              "ticks": ""
             }
            },
            "type": "scatterternary"
           }
          ],
          "surface": [
           {
            "colorbar": {
             "outlinewidth": 0,
             "ticks": ""
            },
            "colorscale": [
             [
              0,
              "#0d0887"
             ],
             [
              0.1111111111111111,
              "#46039f"
             ],
             [
              0.2222222222222222,
              "#7201a8"
             ],
             [
              0.3333333333333333,
              "#9c179e"
             ],
             [
              0.4444444444444444,
              "#bd3786"
             ],
             [
              0.5555555555555556,
              "#d8576b"
             ],
             [
              0.6666666666666666,
              "#ed7953"
             ],
             [
              0.7777777777777778,
              "#fb9f3a"
             ],
             [
              0.8888888888888888,
              "#fdca26"
             ],
             [
              1,
              "#f0f921"
             ]
            ],
            "type": "surface"
           }
          ],
          "table": [
           {
            "cells": {
             "fill": {
              "color": "#EBF0F8"
             },
             "line": {
              "color": "white"
             }
            },
            "header": {
             "fill": {
              "color": "#C8D4E3"
             },
             "line": {
              "color": "white"
             }
            },
            "type": "table"
           }
          ]
         },
         "layout": {
          "annotationdefaults": {
           "arrowcolor": "#2a3f5f",
           "arrowhead": 0,
           "arrowwidth": 1
          },
          "autotypenumbers": "strict",
          "coloraxis": {
           "colorbar": {
            "outlinewidth": 0,
            "ticks": ""
           }
          },
          "colorscale": {
           "diverging": [
            [
             0,
             "#8e0152"
            ],
            [
             0.1,
             "#c51b7d"
            ],
            [
             0.2,
             "#de77ae"
            ],
            [
             0.3,
             "#f1b6da"
            ],
            [
             0.4,
             "#fde0ef"
            ],
            [
             0.5,
             "#f7f7f7"
            ],
            [
             0.6,
             "#e6f5d0"
            ],
            [
             0.7,
             "#b8e186"
            ],
            [
             0.8,
             "#7fbc41"
            ],
            [
             0.9,
             "#4d9221"
            ],
            [
             1,
             "#276419"
            ]
           ],
           "sequential": [
            [
             0,
             "#0d0887"
            ],
            [
             0.1111111111111111,
             "#46039f"
            ],
            [
             0.2222222222222222,
             "#7201a8"
            ],
            [
             0.3333333333333333,
             "#9c179e"
            ],
            [
             0.4444444444444444,
             "#bd3786"
            ],
            [
             0.5555555555555556,
             "#d8576b"
            ],
            [
             0.6666666666666666,
             "#ed7953"
            ],
            [
             0.7777777777777778,
             "#fb9f3a"
            ],
            [
             0.8888888888888888,
             "#fdca26"
            ],
            [
             1,
             "#f0f921"
            ]
           ],
           "sequentialminus": [
            [
             0,
             "#0d0887"
            ],
            [
             0.1111111111111111,
             "#46039f"
            ],
            [
             0.2222222222222222,
             "#7201a8"
            ],
            [
             0.3333333333333333,
             "#9c179e"
            ],
            [
             0.4444444444444444,
             "#bd3786"
            ],
            [
             0.5555555555555556,
             "#d8576b"
            ],
            [
             0.6666666666666666,
             "#ed7953"
            ],
            [
             0.7777777777777778,
             "#fb9f3a"
            ],
            [
             0.8888888888888888,
             "#fdca26"
            ],
            [
             1,
             "#f0f921"
            ]
           ]
          },
          "colorway": [
           "#636efa",
           "#EF553B",
           "#00cc96",
           "#ab63fa",
           "#FFA15A",
           "#19d3f3",
           "#FF6692",
           "#B6E880",
           "#FF97FF",
           "#FECB52"
          ],
          "font": {
           "color": "#2a3f5f"
          },
          "geo": {
           "bgcolor": "white",
           "lakecolor": "white",
           "landcolor": "#E5ECF6",
           "showlakes": true,
           "showland": true,
           "subunitcolor": "white"
          },
          "hoverlabel": {
           "align": "left"
          },
          "hovermode": "closest",
          "mapbox": {
           "style": "light"
          },
          "paper_bgcolor": "white",
          "plot_bgcolor": "#E5ECF6",
          "polar": {
           "angularaxis": {
            "gridcolor": "white",
            "linecolor": "white",
            "ticks": ""
           },
           "bgcolor": "#E5ECF6",
           "radialaxis": {
            "gridcolor": "white",
            "linecolor": "white",
            "ticks": ""
           }
          },
          "scene": {
           "xaxis": {
            "backgroundcolor": "#E5ECF6",
            "gridcolor": "white",
            "gridwidth": 2,
            "linecolor": "white",
            "showbackground": true,
            "ticks": "",
            "zerolinecolor": "white"
           },
           "yaxis": {
            "backgroundcolor": "#E5ECF6",
            "gridcolor": "white",
            "gridwidth": 2,
            "linecolor": "white",
            "showbackground": true,
            "ticks": "",
            "zerolinecolor": "white"
           },
           "zaxis": {
            "backgroundcolor": "#E5ECF6",
            "gridcolor": "white",
            "gridwidth": 2,
            "linecolor": "white",
            "showbackground": true,
            "ticks": "",
            "zerolinecolor": "white"
           }
          },
          "shapedefaults": {
           "line": {
            "color": "#2a3f5f"
           }
          },
          "ternary": {
           "aaxis": {
            "gridcolor": "white",
            "linecolor": "white",
            "ticks": ""
           },
           "baxis": {
            "gridcolor": "white",
            "linecolor": "white",
            "ticks": ""
           },
           "bgcolor": "#E5ECF6",
           "caxis": {
            "gridcolor": "white",
            "linecolor": "white",
            "ticks": ""
           }
          },
          "title": {
           "x": 0.05
          },
          "xaxis": {
           "automargin": true,
           "gridcolor": "white",
           "linecolor": "white",
           "ticks": "",
           "title": {
            "standoff": 15
           },
           "zerolinecolor": "white",
           "zerolinewidth": 2
          },
          "yaxis": {
           "automargin": true,
           "gridcolor": "white",
           "linecolor": "white",
           "ticks": "",
           "title": {
            "standoff": 15
           },
           "zerolinecolor": "white",
           "zerolinewidth": 2
          }
         }
        },
        "title": {
         "text": "Distribution of BMI (Body Mass Index)"
        },
        "xaxis": {
         "anchor": "y",
         "domain": [
          0,
          1
         ],
         "title": {
          "text": "bmi"
         }
        },
        "xaxis2": {
         "anchor": "y2",
         "domain": [
          0,
          1
         ],
         "matches": "x",
         "showgrid": true,
         "showticklabels": false
        },
        "yaxis": {
         "anchor": "x",
         "domain": [
          0,
          0.8316
         ],
         "title": {
          "text": "count"
         }
        },
        "yaxis2": {
         "anchor": "x2",
         "domain": [
          0.8416,
          1
         ],
         "matches": "y2",
         "showgrid": false,
         "showline": false,
         "showticklabels": false,
         "ticks": ""
        }
       }
      }
     },
     "metadata": {},
     "output_type": "display_data"
    }
   ],
   "source": [
    "fig = px.histogram(medical_df, \n",
    "                   x='bmi', \n",
    "                   marginal='box', \n",
    "                   color_discrete_sequence=['green'], \n",
    "                   title='Distribution of BMI (Body Mass Index)')\n",
    "fig.update_layout(bargap=0.1)\n",
    "fig.show()"
   ]
  },
  {
   "cell_type": "markdown",
   "id": "028fe64f",
   "metadata": {},
   "source": [
    "The measurements of body mass index seem to form a [Gaussian distribution](https://en.wikipedia.org/wiki/Normal_distribution) centered around the value 30, with a few outliers towards the right. Here's how BMI values can be interpreted ([source](https://study.com/academy/lesson/what-is-bmi-definition-formula-calculation.html)):\n",
    "\n",
    "![](https://i.imgur.com/lh23OiY.jpg)\n",
    "\n"
   ]
  },
  {
   "cell_type": "markdown",
   "id": "a6a6b297",
   "metadata": {},
   "source": [
    "### Charges\n",
    "\n",
    "Let's visualize the distribution of \"charges\" i.e. the annual medical charges for customers. This is the column we're trying to predict. Let's also use the categorical column \"smoker\" to distinguish the charges for smokers and non-smokers."
   ]
  },
  {
   "cell_type": "code",
   "execution_count": null,
   "id": "56afc784",
   "metadata": {},
   "outputs": [],
   "source": [
    "fig = px.histogram(medical_df, \n",
    "                   x='charges', \n",
    "                   marginal='box', \n",
    "                   color='smoker', \n",
    "                   color_discrete_sequence=['red', 'green'], \n",
    "                   title='Annual Medical Charges')\n",
    "fig.update_layout(bargap=0.1)\n",
    "fig.show()"
   ]
  },
  {
   "cell_type": "markdown",
   "id": "dc428947",
   "metadata": {},
   "source": [
    "We can make the following observations from the above graph:\n",
    "\n",
    "* For most customers, the annual medical charges are under \\$10,000. Only a small fraction of customer have higher medical expenses, possibly due to accidents, major illnesses and genetic diseases. The distribution follows a \"power law\"\n",
    "* There is a significant difference in medical expenses between smokers and non-smokers. While the median for non-smokers is \\$7300, the median for smokers is close to \\$35,000.\n"
   ]
  },
  {
   "cell_type": "code",
   "execution_count": null,
   "id": "87fe7cd2",
   "metadata": {},
   "outputs": [],
   "source": []
  },
  {
   "cell_type": "markdown",
   "id": "810f3059",
   "metadata": {},
   "source": [
    "### Smoker\n",
    "\n",
    "Let's visualize the distribution of the \"smoker\" column (containing values \"yes\" and \"no\") using a histogram."
   ]
  },
  {
   "cell_type": "code",
   "execution_count": 10,
   "id": "b742e0d1",
   "metadata": {},
   "outputs": [
    {
     "data": {
      "text/plain": [
       "no     1064\n",
       "yes     274\n",
       "Name: smoker, dtype: int64"
      ]
     },
     "execution_count": 10,
     "metadata": {},
     "output_type": "execute_result"
    }
   ],
   "source": [
    "medical_df.smoker.value_counts()"
   ]
  },
  {
   "cell_type": "code",
   "execution_count": 9,
   "id": "131851de",
   "metadata": {},
   "outputs": [
    {
     "data": {
      "application/vnd.plotly.v1+json": {
       "config": {
        "plotlyServerURL": "https://plot.ly"
       },
       "data": [
        {
         "alignmentgroup": "True",
         "bingroup": "x",
         "hovertemplate": "sex=female<br>smoker=%{x}<br>count=%{y}<extra></extra>",
         "legendgroup": "female",
         "marker": {
          "color": "#636efa",
          "pattern": {
           "shape": ""
          }
         },
         "name": "female",
         "offsetgroup": "female",
         "orientation": "v",
         "showlegend": true,
         "type": "histogram",
         "x": [
          "yes",
          "no",
          "no",
          "no",
          "no",
          "yes",
          "no",
          "no",
          "no",
          "no",
          "yes",
          "no",
          "no",
          "no",
          "no",
          "no",
          "no",
          "no",
          "no",
          "no",
          "no",
          "no",
          "no",
          "no",
          "no",
          "no",
          "no",
          "yes",
          "no",
          "no",
          "yes",
          "no",
          "no",
          "no",
          "yes",
          "no",
          "no",
          "no",
          "no",
          "no",
          "no",
          "yes",
          "yes",
          "no",
          "no",
          "no",
          "no",
          "no",
          "yes",
          "no",
          "no",
          "no",
          "no",
          "yes",
          "no",
          "no",
          "no",
          "no",
          "yes",
          "no",
          "no",
          "no",
          "no",
          "no",
          "yes",
          "no",
          "yes",
          "no",
          "no",
          "no",
          "no",
          "no",
          "no",
          "no",
          "no",
          "no",
          "no",
          "no",
          "yes",
          "no",
          "no",
          "yes",
          "yes",
          "no",
          "no",
          "no",
          "no",
          "no",
          "no",
          "yes",
          "no",
          "no",
          "no",
          "no",
          "no",
          "no",
          "no",
          "no",
          "no",
          "no",
          "no",
          "no",
          "no",
          "no",
          "no",
          "no",
          "no",
          "yes",
          "no",
          "no",
          "no",
          "no",
          "no",
          "no",
          "no",
          "no",
          "no",
          "no",
          "no",
          "no",
          "no",
          "no",
          "no",
          "yes",
          "no",
          "yes",
          "no",
          "no",
          "yes",
          "no",
          "yes",
          "no",
          "no",
          "no",
          "yes",
          "no",
          "no",
          "no",
          "no",
          "no",
          "yes",
          "no",
          "no",
          "no",
          "no",
          "yes",
          "no",
          "no",
          "no",
          "yes",
          "no",
          "no",
          "no",
          "no",
          "no",
          "no",
          "no",
          "yes",
          "no",
          "no",
          "no",
          "yes",
          "yes",
          "no",
          "no",
          "no",
          "no",
          "no",
          "no",
          "no",
          "no",
          "no",
          "no",
          "no",
          "no",
          "no",
          "no",
          "no",
          "yes",
          "no",
          "no",
          "no",
          "no",
          "no",
          "no",
          "no",
          "no",
          "yes",
          "yes",
          "no",
          "yes",
          "no",
          "no",
          "no",
          "no",
          "no",
          "no",
          "no",
          "no",
          "no",
          "no",
          "no",
          "no",
          "no",
          "yes",
          "yes",
          "no",
          "no",
          "yes",
          "yes",
          "no",
          "no",
          "no",
          "no",
          "no",
          "no",
          "no",
          "no",
          "yes",
          "no",
          "no",
          "no",
          "no",
          "no",
          "no",
          "no",
          "no",
          "no",
          "yes",
          "no",
          "no",
          "no",
          "no",
          "no",
          "no",
          "no",
          "no",
          "no",
          "no",
          "no",
          "yes",
          "no",
          "no",
          "no",
          "no",
          "no",
          "no",
          "no",
          "no",
          "no",
          "no",
          "no",
          "no",
          "no",
          "no",
          "no",
          "no",
          "no",
          "no",
          "no",
          "no",
          "no",
          "no",
          "no",
          "no",
          "yes",
          "no",
          "no",
          "yes",
          "no",
          "no",
          "no",
          "yes",
          "no",
          "no",
          "no",
          "no",
          "no",
          "no",
          "no",
          "no",
          "no",
          "no",
          "no",
          "no",
          "yes",
          "no",
          "no",
          "no",
          "yes",
          "no",
          "no",
          "no",
          "yes",
          "no",
          "no",
          "no",
          "no",
          "no",
          "no",
          "no",
          "yes",
          "no",
          "no",
          "yes",
          "no",
          "no",
          "no",
          "no",
          "no",
          "yes",
          "no",
          "yes",
          "no",
          "no",
          "no",
          "yes",
          "no",
          "no",
          "no",
          "no",
          "no",
          "no",
          "no",
          "no",
          "no",
          "no",
          "no",
          "yes",
          "no",
          "no",
          "no",
          "no",
          "no",
          "yes",
          "yes",
          "no",
          "no",
          "no",
          "yes",
          "no",
          "no",
          "no",
          "no",
          "no",
          "no",
          "no",
          "no",
          "no",
          "no",
          "no",
          "no",
          "no",
          "no",
          "yes",
          "no",
          "no",
          "no",
          "no",
          "no",
          "no",
          "no",
          "no",
          "no",
          "no",
          "yes",
          "yes",
          "no",
          "no",
          "no",
          "no",
          "no",
          "no",
          "yes",
          "no",
          "no",
          "no",
          "yes",
          "no",
          "no",
          "yes",
          "no",
          "no",
          "no",
          "no",
          "no",
          "no",
          "no",
          "no",
          "yes",
          "yes",
          "no",
          "no",
          "no",
          "no",
          "no",
          "no",
          "no",
          "no",
          "no",
          "no",
          "yes",
          "no",
          "no",
          "no",
          "no",
          "no",
          "no",
          "no",
          "yes",
          "yes",
          "no",
          "no",
          "no",
          "no",
          "no",
          "no",
          "no",
          "no",
          "yes",
          "yes",
          "yes",
          "no",
          "no",
          "yes",
          "yes",
          "no",
          "yes",
          "no",
          "yes",
          "no",
          "yes",
          "no",
          "no",
          "no",
          "no",
          "no",
          "no",
          "no",
          "no",
          "no",
          "yes",
          "no",
          "yes",
          "no",
          "no",
          "yes",
          "no",
          "no",
          "no",
          "no",
          "no",
          "yes",
          "no",
          "no",
          "no",
          "yes",
          "no",
          "no",
          "no",
          "no",
          "no",
          "no",
          "no",
          "no",
          "no",
          "no",
          "no",
          "no",
          "no",
          "no",
          "no",
          "no",
          "no",
          "no",
          "no",
          "no",
          "no",
          "no",
          "no",
          "no",
          "no",
          "no",
          "no",
          "no",
          "yes",
          "no",
          "no",
          "no",
          "yes",
          "no",
          "no",
          "no",
          "no",
          "no",
          "no",
          "no",
          "no",
          "no",
          "no",
          "no",
          "no",
          "yes",
          "no",
          "no",
          "no",
          "yes",
          "yes",
          "no",
          "no",
          "yes",
          "yes",
          "no",
          "yes",
          "no",
          "no",
          "no",
          "no",
          "no",
          "no",
          "no",
          "no",
          "no",
          "no",
          "no",
          "no",
          "no",
          "no",
          "no",
          "yes",
          "no",
          "yes",
          "no",
          "no",
          "yes",
          "no",
          "no",
          "yes",
          "no",
          "no",
          "no",
          "no",
          "yes",
          "no",
          "no",
          "yes",
          "yes",
          "no",
          "yes",
          "no",
          "no",
          "no",
          "no",
          "no",
          "no",
          "no",
          "no",
          "yes",
          "no",
          "no",
          "no",
          "no",
          "no",
          "yes",
          "no",
          "no",
          "no",
          "no",
          "no",
          "no",
          "no",
          "no",
          "no",
          "no",
          "no",
          "no",
          "yes",
          "no",
          "no",
          "yes",
          "no",
          "no",
          "no",
          "no",
          "no",
          "no",
          "yes",
          "no",
          "yes",
          "no",
          "no",
          "no",
          "no",
          "no",
          "no",
          "no",
          "yes",
          "no",
          "yes",
          "no",
          "yes",
          "no",
          "no",
          "yes",
          "no",
          "no",
          "yes",
          "no",
          "yes",
          "no",
          "no",
          "no",
          "no",
          "no",
          "no",
          "no",
          "no",
          "no",
          "no",
          "no",
          "no",
          "no",
          "no",
          "no",
          "no",
          "no",
          "no",
          "no",
          "no",
          "no",
          "no",
          "no",
          "no",
          "no",
          "no",
          "yes",
          "yes",
          "no",
          "no",
          "no",
          "no",
          "no",
          "no",
          "no",
          "no",
          "yes",
          "yes",
          "no",
          "yes",
          "yes",
          "no",
          "no",
          "yes",
          "no",
          "no",
          "no",
          "no",
          "no",
          "no",
          "no",
          "no",
          "yes"
         ],
         "xaxis": "x",
         "yaxis": "y"
        },
        {
         "alignmentgroup": "True",
         "bingroup": "x",
         "hovertemplate": "sex=male<br>smoker=%{x}<br>count=%{y}<extra></extra>",
         "legendgroup": "male",
         "marker": {
          "color": "#EF553B",
          "pattern": {
           "shape": ""
          }
         },
         "name": "male",
         "offsetgroup": "male",
         "orientation": "v",
         "showlegend": true,
         "type": "histogram",
         "x": [
          "no",
          "no",
          "no",
          "no",
          "no",
          "no",
          "no",
          "yes",
          "no",
          "no",
          "no",
          "yes",
          "no",
          "no",
          "no",
          "yes",
          "yes",
          "no",
          "yes",
          "no",
          "no",
          "yes",
          "yes",
          "no",
          "no",
          "no",
          "yes",
          "yes",
          "yes",
          "yes",
          "yes",
          "no",
          "no",
          "no",
          "no",
          "yes",
          "no",
          "no",
          "no",
          "no",
          "no",
          "no",
          "yes",
          "yes",
          "yes",
          "no",
          "no",
          "yes",
          "yes",
          "no",
          "yes",
          "no",
          "no",
          "yes",
          "no",
          "no",
          "no",
          "no",
          "no",
          "no",
          "no",
          "yes",
          "no",
          "no",
          "no",
          "no",
          "no",
          "no",
          "yes",
          "no",
          "yes",
          "yes",
          "no",
          "no",
          "no",
          "no",
          "yes",
          "yes",
          "yes",
          "no",
          "no",
          "no",
          "no",
          "no",
          "no",
          "no",
          "no",
          "no",
          "no",
          "no",
          "no",
          "yes",
          "no",
          "no",
          "no",
          "no",
          "no",
          "no",
          "yes",
          "no",
          "no",
          "no",
          "no",
          "no",
          "no",
          "yes",
          "yes",
          "no",
          "no",
          "no",
          "no",
          "no",
          "no",
          "yes",
          "no",
          "no",
          "no",
          "no",
          "no",
          "no",
          "yes",
          "yes",
          "no",
          "yes",
          "yes",
          "no",
          "yes",
          "yes",
          "yes",
          "yes",
          "yes",
          "no",
          "no",
          "no",
          "yes",
          "no",
          "no",
          "no",
          "no",
          "no",
          "yes",
          "no",
          "no",
          "no",
          "no",
          "yes",
          "no",
          "no",
          "yes",
          "yes",
          "yes",
          "no",
          "no",
          "no",
          "no",
          "yes",
          "no",
          "no",
          "no",
          "no",
          "no",
          "no",
          "yes",
          "no",
          "no",
          "no",
          "yes",
          "no",
          "yes",
          "no",
          "no",
          "no",
          "yes",
          "no",
          "no",
          "no",
          "no",
          "no",
          "no",
          "no",
          "no",
          "no",
          "no",
          "no",
          "no",
          "no",
          "yes",
          "no",
          "yes",
          "no",
          "yes",
          "no",
          "no",
          "no",
          "no",
          "no",
          "no",
          "no",
          "no",
          "no",
          "no",
          "no",
          "no",
          "no",
          "no",
          "no",
          "no",
          "no",
          "no",
          "no",
          "yes",
          "yes",
          "yes",
          "no",
          "no",
          "no",
          "no",
          "no",
          "no",
          "no",
          "no",
          "no",
          "no",
          "no",
          "yes",
          "no",
          "no",
          "no",
          "no",
          "no",
          "no",
          "no",
          "no",
          "no",
          "yes",
          "no",
          "no",
          "no",
          "yes",
          "yes",
          "yes",
          "no",
          "no",
          "no",
          "no",
          "no",
          "no",
          "no",
          "no",
          "no",
          "yes",
          "no",
          "no",
          "yes",
          "no",
          "yes",
          "yes",
          "no",
          "no",
          "no",
          "no",
          "no",
          "no",
          "no",
          "yes",
          "no",
          "no",
          "no",
          "no",
          "yes",
          "no",
          "no",
          "yes",
          "no",
          "no",
          "no",
          "no",
          "no",
          "no",
          "yes",
          "no",
          "no",
          "no",
          "no",
          "no",
          "no",
          "no",
          "no",
          "no",
          "no",
          "yes",
          "no",
          "no",
          "no",
          "no",
          "no",
          "no",
          "no",
          "no",
          "no",
          "no",
          "no",
          "no",
          "no",
          "yes",
          "yes",
          "no",
          "yes",
          "yes",
          "no",
          "no",
          "no",
          "no",
          "no",
          "no",
          "no",
          "no",
          "no",
          "yes",
          "no",
          "no",
          "yes",
          "no",
          "no",
          "no",
          "no",
          "no",
          "no",
          "no",
          "no",
          "yes",
          "no",
          "yes",
          "no",
          "no",
          "no",
          "yes",
          "no",
          "no",
          "yes",
          "no",
          "no",
          "no",
          "no",
          "yes",
          "no",
          "no",
          "no",
          "no",
          "yes",
          "no",
          "no",
          "no",
          "no",
          "no",
          "no",
          "no",
          "no",
          "no",
          "no",
          "no",
          "yes",
          "no",
          "no",
          "yes",
          "yes",
          "no",
          "yes",
          "yes",
          "no",
          "no",
          "no",
          "no",
          "no",
          "no",
          "no",
          "no",
          "no",
          "yes",
          "no",
          "yes",
          "no",
          "no",
          "no",
          "no",
          "no",
          "no",
          "no",
          "no",
          "no",
          "yes",
          "no",
          "no",
          "no",
          "no",
          "no",
          "no",
          "yes",
          "yes",
          "no",
          "yes",
          "no",
          "no",
          "no",
          "no",
          "no",
          "no",
          "no",
          "no",
          "no",
          "no",
          "no",
          "yes",
          "yes",
          "yes",
          "no",
          "no",
          "no",
          "no",
          "no",
          "no",
          "no",
          "no",
          "no",
          "no",
          "no",
          "no",
          "yes",
          "no",
          "no",
          "no",
          "no",
          "no",
          "no",
          "no",
          "no",
          "no",
          "no",
          "no",
          "no",
          "no",
          "no",
          "no",
          "yes",
          "yes",
          "no",
          "no",
          "no",
          "yes",
          "no",
          "no",
          "no",
          "yes",
          "no",
          "no",
          "no",
          "no",
          "no",
          "yes",
          "no",
          "yes",
          "no",
          "no",
          "no",
          "no",
          "no",
          "no",
          "no",
          "no",
          "no",
          "no",
          "no",
          "no",
          "no",
          "no",
          "no",
          "yes",
          "no",
          "yes",
          "no",
          "yes",
          "yes",
          "yes",
          "no",
          "yes",
          "no",
          "yes",
          "no",
          "no",
          "no",
          "no",
          "yes",
          "no",
          "no",
          "no",
          "yes",
          "no",
          "no",
          "no",
          "no",
          "yes",
          "no",
          "no",
          "no",
          "no",
          "yes",
          "yes",
          "no",
          "no",
          "no",
          "no",
          "no",
          "yes",
          "no",
          "no",
          "yes",
          "no",
          "no",
          "no",
          "yes",
          "no",
          "yes",
          "no",
          "no",
          "yes",
          "no",
          "yes",
          "no",
          "no",
          "no",
          "yes",
          "no",
          "yes",
          "yes",
          "no",
          "no",
          "yes",
          "no",
          "no",
          "no",
          "no",
          "yes",
          "no",
          "no",
          "no",
          "no",
          "yes",
          "no",
          "no",
          "no",
          "yes",
          "no",
          "no",
          "no",
          "no",
          "no",
          "no",
          "no",
          "no",
          "no",
          "yes",
          "no",
          "no",
          "no",
          "no",
          "no",
          "no",
          "no",
          "no",
          "yes",
          "no",
          "no",
          "no",
          "yes",
          "yes",
          "no",
          "no",
          "no",
          "no",
          "no",
          "no",
          "no",
          "no",
          "no",
          "no",
          "no",
          "yes",
          "no",
          "no",
          "yes",
          "no",
          "no",
          "no",
          "no",
          "yes",
          "no",
          "no",
          "yes",
          "no",
          "yes",
          "no",
          "no",
          "no",
          "no",
          "no",
          "no",
          "no",
          "yes",
          "no",
          "no",
          "no",
          "no",
          "no",
          "no",
          "no",
          "no",
          "no",
          "no",
          "no",
          "no",
          "no",
          "no",
          "yes",
          "no",
          "no",
          "no",
          "yes",
          "yes",
          "no",
          "no",
          "no",
          "yes",
          "yes",
          "no",
          "yes",
          "no",
          "no",
          "yes",
          "yes",
          "no",
          "no",
          "no",
          "no",
          "yes",
          "no",
          "yes",
          "no",
          "yes",
          "yes",
          "no",
          "yes",
          "no",
          "no",
          "no",
          "no",
          "no",
          "no",
          "yes",
          "yes",
          "yes",
          "yes",
          "yes",
          "no",
          "no",
          "no",
          "no",
          "no",
          "no",
          "no",
          "yes",
          "no",
          "no",
          "no",
          "no",
          "no",
          "no"
         ],
         "xaxis": "x",
         "yaxis": "y"
        }
       ],
       "layout": {
        "barmode": "relative",
        "legend": {
         "title": {
          "text": "sex"
         },
         "tracegroupgap": 0
        },
        "template": {
         "data": {
          "bar": [
           {
            "error_x": {
             "color": "#2a3f5f"
            },
            "error_y": {
             "color": "#2a3f5f"
            },
            "marker": {
             "line": {
              "color": "#E5ECF6",
              "width": 0.5
             },
             "pattern": {
              "fillmode": "overlay",
              "size": 10,
              "solidity": 0.2
             }
            },
            "type": "bar"
           }
          ],
          "barpolar": [
           {
            "marker": {
             "line": {
              "color": "#E5ECF6",
              "width": 0.5
             },
             "pattern": {
              "fillmode": "overlay",
              "size": 10,
              "solidity": 0.2
             }
            },
            "type": "barpolar"
           }
          ],
          "carpet": [
           {
            "aaxis": {
             "endlinecolor": "#2a3f5f",
             "gridcolor": "white",
             "linecolor": "white",
             "minorgridcolor": "white",
             "startlinecolor": "#2a3f5f"
            },
            "baxis": {
             "endlinecolor": "#2a3f5f",
             "gridcolor": "white",
             "linecolor": "white",
             "minorgridcolor": "white",
             "startlinecolor": "#2a3f5f"
            },
            "type": "carpet"
           }
          ],
          "choropleth": [
           {
            "colorbar": {
             "outlinewidth": 0,
             "ticks": ""
            },
            "type": "choropleth"
           }
          ],
          "contour": [
           {
            "colorbar": {
             "outlinewidth": 0,
             "ticks": ""
            },
            "colorscale": [
             [
              0,
              "#0d0887"
             ],
             [
              0.1111111111111111,
              "#46039f"
             ],
             [
              0.2222222222222222,
              "#7201a8"
             ],
             [
              0.3333333333333333,
              "#9c179e"
             ],
             [
              0.4444444444444444,
              "#bd3786"
             ],
             [
              0.5555555555555556,
              "#d8576b"
             ],
             [
              0.6666666666666666,
              "#ed7953"
             ],
             [
              0.7777777777777778,
              "#fb9f3a"
             ],
             [
              0.8888888888888888,
              "#fdca26"
             ],
             [
              1,
              "#f0f921"
             ]
            ],
            "type": "contour"
           }
          ],
          "contourcarpet": [
           {
            "colorbar": {
             "outlinewidth": 0,
             "ticks": ""
            },
            "type": "contourcarpet"
           }
          ],
          "heatmap": [
           {
            "colorbar": {
             "outlinewidth": 0,
             "ticks": ""
            },
            "colorscale": [
             [
              0,
              "#0d0887"
             ],
             [
              0.1111111111111111,
              "#46039f"
             ],
             [
              0.2222222222222222,
              "#7201a8"
             ],
             [
              0.3333333333333333,
              "#9c179e"
             ],
             [
              0.4444444444444444,
              "#bd3786"
             ],
             [
              0.5555555555555556,
              "#d8576b"
             ],
             [
              0.6666666666666666,
              "#ed7953"
             ],
             [
              0.7777777777777778,
              "#fb9f3a"
             ],
             [
              0.8888888888888888,
              "#fdca26"
             ],
             [
              1,
              "#f0f921"
             ]
            ],
            "type": "heatmap"
           }
          ],
          "heatmapgl": [
           {
            "colorbar": {
             "outlinewidth": 0,
             "ticks": ""
            },
            "colorscale": [
             [
              0,
              "#0d0887"
             ],
             [
              0.1111111111111111,
              "#46039f"
             ],
             [
              0.2222222222222222,
              "#7201a8"
             ],
             [
              0.3333333333333333,
              "#9c179e"
             ],
             [
              0.4444444444444444,
              "#bd3786"
             ],
             [
              0.5555555555555556,
              "#d8576b"
             ],
             [
              0.6666666666666666,
              "#ed7953"
             ],
             [
              0.7777777777777778,
              "#fb9f3a"
             ],
             [
              0.8888888888888888,
              "#fdca26"
             ],
             [
              1,
              "#f0f921"
             ]
            ],
            "type": "heatmapgl"
           }
          ],
          "histogram": [
           {
            "marker": {
             "pattern": {
              "fillmode": "overlay",
              "size": 10,
              "solidity": 0.2
             }
            },
            "type": "histogram"
           }
          ],
          "histogram2d": [
           {
            "colorbar": {
             "outlinewidth": 0,
             "ticks": ""
            },
            "colorscale": [
             [
              0,
              "#0d0887"
             ],
             [
              0.1111111111111111,
              "#46039f"
             ],
             [
              0.2222222222222222,
              "#7201a8"
             ],
             [
              0.3333333333333333,
              "#9c179e"
             ],
             [
              0.4444444444444444,
              "#bd3786"
             ],
             [
              0.5555555555555556,
              "#d8576b"
             ],
             [
              0.6666666666666666,
              "#ed7953"
             ],
             [
              0.7777777777777778,
              "#fb9f3a"
             ],
             [
              0.8888888888888888,
              "#fdca26"
             ],
             [
              1,
              "#f0f921"
             ]
            ],
            "type": "histogram2d"
           }
          ],
          "histogram2dcontour": [
           {
            "colorbar": {
             "outlinewidth": 0,
             "ticks": ""
            },
            "colorscale": [
             [
              0,
              "#0d0887"
             ],
             [
              0.1111111111111111,
              "#46039f"
             ],
             [
              0.2222222222222222,
              "#7201a8"
             ],
             [
              0.3333333333333333,
              "#9c179e"
             ],
             [
              0.4444444444444444,
              "#bd3786"
             ],
             [
              0.5555555555555556,
              "#d8576b"
             ],
             [
              0.6666666666666666,
              "#ed7953"
             ],
             [
              0.7777777777777778,
              "#fb9f3a"
             ],
             [
              0.8888888888888888,
              "#fdca26"
             ],
             [
              1,
              "#f0f921"
             ]
            ],
            "type": "histogram2dcontour"
           }
          ],
          "mesh3d": [
           {
            "colorbar": {
             "outlinewidth": 0,
             "ticks": ""
            },
            "type": "mesh3d"
           }
          ],
          "parcoords": [
           {
            "line": {
             "colorbar": {
              "outlinewidth": 0,
              "ticks": ""
             }
            },
            "type": "parcoords"
           }
          ],
          "pie": [
           {
            "automargin": true,
            "type": "pie"
           }
          ],
          "scatter": [
           {
            "marker": {
             "colorbar": {
              "outlinewidth": 0,
              "ticks": ""
             }
            },
            "type": "scatter"
           }
          ],
          "scatter3d": [
           {
            "line": {
             "colorbar": {
              "outlinewidth": 0,
              "ticks": ""
             }
            },
            "marker": {
             "colorbar": {
              "outlinewidth": 0,
              "ticks": ""
             }
            },
            "type": "scatter3d"
           }
          ],
          "scattercarpet": [
           {
            "marker": {
             "colorbar": {
              "outlinewidth": 0,
              "ticks": ""
             }
            },
            "type": "scattercarpet"
           }
          ],
          "scattergeo": [
           {
            "marker": {
             "colorbar": {
              "outlinewidth": 0,
              "ticks": ""
             }
            },
            "type": "scattergeo"
           }
          ],
          "scattergl": [
           {
            "marker": {
             "colorbar": {
              "outlinewidth": 0,
              "ticks": ""
             }
            },
            "type": "scattergl"
           }
          ],
          "scattermapbox": [
           {
            "marker": {
             "colorbar": {
              "outlinewidth": 0,
              "ticks": ""
             }
            },
            "type": "scattermapbox"
           }
          ],
          "scatterpolar": [
           {
            "marker": {
             "colorbar": {
              "outlinewidth": 0,
              "ticks": ""
             }
            },
            "type": "scatterpolar"
           }
          ],
          "scatterpolargl": [
           {
            "marker": {
             "colorbar": {
              "outlinewidth": 0,
              "ticks": ""
             }
            },
            "type": "scatterpolargl"
           }
          ],
          "scatterternary": [
           {
            "marker": {
             "colorbar": {
              "outlinewidth": 0,
              "ticks": ""
             }
            },
            "type": "scatterternary"
           }
          ],
          "surface": [
           {
            "colorbar": {
             "outlinewidth": 0,
             "ticks": ""
            },
            "colorscale": [
             [
              0,
              "#0d0887"
             ],
             [
              0.1111111111111111,
              "#46039f"
             ],
             [
              0.2222222222222222,
              "#7201a8"
             ],
             [
              0.3333333333333333,
              "#9c179e"
             ],
             [
              0.4444444444444444,
              "#bd3786"
             ],
             [
              0.5555555555555556,
              "#d8576b"
             ],
             [
              0.6666666666666666,
              "#ed7953"
             ],
             [
              0.7777777777777778,
              "#fb9f3a"
             ],
             [
              0.8888888888888888,
              "#fdca26"
             ],
             [
              1,
              "#f0f921"
             ]
            ],
            "type": "surface"
           }
          ],
          "table": [
           {
            "cells": {
             "fill": {
              "color": "#EBF0F8"
             },
             "line": {
              "color": "white"
             }
            },
            "header": {
             "fill": {
              "color": "#C8D4E3"
             },
             "line": {
              "color": "white"
             }
            },
            "type": "table"
           }
          ]
         },
         "layout": {
          "annotationdefaults": {
           "arrowcolor": "#2a3f5f",
           "arrowhead": 0,
           "arrowwidth": 1
          },
          "autotypenumbers": "strict",
          "coloraxis": {
           "colorbar": {
            "outlinewidth": 0,
            "ticks": ""
           }
          },
          "colorscale": {
           "diverging": [
            [
             0,
             "#8e0152"
            ],
            [
             0.1,
             "#c51b7d"
            ],
            [
             0.2,
             "#de77ae"
            ],
            [
             0.3,
             "#f1b6da"
            ],
            [
             0.4,
             "#fde0ef"
            ],
            [
             0.5,
             "#f7f7f7"
            ],
            [
             0.6,
             "#e6f5d0"
            ],
            [
             0.7,
             "#b8e186"
            ],
            [
             0.8,
             "#7fbc41"
            ],
            [
             0.9,
             "#4d9221"
            ],
            [
             1,
             "#276419"
            ]
           ],
           "sequential": [
            [
             0,
             "#0d0887"
            ],
            [
             0.1111111111111111,
             "#46039f"
            ],
            [
             0.2222222222222222,
             "#7201a8"
            ],
            [
             0.3333333333333333,
             "#9c179e"
            ],
            [
             0.4444444444444444,
             "#bd3786"
            ],
            [
             0.5555555555555556,
             "#d8576b"
            ],
            [
             0.6666666666666666,
             "#ed7953"
            ],
            [
             0.7777777777777778,
             "#fb9f3a"
            ],
            [
             0.8888888888888888,
             "#fdca26"
            ],
            [
             1,
             "#f0f921"
            ]
           ],
           "sequentialminus": [
            [
             0,
             "#0d0887"
            ],
            [
             0.1111111111111111,
             "#46039f"
            ],
            [
             0.2222222222222222,
             "#7201a8"
            ],
            [
             0.3333333333333333,
             "#9c179e"
            ],
            [
             0.4444444444444444,
             "#bd3786"
            ],
            [
             0.5555555555555556,
             "#d8576b"
            ],
            [
             0.6666666666666666,
             "#ed7953"
            ],
            [
             0.7777777777777778,
             "#fb9f3a"
            ],
            [
             0.8888888888888888,
             "#fdca26"
            ],
            [
             1,
             "#f0f921"
            ]
           ]
          },
          "colorway": [
           "#636efa",
           "#EF553B",
           "#00cc96",
           "#ab63fa",
           "#FFA15A",
           "#19d3f3",
           "#FF6692",
           "#B6E880",
           "#FF97FF",
           "#FECB52"
          ],
          "font": {
           "color": "#2a3f5f"
          },
          "geo": {
           "bgcolor": "white",
           "lakecolor": "white",
           "landcolor": "#E5ECF6",
           "showlakes": true,
           "showland": true,
           "subunitcolor": "white"
          },
          "hoverlabel": {
           "align": "left"
          },
          "hovermode": "closest",
          "mapbox": {
           "style": "light"
          },
          "paper_bgcolor": "white",
          "plot_bgcolor": "#E5ECF6",
          "polar": {
           "angularaxis": {
            "gridcolor": "white",
            "linecolor": "white",
            "ticks": ""
           },
           "bgcolor": "#E5ECF6",
           "radialaxis": {
            "gridcolor": "white",
            "linecolor": "white",
            "ticks": ""
           }
          },
          "scene": {
           "xaxis": {
            "backgroundcolor": "#E5ECF6",
            "gridcolor": "white",
            "gridwidth": 2,
            "linecolor": "white",
            "showbackground": true,
            "ticks": "",
            "zerolinecolor": "white"
           },
           "yaxis": {
            "backgroundcolor": "#E5ECF6",
            "gridcolor": "white",
            "gridwidth": 2,
            "linecolor": "white",
            "showbackground": true,
            "ticks": "",
            "zerolinecolor": "white"
           },
           "zaxis": {
            "backgroundcolor": "#E5ECF6",
            "gridcolor": "white",
            "gridwidth": 2,
            "linecolor": "white",
            "showbackground": true,
            "ticks": "",
            "zerolinecolor": "white"
           }
          },
          "shapedefaults": {
           "line": {
            "color": "#2a3f5f"
           }
          },
          "ternary": {
           "aaxis": {
            "gridcolor": "white",
            "linecolor": "white",
            "ticks": ""
           },
           "baxis": {
            "gridcolor": "white",
            "linecolor": "white",
            "ticks": ""
           },
           "bgcolor": "#E5ECF6",
           "caxis": {
            "gridcolor": "white",
            "linecolor": "white",
            "ticks": ""
           }
          },
          "title": {
           "x": 0.05
          },
          "xaxis": {
           "automargin": true,
           "gridcolor": "white",
           "linecolor": "white",
           "ticks": "",
           "title": {
            "standoff": 15
           },
           "zerolinecolor": "white",
           "zerolinewidth": 2
          },
          "yaxis": {
           "automargin": true,
           "gridcolor": "white",
           "linecolor": "white",
           "ticks": "",
           "title": {
            "standoff": 15
           },
           "zerolinecolor": "white",
           "zerolinewidth": 2
          }
         }
        },
        "title": {
         "text": "Smoker"
        },
        "xaxis": {
         "anchor": "y",
         "domain": [
          0,
          1
         ],
         "title": {
          "text": "smoker"
         }
        },
        "yaxis": {
         "anchor": "x",
         "domain": [
          0,
          1
         ],
         "title": {
          "text": "count"
         }
        }
       }
      }
     },
     "metadata": {},
     "output_type": "display_data"
    }
   ],
   "source": [
    "px.histogram(medical_df, x='smoker', color='sex', title='Smoker')"
   ]
  },
  {
   "cell_type": "markdown",
   "id": "55bcfcbc",
   "metadata": {},
   "source": [
    "It appears that 20% of customers have reported that they smoke. We can also see that smoking appears a more common habit among males\n",
    "\n"
   ]
  },
  {
   "cell_type": "code",
   "execution_count": null,
   "id": "5f7b0736",
   "metadata": {},
   "outputs": [],
   "source": []
  },
  {
   "cell_type": "markdown",
   "id": "f19bf6f1",
   "metadata": {},
   "source": [
    "# Visualizing the relationship between **\"charges\"** and other columns.\n",
    "\n",
    "## Age and Charges\n",
    "\n",
    "Let's visualize the relationship between \"age\" and \"charges\" using a scatter plot. Each point in the scatter plot represents one customer. Use values in the \"smoker\" column to color the points."
   ]
  },
  {
   "cell_type": "code",
   "execution_count": 11,
   "id": "5d6d5d24",
   "metadata": {},
   "outputs": [
    {
     "data": {
      "application/vnd.plotly.v1+json": {
       "config": {
        "plotlyServerURL": "https://plot.ly"
       },
       "data": [
        {
         "customdata": [
          [
           "female"
          ],
          [
           "female"
          ],
          [
           "male"
          ],
          [
           "male"
          ],
          [
           "female"
          ],
          [
           "male"
          ],
          [
           "male"
          ],
          [
           "male"
          ],
          [
           "male"
          ],
          [
           "male"
          ],
          [
           "male"
          ],
          [
           "male"
          ],
          [
           "male"
          ],
          [
           "male"
          ],
          [
           "male"
          ],
          [
           "female"
          ],
          [
           "female"
          ],
          [
           "male"
          ],
          [
           "female"
          ],
          [
           "male"
          ],
          [
           "female"
          ],
          [
           "male"
          ],
          [
           "female"
          ],
          [
           "male"
          ],
          [
           "female"
          ],
          [
           "male"
          ],
          [
           "male"
          ],
          [
           "female"
          ],
          [
           "male"
          ],
          [
           "male"
          ],
          [
           "female"
          ],
          [
           "male"
          ],
          [
           "female"
          ],
          [
           "female"
          ],
          [
           "male"
          ],
          [
           "male"
          ],
          [
           "male"
          ],
          [
           "female"
          ],
          [
           "male"
          ],
          [
           "male"
          ],
          [
           "male"
          ],
          [
           "female"
          ],
          [
           "female"
          ],
          [
           "female"
          ],
          [
           "male"
          ],
          [
           "female"
          ],
          [
           "male"
          ],
          [
           "male"
          ],
          [
           "male"
          ],
          [
           "female"
          ],
          [
           "male"
          ],
          [
           "female"
          ],
          [
           "female"
          ],
          [
           "male"
          ],
          [
           "female"
          ],
          [
           "male"
          ],
          [
           "male"
          ],
          [
           "male"
          ],
          [
           "male"
          ],
          [
           "female"
          ],
          [
           "male"
          ],
          [
           "male"
          ],
          [
           "male"
          ],
          [
           "male"
          ],
          [
           "male"
          ],
          [
           "female"
          ],
          [
           "male"
          ],
          [
           "female"
          ],
          [
           "male"
          ],
          [
           "male"
          ],
          [
           "male"
          ],
          [
           "male"
          ],
          [
           "female"
          ],
          [
           "male"
          ],
          [
           "female"
          ],
          [
           "male"
          ],
          [
           "male"
          ],
          [
           "female"
          ],
          [
           "female"
          ],
          [
           "male"
          ],
          [
           "male"
          ],
          [
           "female"
          ],
          [
           "male"
          ],
          [
           "female"
          ],
          [
           "female"
          ],
          [
           "male"
          ],
          [
           "female"
          ],
          [
           "male"
          ],
          [
           "female"
          ],
          [
           "female"
          ],
          [
           "female"
          ],
          [
           "female"
          ],
          [
           "male"
          ],
          [
           "male"
          ],
          [
           "male"
          ],
          [
           "female"
          ],
          [
           "male"
          ],
          [
           "male"
          ],
          [
           "female"
          ],
          [
           "male"
          ],
          [
           "male"
          ],
          [
           "male"
          ],
          [
           "female"
          ],
          [
           "male"
          ],
          [
           "male"
          ],
          [
           "male"
          ],
          [
           "male"
          ],
          [
           "male"
          ],
          [
           "male"
          ],
          [
           "male"
          ],
          [
           "female"
          ],
          [
           "male"
          ],
          [
           "female"
          ],
          [
           "female"
          ],
          [
           "male"
          ],
          [
           "female"
          ],
          [
           "female"
          ],
          [
           "female"
          ],
          [
           "female"
          ],
          [
           "female"
          ],
          [
           "male"
          ],
          [
           "female"
          ],
          [
           "male"
          ],
          [
           "female"
          ],
          [
           "male"
          ],
          [
           "male"
          ],
          [
           "female"
          ],
          [
           "male"
          ],
          [
           "male"
          ],
          [
           "female"
          ],
          [
           "female"
          ],
          [
           "male"
          ],
          [
           "female"
          ],
          [
           "male"
          ],
          [
           "female"
          ],
          [
           "male"
          ],
          [
           "male"
          ],
          [
           "male"
          ],
          [
           "male"
          ],
          [
           "female"
          ],
          [
           "female"
          ],
          [
           "female"
          ],
          [
           "male"
          ],
          [
           "female"
          ],
          [
           "male"
          ],
          [
           "male"
          ],
          [
           "male"
          ],
          [
           "male"
          ],
          [
           "female"
          ],
          [
           "female"
          ],
          [
           "male"
          ],
          [
           "male"
          ],
          [
           "female"
          ],
          [
           "male"
          ],
          [
           "female"
          ],
          [
           "male"
          ],
          [
           "male"
          ],
          [
           "male"
          ],
          [
           "female"
          ],
          [
           "female"
          ],
          [
           "female"
          ],
          [
           "male"
          ],
          [
           "male"
          ],
          [
           "male"
          ],
          [
           "female"
          ],
          [
           "female"
          ],
          [
           "female"
          ],
          [
           "female"
          ],
          [
           "female"
          ],
          [
           "female"
          ],
          [
           "female"
          ],
          [
           "male"
          ],
          [
           "female"
          ],
          [
           "female"
          ],
          [
           "male"
          ],
          [
           "male"
          ],
          [
           "female"
          ],
          [
           "male"
          ],
          [
           "female"
          ],
          [
           "male"
          ],
          [
           "female"
          ],
          [
           "male"
          ],
          [
           "female"
          ],
          [
           "male"
          ],
          [
           "male"
          ],
          [
           "male"
          ],
          [
           "male"
          ],
          [
           "male"
          ],
          [
           "male"
          ],
          [
           "male"
          ],
          [
           "male"
          ],
          [
           "male"
          ],
          [
           "male"
          ],
          [
           "male"
          ],
          [
           "female"
          ],
          [
           "female"
          ],
          [
           "male"
          ],
          [
           "male"
          ],
          [
           "male"
          ],
          [
           "male"
          ],
          [
           "female"
          ],
          [
           "male"
          ],
          [
           "male"
          ],
          [
           "female"
          ],
          [
           "female"
          ],
          [
           "male"
          ],
          [
           "male"
          ],
          [
           "female"
          ],
          [
           "female"
          ],
          [
           "male"
          ],
          [
           "female"
          ],
          [
           "male"
          ],
          [
           "male"
          ],
          [
           "male"
          ],
          [
           "male"
          ],
          [
           "male"
          ],
          [
           "male"
          ],
          [
           "female"
          ],
          [
           "male"
          ],
          [
           "female"
          ],
          [
           "female"
          ],
          [
           "female"
          ],
          [
           "male"
          ],
          [
           "female"
          ],
          [
           "male"
          ],
          [
           "male"
          ],
          [
           "female"
          ],
          [
           "female"
          ],
          [
           "female"
          ],
          [
           "female"
          ],
          [
           "male"
          ],
          [
           "female"
          ],
          [
           "male"
          ],
          [
           "male"
          ],
          [
           "female"
          ],
          [
           "female"
          ],
          [
           "male"
          ],
          [
           "female"
          ],
          [
           "male"
          ],
          [
           "female"
          ],
          [
           "female"
          ],
          [
           "female"
          ],
          [
           "male"
          ],
          [
           "female"
          ],
          [
           "female"
          ],
          [
           "female"
          ],
          [
           "male"
          ],
          [
           "female"
          ],
          [
           "male"
          ],
          [
           "male"
          ],
          [
           "male"
          ],
          [
           "male"
          ],
          [
           "male"
          ],
          [
           "male"
          ],
          [
           "male"
          ],
          [
           "male"
          ],
          [
           "male"
          ],
          [
           "female"
          ],
          [
           "female"
          ],
          [
           "male"
          ],
          [
           "male"
          ],
          [
           "male"
          ],
          [
           "male"
          ],
          [
           "male"
          ],
          [
           "male"
          ],
          [
           "male"
          ],
          [
           "female"
          ],
          [
           "male"
          ],
          [
           "female"
          ],
          [
           "female"
          ],
          [
           "female"
          ],
          [
           "male"
          ],
          [
           "female"
          ],
          [
           "female"
          ]
         ],
         "hovertemplate": "smoker=yes<br>age=%{x}<br>charges=%{y}<br>sex=%{customdata[0]}<extra></extra>",
         "legendgroup": "yes",
         "marker": {
          "color": "#636efa",
          "opacity": 0.8,
          "size": 5,
          "symbol": "circle"
         },
         "mode": "markers",
         "name": "yes",
         "showlegend": true,
         "type": "scattergl",
         "x": [
          19,
          62,
          27,
          30,
          34,
          31,
          22,
          28,
          35,
          60,
          36,
          48,
          36,
          58,
          18,
          53,
          20,
          28,
          27,
          22,
          37,
          45,
          57,
          59,
          64,
          56,
          38,
          61,
          20,
          63,
          29,
          44,
          19,
          32,
          34,
          30,
          46,
          42,
          48,
          18,
          30,
          42,
          18,
          63,
          36,
          27,
          35,
          19,
          42,
          40,
          19,
          23,
          63,
          18,
          63,
          54,
          50,
          56,
          19,
          20,
          52,
          19,
          46,
          40,
          50,
          40,
          54,
          59,
          25,
          19,
          47,
          31,
          53,
          43,
          27,
          34,
          45,
          64,
          61,
          52,
          50,
          19,
          26,
          23,
          39,
          24,
          27,
          55,
          44,
          26,
          36,
          63,
          64,
          61,
          40,
          33,
          56,
          42,
          30,
          54,
          61,
          24,
          44,
          21,
          29,
          51,
          19,
          39,
          42,
          57,
          54,
          49,
          43,
          35,
          48,
          31,
          34,
          21,
          19,
          59,
          30,
          47,
          49,
          19,
          37,
          18,
          44,
          39,
          42,
          52,
          64,
          43,
          40,
          62,
          44,
          60,
          39,
          27,
          41,
          51,
          30,
          29,
          35,
          37,
          23,
          29,
          27,
          53,
          37,
          47,
          18,
          33,
          19,
          30,
          50,
          53,
          27,
          33,
          18,
          47,
          33,
          56,
          36,
          41,
          23,
          57,
          60,
          37,
          46,
          49,
          48,
          25,
          37,
          51,
          32,
          57,
          64,
          47,
          43,
          60,
          32,
          18,
          43,
          45,
          37,
          25,
          51,
          44,
          34,
          54,
          43,
          51,
          29,
          31,
          24,
          27,
          30,
          24,
          47,
          43,
          22,
          47,
          19,
          46,
          55,
          18,
          22,
          45,
          35,
          20,
          43,
          22,
          49,
          47,
          59,
          37,
          28,
          39,
          47,
          22,
          51,
          33,
          38,
          48,
          25,
          33,
          23,
          53,
          23,
          19,
          60,
          43,
          19,
          18,
          43,
          52,
          31,
          23,
          20,
          43,
          19,
          18,
          36,
          37,
          46,
          20,
          52,
          20,
          52,
          64,
          32,
          24,
          20,
          64,
          24,
          26,
          39,
          47,
          18,
          61,
          20,
          19,
          45,
          62,
          43,
          42,
          29,
          32,
          25,
          19,
          30,
          62,
          42,
          61
         ],
         "xaxis": "x",
         "y": [
          16884.924,
          27808.7251,
          39611.7577,
          36837.467,
          37701.8768,
          38711,
          35585.576,
          51194.55914,
          39774.2763,
          48173.361,
          38709.176,
          23568.272,
          37742.5757,
          47496.49445,
          34303.1672,
          23244.7902,
          14711.7438,
          17663.1442,
          16577.7795,
          37165.1638,
          39836.519,
          21098.55405,
          43578.9394,
          30184.9367,
          47291.055,
          22412.6485,
          15820.699,
          30942.1918,
          17560.37975,
          47055.5321,
          19107.7796,
          39556.4945,
          17081.08,
          32734.1863,
          18972.495,
          20745.9891,
          40720.55105,
          19964.7463,
          21223.6758,
          15518.18025,
          36950.2567,
          21348.706,
          36149.4835,
          48824.45,
          43753.33705,
          37133.8982,
          20984.0936,
          34779.615,
          19515.5416,
          19444.2658,
          17352.6803,
          38511.6283,
          29523.1656,
          12829.4551,
          47305.305,
          44260.7499,
          41097.16175,
          43921.1837,
          33750.2918,
          17085.2676,
          24869.8368,
          36219.40545,
          46151.1245,
          17179.522,
          42856.838,
          22331.5668,
          48549.17835,
          47896.79135,
          42112.2356,
          16297.846,
          21978.6769,
          38746.3551,
          24873.3849,
          42124.5153,
          34838.873,
          35491.64,
          42760.5022,
          47928.03,
          48517.56315,
          24393.6224,
          41919.097,
          13844.506,
          36085.219,
          18033.9679,
          21659.9301,
          38126.2465,
          15006.57945,
          42303.69215,
          19594.80965,
          14455.64405,
          18608.262,
          28950.4692,
          46889.2612,
          46599.1084,
          39125.33225,
          37079.372,
          26109.32905,
          22144.032,
          19521.9682,
          25382.297,
          28868.6639,
          35147.52848,
          48885.13561,
          17942.106,
          36197.699,
          22218.1149,
          32548.3405,
          21082.16,
          38245.59327,
          48675.5177,
          63770.42801,
          23807.2406,
          45863.205,
          39983.42595,
          45702.02235,
          58571.07448,
          43943.8761,
          15359.1045,
          17468.9839,
          25678.77845,
          39241.442,
          42969.8527,
          23306.547,
          34439.8559,
          40182.246,
          34617.84065,
          42983.4585,
          20149.3229,
          32787.45859,
          24667.419,
          27037.9141,
          42560.4304,
          40003.33225,
          45710.20785,
          46200.9851,
          46130.5265,
          40103.89,
          34806.4677,
          40273.6455,
          44400.4064,
          40932.4295,
          16657.71745,
          19361.9988,
          40419.0191,
          36189.1017,
          44585.45587,
          18246.4955,
          43254.41795,
          19539.243,
          23065.4207,
          36307.7983,
          19040.876,
          17748.5062,
          18259.216,
          24520.264,
          21195.818,
          18310.742,
          17904.52705,
          38792.6856,
          23401.30575,
          55135.40209,
          43813.8661,
          20773.62775,
          39597.4072,
          36021.0112,
          27533.9129,
          45008.9555,
          37270.1512,
          42111.6647,
          24106.91255,
          40974.1649,
          15817.9857,
          46113.511,
          46255.1125,
          19719.6947,
          27218.43725,
          29330.98315,
          44202.6536,
          19798.05455,
          48673.5588,
          17496.306,
          33732.6867,
          21774.32215,
          35069.37452,
          39047.285,
          19933.458,
          47462.894,
          38998.546,
          20009.63365,
          41999.52,
          41034.2214,
          23967.38305,
          16138.76205,
          19199.944,
          14571.8908,
          16420.49455,
          17361.7661,
          34472.841,
          24915.22085,
          18767.7377,
          35595.5898,
          42211.1382,
          16450.8947,
          21677.28345,
          44423.803,
          13747.87235,
          37484.4493,
          39725.51805,
          20234.85475,
          33475.81715,
          21880.82,
          44501.3982,
          39727.614,
          25309.489,
          48970.2476,
          39871.7043,
          34672.1472,
          19023.26,
          41676.0811,
          33907.548,
          44641.1974,
          16776.30405,
          41949.2441,
          24180.9335,
          36124.5737,
          38282.7495,
          34166.273,
          46661.4424,
          40904.1995,
          36898.73308,
          52590.82939,
          40941.2854,
          39722.7462,
          17178.6824,
          22478.6,
          23887.6627,
          19350.3689,
          18328.2381,
          37465.34375,
          21771.3423,
          33307.5508,
          18223.4512,
          38415.474,
          20296.86345,
          41661.602,
          26125.67477,
          60021.39897,
          20167.33603,
          47269.854,
          49577.6624,
          37607.5277,
          18648.4217,
          16232.847,
          26926.5144,
          34254.05335,
          17043.3414,
          22462.04375,
          24535.69855,
          14283.4594,
          47403.88,
          38344.566,
          34828.654,
          62592.87309,
          46718.16325,
          37829.7242,
          21259.37795,
          16115.3045,
          21472.4788,
          33900.653,
          36397.576,
          18765.87545,
          28101.33305,
          43896.3763,
          29141.3603
         ],
         "yaxis": "y"
        },
        {
         "customdata": [
          [
           "male"
          ],
          [
           "male"
          ],
          [
           "male"
          ],
          [
           "male"
          ],
          [
           "female"
          ],
          [
           "female"
          ],
          [
           "female"
          ],
          [
           "male"
          ],
          [
           "female"
          ],
          [
           "male"
          ],
          [
           "male"
          ],
          [
           "female"
          ],
          [
           "male"
          ],
          [
           "female"
          ],
          [
           "male"
          ],
          [
           "male"
          ],
          [
           "female"
          ],
          [
           "female"
          ],
          [
           "male"
          ],
          [
           "male"
          ],
          [
           "female"
          ],
          [
           "female"
          ],
          [
           "female"
          ],
          [
           "male"
          ],
          [
           "female"
          ],
          [
           "female"
          ],
          [
           "male"
          ],
          [
           "male"
          ],
          [
           "female"
          ],
          [
           "male"
          ],
          [
           "female"
          ],
          [
           "female"
          ],
          [
           "male"
          ],
          [
           "female"
          ],
          [
           "male"
          ],
          [
           "male"
          ],
          [
           "female"
          ],
          [
           "female"
          ],
          [
           "female"
          ],
          [
           "female"
          ],
          [
           "female"
          ],
          [
           "female"
          ],
          [
           "female"
          ],
          [
           "female"
          ],
          [
           "male"
          ],
          [
           "male"
          ],
          [
           "male"
          ],
          [
           "female"
          ],
          [
           "female"
          ],
          [
           "female"
          ],
          [
           "male"
          ],
          [
           "female"
          ],
          [
           "male"
          ],
          [
           "female"
          ],
          [
           "male"
          ],
          [
           "male"
          ],
          [
           "male"
          ],
          [
           "female"
          ],
          [
           "male"
          ],
          [
           "female"
          ],
          [
           "female"
          ],
          [
           "male"
          ],
          [
           "female"
          ],
          [
           "female"
          ],
          [
           "female"
          ],
          [
           "female"
          ],
          [
           "female"
          ],
          [
           "female"
          ],
          [
           "female"
          ],
          [
           "male"
          ],
          [
           "female"
          ],
          [
           "female"
          ],
          [
           "male"
          ],
          [
           "female"
          ],
          [
           "male"
          ],
          [
           "female"
          ],
          [
           "female"
          ],
          [
           "female"
          ],
          [
           "male"
          ],
          [
           "male"
          ],
          [
           "male"
          ],
          [
           "female"
          ],
          [
           "male"
          ],
          [
           "female"
          ],
          [
           "male"
          ],
          [
           "male"
          ],
          [
           "male"
          ],
          [
           "female"
          ],
          [
           "female"
          ],
          [
           "male"
          ],
          [
           "male"
          ],
          [
           "female"
          ],
          [
           "female"
          ],
          [
           "female"
          ],
          [
           "female"
          ],
          [
           "male"
          ],
          [
           "female"
          ],
          [
           "female"
          ],
          [
           "female"
          ],
          [
           "male"
          ],
          [
           "female"
          ],
          [
           "female"
          ],
          [
           "male"
          ],
          [
           "male"
          ],
          [
           "female"
          ],
          [
           "female"
          ],
          [
           "male"
          ],
          [
           "male"
          ],
          [
           "male"
          ],
          [
           "female"
          ],
          [
           "female"
          ],
          [
           "female"
          ],
          [
           "male"
          ],
          [
           "male"
          ],
          [
           "male"
          ],
          [
           "female"
          ],
          [
           "female"
          ],
          [
           "male"
          ],
          [
           "female"
          ],
          [
           "male"
          ],
          [
           "female"
          ],
          [
           "male"
          ],
          [
           "male"
          ],
          [
           "female"
          ],
          [
           "female"
          ],
          [
           "female"
          ],
          [
           "male"
          ],
          [
           "male"
          ],
          [
           "male"
          ],
          [
           "male"
          ],
          [
           "female"
          ],
          [
           "female"
          ],
          [
           "male"
          ],
          [
           "male"
          ],
          [
           "female"
          ],
          [
           "female"
          ],
          [
           "male"
          ],
          [
           "female"
          ],
          [
           "male"
          ],
          [
           "female"
          ],
          [
           "male"
          ],
          [
           "female"
          ],
          [
           "female"
          ],
          [
           "female"
          ],
          [
           "female"
          ],
          [
           "male"
          ],
          [
           "female"
          ],
          [
           "male"
          ],
          [
           "female"
          ],
          [
           "male"
          ],
          [
           "male"
          ],
          [
           "female"
          ],
          [
           "female"
          ],
          [
           "female"
          ],
          [
           "female"
          ],
          [
           "female"
          ],
          [
           "female"
          ],
          [
           "female"
          ],
          [
           "male"
          ],
          [
           "female"
          ],
          [
           "male"
          ],
          [
           "female"
          ],
          [
           "male"
          ],
          [
           "male"
          ],
          [
           "male"
          ],
          [
           "male"
          ],
          [
           "female"
          ],
          [
           "female"
          ],
          [
           "female"
          ],
          [
           "female"
          ],
          [
           "male"
          ],
          [
           "female"
          ],
          [
           "female"
          ],
          [
           "female"
          ],
          [
           "female"
          ],
          [
           "male"
          ],
          [
           "male"
          ],
          [
           "male"
          ],
          [
           "female"
          ],
          [
           "female"
          ],
          [
           "male"
          ],
          [
           "female"
          ],
          [
           "female"
          ],
          [
           "female"
          ],
          [
           "male"
          ],
          [
           "male"
          ],
          [
           "female"
          ],
          [
           "male"
          ],
          [
           "male"
          ],
          [
           "female"
          ],
          [
           "female"
          ],
          [
           "male"
          ],
          [
           "male"
          ],
          [
           "female"
          ],
          [
           "male"
          ],
          [
           "male"
          ],
          [
           "male"
          ],
          [
           "male"
          ],
          [
           "female"
          ],
          [
           "female"
          ],
          [
           "male"
          ],
          [
           "female"
          ],
          [
           "female"
          ],
          [
           "female"
          ],
          [
           "male"
          ],
          [
           "male"
          ],
          [
           "male"
          ],
          [
           "male"
          ],
          [
           "male"
          ],
          [
           "male"
          ],
          [
           "female"
          ],
          [
           "male"
          ],
          [
           "female"
          ],
          [
           "male"
          ],
          [
           "female"
          ],
          [
           "male"
          ],
          [
           "female"
          ],
          [
           "female"
          ],
          [
           "male"
          ],
          [
           "female"
          ],
          [
           "female"
          ],
          [
           "male"
          ],
          [
           "female"
          ],
          [
           "male"
          ],
          [
           "female"
          ],
          [
           "male"
          ],
          [
           "male"
          ],
          [
           "female"
          ],
          [
           "male"
          ],
          [
           "female"
          ],
          [
           "female"
          ],
          [
           "female"
          ],
          [
           "male"
          ],
          [
           "female"
          ],
          [
           "female"
          ],
          [
           "male"
          ],
          [
           "female"
          ],
          [
           "male"
          ],
          [
           "female"
          ],
          [
           "male"
          ],
          [
           "male"
          ],
          [
           "male"
          ],
          [
           "male"
          ],
          [
           "female"
          ],
          [
           "male"
          ],
          [
           "male"
          ],
          [
           "female"
          ],
          [
           "male"
          ],
          [
           "male"
          ],
          [
           "male"
          ],
          [
           "female"
          ],
          [
           "male"
          ],
          [
           "female"
          ],
          [
           "female"
          ],
          [
           "female"
          ],
          [
           "male"
          ],
          [
           "male"
          ],
          [
           "male"
          ],
          [
           "female"
          ],
          [
           "female"
          ],
          [
           "male"
          ],
          [
           "female"
          ],
          [
           "male"
          ],
          [
           "female"
          ],
          [
           "female"
          ],
          [
           "male"
          ],
          [
           "male"
          ],
          [
           "female"
          ],
          [
           "male"
          ],
          [
           "female"
          ],
          [
           "female"
          ],
          [
           "female"
          ],
          [
           "male"
          ],
          [
           "female"
          ],
          [
           "male"
          ],
          [
           "male"
          ],
          [
           "male"
          ],
          [
           "male"
          ],
          [
           "female"
          ],
          [
           "female"
          ],
          [
           "male"
          ],
          [
           "female"
          ],
          [
           "female"
          ],
          [
           "female"
          ],
          [
           "female"
          ],
          [
           "female"
          ],
          [
           "male"
          ],
          [
           "male"
          ],
          [
           "female"
          ],
          [
           "female"
          ],
          [
           "female"
          ],
          [
           "male"
          ],
          [
           "female"
          ],
          [
           "male"
          ],
          [
           "male"
          ],
          [
           "female"
          ],
          [
           "male"
          ],
          [
           "male"
          ],
          [
           "female"
          ],
          [
           "male"
          ],
          [
           "female"
          ],
          [
           "female"
          ],
          [
           "male"
          ],
          [
           "female"
          ],
          [
           "male"
          ],
          [
           "male"
          ],
          [
           "female"
          ],
          [
           "male"
          ],
          [
           "female"
          ],
          [
           "male"
          ],
          [
           "male"
          ],
          [
           "female"
          ],
          [
           "female"
          ],
          [
           "male"
          ],
          [
           "female"
          ],
          [
           "male"
          ],
          [
           "male"
          ],
          [
           "female"
          ],
          [
           "female"
          ],
          [
           "female"
          ],
          [
           "male"
          ],
          [
           "male"
          ],
          [
           "male"
          ],
          [
           "male"
          ],
          [
           "female"
          ],
          [
           "female"
          ],
          [
           "male"
          ],
          [
           "male"
          ],
          [
           "male"
          ],
          [
           "male"
          ],
          [
           "male"
          ],
          [
           "female"
          ],
          [
           "female"
          ],
          [
           "female"
          ],
          [
           "female"
          ],
          [
           "male"
          ],
          [
           "female"
          ],
          [
           "male"
          ],
          [
           "female"
          ],
          [
           "male"
          ],
          [
           "male"
          ],
          [
           "male"
          ],
          [
           "male"
          ],
          [
           "female"
          ],
          [
           "male"
          ],
          [
           "female"
          ],
          [
           "male"
          ],
          [
           "female"
          ],
          [
           "female"
          ],
          [
           "male"
          ],
          [
           "female"
          ],
          [
           "female"
          ],
          [
           "male"
          ],
          [
           "male"
          ],
          [
           "male"
          ],
          [
           "male"
          ],
          [
           "male"
          ],
          [
           "male"
          ],
          [
           "male"
          ],
          [
           "female"
          ],
          [
           "female"
          ],
          [
           "male"
          ],
          [
           "female"
          ],
          [
           "female"
          ],
          [
           "female"
          ],
          [
           "male"
          ],
          [
           "male"
          ],
          [
           "female"
          ],
          [
           "female"
          ],
          [
           "female"
          ],
          [
           "female"
          ],
          [
           "male"
          ],
          [
           "female"
          ],
          [
           "female"
          ],
          [
           "female"
          ],
          [
           "male"
          ],
          [
           "male"
          ],
          [
           "male"
          ],
          [
           "male"
          ],
          [
           "male"
          ],
          [
           "female"
          ],
          [
           "female"
          ],
          [
           "male"
          ],
          [
           "female"
          ],
          [
           "female"
          ],
          [
           "male"
          ],
          [
           "male"
          ],
          [
           "female"
          ],
          [
           "female"
          ],
          [
           "female"
          ],
          [
           "male"
          ],
          [
           "male"
          ],
          [
           "female"
          ],
          [
           "male"
          ],
          [
           "female"
          ],
          [
           "female"
          ],
          [
           "male"
          ],
          [
           "female"
          ],
          [
           "male"
          ],
          [
           "male"
          ],
          [
           "male"
          ],
          [
           "female"
          ],
          [
           "female"
          ],
          [
           "male"
          ],
          [
           "male"
          ],
          [
           "male"
          ],
          [
           "male"
          ],
          [
           "male"
          ],
          [
           "male"
          ],
          [
           "male"
          ],
          [
           "female"
          ],
          [
           "male"
          ],
          [
           "female"
          ],
          [
           "female"
          ],
          [
           "female"
          ],
          [
           "female"
          ],
          [
           "female"
          ],
          [
           "female"
          ],
          [
           "female"
          ],
          [
           "male"
          ],
          [
           "male"
          ],
          [
           "female"
          ],
          [
           "male"
          ],
          [
           "male"
          ],
          [
           "male"
          ],
          [
           "male"
          ],
          [
           "female"
          ],
          [
           "female"
          ],
          [
           "female"
          ],
          [
           "male"
          ],
          [
           "female"
          ],
          [
           "female"
          ],
          [
           "female"
          ],
          [
           "male"
          ],
          [
           "male"
          ],
          [
           "female"
          ],
          [
           "female"
          ],
          [
           "male"
          ],
          [
           "female"
          ],
          [
           "male"
          ],
          [
           "female"
          ],
          [
           "female"
          ],
          [
           "male"
          ],
          [
           "male"
          ],
          [
           "male"
          ],
          [
           "male"
          ],
          [
           "female"
          ],
          [
           "female"
          ],
          [
           "male"
          ],
          [
           "male"
          ],
          [
           "female"
          ],
          [
           "female"
          ],
          [
           "female"
          ],
          [
           "male"
          ],
          [
           "female"
          ],
          [
           "female"
          ],
          [
           "female"
          ],
          [
           "female"
          ],
          [
           "female"
          ],
          [
           "female"
          ],
          [
           "female"
          ],
          [
           "male"
          ],
          [
           "male"
          ],
          [
           "female"
          ],
          [
           "male"
          ],
          [
           "male"
          ],
          [
           "male"
          ],
          [
           "female"
          ],
          [
           "male"
          ],
          [
           "female"
          ],
          [
           "male"
          ],
          [
           "female"
          ],
          [
           "female"
          ],
          [
           "female"
          ],
          [
           "male"
          ],
          [
           "male"
          ],
          [
           "male"
          ],
          [
           "female"
          ],
          [
           "female"
          ],
          [
           "female"
          ],
          [
           "male"
          ],
          [
           "female"
          ],
          [
           "female"
          ],
          [
           "male"
          ],
          [
           "female"
          ],
          [
           "female"
          ],
          [
           "female"
          ],
          [
           "female"
          ],
          [
           "male"
          ],
          [
           "female"
          ],
          [
           "female"
          ],
          [
           "female"
          ],
          [
           "female"
          ],
          [
           "female"
          ],
          [
           "female"
          ],
          [
           "female"
          ],
          [
           "male"
          ],
          [
           "female"
          ],
          [
           "male"
          ],
          [
           "female"
          ],
          [
           "male"
          ],
          [
           "male"
          ],
          [
           "male"
          ],
          [
           "male"
          ],
          [
           "male"
          ],
          [
           "female"
          ],
          [
           "male"
          ],
          [
           "male"
          ],
          [
           "male"
          ],
          [
           "female"
          ],
          [
           "female"
          ],
          [
           "male"
          ],
          [
           "male"
          ],
          [
           "male"
          ],
          [
           "female"
          ],
          [
           "male"
          ],
          [
           "male"
          ],
          [
           "male"
          ],
          [
           "female"
          ],
          [
           "male"
          ],
          [
           "female"
          ],
          [
           "female"
          ],
          [
           "female"
          ],
          [
           "female"
          ],
          [
           "female"
          ],
          [
           "female"
          ],
          [
           "female"
          ],
          [
           "male"
          ],
          [
           "female"
          ],
          [
           "female"
          ],
          [
           "male"
          ],
          [
           "female"
          ],
          [
           "female"
          ],
          [
           "male"
          ],
          [
           "male"
          ],
          [
           "female"
          ],
          [
           "male"
          ],
          [
           "female"
          ],
          [
           "male"
          ],
          [
           "female"
          ],
          [
           "male"
          ],
          [
           "female"
          ],
          [
           "male"
          ],
          [
           "female"
          ],
          [
           "female"
          ],
          [
           "male"
          ],
          [
           "male"
          ],
          [
           "female"
          ],
          [
           "male"
          ],
          [
           "male"
          ],
          [
           "male"
          ],
          [
           "female"
          ],
          [
           "male"
          ],
          [
           "male"
          ],
          [
           "male"
          ],
          [
           "male"
          ],
          [
           "female"
          ],
          [
           "female"
          ],
          [
           "female"
          ],
          [
           "male"
          ],
          [
           "female"
          ],
          [
           "female"
          ],
          [
           "female"
          ],
          [
           "male"
          ],
          [
           "female"
          ],
          [
           "female"
          ],
          [
           "female"
          ],
          [
           "male"
          ],
          [
           "female"
          ],
          [
           "female"
          ],
          [
           "male"
          ],
          [
           "female"
          ],
          [
           "female"
          ],
          [
           "male"
          ],
          [
           "female"
          ],
          [
           "male"
          ],
          [
           "female"
          ],
          [
           "male"
          ],
          [
           "female"
          ],
          [
           "female"
          ],
          [
           "female"
          ],
          [
           "male"
          ],
          [
           "male"
          ],
          [
           "male"
          ],
          [
           "female"
          ],
          [
           "male"
          ],
          [
           "female"
          ],
          [
           "female"
          ],
          [
           "male"
          ],
          [
           "female"
          ],
          [
           "female"
          ],
          [
           "female"
          ],
          [
           "female"
          ],
          [
           "male"
          ],
          [
           "male"
          ],
          [
           "female"
          ],
          [
           "male"
          ],
          [
           "female"
          ],
          [
           "male"
          ],
          [
           "male"
          ],
          [
           "female"
          ],
          [
           "male"
          ],
          [
           "male"
          ],
          [
           "male"
          ],
          [
           "female"
          ],
          [
           "male"
          ],
          [
           "male"
          ],
          [
           "female"
          ],
          [
           "male"
          ],
          [
           "female"
          ],
          [
           "male"
          ],
          [
           "male"
          ],
          [
           "female"
          ],
          [
           "female"
          ],
          [
           "male"
          ],
          [
           "female"
          ],
          [
           "female"
          ],
          [
           "female"
          ],
          [
           "male"
          ],
          [
           "female"
          ],
          [
           "female"
          ],
          [
           "male"
          ],
          [
           "male"
          ],
          [
           "male"
          ],
          [
           "male"
          ],
          [
           "male"
          ],
          [
           "male"
          ],
          [
           "male"
          ],
          [
           "male"
          ],
          [
           "female"
          ],
          [
           "female"
          ],
          [
           "male"
          ],
          [
           "male"
          ],
          [
           "male"
          ],
          [
           "female"
          ],
          [
           "female"
          ],
          [
           "male"
          ],
          [
           "female"
          ],
          [
           "female"
          ],
          [
           "male"
          ],
          [
           "female"
          ],
          [
           "female"
          ],
          [
           "female"
          ],
          [
           "female"
          ],
          [
           "male"
          ],
          [
           "male"
          ],
          [
           "female"
          ],
          [
           "female"
          ],
          [
           "female"
          ],
          [
           "male"
          ],
          [
           "male"
          ],
          [
           "female"
          ],
          [
           "female"
          ],
          [
           "male"
          ],
          [
           "male"
          ],
          [
           "male"
          ],
          [
           "female"
          ],
          [
           "female"
          ],
          [
           "male"
          ],
          [
           "male"
          ],
          [
           "male"
          ],
          [
           "female"
          ],
          [
           "female"
          ],
          [
           "male"
          ],
          [
           "female"
          ],
          [
           "male"
          ],
          [
           "male"
          ],
          [
           "female"
          ],
          [
           "female"
          ],
          [
           "male"
          ],
          [
           "male"
          ],
          [
           "male"
          ],
          [
           "male"
          ],
          [
           "female"
          ],
          [
           "female"
          ],
          [
           "female"
          ],
          [
           "male"
          ],
          [
           "male"
          ],
          [
           "male"
          ],
          [
           "female"
          ],
          [
           "male"
          ],
          [
           "female"
          ],
          [
           "male"
          ],
          [
           "male"
          ],
          [
           "female"
          ],
          [
           "female"
          ],
          [
           "female"
          ],
          [
           "male"
          ],
          [
           "female"
          ],
          [
           "female"
          ],
          [
           "female"
          ],
          [
           "male"
          ],
          [
           "male"
          ],
          [
           "male"
          ],
          [
           "male"
          ],
          [
           "male"
          ],
          [
           "female"
          ],
          [
           "male"
          ],
          [
           "female"
          ],
          [
           "male"
          ],
          [
           "male"
          ],
          [
           "male"
          ],
          [
           "female"
          ],
          [
           "female"
          ],
          [
           "male"
          ],
          [
           "male"
          ],
          [
           "female"
          ],
          [
           "male"
          ],
          [
           "male"
          ],
          [
           "female"
          ],
          [
           "male"
          ],
          [
           "female"
          ],
          [
           "male"
          ],
          [
           "male"
          ],
          [
           "female"
          ],
          [
           "male"
          ],
          [
           "male"
          ],
          [
           "female"
          ],
          [
           "male"
          ],
          [
           "female"
          ],
          [
           "female"
          ],
          [
           "male"
          ],
          [
           "male"
          ],
          [
           "male"
          ],
          [
           "female"
          ],
          [
           "female"
          ],
          [
           "male"
          ],
          [
           "female"
          ],
          [
           "male"
          ],
          [
           "male"
          ],
          [
           "female"
          ],
          [
           "female"
          ],
          [
           "male"
          ],
          [
           "female"
          ],
          [
           "female"
          ],
          [
           "female"
          ],
          [
           "female"
          ],
          [
           "female"
          ],
          [
           "male"
          ],
          [
           "male"
          ],
          [
           "male"
          ],
          [
           "male"
          ],
          [
           "female"
          ],
          [
           "female"
          ],
          [
           "female"
          ],
          [
           "male"
          ],
          [
           "male"
          ],
          [
           "female"
          ],
          [
           "male"
          ],
          [
           "female"
          ],
          [
           "male"
          ],
          [
           "female"
          ],
          [
           "male"
          ],
          [
           "female"
          ],
          [
           "male"
          ],
          [
           "male"
          ],
          [
           "male"
          ],
          [
           "female"
          ],
          [
           "female"
          ],
          [
           "male"
          ],
          [
           "male"
          ],
          [
           "female"
          ],
          [
           "male"
          ],
          [
           "male"
          ],
          [
           "male"
          ],
          [
           "female"
          ],
          [
           "male"
          ],
          [
           "male"
          ],
          [
           "male"
          ],
          [
           "female"
          ],
          [
           "female"
          ],
          [
           "female"
          ],
          [
           "male"
          ],
          [
           "male"
          ],
          [
           "male"
          ],
          [
           "male"
          ],
          [
           "male"
          ],
          [
           "female"
          ],
          [
           "female"
          ],
          [
           "female"
          ],
          [
           "female"
          ],
          [
           "female"
          ],
          [
           "male"
          ],
          [
           "male"
          ],
          [
           "male"
          ],
          [
           "female"
          ],
          [
           "female"
          ],
          [
           "male"
          ],
          [
           "male"
          ],
          [
           "female"
          ],
          [
           "male"
          ],
          [
           "female"
          ],
          [
           "male"
          ],
          [
           "female"
          ],
          [
           "male"
          ],
          [
           "female"
          ],
          [
           "female"
          ],
          [
           "female"
          ],
          [
           "male"
          ],
          [
           "female"
          ],
          [
           "female"
          ],
          [
           "female"
          ],
          [
           "female"
          ],
          [
           "female"
          ],
          [
           "male"
          ],
          [
           "male"
          ],
          [
           "male"
          ],
          [
           "male"
          ],
          [
           "male"
          ],
          [
           "male"
          ],
          [
           "male"
          ],
          [
           "female"
          ],
          [
           "female"
          ],
          [
           "male"
          ],
          [
           "female"
          ],
          [
           "male"
          ],
          [
           "female"
          ],
          [
           "female"
          ],
          [
           "female"
          ],
          [
           "female"
          ],
          [
           "male"
          ],
          [
           "male"
          ],
          [
           "female"
          ],
          [
           "female"
          ],
          [
           "male"
          ],
          [
           "male"
          ],
          [
           "female"
          ],
          [
           "female"
          ],
          [
           "male"
          ],
          [
           "female"
          ],
          [
           "male"
          ],
          [
           "male"
          ],
          [
           "male"
          ],
          [
           "female"
          ],
          [
           "male"
          ],
          [
           "female"
          ],
          [
           "female"
          ],
          [
           "female"
          ],
          [
           "male"
          ],
          [
           "male"
          ],
          [
           "female"
          ],
          [
           "male"
          ],
          [
           "female"
          ],
          [
           "female"
          ],
          [
           "female"
          ],
          [
           "male"
          ],
          [
           "male"
          ],
          [
           "male"
          ],
          [
           "male"
          ],
          [
           "female"
          ],
          [
           "female"
          ],
          [
           "male"
          ],
          [
           "male"
          ],
          [
           "male"
          ],
          [
           "female"
          ],
          [
           "male"
          ],
          [
           "male"
          ],
          [
           "female"
          ],
          [
           "female"
          ],
          [
           "female"
          ],
          [
           "female"
          ],
          [
           "male"
          ],
          [
           "male"
          ],
          [
           "male"
          ],
          [
           "male"
          ],
          [
           "male"
          ],
          [
           "male"
          ],
          [
           "female"
          ],
          [
           "male"
          ],
          [
           "male"
          ],
          [
           "male"
          ],
          [
           "male"
          ],
          [
           "female"
          ],
          [
           "male"
          ],
          [
           "female"
          ],
          [
           "female"
          ],
          [
           "male"
          ],
          [
           "female"
          ],
          [
           "female"
          ],
          [
           "male"
          ],
          [
           "male"
          ],
          [
           "male"
          ],
          [
           "male"
          ],
          [
           "female"
          ],
          [
           "female"
          ],
          [
           "female"
          ],
          [
           "male"
          ],
          [
           "male"
          ],
          [
           "female"
          ],
          [
           "female"
          ],
          [
           "male"
          ],
          [
           "male"
          ],
          [
           "male"
          ],
          [
           "female"
          ],
          [
           "male"
          ],
          [
           "female"
          ],
          [
           "female"
          ],
          [
           "male"
          ],
          [
           "female"
          ],
          [
           "male"
          ],
          [
           "female"
          ],
          [
           "female"
          ],
          [
           "male"
          ],
          [
           "male"
          ],
          [
           "female"
          ],
          [
           "male"
          ],
          [
           "female"
          ],
          [
           "female"
          ],
          [
           "female"
          ],
          [
           "male"
          ],
          [
           "male"
          ],
          [
           "female"
          ],
          [
           "female"
          ],
          [
           "male"
          ],
          [
           "male"
          ],
          [
           "male"
          ],
          [
           "female"
          ],
          [
           "male"
          ],
          [
           "male"
          ],
          [
           "female"
          ],
          [
           "female"
          ],
          [
           "female"
          ],
          [
           "female"
          ],
          [
           "female"
          ],
          [
           "female"
          ],
          [
           "female"
          ],
          [
           "female"
          ],
          [
           "female"
          ],
          [
           "male"
          ],
          [
           "male"
          ],
          [
           "female"
          ],
          [
           "female"
          ],
          [
           "female"
          ],
          [
           "male"
          ],
          [
           "female"
          ],
          [
           "male"
          ],
          [
           "female"
          ],
          [
           "female"
          ],
          [
           "male"
          ],
          [
           "male"
          ],
          [
           "female"
          ],
          [
           "female"
          ],
          [
           "female"
          ],
          [
           "female"
          ],
          [
           "female"
          ],
          [
           "female"
          ],
          [
           "female"
          ],
          [
           "male"
          ],
          [
           "female"
          ],
          [
           "female"
          ],
          [
           "female"
          ],
          [
           "female"
          ],
          [
           "female"
          ],
          [
           "female"
          ],
          [
           "female"
          ],
          [
           "female"
          ],
          [
           "male"
          ],
          [
           "male"
          ],
          [
           "female"
          ],
          [
           "male"
          ],
          [
           "male"
          ],
          [
           "male"
          ],
          [
           "male"
          ],
          [
           "male"
          ],
          [
           "female"
          ],
          [
           "male"
          ],
          [
           "male"
          ],
          [
           "male"
          ],
          [
           "male"
          ],
          [
           "female"
          ],
          [
           "female"
          ],
          [
           "male"
          ],
          [
           "male"
          ],
          [
           "male"
          ],
          [
           "female"
          ],
          [
           "female"
          ],
          [
           "male"
          ],
          [
           "male"
          ],
          [
           "male"
          ],
          [
           "female"
          ],
          [
           "male"
          ],
          [
           "male"
          ],
          [
           "male"
          ],
          [
           "male"
          ],
          [
           "female"
          ],
          [
           "male"
          ],
          [
           "female"
          ],
          [
           "male"
          ],
          [
           "female"
          ],
          [
           "female"
          ],
          [
           "male"
          ],
          [
           "female"
          ],
          [
           "female"
          ],
          [
           "female"
          ],
          [
           "male"
          ],
          [
           "male"
          ],
          [
           "female"
          ],
          [
           "male"
          ],
          [
           "female"
          ],
          [
           "male"
          ],
          [
           "female"
          ],
          [
           "female"
          ],
          [
           "female"
          ],
          [
           "female"
          ],
          [
           "female"
          ],
          [
           "male"
          ],
          [
           "female"
          ],
          [
           "female"
          ],
          [
           "male"
          ],
          [
           "female"
          ],
          [
           "female"
          ],
          [
           "female"
          ],
          [
           "female"
          ],
          [
           "female"
          ],
          [
           "male"
          ],
          [
           "male"
          ],
          [
           "female"
          ],
          [
           "male"
          ],
          [
           "male"
          ],
          [
           "male"
          ],
          [
           "female"
          ],
          [
           "female"
          ],
          [
           "female"
          ],
          [
           "female"
          ],
          [
           "male"
          ],
          [
           "female"
          ],
          [
           "female"
          ],
          [
           "female"
          ],
          [
           "male"
          ],
          [
           "female"
          ],
          [
           "male"
          ],
          [
           "male"
          ],
          [
           "male"
          ],
          [
           "male"
          ],
          [
           "male"
          ],
          [
           "female"
          ],
          [
           "male"
          ],
          [
           "female"
          ],
          [
           "female"
          ],
          [
           "female"
          ],
          [
           "male"
          ],
          [
           "male"
          ],
          [
           "female"
          ],
          [
           "male"
          ],
          [
           "male"
          ],
          [
           "female"
          ],
          [
           "male"
          ],
          [
           "male"
          ],
          [
           "female"
          ],
          [
           "male"
          ],
          [
           "male"
          ],
          [
           "male"
          ],
          [
           "male"
          ],
          [
           "female"
          ],
          [
           "male"
          ],
          [
           "female"
          ],
          [
           "male"
          ],
          [
           "female"
          ],
          [
           "female"
          ],
          [
           "female"
          ],
          [
           "male"
          ],
          [
           "female"
          ],
          [
           "female"
          ],
          [
           "female"
          ]
         ],
         "hovertemplate": "smoker=no<br>age=%{x}<br>charges=%{y}<br>sex=%{customdata[0]}<extra></extra>",
         "legendgroup": "no",
         "marker": {
          "color": "#EF553B",
          "opacity": 0.8,
          "size": 5,
          "symbol": "circle"
         },
         "mode": "markers",
         "name": "no",
         "showlegend": true,
         "type": "scattergl",
         "x": [
          18,
          28,
          33,
          32,
          31,
          46,
          37,
          37,
          60,
          25,
          23,
          56,
          19,
          52,
          23,
          56,
          60,
          30,
          18,
          37,
          59,
          63,
          55,
          23,
          18,
          19,
          63,
          19,
          62,
          26,
          24,
          31,
          41,
          37,
          38,
          55,
          18,
          28,
          60,
          18,
          21,
          40,
          58,
          34,
          43,
          25,
          64,
          28,
          19,
          61,
          40,
          40,
          31,
          53,
          58,
          44,
          57,
          29,
          21,
          22,
          41,
          31,
          45,
          48,
          56,
          46,
          55,
          21,
          53,
          35,
          28,
          54,
          55,
          41,
          30,
          18,
          34,
          19,
          26,
          29,
          54,
          55,
          37,
          21,
          52,
          60,
          58,
          49,
          37,
          44,
          18,
          20,
          47,
          26,
          52,
          38,
          59,
          61,
          53,
          19,
          20,
          22,
          19,
          22,
          54,
          22,
          34,
          26,
          29,
          29,
          51,
          53,
          19,
          35,
          48,
          32,
          40,
          44,
          50,
          54,
          32,
          37,
          47,
          20,
          32,
          19,
          27,
          63,
          49,
          18,
          35,
          24,
          38,
          54,
          46,
          41,
          58,
          18,
          22,
          44,
          44,
          26,
          30,
          41,
          29,
          61,
          36,
          25,
          56,
          18,
          19,
          39,
          45,
          51,
          64,
          19,
          48,
          60,
          46,
          28,
          59,
          63,
          40,
          20,
          40,
          24,
          34,
          45,
          41,
          53,
          27,
          26,
          24,
          34,
          53,
          32,
          55,
          28,
          58,
          41,
          47,
          42,
          59,
          19,
          59,
          39,
          18,
          31,
          44,
          33,
          55,
          40,
          54,
          60,
          24,
          19,
          29,
          27,
          55,
          38,
          51,
          58,
          53,
          59,
          45,
          49,
          18,
          41,
          50,
          25,
          47,
          19,
          22,
          59,
          51,
          30,
          55,
          52,
          46,
          46,
          63,
          52,
          28,
          29,
          22,
          25,
          18,
          48,
          36,
          56,
          28,
          57,
          29,
          28,
          30,
          58,
          41,
          50,
          19,
          49,
          52,
          50,
          54,
          44,
          32,
          34,
          26,
          57,
          29,
          40,
          27,
          52,
          61,
          56,
          43,
          64,
          60,
          62,
          46,
          24,
          62,
          60,
          63,
          49,
          34,
          33,
          46,
          36,
          19,
          57,
          50,
          30,
          33,
          18,
          46,
          46,
          47,
          23,
          18,
          48,
          35,
          21,
          21,
          49,
          56,
          42,
          44,
          18,
          61,
          57,
          42,
          20,
          64,
          62,
          55,
          35,
          44,
          19,
          58,
          50,
          26,
          24,
          48,
          19,
          48,
          49,
          46,
          46,
          43,
          21,
          64,
          18,
          51,
          47,
          64,
          49,
          31,
          52,
          33,
          47,
          38,
          32,
          19,
          25,
          19,
          43,
          52,
          64,
          25,
          48,
          45,
          38,
          18,
          21,
          27,
          19,
          29,
          42,
          60,
          31,
          60,
          22,
          35,
          52,
          26,
          31,
          18,
          59,
          45,
          60,
          56,
          40,
          35,
          39,
          30,
          24,
          20,
          32,
          59,
          55,
          57,
          56,
          40,
          49,
          62,
          56,
          19,
          60,
          56,
          28,
          18,
          27,
          18,
          19,
          47,
          25,
          21,
          23,
          63,
          49,
          18,
          51,
          48,
          31,
          54,
          19,
          53,
          19,
          61,
          18,
          61,
          20,
          31,
          45,
          44,
          62,
          43,
          38,
          37,
          22,
          21,
          24,
          57,
          56,
          27,
          51,
          19,
          58,
          20,
          45,
          35,
          31,
          50,
          32,
          51,
          38,
          18,
          19,
          51,
          46,
          18,
          62,
          59,
          37,
          64,
          38,
          33,
          46,
          46,
          53,
          34,
          20,
          63,
          54,
          28,
          54,
          25,
          63,
          32,
          62,
          52,
          25,
          28,
          46,
          34,
          19,
          46,
          54,
          27,
          50,
          18,
          19,
          38,
          41,
          49,
          31,
          18,
          30,
          62,
          57,
          58,
          22,
          52,
          25,
          59,
          19,
          39,
          32,
          19,
          33,
          21,
          61,
          38,
          58,
          47,
          20,
          41,
          46,
          42,
          34,
          43,
          52,
          18,
          51,
          56,
          64,
          51,
          27,
          28,
          47,
          38,
          18,
          34,
          20,
          56,
          55,
          30,
          49,
          59,
          29,
          36,
          33,
          58,
          53,
          24,
          29,
          40,
          51,
          64,
          19,
          35,
          56,
          33,
          61,
          23,
          43,
          48,
          39,
          40,
          18,
          58,
          49,
          53,
          48,
          45,
          59,
          26,
          27,
          48,
          57,
          37,
          57,
          32,
          18,
          49,
          40,
          30,
          29,
          36,
          41,
          45,
          55,
          56,
          49,
          21,
          19,
          53,
          33,
          53,
          42,
          40,
          47,
          21,
          47,
          20,
          24,
          27,
          26,
          53,
          56,
          23,
          21,
          50,
          53,
          34,
          47,
          33,
          49,
          31,
          36,
          18,
          50,
          43,
          20,
          24,
          60,
          49,
          60,
          51,
          58,
          51,
          53,
          62,
          19,
          50,
          41,
          18,
          41,
          53,
          24,
          48,
          59,
          49,
          26,
          45,
          31,
          50,
          50,
          34,
          19,
          47,
          28,
          21,
          64,
          58,
          24,
          31,
          39,
          30,
          22,
          23,
          27,
          45,
          57,
          47,
          42,
          64,
          38,
          61,
          53,
          44,
          41,
          51,
          40,
          45,
          35,
          53,
          18,
          51,
          31,
          35,
          60,
          21,
          29,
          62,
          39,
          19,
          22,
          39,
          30,
          30,
          58,
          42,
          64,
          21,
          23,
          45,
          40,
          19,
          18,
          25,
          46,
          33,
          54,
          28,
          36,
          20,
          24,
          23,
          45,
          26,
          18,
          44,
          60,
          64,
          39,
          63,
          36,
          28,
          58,
          36,
          42,
          36,
          56,
          35,
          59,
          21,
          59,
          53,
          51,
          23,
          27,
          55,
          61,
          53,
          20,
          25,
          57,
          38,
          55,
          36,
          51,
          40,
          18,
          57,
          61,
          25,
          50,
          26,
          42,
          43,
          44,
          23,
          49,
          33,
          41,
          37,
          22,
          23,
          21,
          25,
          36,
          22,
          57,
          36,
          54,
          62,
          61,
          19,
          18,
          19,
          49,
          26,
          49,
          60,
          26,
          27,
          44,
          63,
          22,
          59,
          44,
          33,
          24,
          61,
          35,
          62,
          62,
          38,
          34,
          43,
          50,
          19,
          57,
          62,
          41,
          26,
          39,
          46,
          45,
          32,
          59,
          44,
          39,
          18,
          53,
          18,
          50,
          18,
          19,
          62,
          56,
          42,
          42,
          57,
          30,
          31,
          24,
          48,
          19,
          29,
          63,
          46,
          52,
          35,
          44,
          21,
          39,
          50,
          34,
          22,
          19,
          26,
          48,
          26,
          45,
          36,
          54,
          34,
          27,
          20,
          44,
          43,
          45,
          34,
          26,
          38,
          50,
          38,
          39,
          39,
          63,
          33,
          36,
          24,
          48,
          47,
          29,
          28,
          25,
          51,
          48,
          61,
          48,
          38,
          59,
          19,
          26,
          54,
          21,
          51,
          18,
          47,
          21,
          23,
          54,
          37,
          30,
          61,
          54,
          22,
          19,
          18,
          28,
          55,
          43,
          25,
          44,
          64,
          49,
          27,
          55,
          48,
          45,
          24,
          32,
          24,
          57,
          36,
          29,
          42,
          48,
          39,
          63,
          54,
          63,
          21,
          54,
          60,
          32,
          47,
          21,
          63,
          18,
          32,
          38,
          32,
          62,
          55,
          57,
          52,
          56,
          55,
          23,
          50,
          18,
          22,
          52,
          25,
          53,
          29,
          58,
          37,
          54,
          49,
          50,
          26,
          45,
          54,
          28,
          23,
          55,
          41,
          30,
          46,
          27,
          63,
          55,
          35,
          34,
          19,
          39,
          27,
          57,
          52,
          28,
          50,
          44,
          26,
          33,
          50,
          41,
          52,
          39,
          50,
          52,
          20,
          55,
          42,
          18,
          58,
          35,
          48,
          36,
          23,
          20,
          32,
          43,
          34,
          30,
          18,
          41,
          35,
          57,
          29,
          32,
          37,
          56,
          38,
          29,
          22,
          40,
          23,
          42,
          24,
          25,
          48,
          45,
          62,
          23,
          31,
          41,
          58,
          48,
          31,
          19,
          41,
          40,
          31,
          37,
          46,
          22,
          51,
          35,
          59,
          59,
          36,
          39,
          18,
          52,
          27,
          18,
          40,
          29,
          38,
          30,
          40,
          50,
          41,
          33,
          38,
          42,
          56,
          58,
          54,
          58,
          45,
          26,
          63,
          58,
          37,
          25,
          22,
          28,
          18,
          28,
          45,
          33,
          18,
          19,
          40,
          34,
          42,
          51,
          54,
          55,
          52,
          32,
          28,
          41,
          43,
          49,
          55,
          20,
          45,
          26,
          25,
          43,
          35,
          57,
          22,
          32,
          25,
          48,
          18,
          47,
          28,
          36,
          44,
          38,
          21,
          46,
          58,
          20,
          18,
          28,
          33,
          19,
          25,
          24,
          41,
          42,
          33,
          34,
          18,
          19,
          18,
          35,
          39,
          31,
          62,
          31,
          61,
          42,
          51,
          23,
          52,
          57,
          23,
          52,
          50,
          18,
          18,
          21
         ],
         "xaxis": "x",
         "y": [
          1725.5523,
          4449.462,
          21984.47061,
          3866.8552,
          3756.6216,
          8240.5896,
          7281.5056,
          6406.4107,
          28923.13692,
          2721.3208,
          1826.843,
          11090.7178,
          1837.237,
          10797.3362,
          2395.17155,
          10602.385,
          13228.84695,
          4149.736,
          1137.011,
          6203.90175,
          14001.1338,
          14451.83515,
          12268.63225,
          2775.19215,
          2198.18985,
          4687.797,
          13770.0979,
          1625.43375,
          15612.19335,
          2302.3,
          3046.062,
          4949.7587,
          6272.4772,
          6313.759,
          6079.6715,
          20630.28351,
          3393.35635,
          3556.9223,
          12629.8967,
          2211.13075,
          3579.8287,
          8059.6791,
          13607.36875,
          5989.52365,
          8606.2174,
          4504.6624,
          30166.61817,
          4133.64165,
          1743.214,
          14235.072,
          6389.37785,
          5920.1041,
          6799.458,
          11741.726,
          11946.6259,
          7726.854,
          11356.6609,
          3947.4131,
          1532.4697,
          2755.02095,
          6571.02435,
          4441.21315,
          7935.29115,
          11033.6617,
          11073.176,
          8026.6666,
          11082.5772,
          2026.9741,
          10942.13205,
          5729.0053,
          3766.8838,
          12105.32,
          10226.2842,
          6186.127,
          3645.0894,
          21344.8467,
          5003.853,
          2331.519,
          3877.30425,
          2867.1196,
          10825.2537,
          11881.358,
          4646.759,
          2404.7338,
          11488.31695,
          30259.99556,
          11381.3254,
          8601.3293,
          6686.4313,
          7740.337,
          1705.6245,
          2257.47525,
          10115.00885,
          3385.39915,
          9634.538,
          6082.405,
          12815.44495,
          13616.3586,
          11163.568,
          1632.56445,
          2457.21115,
          2155.6815,
          1261.442,
          2045.68525,
          27322.73386,
          2166.732,
          27375.90478,
          3490.5491,
          18157.876,
          5138.2567,
          9877.6077,
          10959.6947,
          1842.519,
          5125.2157,
          7789.635,
          6334.34355,
          7077.1894,
          6948.7008,
          19749.38338,
          10450.552,
          5152.134,
          5028.1466,
          10407.08585,
          4830.63,
          6128.79745,
          2719.27975,
          4827.90495,
          13405.3903,
          8116.68,
          1694.7964,
          5246.047,
          2855.43755,
          6455.86265,
          10436.096,
          8823.279,
          8538.28845,
          11735.87905,
          1631.8212,
          4005.4225,
          7419.4779,
          7731.4271,
          3981.9768,
          5325.651,
          6775.961,
          4922.9159,
          12557.6053,
          4883.866,
          2137.6536,
          12044.342,
          1137.4697,
          1639.5631,
          5649.715,
          8516.829,
          9644.2525,
          14901.5167,
          2130.6759,
          8871.1517,
          13012.20865,
          7147.105,
          4337.7352,
          11743.299,
          13880.949,
          6610.1097,
          1980.07,
          8162.71625,
          3537.703,
          5002.7827,
          8520.026,
          7371.772,
          10355.641,
          2483.736,
          3392.9768,
          25081.76784,
          5012.471,
          10564.8845,
          5253.524,
          11987.1682,
          2689.4954,
          24227.33724,
          7358.17565,
          9225.2564,
          7443.64305,
          14001.2867,
          1727.785,
          12333.828,
          6710.1919,
          1615.7667,
          4463.2051,
          7152.6714,
          5354.07465,
          35160.13457,
          7196.867,
          24476.47851,
          12648.7034,
          1986.9334,
          1832.094,
          4040.55825,
          4260.744,
          13047.33235,
          5400.9805,
          11520.09985,
          11837.16,
          20462.99766,
          14590.63205,
          7441.053,
          9282.4806,
          1719.4363,
          7265.7025,
          9617.66245,
          2523.1695,
          9715.841,
          2803.69785,
          2150.469,
          12928.7911,
          9855.1314,
          4237.12655,
          11879.10405,
          9625.92,
          7742.1098,
          9432.9253,
          14256.1928,
          25992.82104,
          3172.018,
          20277.80751,
          2156.7518,
          3906.127,
          1704.5681,
          9249.4952,
          6746.7425,
          12265.5069,
          4349.462,
          12646.207,
          19442.3535,
          20177.67113,
          4151.0287,
          11944.59435,
          7749.1564,
          8444.474,
          1737.376,
          8124.4084,
          9722.7695,
          8835.26495,
          10435.06525,
          7421.19455,
          4667.60765,
          4894.7533,
          24671.66334,
          11566.30055,
          2866.091,
          6600.20595,
          3561.8889,
          9144.565,
          13429.0354,
          11658.37915,
          19144.57652,
          13822.803,
          12142.5786,
          13937.6665,
          8232.6388,
          18955.22017,
          13352.0998,
          13217.0945,
          13981.85035,
          10977.2063,
          6184.2994,
          4889.9995,
          8334.45755,
          5478.0368,
          1635.73365,
          11830.6072,
          8932.084,
          3554.203,
          12404.8791,
          14133.03775,
          24603.04837,
          8944.1151,
          9620.3307,
          1837.2819,
          1607.5101,
          10043.249,
          4751.07,
          2597.779,
          3180.5101,
          9778.3472,
          13430.265,
          8017.06115,
          8116.26885,
          3481.868,
          13415.0381,
          12029.2867,
          7639.41745,
          1391.5287,
          16455.70785,
          27000.98473,
          20781.48892,
          5846.9176,
          8302.53565,
          1261.859,
          11856.4115,
          30284.64294,
          3176.8159,
          4618.0799,
          10736.87075,
          2138.0707,
          8964.06055,
          9290.1395,
          9411.005,
          7526.70645,
          8522.003,
          16586.49771,
          14988.432,
          1631.6683,
          9264.797,
          8083.9198,
          14692.66935,
          10269.46,
          3260.199,
          11396.9002,
          4185.0979,
          8539.671,
          6652.5288,
          4074.4537,
          1621.3402,
          5080.096,
          2134.9015,
          7345.7266,
          9140.951,
          14418.2804,
          2727.3951,
          8968.33,
          9788.8659,
          6555.07035,
          7323.734819,
          3167.45585,
          18804.7524,
          23082.95533,
          4906.40965,
          5969.723,
          12638.195,
          4243.59005,
          13919.8229,
          2254.7967,
          5926.846,
          12592.5345,
          2897.3235,
          4738.2682,
          1149.3959,
          28287.89766,
          7345.084,
          12730.9996,
          11454.0215,
          5910.944,
          4762.329,
          7512.267,
          4032.2407,
          1969.614,
          1769.53165,
          4686.3887,
          21797.0004,
          11881.9696,
          11840.77505,
          10601.412,
          7682.67,
          10381.4787,
          15230.32405,
          11165.41765,
          1632.03625,
          13224.693,
          12643.3778,
          23288.9284,
          2201.0971,
          2497.0383,
          2203.47185,
          1744.465,
          20878.78443,
          2534.39375,
          1534.3045,
          1824.2854,
          15555.18875,
          9304.7019,
          1622.1885,
          9880.068,
          9563.029,
          4347.02335,
          12475.3513,
          1253.936,
          10461.9794,
          1748.774,
          24513.09126,
          2196.4732,
          12574.049,
          1967.0227,
          4931.647,
          8027.968,
          8211.1002,
          13470.86,
          6837.3687,
          5974.3847,
          6796.86325,
          2643.2685,
          3077.0955,
          3044.2133,
          11455.28,
          11763.0009,
          2498.4144,
          9361.3268,
          1256.299,
          11362.755,
          27724.28875,
          8413.46305,
          5240.765,
          3857.75925,
          25656.57526,
          3994.1778,
          9866.30485,
          5397.6167,
          11482.63485,
          24059.68019,
          9861.025,
          8342.90875,
          1708.0014,
          14043.4767,
          12925.886,
          19214.70553,
          13831.1152,
          6067.12675,
          5972.378,
          8825.086,
          8233.0975,
          27346.04207,
          6196.448,
          3056.3881,
          13887.204,
          10231.4999,
          3268.84665,
          11538.421,
          3213.62205,
          13390.559,
          3972.9247,
          12957.118,
          11187.6567,
          17878.90068,
          3847.674,
          8334.5896,
          3935.1799,
          1646.4297,
          9193.8385,
          10923.9332,
          2494.022,
          9058.7303,
          2801.2588,
          2128.43105,
          6373.55735,
          7256.7231,
          11552.904,
          3761.292,
          2219.4451,
          4753.6368,
          31620.00106,
          13224.05705,
          12222.8983,
          1664.9996,
          9724.53,
          3206.49135,
          12913.9924,
          1639.5631,
          6356.2707,
          17626.23951,
          1242.816,
          4779.6023,
          3861.20965,
          13635.6379,
          5976.8311,
          11842.442,
          8428.0693,
          2566.4707,
          5709.1644,
          8823.98575,
          7640.3092,
          5594.8455,
          7441.501,
          33471.97189,
          1633.0444,
          9174.13565,
          11070.535,
          16085.1275,
          9283.562,
          3558.62025,
          4435.0942,
          8547.6913,
          6571.544,
          2207.69745,
          6753.038,
          1880.07,
          11658.11505,
          10713.644,
          3659.346,
          9182.17,
          12129.61415,
          3736.4647,
          6748.5912,
          11326.71487,
          11365.952,
          10085.846,
          1977.815,
          3366.6697,
          7173.35995,
          9391.346,
          14410.9321,
          2709.1119,
          24915.04626,
          12949.1554,
          6666.243,
          13143.86485,
          4466.6214,
          18806.14547,
          10141.1362,
          6123.5688,
          8252.2843,
          1712.227,
          12430.95335,
          9800.8882,
          10579.711,
          8280.6227,
          8527.532,
          12244.531,
          3410.324,
          4058.71245,
          26392.26029,
          14394.39815,
          6435.6237,
          22192.43711,
          5148.5526,
          1136.3994,
          8703.456,
          6500.2359,
          4837.5823,
          3943.5954,
          4399.731,
          6185.3208,
          7222.78625,
          12485.8009,
          12363.547,
          10156.7832,
          2585.269,
          1242.26,
          9863.4718,
          4766.022,
          11244.3769,
          7729.64575,
          5438.7491,
          26236.57997,
          2104.1134,
          8068.185,
          2362.22905,
          2352.96845,
          3577.999,
          3201.24515,
          29186.48236,
          10976.24575,
          3500.6123,
          2020.5523,
          9541.69555,
          9504.3103,
          5385.3379,
          8930.93455,
          5375.038,
          10264.4421,
          6113.23105,
          5469.0066,
          1727.54,
          10107.2206,
          8310.83915,
          1984.4533,
          2457.502,
          12146.971,
          9566.9909,
          13112.6048,
          10848.1343,
          12231.6136,
          9875.6804,
          11264.541,
          12979.358,
          1263.249,
          10106.13425,
          6664.68595,
          2217.6012,
          6781.3542,
          10065.413,
          4234.927,
          9447.25035,
          14007.222,
          9583.8933,
          3484.331,
          8604.48365,
          3757.8448,
          8827.2099,
          9910.35985,
          11737.84884,
          1627.28245,
          8556.907,
          3062.50825,
          1906.35825,
          14210.53595,
          11833.7823,
          17128.42608,
          5031.26955,
          7985.815,
          5428.7277,
          3925.7582,
          2416.955,
          3070.8087,
          9095.06825,
          11842.62375,
          8062.764,
          7050.642,
          14319.031,
          6933.24225,
          27941.28758,
          11150.78,
          12797.20962,
          7261.741,
          10560.4917,
          6986.697,
          7448.40395,
          5934.3798,
          9869.8102,
          1146.7966,
          9386.1613,
          4350.5144,
          6414.178,
          12741.16745,
          1917.3184,
          5209.57885,
          13457.9608,
          5662.225,
          1252.407,
          2731.9122,
          7209.4918,
          4266.1658,
          4719.52405,
          11848.141,
          7046.7222,
          14313.8463,
          2103.08,
          1815.8759,
          7731.85785,
          28476.73499,
          2136.88225,
          1131.5066,
          3309.7926,
          9414.92,
          6360.9936,
          11013.7119,
          4428.88785,
          5584.3057,
          1877.9294,
          2842.76075,
          3597.596,
          7445.918,
          2680.9493,
          1621.8827,
          8219.2039,
          12523.6048,
          16069.08475,
          6117.4945,
          13393.756,
          5266.3656,
          4719.73655,
          11743.9341,
          5377.4578,
          7160.3303,
          4402.233,
          11657.7189,
          6402.29135,
          12622.1795,
          1526.312,
          12323.936,
          10072.05505,
          9872.701,
          2438.0552,
          2974.126,
          10601.63225,
          14119.62,
          11729.6795,
          1875.344,
          18218.16139,
          10965.446,
          7151.092,
          12269.68865,
          5458.04645,
          8782.469,
          6600.361,
          1141.4451,
          11576.13,
          13129.60345,
          4391.652,
          8457.818,
          3392.3652,
          5966.8874,
          6849.026,
          8891.1395,
          2690.1138,
          26140.3603,
          6653.7886,
          6282.235,
          6311.952,
          3443.064,
          2789.0574,
          2585.85065,
          4877.98105,
          5272.1758,
          1682.597,
          11945.1327,
          7243.8136,
          10422.91665,
          13555.0049,
          13063.883,
          2221.56445,
          1634.5734,
          2117.33885,
          8688.85885,
          4661.28635,
          8125.7845,
          12644.589,
          4564.19145,
          4846.92015,
          7633.7206,
          15170.069,
          2639.0429,
          14382.70905,
          7626.993,
          5257.50795,
          2473.3341,
          13041.921,
          5245.2269,
          13451.122,
          13462.52,
          5488.262,
          4320.41085,
          6250.435,
          25333.33284,
          2913.569,
          12032.326,
          13470.8044,
          6289.7549,
          2927.0647,
          6238.298,
          10096.97,
          7348.142,
          4673.3922,
          12233.828,
          32108.66282,
          8965.79575,
          2304.0022,
          9487.6442,
          1121.8739,
          9549.5651,
          2217.46915,
          1628.4709,
          12982.8747,
          11674.13,
          7160.094,
          6358.77645,
          11534.87265,
          4527.18295,
          3875.7341,
          12609.88702,
          28468.91901,
          2730.10785,
          3353.284,
          14474.675,
          9500.57305,
          26467.09737,
          4746.344,
          7518.02535,
          3279.86855,
          8596.8278,
          10702.6424,
          4992.3764,
          2527.81865,
          1759.338,
          2322.6218,
          7804.1605,
          2902.9065,
          9704.66805,
          4889.0368,
          25517.11363,
          4500.33925,
          16796.41194,
          4915.05985,
          7624.63,
          8410.04685,
          28340.18885,
          4518.82625,
          3378.91,
          7144.86265,
          10118.424,
          5484.4673,
          7986.47525,
          7418.522,
          13887.9685,
          6551.7501,
          5267.81815,
          1972.95,
          21232.18226,
          8627.5411,
          4433.3877,
          4438.2634,
          23241.47453,
          9957.7216,
          8269.044,
          36580.28216,
          8765.249,
          5383.536,
          12124.9924,
          2709.24395,
          3987.926,
          12495.29085,
          26018.95052,
          8798.593,
          1711.0268,
          8569.8618,
          2020.177,
          21595.38229,
          9850.432,
          6877.9801,
          4137.5227,
          12950.0712,
          12094.478,
          2250.8352,
          22493.65964,
          1704.70015,
          3161.454,
          11394.06555,
          7325.0482,
          3594.17085,
          8023.13545,
          14394.5579,
          9288.0267,
          3353.4703,
          10594.50155,
          8277.523,
          17929.30337,
          2480.9791,
          4462.7218,
          1981.5819,
          11554.2236,
          6548.19505,
          5708.867,
          7045.499,
          8978.1851,
          5757.41345,
          14349.8544,
          10928.849,
          13974.45555,
          1909.52745,
          12096.6512,
          13204.28565,
          4562.8421,
          8551.347,
          2102.2647,
          15161.5344,
          11884.04858,
          4454.40265,
          5855.9025,
          4076.497,
          15019.76005,
          10796.35025,
          11353.2276,
          9748.9106,
          10577.087,
          11286.5387,
          3591.48,
          11299.343,
          4561.1885,
          1674.6323,
          23045.56616,
          3227.1211,
          11253.421,
          3471.4096,
          11363.2832,
          20420.60465,
          10338.9316,
          8988.15875,
          10493.9458,
          2904.088,
          8605.3615,
          11512.405,
          5312.16985,
          2396.0959,
          10807.4863,
          9222.4026,
          5693.4305,
          8347.1643,
          18903.49141,
          14254.6082,
          10214.636,
          5836.5204,
          14358.36437,
          1728.897,
          8582.3023,
          3693.428,
          20709.02034,
          9991.03765,
          19673.33573,
          11085.5868,
          7623.518,
          3176.2877,
          3704.3545,
          9048.0273,
          7954.517,
          27117.99378,
          6338.0756,
          9630.397,
          11289.10925,
          2261.5688,
          10791.96,
          5979.731,
          2203.73595,
          12235.8392,
          5630.45785,
          11015.1747,
          7228.21565,
          14426.07385,
          2459.7201,
          3989.841,
          7727.2532,
          5124.1887,
          18963.17192,
          2200.83085,
          7153.5539,
          5227.98875,
          10982.5013,
          4529.477,
          4670.64,
          6112.35295,
          11093.6229,
          6457.8434,
          4433.9159,
          2154.361,
          6496.886,
          2899.48935,
          7650.77375,
          2850.68375,
          2632.992,
          9447.3824,
          8603.8234,
          13844.7972,
          13126.67745,
          5327.40025,
          13725.47184,
          13019.16105,
          8671.19125,
          4134.08245,
          18838.70366,
          5699.8375,
          6393.60345,
          4934.705,
          6198.7518,
          8733.22925,
          2055.3249,
          9964.06,
          5116.5004,
          36910.60803,
          12347.172,
          5373.36425,
          23563.01618,
          1702.4553,
          10806.839,
          3956.07145,
          12890.05765,
          5415.6612,
          4058.1161,
          7537.1639,
          4718.20355,
          6593.5083,
          8442.667,
          6858.4796,
          4795.6568,
          6640.54485,
          7162.0122,
          10594.2257,
          11938.25595,
          12479.70895,
          11345.519,
          8515.7587,
          2699.56835,
          14449.8544,
          12224.35085,
          6985.50695,
          3238.4357,
          4296.2712,
          3171.6149,
          1135.9407,
          5615.369,
          9101.798,
          6059.173,
          1633.9618,
          1241.565,
          15828.82173,
          4415.1588,
          6474.013,
          11436.73815,
          11305.93455,
          30063.58055,
          10197.7722,
          4544.2348,
          3277.161,
          6770.1925,
          7337.748,
          10370.91255,
          10704.47,
          1880.487,
          8615.3,
          3292.52985,
          3021.80915,
          14478.33015,
          4747.0529,
          10959.33,
          2741.948,
          4357.04365,
          4189.1131,
          8283.6807,
          1720.3537,
          8534.6718,
          3732.6251,
          5472.449,
          7147.4728,
          7133.9025,
          1515.3449,
          9301.89355,
          11931.12525,
          1964.78,
          1708.92575,
          4340.4409,
          5261.46945,
          2710.82855,
          3208.787,
          2464.6188,
          6875.961,
          6940.90985,
          4571.41305,
          4536.259,
          11272.33139,
          1731.677,
          1163.4627,
          19496.71917,
          7201.70085,
          5425.02335,
          12981.3457,
          4239.89265,
          13143.33665,
          7050.0213,
          9377.9047,
          22395.74424,
          10325.206,
          12629.1656,
          10795.93733,
          11411.685,
          10600.5483,
          2205.9808,
          1629.8335,
          2007.945
         ],
         "yaxis": "y"
        }
       ],
       "layout": {
        "legend": {
         "title": {
          "text": "smoker"
         },
         "tracegroupgap": 0
        },
        "template": {
         "data": {
          "bar": [
           {
            "error_x": {
             "color": "#2a3f5f"
            },
            "error_y": {
             "color": "#2a3f5f"
            },
            "marker": {
             "line": {
              "color": "#E5ECF6",
              "width": 0.5
             },
             "pattern": {
              "fillmode": "overlay",
              "size": 10,
              "solidity": 0.2
             }
            },
            "type": "bar"
           }
          ],
          "barpolar": [
           {
            "marker": {
             "line": {
              "color": "#E5ECF6",
              "width": 0.5
             },
             "pattern": {
              "fillmode": "overlay",
              "size": 10,
              "solidity": 0.2
             }
            },
            "type": "barpolar"
           }
          ],
          "carpet": [
           {
            "aaxis": {
             "endlinecolor": "#2a3f5f",
             "gridcolor": "white",
             "linecolor": "white",
             "minorgridcolor": "white",
             "startlinecolor": "#2a3f5f"
            },
            "baxis": {
             "endlinecolor": "#2a3f5f",
             "gridcolor": "white",
             "linecolor": "white",
             "minorgridcolor": "white",
             "startlinecolor": "#2a3f5f"
            },
            "type": "carpet"
           }
          ],
          "choropleth": [
           {
            "colorbar": {
             "outlinewidth": 0,
             "ticks": ""
            },
            "type": "choropleth"
           }
          ],
          "contour": [
           {
            "colorbar": {
             "outlinewidth": 0,
             "ticks": ""
            },
            "colorscale": [
             [
              0,
              "#0d0887"
             ],
             [
              0.1111111111111111,
              "#46039f"
             ],
             [
              0.2222222222222222,
              "#7201a8"
             ],
             [
              0.3333333333333333,
              "#9c179e"
             ],
             [
              0.4444444444444444,
              "#bd3786"
             ],
             [
              0.5555555555555556,
              "#d8576b"
             ],
             [
              0.6666666666666666,
              "#ed7953"
             ],
             [
              0.7777777777777778,
              "#fb9f3a"
             ],
             [
              0.8888888888888888,
              "#fdca26"
             ],
             [
              1,
              "#f0f921"
             ]
            ],
            "type": "contour"
           }
          ],
          "contourcarpet": [
           {
            "colorbar": {
             "outlinewidth": 0,
             "ticks": ""
            },
            "type": "contourcarpet"
           }
          ],
          "heatmap": [
           {
            "colorbar": {
             "outlinewidth": 0,
             "ticks": ""
            },
            "colorscale": [
             [
              0,
              "#0d0887"
             ],
             [
              0.1111111111111111,
              "#46039f"
             ],
             [
              0.2222222222222222,
              "#7201a8"
             ],
             [
              0.3333333333333333,
              "#9c179e"
             ],
             [
              0.4444444444444444,
              "#bd3786"
             ],
             [
              0.5555555555555556,
              "#d8576b"
             ],
             [
              0.6666666666666666,
              "#ed7953"
             ],
             [
              0.7777777777777778,
              "#fb9f3a"
             ],
             [
              0.8888888888888888,
              "#fdca26"
             ],
             [
              1,
              "#f0f921"
             ]
            ],
            "type": "heatmap"
           }
          ],
          "heatmapgl": [
           {
            "colorbar": {
             "outlinewidth": 0,
             "ticks": ""
            },
            "colorscale": [
             [
              0,
              "#0d0887"
             ],
             [
              0.1111111111111111,
              "#46039f"
             ],
             [
              0.2222222222222222,
              "#7201a8"
             ],
             [
              0.3333333333333333,
              "#9c179e"
             ],
             [
              0.4444444444444444,
              "#bd3786"
             ],
             [
              0.5555555555555556,
              "#d8576b"
             ],
             [
              0.6666666666666666,
              "#ed7953"
             ],
             [
              0.7777777777777778,
              "#fb9f3a"
             ],
             [
              0.8888888888888888,
              "#fdca26"
             ],
             [
              1,
              "#f0f921"
             ]
            ],
            "type": "heatmapgl"
           }
          ],
          "histogram": [
           {
            "marker": {
             "pattern": {
              "fillmode": "overlay",
              "size": 10,
              "solidity": 0.2
             }
            },
            "type": "histogram"
           }
          ],
          "histogram2d": [
           {
            "colorbar": {
             "outlinewidth": 0,
             "ticks": ""
            },
            "colorscale": [
             [
              0,
              "#0d0887"
             ],
             [
              0.1111111111111111,
              "#46039f"
             ],
             [
              0.2222222222222222,
              "#7201a8"
             ],
             [
              0.3333333333333333,
              "#9c179e"
             ],
             [
              0.4444444444444444,
              "#bd3786"
             ],
             [
              0.5555555555555556,
              "#d8576b"
             ],
             [
              0.6666666666666666,
              "#ed7953"
             ],
             [
              0.7777777777777778,
              "#fb9f3a"
             ],
             [
              0.8888888888888888,
              "#fdca26"
             ],
             [
              1,
              "#f0f921"
             ]
            ],
            "type": "histogram2d"
           }
          ],
          "histogram2dcontour": [
           {
            "colorbar": {
             "outlinewidth": 0,
             "ticks": ""
            },
            "colorscale": [
             [
              0,
              "#0d0887"
             ],
             [
              0.1111111111111111,
              "#46039f"
             ],
             [
              0.2222222222222222,
              "#7201a8"
             ],
             [
              0.3333333333333333,
              "#9c179e"
             ],
             [
              0.4444444444444444,
              "#bd3786"
             ],
             [
              0.5555555555555556,
              "#d8576b"
             ],
             [
              0.6666666666666666,
              "#ed7953"
             ],
             [
              0.7777777777777778,
              "#fb9f3a"
             ],
             [
              0.8888888888888888,
              "#fdca26"
             ],
             [
              1,
              "#f0f921"
             ]
            ],
            "type": "histogram2dcontour"
           }
          ],
          "mesh3d": [
           {
            "colorbar": {
             "outlinewidth": 0,
             "ticks": ""
            },
            "type": "mesh3d"
           }
          ],
          "parcoords": [
           {
            "line": {
             "colorbar": {
              "outlinewidth": 0,
              "ticks": ""
             }
            },
            "type": "parcoords"
           }
          ],
          "pie": [
           {
            "automargin": true,
            "type": "pie"
           }
          ],
          "scatter": [
           {
            "marker": {
             "colorbar": {
              "outlinewidth": 0,
              "ticks": ""
             }
            },
            "type": "scatter"
           }
          ],
          "scatter3d": [
           {
            "line": {
             "colorbar": {
              "outlinewidth": 0,
              "ticks": ""
             }
            },
            "marker": {
             "colorbar": {
              "outlinewidth": 0,
              "ticks": ""
             }
            },
            "type": "scatter3d"
           }
          ],
          "scattercarpet": [
           {
            "marker": {
             "colorbar": {
              "outlinewidth": 0,
              "ticks": ""
             }
            },
            "type": "scattercarpet"
           }
          ],
          "scattergeo": [
           {
            "marker": {
             "colorbar": {
              "outlinewidth": 0,
              "ticks": ""
             }
            },
            "type": "scattergeo"
           }
          ],
          "scattergl": [
           {
            "marker": {
             "colorbar": {
              "outlinewidth": 0,
              "ticks": ""
             }
            },
            "type": "scattergl"
           }
          ],
          "scattermapbox": [
           {
            "marker": {
             "colorbar": {
              "outlinewidth": 0,
              "ticks": ""
             }
            },
            "type": "scattermapbox"
           }
          ],
          "scatterpolar": [
           {
            "marker": {
             "colorbar": {
              "outlinewidth": 0,
              "ticks": ""
             }
            },
            "type": "scatterpolar"
           }
          ],
          "scatterpolargl": [
           {
            "marker": {
             "colorbar": {
              "outlinewidth": 0,
              "ticks": ""
             }
            },
            "type": "scatterpolargl"
           }
          ],
          "scatterternary": [
           {
            "marker": {
             "colorbar": {
              "outlinewidth": 0,
              "ticks": ""
             }
            },
            "type": "scatterternary"
           }
          ],
          "surface": [
           {
            "colorbar": {
             "outlinewidth": 0,
             "ticks": ""
            },
            "colorscale": [
             [
              0,
              "#0d0887"
             ],
             [
              0.1111111111111111,
              "#46039f"
             ],
             [
              0.2222222222222222,
              "#7201a8"
             ],
             [
              0.3333333333333333,
              "#9c179e"
             ],
             [
              0.4444444444444444,
              "#bd3786"
             ],
             [
              0.5555555555555556,
              "#d8576b"
             ],
             [
              0.6666666666666666,
              "#ed7953"
             ],
             [
              0.7777777777777778,
              "#fb9f3a"
             ],
             [
              0.8888888888888888,
              "#fdca26"
             ],
             [
              1,
              "#f0f921"
             ]
            ],
            "type": "surface"
           }
          ],
          "table": [
           {
            "cells": {
             "fill": {
              "color": "#EBF0F8"
             },
             "line": {
              "color": "white"
             }
            },
            "header": {
             "fill": {
              "color": "#C8D4E3"
             },
             "line": {
              "color": "white"
             }
            },
            "type": "table"
           }
          ]
         },
         "layout": {
          "annotationdefaults": {
           "arrowcolor": "#2a3f5f",
           "arrowhead": 0,
           "arrowwidth": 1
          },
          "autotypenumbers": "strict",
          "coloraxis": {
           "colorbar": {
            "outlinewidth": 0,
            "ticks": ""
           }
          },
          "colorscale": {
           "diverging": [
            [
             0,
             "#8e0152"
            ],
            [
             0.1,
             "#c51b7d"
            ],
            [
             0.2,
             "#de77ae"
            ],
            [
             0.3,
             "#f1b6da"
            ],
            [
             0.4,
             "#fde0ef"
            ],
            [
             0.5,
             "#f7f7f7"
            ],
            [
             0.6,
             "#e6f5d0"
            ],
            [
             0.7,
             "#b8e186"
            ],
            [
             0.8,
             "#7fbc41"
            ],
            [
             0.9,
             "#4d9221"
            ],
            [
             1,
             "#276419"
            ]
           ],
           "sequential": [
            [
             0,
             "#0d0887"
            ],
            [
             0.1111111111111111,
             "#46039f"
            ],
            [
             0.2222222222222222,
             "#7201a8"
            ],
            [
             0.3333333333333333,
             "#9c179e"
            ],
            [
             0.4444444444444444,
             "#bd3786"
            ],
            [
             0.5555555555555556,
             "#d8576b"
            ],
            [
             0.6666666666666666,
             "#ed7953"
            ],
            [
             0.7777777777777778,
             "#fb9f3a"
            ],
            [
             0.8888888888888888,
             "#fdca26"
            ],
            [
             1,
             "#f0f921"
            ]
           ],
           "sequentialminus": [
            [
             0,
             "#0d0887"
            ],
            [
             0.1111111111111111,
             "#46039f"
            ],
            [
             0.2222222222222222,
             "#7201a8"
            ],
            [
             0.3333333333333333,
             "#9c179e"
            ],
            [
             0.4444444444444444,
             "#bd3786"
            ],
            [
             0.5555555555555556,
             "#d8576b"
            ],
            [
             0.6666666666666666,
             "#ed7953"
            ],
            [
             0.7777777777777778,
             "#fb9f3a"
            ],
            [
             0.8888888888888888,
             "#fdca26"
            ],
            [
             1,
             "#f0f921"
            ]
           ]
          },
          "colorway": [
           "#636efa",
           "#EF553B",
           "#00cc96",
           "#ab63fa",
           "#FFA15A",
           "#19d3f3",
           "#FF6692",
           "#B6E880",
           "#FF97FF",
           "#FECB52"
          ],
          "font": {
           "color": "#2a3f5f"
          },
          "geo": {
           "bgcolor": "white",
           "lakecolor": "white",
           "landcolor": "#E5ECF6",
           "showlakes": true,
           "showland": true,
           "subunitcolor": "white"
          },
          "hoverlabel": {
           "align": "left"
          },
          "hovermode": "closest",
          "mapbox": {
           "style": "light"
          },
          "paper_bgcolor": "white",
          "plot_bgcolor": "#E5ECF6",
          "polar": {
           "angularaxis": {
            "gridcolor": "white",
            "linecolor": "white",
            "ticks": ""
           },
           "bgcolor": "#E5ECF6",
           "radialaxis": {
            "gridcolor": "white",
            "linecolor": "white",
            "ticks": ""
           }
          },
          "scene": {
           "xaxis": {
            "backgroundcolor": "#E5ECF6",
            "gridcolor": "white",
            "gridwidth": 2,
            "linecolor": "white",
            "showbackground": true,
            "ticks": "",
            "zerolinecolor": "white"
           },
           "yaxis": {
            "backgroundcolor": "#E5ECF6",
            "gridcolor": "white",
            "gridwidth": 2,
            "linecolor": "white",
            "showbackground": true,
            "ticks": "",
            "zerolinecolor": "white"
           },
           "zaxis": {
            "backgroundcolor": "#E5ECF6",
            "gridcolor": "white",
            "gridwidth": 2,
            "linecolor": "white",
            "showbackground": true,
            "ticks": "",
            "zerolinecolor": "white"
           }
          },
          "shapedefaults": {
           "line": {
            "color": "#2a3f5f"
           }
          },
          "ternary": {
           "aaxis": {
            "gridcolor": "white",
            "linecolor": "white",
            "ticks": ""
           },
           "baxis": {
            "gridcolor": "white",
            "linecolor": "white",
            "ticks": ""
           },
           "bgcolor": "#E5ECF6",
           "caxis": {
            "gridcolor": "white",
            "linecolor": "white",
            "ticks": ""
           }
          },
          "title": {
           "x": 0.05
          },
          "xaxis": {
           "automargin": true,
           "gridcolor": "white",
           "linecolor": "white",
           "ticks": "",
           "title": {
            "standoff": 15
           },
           "zerolinecolor": "white",
           "zerolinewidth": 2
          },
          "yaxis": {
           "automargin": true,
           "gridcolor": "white",
           "linecolor": "white",
           "ticks": "",
           "title": {
            "standoff": 15
           },
           "zerolinecolor": "white",
           "zerolinewidth": 2
          }
         }
        },
        "title": {
         "text": "Age vs. Charges"
        },
        "xaxis": {
         "anchor": "y",
         "domain": [
          0,
          1
         ],
         "title": {
          "text": "age"
         }
        },
        "yaxis": {
         "anchor": "x",
         "domain": [
          0,
          1
         ],
         "title": {
          "text": "charges"
         }
        }
       }
      }
     },
     "metadata": {},
     "output_type": "display_data"
    }
   ],
   "source": [
    "fig = px.scatter(medical_df, \n",
    "                 x='age', \n",
    "                 y='charges', \n",
    "                 color='smoker', \n",
    "                 opacity=0.8, \n",
    "                 hover_data=['sex'], \n",
    "                 title='Age vs. Charges')\n",
    "fig.update_traces(marker_size=5)\n",
    "fig.show()"
   ]
  },
  {
   "cell_type": "markdown",
   "id": "eec2d883",
   "metadata": {},
   "source": [
    "We can make the following observations from the above chart:\n",
    "\n",
    "* The general trend seems to be that medical charges increase with age, as we might expect. However, there is significant variation at every age, and it's clear that age alone cannot be used to accurately determine medical charges.\n",
    "\n",
    "\n",
    "* We can see three \"clusters\" of points, each of which seems to form a line with an increasing slope:\n",
    "\n",
    "     1. The first and the largest cluster consists primary of presumably \"healthy non-smokers\" who have relatively low medical charges compared to others\n",
    "     \n",
    "     2. The second cluster contains a mix of smokers and non-smokers. It's possible that these are actually two distinct but overlapping clusters: \"non-smokers with medical issues\" and \"smokers without major medical issues\".\n",
    "     \n",
    "     3. The final cluster consists exclusively of smokers, presumably smokers with major medical issues that are possibly related to or worsened by smoking.\n",
    "     \n"
   ]
  },
  {
   "cell_type": "markdown",
   "id": "585f06c7",
   "metadata": {},
   "source": [
    "### BMI and Charges\n",
    "\n",
    "Let's visualize the relationship between BMI (body mass index) and charges using another scatter plot. Use the values from the \"smoker\" column to color the points."
   ]
  },
  {
   "cell_type": "code",
   "execution_count": 12,
   "id": "745f5099",
   "metadata": {},
   "outputs": [
    {
     "data": {
      "application/vnd.plotly.v1+json": {
       "config": {
        "plotlyServerURL": "https://plot.ly"
       },
       "data": [
        {
         "customdata": [
          [
           "female"
          ],
          [
           "female"
          ],
          [
           "male"
          ],
          [
           "male"
          ],
          [
           "female"
          ],
          [
           "male"
          ],
          [
           "male"
          ],
          [
           "male"
          ],
          [
           "male"
          ],
          [
           "male"
          ],
          [
           "male"
          ],
          [
           "male"
          ],
          [
           "male"
          ],
          [
           "male"
          ],
          [
           "male"
          ],
          [
           "female"
          ],
          [
           "female"
          ],
          [
           "male"
          ],
          [
           "female"
          ],
          [
           "male"
          ],
          [
           "female"
          ],
          [
           "male"
          ],
          [
           "female"
          ],
          [
           "male"
          ],
          [
           "female"
          ],
          [
           "male"
          ],
          [
           "male"
          ],
          [
           "female"
          ],
          [
           "male"
          ],
          [
           "male"
          ],
          [
           "female"
          ],
          [
           "male"
          ],
          [
           "female"
          ],
          [
           "female"
          ],
          [
           "male"
          ],
          [
           "male"
          ],
          [
           "male"
          ],
          [
           "female"
          ],
          [
           "male"
          ],
          [
           "male"
          ],
          [
           "male"
          ],
          [
           "female"
          ],
          [
           "female"
          ],
          [
           "female"
          ],
          [
           "male"
          ],
          [
           "female"
          ],
          [
           "male"
          ],
          [
           "male"
          ],
          [
           "male"
          ],
          [
           "female"
          ],
          [
           "male"
          ],
          [
           "female"
          ],
          [
           "female"
          ],
          [
           "male"
          ],
          [
           "female"
          ],
          [
           "male"
          ],
          [
           "male"
          ],
          [
           "male"
          ],
          [
           "male"
          ],
          [
           "female"
          ],
          [
           "male"
          ],
          [
           "male"
          ],
          [
           "male"
          ],
          [
           "male"
          ],
          [
           "male"
          ],
          [
           "female"
          ],
          [
           "male"
          ],
          [
           "female"
          ],
          [
           "male"
          ],
          [
           "male"
          ],
          [
           "male"
          ],
          [
           "male"
          ],
          [
           "female"
          ],
          [
           "male"
          ],
          [
           "female"
          ],
          [
           "male"
          ],
          [
           "male"
          ],
          [
           "female"
          ],
          [
           "female"
          ],
          [
           "male"
          ],
          [
           "male"
          ],
          [
           "female"
          ],
          [
           "male"
          ],
          [
           "female"
          ],
          [
           "female"
          ],
          [
           "male"
          ],
          [
           "female"
          ],
          [
           "male"
          ],
          [
           "female"
          ],
          [
           "female"
          ],
          [
           "female"
          ],
          [
           "female"
          ],
          [
           "male"
          ],
          [
           "male"
          ],
          [
           "male"
          ],
          [
           "female"
          ],
          [
           "male"
          ],
          [
           "male"
          ],
          [
           "female"
          ],
          [
           "male"
          ],
          [
           "male"
          ],
          [
           "male"
          ],
          [
           "female"
          ],
          [
           "male"
          ],
          [
           "male"
          ],
          [
           "male"
          ],
          [
           "male"
          ],
          [
           "male"
          ],
          [
           "male"
          ],
          [
           "male"
          ],
          [
           "female"
          ],
          [
           "male"
          ],
          [
           "female"
          ],
          [
           "female"
          ],
          [
           "male"
          ],
          [
           "female"
          ],
          [
           "female"
          ],
          [
           "female"
          ],
          [
           "female"
          ],
          [
           "female"
          ],
          [
           "male"
          ],
          [
           "female"
          ],
          [
           "male"
          ],
          [
           "female"
          ],
          [
           "male"
          ],
          [
           "male"
          ],
          [
           "female"
          ],
          [
           "male"
          ],
          [
           "male"
          ],
          [
           "female"
          ],
          [
           "female"
          ],
          [
           "male"
          ],
          [
           "female"
          ],
          [
           "male"
          ],
          [
           "female"
          ],
          [
           "male"
          ],
          [
           "male"
          ],
          [
           "male"
          ],
          [
           "male"
          ],
          [
           "female"
          ],
          [
           "female"
          ],
          [
           "female"
          ],
          [
           "male"
          ],
          [
           "female"
          ],
          [
           "male"
          ],
          [
           "male"
          ],
          [
           "male"
          ],
          [
           "male"
          ],
          [
           "female"
          ],
          [
           "female"
          ],
          [
           "male"
          ],
          [
           "male"
          ],
          [
           "female"
          ],
          [
           "male"
          ],
          [
           "female"
          ],
          [
           "male"
          ],
          [
           "male"
          ],
          [
           "male"
          ],
          [
           "female"
          ],
          [
           "female"
          ],
          [
           "female"
          ],
          [
           "male"
          ],
          [
           "male"
          ],
          [
           "male"
          ],
          [
           "female"
          ],
          [
           "female"
          ],
          [
           "female"
          ],
          [
           "female"
          ],
          [
           "female"
          ],
          [
           "female"
          ],
          [
           "female"
          ],
          [
           "male"
          ],
          [
           "female"
          ],
          [
           "female"
          ],
          [
           "male"
          ],
          [
           "male"
          ],
          [
           "female"
          ],
          [
           "male"
          ],
          [
           "female"
          ],
          [
           "male"
          ],
          [
           "female"
          ],
          [
           "male"
          ],
          [
           "female"
          ],
          [
           "male"
          ],
          [
           "male"
          ],
          [
           "male"
          ],
          [
           "male"
          ],
          [
           "male"
          ],
          [
           "male"
          ],
          [
           "male"
          ],
          [
           "male"
          ],
          [
           "male"
          ],
          [
           "male"
          ],
          [
           "male"
          ],
          [
           "female"
          ],
          [
           "female"
          ],
          [
           "male"
          ],
          [
           "male"
          ],
          [
           "male"
          ],
          [
           "male"
          ],
          [
           "female"
          ],
          [
           "male"
          ],
          [
           "male"
          ],
          [
           "female"
          ],
          [
           "female"
          ],
          [
           "male"
          ],
          [
           "male"
          ],
          [
           "female"
          ],
          [
           "female"
          ],
          [
           "male"
          ],
          [
           "female"
          ],
          [
           "male"
          ],
          [
           "male"
          ],
          [
           "male"
          ],
          [
           "male"
          ],
          [
           "male"
          ],
          [
           "male"
          ],
          [
           "female"
          ],
          [
           "male"
          ],
          [
           "female"
          ],
          [
           "female"
          ],
          [
           "female"
          ],
          [
           "male"
          ],
          [
           "female"
          ],
          [
           "male"
          ],
          [
           "male"
          ],
          [
           "female"
          ],
          [
           "female"
          ],
          [
           "female"
          ],
          [
           "female"
          ],
          [
           "male"
          ],
          [
           "female"
          ],
          [
           "male"
          ],
          [
           "male"
          ],
          [
           "female"
          ],
          [
           "female"
          ],
          [
           "male"
          ],
          [
           "female"
          ],
          [
           "male"
          ],
          [
           "female"
          ],
          [
           "female"
          ],
          [
           "female"
          ],
          [
           "male"
          ],
          [
           "female"
          ],
          [
           "female"
          ],
          [
           "female"
          ],
          [
           "male"
          ],
          [
           "female"
          ],
          [
           "male"
          ],
          [
           "male"
          ],
          [
           "male"
          ],
          [
           "male"
          ],
          [
           "male"
          ],
          [
           "male"
          ],
          [
           "male"
          ],
          [
           "male"
          ],
          [
           "male"
          ],
          [
           "female"
          ],
          [
           "female"
          ],
          [
           "male"
          ],
          [
           "male"
          ],
          [
           "male"
          ],
          [
           "male"
          ],
          [
           "male"
          ],
          [
           "male"
          ],
          [
           "male"
          ],
          [
           "female"
          ],
          [
           "male"
          ],
          [
           "female"
          ],
          [
           "female"
          ],
          [
           "female"
          ],
          [
           "male"
          ],
          [
           "female"
          ],
          [
           "female"
          ]
         ],
         "hovertemplate": "smoker=yes<br>bmi=%{x}<br>charges=%{y}<br>sex=%{customdata[0]}<extra></extra>",
         "legendgroup": "yes",
         "marker": {
          "color": "#636efa",
          "opacity": 0.8,
          "size": 5,
          "symbol": "circle"
         },
         "mode": "markers",
         "name": "yes",
         "showlegend": true,
         "type": "scattergl",
         "x": [
          27.9,
          26.29,
          42.13,
          35.3,
          31.92,
          36.3,
          35.6,
          36.4,
          36.67,
          39.9,
          35.2,
          28,
          34.43,
          36.955,
          31.68,
          22.88,
          22.42,
          23.98,
          24.75,
          37.62,
          34.8,
          22.895,
          31.16,
          29.83,
          31.3,
          19.95,
          19.3,
          29.92,
          28.025,
          35.09,
          27.94,
          31.35,
          28.3,
          17.765,
          25.3,
          28.69,
          30.495,
          23.37,
          24.42,
          25.175,
          35.53,
          26.6,
          36.85,
          37.7,
          41.895,
          36.08,
          27.74,
          34.8,
          24.64,
          22.22,
          29.07,
          36.67,
          27.74,
          17.29,
          32.2,
          34.21,
          31.825,
          33.63,
          31.92,
          26.84,
          24.32,
          36.955,
          42.35,
          19.8,
          34.2,
          28.12,
          40.565,
          36.765,
          45.54,
          27.7,
          25.41,
          34.39,
          22.61,
          35.97,
          31.4,
          30.8,
          36.48,
          33.8,
          36.385,
          27.36,
          32.3,
          21.7,
          32.9,
          28.31,
          24.89,
          40.15,
          17.955,
          30.685,
          20.235,
          17.195,
          22.6,
          26.98,
          33.88,
          35.86,
          32.775,
          33.5,
          26.695,
          30,
          28.38,
          25.1,
          28.31,
          28.5,
          38.06,
          25.7,
          34.4,
          23.21,
          30.25,
          28.3,
          26.07,
          42.13,
          47.41,
          25.84,
          46.2,
          34.105,
          40.565,
          38.095,
          30.21,
          21.85,
          28.31,
          23.655,
          37.8,
          36.63,
          25.6,
          33.11,
          34.1,
          33.535,
          38.95,
          26.41,
          28.31,
          25.3,
          22.99,
          38.06,
          32.775,
          32.015,
          43.89,
          31.35,
          35.3,
          31.13,
          35.75,
          38.06,
          39.05,
          21.755,
          24.42,
          38.39,
          31.73,
          35.5,
          29.15,
          34.105,
          26.4,
          27.83,
          38.17,
          27.1,
          28.88,
          24.4,
          27.6,
          20.9,
          28.5,
          24.795,
          42.24,
          26.125,
          35.53,
          31.79,
          28.025,
          30.78,
          32.78,
          29.81,
          32.45,
          30.78,
          35.53,
          23.845,
          33.11,
          24.13,
          47.6,
          37.05,
          28.93,
          28.975,
          26.885,
          38.94,
          20.045,
          40.92,
          24.6,
          31.73,
          26.885,
          22.895,
          34.2,
          29.7,
          42.9,
          30.2,
          27.835,
          30.8,
          34.96,
          24.795,
          22.895,
          25.9,
          20.52,
          20.045,
          22.99,
          32.7,
          28.215,
          20.13,
          31.02,
          36.08,
          26.03,
          23.655,
          35.2,
          21.565,
          37.07,
          30.495,
          28.025,
          30.685,
          24.7,
          52.58,
          30.9,
          29.8,
          41.14,
          37.07,
          31.68,
          18.3,
          36.19,
          30.4,
          34.96,
          19.095,
          38.39,
          25.85,
          33.33,
          35.75,
          31.4,
          36.86,
          42.75,
          32.49,
          32.8,
          32.56,
          44.88,
          27.36,
          26.7,
          24.13,
          29.81,
          28.49,
          35.625,
          25.27,
          30.02,
          27.28,
          33.4,
          25.555,
          34.6,
          24.42,
          34.485,
          21.8,
          41.8,
          36.96,
          33.63,
          29.83,
          27.3,
          23.76,
          31.065,
          27.06,
          29.925,
          27.645,
          21.66,
          36.3,
          39.4,
          34.9,
          30.36,
          30.875,
          27.8,
          24.605,
          21.85,
          28.12,
          30.2,
          34.7,
          23.655,
          26.695,
          40.37,
          29.07
         ],
         "xaxis": "x",
         "y": [
          16884.924,
          27808.7251,
          39611.7577,
          36837.467,
          37701.8768,
          38711,
          35585.576,
          51194.55914,
          39774.2763,
          48173.361,
          38709.176,
          23568.272,
          37742.5757,
          47496.49445,
          34303.1672,
          23244.7902,
          14711.7438,
          17663.1442,
          16577.7795,
          37165.1638,
          39836.519,
          21098.55405,
          43578.9394,
          30184.9367,
          47291.055,
          22412.6485,
          15820.699,
          30942.1918,
          17560.37975,
          47055.5321,
          19107.7796,
          39556.4945,
          17081.08,
          32734.1863,
          18972.495,
          20745.9891,
          40720.55105,
          19964.7463,
          21223.6758,
          15518.18025,
          36950.2567,
          21348.706,
          36149.4835,
          48824.45,
          43753.33705,
          37133.8982,
          20984.0936,
          34779.615,
          19515.5416,
          19444.2658,
          17352.6803,
          38511.6283,
          29523.1656,
          12829.4551,
          47305.305,
          44260.7499,
          41097.16175,
          43921.1837,
          33750.2918,
          17085.2676,
          24869.8368,
          36219.40545,
          46151.1245,
          17179.522,
          42856.838,
          22331.5668,
          48549.17835,
          47896.79135,
          42112.2356,
          16297.846,
          21978.6769,
          38746.3551,
          24873.3849,
          42124.5153,
          34838.873,
          35491.64,
          42760.5022,
          47928.03,
          48517.56315,
          24393.6224,
          41919.097,
          13844.506,
          36085.219,
          18033.9679,
          21659.9301,
          38126.2465,
          15006.57945,
          42303.69215,
          19594.80965,
          14455.64405,
          18608.262,
          28950.4692,
          46889.2612,
          46599.1084,
          39125.33225,
          37079.372,
          26109.32905,
          22144.032,
          19521.9682,
          25382.297,
          28868.6639,
          35147.52848,
          48885.13561,
          17942.106,
          36197.699,
          22218.1149,
          32548.3405,
          21082.16,
          38245.59327,
          48675.5177,
          63770.42801,
          23807.2406,
          45863.205,
          39983.42595,
          45702.02235,
          58571.07448,
          43943.8761,
          15359.1045,
          17468.9839,
          25678.77845,
          39241.442,
          42969.8527,
          23306.547,
          34439.8559,
          40182.246,
          34617.84065,
          42983.4585,
          20149.3229,
          32787.45859,
          24667.419,
          27037.9141,
          42560.4304,
          40003.33225,
          45710.20785,
          46200.9851,
          46130.5265,
          40103.89,
          34806.4677,
          40273.6455,
          44400.4064,
          40932.4295,
          16657.71745,
          19361.9988,
          40419.0191,
          36189.1017,
          44585.45587,
          18246.4955,
          43254.41795,
          19539.243,
          23065.4207,
          36307.7983,
          19040.876,
          17748.5062,
          18259.216,
          24520.264,
          21195.818,
          18310.742,
          17904.52705,
          38792.6856,
          23401.30575,
          55135.40209,
          43813.8661,
          20773.62775,
          39597.4072,
          36021.0112,
          27533.9129,
          45008.9555,
          37270.1512,
          42111.6647,
          24106.91255,
          40974.1649,
          15817.9857,
          46113.511,
          46255.1125,
          19719.6947,
          27218.43725,
          29330.98315,
          44202.6536,
          19798.05455,
          48673.5588,
          17496.306,
          33732.6867,
          21774.32215,
          35069.37452,
          39047.285,
          19933.458,
          47462.894,
          38998.546,
          20009.63365,
          41999.52,
          41034.2214,
          23967.38305,
          16138.76205,
          19199.944,
          14571.8908,
          16420.49455,
          17361.7661,
          34472.841,
          24915.22085,
          18767.7377,
          35595.5898,
          42211.1382,
          16450.8947,
          21677.28345,
          44423.803,
          13747.87235,
          37484.4493,
          39725.51805,
          20234.85475,
          33475.81715,
          21880.82,
          44501.3982,
          39727.614,
          25309.489,
          48970.2476,
          39871.7043,
          34672.1472,
          19023.26,
          41676.0811,
          33907.548,
          44641.1974,
          16776.30405,
          41949.2441,
          24180.9335,
          36124.5737,
          38282.7495,
          34166.273,
          46661.4424,
          40904.1995,
          36898.73308,
          52590.82939,
          40941.2854,
          39722.7462,
          17178.6824,
          22478.6,
          23887.6627,
          19350.3689,
          18328.2381,
          37465.34375,
          21771.3423,
          33307.5508,
          18223.4512,
          38415.474,
          20296.86345,
          41661.602,
          26125.67477,
          60021.39897,
          20167.33603,
          47269.854,
          49577.6624,
          37607.5277,
          18648.4217,
          16232.847,
          26926.5144,
          34254.05335,
          17043.3414,
          22462.04375,
          24535.69855,
          14283.4594,
          47403.88,
          38344.566,
          34828.654,
          62592.87309,
          46718.16325,
          37829.7242,
          21259.37795,
          16115.3045,
          21472.4788,
          33900.653,
          36397.576,
          18765.87545,
          28101.33305,
          43896.3763,
          29141.3603
         ],
         "yaxis": "y"
        },
        {
         "customdata": [
          [
           "male"
          ],
          [
           "male"
          ],
          [
           "male"
          ],
          [
           "male"
          ],
          [
           "female"
          ],
          [
           "female"
          ],
          [
           "female"
          ],
          [
           "male"
          ],
          [
           "female"
          ],
          [
           "male"
          ],
          [
           "male"
          ],
          [
           "female"
          ],
          [
           "male"
          ],
          [
           "female"
          ],
          [
           "male"
          ],
          [
           "male"
          ],
          [
           "female"
          ],
          [
           "female"
          ],
          [
           "male"
          ],
          [
           "male"
          ],
          [
           "female"
          ],
          [
           "female"
          ],
          [
           "female"
          ],
          [
           "male"
          ],
          [
           "female"
          ],
          [
           "female"
          ],
          [
           "male"
          ],
          [
           "male"
          ],
          [
           "female"
          ],
          [
           "male"
          ],
          [
           "female"
          ],
          [
           "female"
          ],
          [
           "male"
          ],
          [
           "female"
          ],
          [
           "male"
          ],
          [
           "male"
          ],
          [
           "female"
          ],
          [
           "female"
          ],
          [
           "female"
          ],
          [
           "female"
          ],
          [
           "female"
          ],
          [
           "female"
          ],
          [
           "female"
          ],
          [
           "female"
          ],
          [
           "male"
          ],
          [
           "male"
          ],
          [
           "male"
          ],
          [
           "female"
          ],
          [
           "female"
          ],
          [
           "female"
          ],
          [
           "male"
          ],
          [
           "female"
          ],
          [
           "male"
          ],
          [
           "female"
          ],
          [
           "male"
          ],
          [
           "male"
          ],
          [
           "male"
          ],
          [
           "female"
          ],
          [
           "male"
          ],
          [
           "female"
          ],
          [
           "female"
          ],
          [
           "male"
          ],
          [
           "female"
          ],
          [
           "female"
          ],
          [
           "female"
          ],
          [
           "female"
          ],
          [
           "female"
          ],
          [
           "female"
          ],
          [
           "female"
          ],
          [
           "male"
          ],
          [
           "female"
          ],
          [
           "female"
          ],
          [
           "male"
          ],
          [
           "female"
          ],
          [
           "male"
          ],
          [
           "female"
          ],
          [
           "female"
          ],
          [
           "female"
          ],
          [
           "male"
          ],
          [
           "male"
          ],
          [
           "male"
          ],
          [
           "female"
          ],
          [
           "male"
          ],
          [
           "female"
          ],
          [
           "male"
          ],
          [
           "male"
          ],
          [
           "male"
          ],
          [
           "female"
          ],
          [
           "female"
          ],
          [
           "male"
          ],
          [
           "male"
          ],
          [
           "female"
          ],
          [
           "female"
          ],
          [
           "female"
          ],
          [
           "female"
          ],
          [
           "male"
          ],
          [
           "female"
          ],
          [
           "female"
          ],
          [
           "female"
          ],
          [
           "male"
          ],
          [
           "female"
          ],
          [
           "female"
          ],
          [
           "male"
          ],
          [
           "male"
          ],
          [
           "female"
          ],
          [
           "female"
          ],
          [
           "male"
          ],
          [
           "male"
          ],
          [
           "male"
          ],
          [
           "female"
          ],
          [
           "female"
          ],
          [
           "female"
          ],
          [
           "male"
          ],
          [
           "male"
          ],
          [
           "male"
          ],
          [
           "female"
          ],
          [
           "female"
          ],
          [
           "male"
          ],
          [
           "female"
          ],
          [
           "male"
          ],
          [
           "female"
          ],
          [
           "male"
          ],
          [
           "male"
          ],
          [
           "female"
          ],
          [
           "female"
          ],
          [
           "female"
          ],
          [
           "male"
          ],
          [
           "male"
          ],
          [
           "male"
          ],
          [
           "male"
          ],
          [
           "female"
          ],
          [
           "female"
          ],
          [
           "male"
          ],
          [
           "male"
          ],
          [
           "female"
          ],
          [
           "female"
          ],
          [
           "male"
          ],
          [
           "female"
          ],
          [
           "male"
          ],
          [
           "female"
          ],
          [
           "male"
          ],
          [
           "female"
          ],
          [
           "female"
          ],
          [
           "female"
          ],
          [
           "female"
          ],
          [
           "male"
          ],
          [
           "female"
          ],
          [
           "male"
          ],
          [
           "female"
          ],
          [
           "male"
          ],
          [
           "male"
          ],
          [
           "female"
          ],
          [
           "female"
          ],
          [
           "female"
          ],
          [
           "female"
          ],
          [
           "female"
          ],
          [
           "female"
          ],
          [
           "female"
          ],
          [
           "male"
          ],
          [
           "female"
          ],
          [
           "male"
          ],
          [
           "female"
          ],
          [
           "male"
          ],
          [
           "male"
          ],
          [
           "male"
          ],
          [
           "male"
          ],
          [
           "female"
          ],
          [
           "female"
          ],
          [
           "female"
          ],
          [
           "female"
          ],
          [
           "male"
          ],
          [
           "female"
          ],
          [
           "female"
          ],
          [
           "female"
          ],
          [
           "female"
          ],
          [
           "male"
          ],
          [
           "male"
          ],
          [
           "male"
          ],
          [
           "female"
          ],
          [
           "female"
          ],
          [
           "male"
          ],
          [
           "female"
          ],
          [
           "female"
          ],
          [
           "female"
          ],
          [
           "male"
          ],
          [
           "male"
          ],
          [
           "female"
          ],
          [
           "male"
          ],
          [
           "male"
          ],
          [
           "female"
          ],
          [
           "female"
          ],
          [
           "male"
          ],
          [
           "male"
          ],
          [
           "female"
          ],
          [
           "male"
          ],
          [
           "male"
          ],
          [
           "male"
          ],
          [
           "male"
          ],
          [
           "female"
          ],
          [
           "female"
          ],
          [
           "male"
          ],
          [
           "female"
          ],
          [
           "female"
          ],
          [
           "female"
          ],
          [
           "male"
          ],
          [
           "male"
          ],
          [
           "male"
          ],
          [
           "male"
          ],
          [
           "male"
          ],
          [
           "male"
          ],
          [
           "female"
          ],
          [
           "male"
          ],
          [
           "female"
          ],
          [
           "male"
          ],
          [
           "female"
          ],
          [
           "male"
          ],
          [
           "female"
          ],
          [
           "female"
          ],
          [
           "male"
          ],
          [
           "female"
          ],
          [
           "female"
          ],
          [
           "male"
          ],
          [
           "female"
          ],
          [
           "male"
          ],
          [
           "female"
          ],
          [
           "male"
          ],
          [
           "male"
          ],
          [
           "female"
          ],
          [
           "male"
          ],
          [
           "female"
          ],
          [
           "female"
          ],
          [
           "female"
          ],
          [
           "male"
          ],
          [
           "female"
          ],
          [
           "female"
          ],
          [
           "male"
          ],
          [
           "female"
          ],
          [
           "male"
          ],
          [
           "female"
          ],
          [
           "male"
          ],
          [
           "male"
          ],
          [
           "male"
          ],
          [
           "male"
          ],
          [
           "female"
          ],
          [
           "male"
          ],
          [
           "male"
          ],
          [
           "female"
          ],
          [
           "male"
          ],
          [
           "male"
          ],
          [
           "male"
          ],
          [
           "female"
          ],
          [
           "male"
          ],
          [
           "female"
          ],
          [
           "female"
          ],
          [
           "female"
          ],
          [
           "male"
          ],
          [
           "male"
          ],
          [
           "male"
          ],
          [
           "female"
          ],
          [
           "female"
          ],
          [
           "male"
          ],
          [
           "female"
          ],
          [
           "male"
          ],
          [
           "female"
          ],
          [
           "female"
          ],
          [
           "male"
          ],
          [
           "male"
          ],
          [
           "female"
          ],
          [
           "male"
          ],
          [
           "female"
          ],
          [
           "female"
          ],
          [
           "female"
          ],
          [
           "male"
          ],
          [
           "female"
          ],
          [
           "male"
          ],
          [
           "male"
          ],
          [
           "male"
          ],
          [
           "male"
          ],
          [
           "female"
          ],
          [
           "female"
          ],
          [
           "male"
          ],
          [
           "female"
          ],
          [
           "female"
          ],
          [
           "female"
          ],
          [
           "female"
          ],
          [
           "female"
          ],
          [
           "male"
          ],
          [
           "male"
          ],
          [
           "female"
          ],
          [
           "female"
          ],
          [
           "female"
          ],
          [
           "male"
          ],
          [
           "female"
          ],
          [
           "male"
          ],
          [
           "male"
          ],
          [
           "female"
          ],
          [
           "male"
          ],
          [
           "male"
          ],
          [
           "female"
          ],
          [
           "male"
          ],
          [
           "female"
          ],
          [
           "female"
          ],
          [
           "male"
          ],
          [
           "female"
          ],
          [
           "male"
          ],
          [
           "male"
          ],
          [
           "female"
          ],
          [
           "male"
          ],
          [
           "female"
          ],
          [
           "male"
          ],
          [
           "male"
          ],
          [
           "female"
          ],
          [
           "female"
          ],
          [
           "male"
          ],
          [
           "female"
          ],
          [
           "male"
          ],
          [
           "male"
          ],
          [
           "female"
          ],
          [
           "female"
          ],
          [
           "female"
          ],
          [
           "male"
          ],
          [
           "male"
          ],
          [
           "male"
          ],
          [
           "male"
          ],
          [
           "female"
          ],
          [
           "female"
          ],
          [
           "male"
          ],
          [
           "male"
          ],
          [
           "male"
          ],
          [
           "male"
          ],
          [
           "male"
          ],
          [
           "female"
          ],
          [
           "female"
          ],
          [
           "female"
          ],
          [
           "female"
          ],
          [
           "male"
          ],
          [
           "female"
          ],
          [
           "male"
          ],
          [
           "female"
          ],
          [
           "male"
          ],
          [
           "male"
          ],
          [
           "male"
          ],
          [
           "male"
          ],
          [
           "female"
          ],
          [
           "male"
          ],
          [
           "female"
          ],
          [
           "male"
          ],
          [
           "female"
          ],
          [
           "female"
          ],
          [
           "male"
          ],
          [
           "female"
          ],
          [
           "female"
          ],
          [
           "male"
          ],
          [
           "male"
          ],
          [
           "male"
          ],
          [
           "male"
          ],
          [
           "male"
          ],
          [
           "male"
          ],
          [
           "male"
          ],
          [
           "female"
          ],
          [
           "female"
          ],
          [
           "male"
          ],
          [
           "female"
          ],
          [
           "female"
          ],
          [
           "female"
          ],
          [
           "male"
          ],
          [
           "male"
          ],
          [
           "female"
          ],
          [
           "female"
          ],
          [
           "female"
          ],
          [
           "female"
          ],
          [
           "male"
          ],
          [
           "female"
          ],
          [
           "female"
          ],
          [
           "female"
          ],
          [
           "male"
          ],
          [
           "male"
          ],
          [
           "male"
          ],
          [
           "male"
          ],
          [
           "male"
          ],
          [
           "female"
          ],
          [
           "female"
          ],
          [
           "male"
          ],
          [
           "female"
          ],
          [
           "female"
          ],
          [
           "male"
          ],
          [
           "male"
          ],
          [
           "female"
          ],
          [
           "female"
          ],
          [
           "female"
          ],
          [
           "male"
          ],
          [
           "male"
          ],
          [
           "female"
          ],
          [
           "male"
          ],
          [
           "female"
          ],
          [
           "female"
          ],
          [
           "male"
          ],
          [
           "female"
          ],
          [
           "male"
          ],
          [
           "male"
          ],
          [
           "male"
          ],
          [
           "female"
          ],
          [
           "female"
          ],
          [
           "male"
          ],
          [
           "male"
          ],
          [
           "male"
          ],
          [
           "male"
          ],
          [
           "male"
          ],
          [
           "male"
          ],
          [
           "male"
          ],
          [
           "female"
          ],
          [
           "male"
          ],
          [
           "female"
          ],
          [
           "female"
          ],
          [
           "female"
          ],
          [
           "female"
          ],
          [
           "female"
          ],
          [
           "female"
          ],
          [
           "female"
          ],
          [
           "male"
          ],
          [
           "male"
          ],
          [
           "female"
          ],
          [
           "male"
          ],
          [
           "male"
          ],
          [
           "male"
          ],
          [
           "male"
          ],
          [
           "female"
          ],
          [
           "female"
          ],
          [
           "female"
          ],
          [
           "male"
          ],
          [
           "female"
          ],
          [
           "female"
          ],
          [
           "female"
          ],
          [
           "male"
          ],
          [
           "male"
          ],
          [
           "female"
          ],
          [
           "female"
          ],
          [
           "male"
          ],
          [
           "female"
          ],
          [
           "male"
          ],
          [
           "female"
          ],
          [
           "female"
          ],
          [
           "male"
          ],
          [
           "male"
          ],
          [
           "male"
          ],
          [
           "male"
          ],
          [
           "female"
          ],
          [
           "female"
          ],
          [
           "male"
          ],
          [
           "male"
          ],
          [
           "female"
          ],
          [
           "female"
          ],
          [
           "female"
          ],
          [
           "male"
          ],
          [
           "female"
          ],
          [
           "female"
          ],
          [
           "female"
          ],
          [
           "female"
          ],
          [
           "female"
          ],
          [
           "female"
          ],
          [
           "female"
          ],
          [
           "male"
          ],
          [
           "male"
          ],
          [
           "female"
          ],
          [
           "male"
          ],
          [
           "male"
          ],
          [
           "male"
          ],
          [
           "female"
          ],
          [
           "male"
          ],
          [
           "female"
          ],
          [
           "male"
          ],
          [
           "female"
          ],
          [
           "female"
          ],
          [
           "female"
          ],
          [
           "male"
          ],
          [
           "male"
          ],
          [
           "male"
          ],
          [
           "female"
          ],
          [
           "female"
          ],
          [
           "female"
          ],
          [
           "male"
          ],
          [
           "female"
          ],
          [
           "female"
          ],
          [
           "male"
          ],
          [
           "female"
          ],
          [
           "female"
          ],
          [
           "female"
          ],
          [
           "female"
          ],
          [
           "male"
          ],
          [
           "female"
          ],
          [
           "female"
          ],
          [
           "female"
          ],
          [
           "female"
          ],
          [
           "female"
          ],
          [
           "female"
          ],
          [
           "female"
          ],
          [
           "male"
          ],
          [
           "female"
          ],
          [
           "male"
          ],
          [
           "female"
          ],
          [
           "male"
          ],
          [
           "male"
          ],
          [
           "male"
          ],
          [
           "male"
          ],
          [
           "male"
          ],
          [
           "female"
          ],
          [
           "male"
          ],
          [
           "male"
          ],
          [
           "male"
          ],
          [
           "female"
          ],
          [
           "female"
          ],
          [
           "male"
          ],
          [
           "male"
          ],
          [
           "male"
          ],
          [
           "female"
          ],
          [
           "male"
          ],
          [
           "male"
          ],
          [
           "male"
          ],
          [
           "female"
          ],
          [
           "male"
          ],
          [
           "female"
          ],
          [
           "female"
          ],
          [
           "female"
          ],
          [
           "female"
          ],
          [
           "female"
          ],
          [
           "female"
          ],
          [
           "female"
          ],
          [
           "male"
          ],
          [
           "female"
          ],
          [
           "female"
          ],
          [
           "male"
          ],
          [
           "female"
          ],
          [
           "female"
          ],
          [
           "male"
          ],
          [
           "male"
          ],
          [
           "female"
          ],
          [
           "male"
          ],
          [
           "female"
          ],
          [
           "male"
          ],
          [
           "female"
          ],
          [
           "male"
          ],
          [
           "female"
          ],
          [
           "male"
          ],
          [
           "female"
          ],
          [
           "female"
          ],
          [
           "male"
          ],
          [
           "male"
          ],
          [
           "female"
          ],
          [
           "male"
          ],
          [
           "male"
          ],
          [
           "male"
          ],
          [
           "female"
          ],
          [
           "male"
          ],
          [
           "male"
          ],
          [
           "male"
          ],
          [
           "male"
          ],
          [
           "female"
          ],
          [
           "female"
          ],
          [
           "female"
          ],
          [
           "male"
          ],
          [
           "female"
          ],
          [
           "female"
          ],
          [
           "female"
          ],
          [
           "male"
          ],
          [
           "female"
          ],
          [
           "female"
          ],
          [
           "female"
          ],
          [
           "male"
          ],
          [
           "female"
          ],
          [
           "female"
          ],
          [
           "male"
          ],
          [
           "female"
          ],
          [
           "female"
          ],
          [
           "male"
          ],
          [
           "female"
          ],
          [
           "male"
          ],
          [
           "female"
          ],
          [
           "male"
          ],
          [
           "female"
          ],
          [
           "female"
          ],
          [
           "female"
          ],
          [
           "male"
          ],
          [
           "male"
          ],
          [
           "male"
          ],
          [
           "female"
          ],
          [
           "male"
          ],
          [
           "female"
          ],
          [
           "female"
          ],
          [
           "male"
          ],
          [
           "female"
          ],
          [
           "female"
          ],
          [
           "female"
          ],
          [
           "female"
          ],
          [
           "male"
          ],
          [
           "male"
          ],
          [
           "female"
          ],
          [
           "male"
          ],
          [
           "female"
          ],
          [
           "male"
          ],
          [
           "male"
          ],
          [
           "female"
          ],
          [
           "male"
          ],
          [
           "male"
          ],
          [
           "male"
          ],
          [
           "female"
          ],
          [
           "male"
          ],
          [
           "male"
          ],
          [
           "female"
          ],
          [
           "male"
          ],
          [
           "female"
          ],
          [
           "male"
          ],
          [
           "male"
          ],
          [
           "female"
          ],
          [
           "female"
          ],
          [
           "male"
          ],
          [
           "female"
          ],
          [
           "female"
          ],
          [
           "female"
          ],
          [
           "male"
          ],
          [
           "female"
          ],
          [
           "female"
          ],
          [
           "male"
          ],
          [
           "male"
          ],
          [
           "male"
          ],
          [
           "male"
          ],
          [
           "male"
          ],
          [
           "male"
          ],
          [
           "male"
          ],
          [
           "male"
          ],
          [
           "female"
          ],
          [
           "female"
          ],
          [
           "male"
          ],
          [
           "male"
          ],
          [
           "male"
          ],
          [
           "female"
          ],
          [
           "female"
          ],
          [
           "male"
          ],
          [
           "female"
          ],
          [
           "female"
          ],
          [
           "male"
          ],
          [
           "female"
          ],
          [
           "female"
          ],
          [
           "female"
          ],
          [
           "female"
          ],
          [
           "male"
          ],
          [
           "male"
          ],
          [
           "female"
          ],
          [
           "female"
          ],
          [
           "female"
          ],
          [
           "male"
          ],
          [
           "male"
          ],
          [
           "female"
          ],
          [
           "female"
          ],
          [
           "male"
          ],
          [
           "male"
          ],
          [
           "male"
          ],
          [
           "female"
          ],
          [
           "female"
          ],
          [
           "male"
          ],
          [
           "male"
          ],
          [
           "male"
          ],
          [
           "female"
          ],
          [
           "female"
          ],
          [
           "male"
          ],
          [
           "female"
          ],
          [
           "male"
          ],
          [
           "male"
          ],
          [
           "female"
          ],
          [
           "female"
          ],
          [
           "male"
          ],
          [
           "male"
          ],
          [
           "male"
          ],
          [
           "male"
          ],
          [
           "female"
          ],
          [
           "female"
          ],
          [
           "female"
          ],
          [
           "male"
          ],
          [
           "male"
          ],
          [
           "male"
          ],
          [
           "female"
          ],
          [
           "male"
          ],
          [
           "female"
          ],
          [
           "male"
          ],
          [
           "male"
          ],
          [
           "female"
          ],
          [
           "female"
          ],
          [
           "female"
          ],
          [
           "male"
          ],
          [
           "female"
          ],
          [
           "female"
          ],
          [
           "female"
          ],
          [
           "male"
          ],
          [
           "male"
          ],
          [
           "male"
          ],
          [
           "male"
          ],
          [
           "male"
          ],
          [
           "female"
          ],
          [
           "male"
          ],
          [
           "female"
          ],
          [
           "male"
          ],
          [
           "male"
          ],
          [
           "male"
          ],
          [
           "female"
          ],
          [
           "female"
          ],
          [
           "male"
          ],
          [
           "male"
          ],
          [
           "female"
          ],
          [
           "male"
          ],
          [
           "male"
          ],
          [
           "female"
          ],
          [
           "male"
          ],
          [
           "female"
          ],
          [
           "male"
          ],
          [
           "male"
          ],
          [
           "female"
          ],
          [
           "male"
          ],
          [
           "male"
          ],
          [
           "female"
          ],
          [
           "male"
          ],
          [
           "female"
          ],
          [
           "female"
          ],
          [
           "male"
          ],
          [
           "male"
          ],
          [
           "male"
          ],
          [
           "female"
          ],
          [
           "female"
          ],
          [
           "male"
          ],
          [
           "female"
          ],
          [
           "male"
          ],
          [
           "male"
          ],
          [
           "female"
          ],
          [
           "female"
          ],
          [
           "male"
          ],
          [
           "female"
          ],
          [
           "female"
          ],
          [
           "female"
          ],
          [
           "female"
          ],
          [
           "female"
          ],
          [
           "male"
          ],
          [
           "male"
          ],
          [
           "male"
          ],
          [
           "male"
          ],
          [
           "female"
          ],
          [
           "female"
          ],
          [
           "female"
          ],
          [
           "male"
          ],
          [
           "male"
          ],
          [
           "female"
          ],
          [
           "male"
          ],
          [
           "female"
          ],
          [
           "male"
          ],
          [
           "female"
          ],
          [
           "male"
          ],
          [
           "female"
          ],
          [
           "male"
          ],
          [
           "male"
          ],
          [
           "male"
          ],
          [
           "female"
          ],
          [
           "female"
          ],
          [
           "male"
          ],
          [
           "male"
          ],
          [
           "female"
          ],
          [
           "male"
          ],
          [
           "male"
          ],
          [
           "male"
          ],
          [
           "female"
          ],
          [
           "male"
          ],
          [
           "male"
          ],
          [
           "male"
          ],
          [
           "female"
          ],
          [
           "female"
          ],
          [
           "female"
          ],
          [
           "male"
          ],
          [
           "male"
          ],
          [
           "male"
          ],
          [
           "male"
          ],
          [
           "male"
          ],
          [
           "female"
          ],
          [
           "female"
          ],
          [
           "female"
          ],
          [
           "female"
          ],
          [
           "female"
          ],
          [
           "male"
          ],
          [
           "male"
          ],
          [
           "male"
          ],
          [
           "female"
          ],
          [
           "female"
          ],
          [
           "male"
          ],
          [
           "male"
          ],
          [
           "female"
          ],
          [
           "male"
          ],
          [
           "female"
          ],
          [
           "male"
          ],
          [
           "female"
          ],
          [
           "male"
          ],
          [
           "female"
          ],
          [
           "female"
          ],
          [
           "female"
          ],
          [
           "male"
          ],
          [
           "female"
          ],
          [
           "female"
          ],
          [
           "female"
          ],
          [
           "female"
          ],
          [
           "female"
          ],
          [
           "male"
          ],
          [
           "male"
          ],
          [
           "male"
          ],
          [
           "male"
          ],
          [
           "male"
          ],
          [
           "male"
          ],
          [
           "male"
          ],
          [
           "female"
          ],
          [
           "female"
          ],
          [
           "male"
          ],
          [
           "female"
          ],
          [
           "male"
          ],
          [
           "female"
          ],
          [
           "female"
          ],
          [
           "female"
          ],
          [
           "female"
          ],
          [
           "male"
          ],
          [
           "male"
          ],
          [
           "female"
          ],
          [
           "female"
          ],
          [
           "male"
          ],
          [
           "male"
          ],
          [
           "female"
          ],
          [
           "female"
          ],
          [
           "male"
          ],
          [
           "female"
          ],
          [
           "male"
          ],
          [
           "male"
          ],
          [
           "male"
          ],
          [
           "female"
          ],
          [
           "male"
          ],
          [
           "female"
          ],
          [
           "female"
          ],
          [
           "female"
          ],
          [
           "male"
          ],
          [
           "male"
          ],
          [
           "female"
          ],
          [
           "male"
          ],
          [
           "female"
          ],
          [
           "female"
          ],
          [
           "female"
          ],
          [
           "male"
          ],
          [
           "male"
          ],
          [
           "male"
          ],
          [
           "male"
          ],
          [
           "female"
          ],
          [
           "female"
          ],
          [
           "male"
          ],
          [
           "male"
          ],
          [
           "male"
          ],
          [
           "female"
          ],
          [
           "male"
          ],
          [
           "male"
          ],
          [
           "female"
          ],
          [
           "female"
          ],
          [
           "female"
          ],
          [
           "female"
          ],
          [
           "male"
          ],
          [
           "male"
          ],
          [
           "male"
          ],
          [
           "male"
          ],
          [
           "male"
          ],
          [
           "male"
          ],
          [
           "female"
          ],
          [
           "male"
          ],
          [
           "male"
          ],
          [
           "male"
          ],
          [
           "male"
          ],
          [
           "female"
          ],
          [
           "male"
          ],
          [
           "female"
          ],
          [
           "female"
          ],
          [
           "male"
          ],
          [
           "female"
          ],
          [
           "female"
          ],
          [
           "male"
          ],
          [
           "male"
          ],
          [
           "male"
          ],
          [
           "male"
          ],
          [
           "female"
          ],
          [
           "female"
          ],
          [
           "female"
          ],
          [
           "male"
          ],
          [
           "male"
          ],
          [
           "female"
          ],
          [
           "female"
          ],
          [
           "male"
          ],
          [
           "male"
          ],
          [
           "male"
          ],
          [
           "female"
          ],
          [
           "male"
          ],
          [
           "female"
          ],
          [
           "female"
          ],
          [
           "male"
          ],
          [
           "female"
          ],
          [
           "male"
          ],
          [
           "female"
          ],
          [
           "female"
          ],
          [
           "male"
          ],
          [
           "male"
          ],
          [
           "female"
          ],
          [
           "male"
          ],
          [
           "female"
          ],
          [
           "female"
          ],
          [
           "female"
          ],
          [
           "male"
          ],
          [
           "male"
          ],
          [
           "female"
          ],
          [
           "female"
          ],
          [
           "male"
          ],
          [
           "male"
          ],
          [
           "male"
          ],
          [
           "female"
          ],
          [
           "male"
          ],
          [
           "male"
          ],
          [
           "female"
          ],
          [
           "female"
          ],
          [
           "female"
          ],
          [
           "female"
          ],
          [
           "female"
          ],
          [
           "female"
          ],
          [
           "female"
          ],
          [
           "female"
          ],
          [
           "female"
          ],
          [
           "male"
          ],
          [
           "male"
          ],
          [
           "female"
          ],
          [
           "female"
          ],
          [
           "female"
          ],
          [
           "male"
          ],
          [
           "female"
          ],
          [
           "male"
          ],
          [
           "female"
          ],
          [
           "female"
          ],
          [
           "male"
          ],
          [
           "male"
          ],
          [
           "female"
          ],
          [
           "female"
          ],
          [
           "female"
          ],
          [
           "female"
          ],
          [
           "female"
          ],
          [
           "female"
          ],
          [
           "female"
          ],
          [
           "male"
          ],
          [
           "female"
          ],
          [
           "female"
          ],
          [
           "female"
          ],
          [
           "female"
          ],
          [
           "female"
          ],
          [
           "female"
          ],
          [
           "female"
          ],
          [
           "female"
          ],
          [
           "male"
          ],
          [
           "male"
          ],
          [
           "female"
          ],
          [
           "male"
          ],
          [
           "male"
          ],
          [
           "male"
          ],
          [
           "male"
          ],
          [
           "male"
          ],
          [
           "female"
          ],
          [
           "male"
          ],
          [
           "male"
          ],
          [
           "male"
          ],
          [
           "male"
          ],
          [
           "female"
          ],
          [
           "female"
          ],
          [
           "male"
          ],
          [
           "male"
          ],
          [
           "male"
          ],
          [
           "female"
          ],
          [
           "female"
          ],
          [
           "male"
          ],
          [
           "male"
          ],
          [
           "male"
          ],
          [
           "female"
          ],
          [
           "male"
          ],
          [
           "male"
          ],
          [
           "male"
          ],
          [
           "male"
          ],
          [
           "female"
          ],
          [
           "male"
          ],
          [
           "female"
          ],
          [
           "male"
          ],
          [
           "female"
          ],
          [
           "female"
          ],
          [
           "male"
          ],
          [
           "female"
          ],
          [
           "female"
          ],
          [
           "female"
          ],
          [
           "male"
          ],
          [
           "male"
          ],
          [
           "female"
          ],
          [
           "male"
          ],
          [
           "female"
          ],
          [
           "male"
          ],
          [
           "female"
          ],
          [
           "female"
          ],
          [
           "female"
          ],
          [
           "female"
          ],
          [
           "female"
          ],
          [
           "male"
          ],
          [
           "female"
          ],
          [
           "female"
          ],
          [
           "male"
          ],
          [
           "female"
          ],
          [
           "female"
          ],
          [
           "female"
          ],
          [
           "female"
          ],
          [
           "female"
          ],
          [
           "male"
          ],
          [
           "male"
          ],
          [
           "female"
          ],
          [
           "male"
          ],
          [
           "male"
          ],
          [
           "male"
          ],
          [
           "female"
          ],
          [
           "female"
          ],
          [
           "female"
          ],
          [
           "female"
          ],
          [
           "male"
          ],
          [
           "female"
          ],
          [
           "female"
          ],
          [
           "female"
          ],
          [
           "male"
          ],
          [
           "female"
          ],
          [
           "male"
          ],
          [
           "male"
          ],
          [
           "male"
          ],
          [
           "male"
          ],
          [
           "male"
          ],
          [
           "female"
          ],
          [
           "male"
          ],
          [
           "female"
          ],
          [
           "female"
          ],
          [
           "female"
          ],
          [
           "male"
          ],
          [
           "male"
          ],
          [
           "female"
          ],
          [
           "male"
          ],
          [
           "male"
          ],
          [
           "female"
          ],
          [
           "male"
          ],
          [
           "male"
          ],
          [
           "female"
          ],
          [
           "male"
          ],
          [
           "male"
          ],
          [
           "male"
          ],
          [
           "male"
          ],
          [
           "female"
          ],
          [
           "male"
          ],
          [
           "female"
          ],
          [
           "male"
          ],
          [
           "female"
          ],
          [
           "female"
          ],
          [
           "female"
          ],
          [
           "male"
          ],
          [
           "female"
          ],
          [
           "female"
          ],
          [
           "female"
          ]
         ],
         "hovertemplate": "smoker=no<br>bmi=%{x}<br>charges=%{y}<br>sex=%{customdata[0]}<extra></extra>",
         "legendgroup": "no",
         "marker": {
          "color": "#EF553B",
          "opacity": 0.8,
          "size": 5,
          "symbol": "circle"
         },
         "mode": "markers",
         "name": "no",
         "showlegend": true,
         "type": "scattergl",
         "x": [
          33.77,
          33,
          22.705,
          28.88,
          25.74,
          33.44,
          27.74,
          29.83,
          25.84,
          26.22,
          34.4,
          39.82,
          24.6,
          30.78,
          23.845,
          40.3,
          36.005,
          32.4,
          34.1,
          28.025,
          27.72,
          23.085,
          32.775,
          17.385,
          26.315,
          28.6,
          28.31,
          20.425,
          32.965,
          20.8,
          26.6,
          36.63,
          21.78,
          30.8,
          37.05,
          37.3,
          38.665,
          34.77,
          24.53,
          35.625,
          33.63,
          28.69,
          31.825,
          37.335,
          27.36,
          33.66,
          24.7,
          25.935,
          28.9,
          39.1,
          26.315,
          36.19,
          28.5,
          28.1,
          32.01,
          27.4,
          34.01,
          29.59,
          35.53,
          39.805,
          32.965,
          26.885,
          38.285,
          41.23,
          27.2,
          27.74,
          26.98,
          39.49,
          24.795,
          34.77,
          37.62,
          30.8,
          38.28,
          31.6,
          25.46,
          30.115,
          27.5,
          28.4,
          30.875,
          27.94,
          33.63,
          29.7,
          30.8,
          35.72,
          32.205,
          28.595,
          49.06,
          27.17,
          23.37,
          37.1,
          23.75,
          28.975,
          33.915,
          28.785,
          37.4,
          34.7,
          26.505,
          22.04,
          35.9,
          25.555,
          28.785,
          28.05,
          34.1,
          25.175,
          31.9,
          36,
          22.42,
          32.49,
          29.735,
          38.83,
          37.73,
          37.43,
          28.4,
          24.13,
          29.7,
          37.145,
          25.46,
          39.52,
          27.83,
          39.6,
          29.8,
          29.64,
          28.215,
          37,
          33.155,
          31.825,
          18.905,
          41.47,
          30.3,
          15.96,
          34.8,
          33.345,
          27.835,
          29.2,
          28.9,
          33.155,
          28.595,
          38.28,
          19.95,
          26.41,
          30.69,
          29.92,
          30.9,
          32.2,
          32.11,
          31.57,
          26.2,
          25.74,
          26.6,
          34.43,
          30.59,
          32.8,
          28.6,
          18.05,
          39.33,
          32.11,
          32.23,
          24.035,
          22.3,
          28.88,
          26.4,
          31.8,
          41.23,
          33,
          30.875,
          28.5,
          26.73,
          30.9,
          37.1,
          26.6,
          23.1,
          29.92,
          23.21,
          33.7,
          33.25,
          30.8,
          33.88,
          38.06,
          41.91,
          31.635,
          25.46,
          36.195,
          27.83,
          17.8,
          27.5,
          24.51,
          26.73,
          38.39,
          38.06,
          22.135,
          26.8,
          35.3,
          30.02,
          38.06,
          35.86,
          20.9,
          28.975,
          30.3,
          25.365,
          40.15,
          24.415,
          25.2,
          38.06,
          32.395,
          30.2,
          25.84,
          29.37,
          37.05,
          27.455,
          27.55,
          26.6,
          20.615,
          24.3,
          31.79,
          21.56,
          27.645,
          32.395,
          31.2,
          26.62,
          48.07,
          26.22,
          26.4,
          33.4,
          29.64,
          28.82,
          26.8,
          22.99,
          28.88,
          27.55,
          37.51,
          33,
          38,
          33.345,
          27.5,
          33.33,
          34.865,
          33.06,
          26.6,
          24.7,
          35.86,
          33.25,
          32.205,
          32.775,
          27.645,
          37.335,
          25.27,
          29.64,
          40.945,
          27.2,
          34.105,
          23.21,
          36.7,
          31.16,
          28.785,
          35.72,
          34.5,
          25.74,
          27.55,
          27.72,
          27.6,
          30.02,
          27.55,
          36.765,
          41.47,
          29.26,
          35.75,
          33.345,
          29.92,
          27.835,
          23.18,
          25.6,
          27.7,
          35.245,
          38.28,
          27.6,
          43.89,
          29.83,
          41.91,
          20.79,
          32.3,
          30.5,
          26.4,
          21.89,
          30.78,
          32.3,
          24.985,
          32.015,
          30.4,
          21.09,
          22.23,
          33.155,
          33.33,
          30.115,
          31.46,
          33,
          43.34,
          22.135,
          34.4,
          39.05,
          25.365,
          22.61,
          30.21,
          35.625,
          37.43,
          31.445,
          31.35,
          32.3,
          19.855,
          34.4,
          31.02,
          25.6,
          38.17,
          20.6,
          47.52,
          32.965,
          32.3,
          20.4,
          38.38,
          24.31,
          23.6,
          21.12,
          30.03,
          17.48,
          23.9,
          35.15,
          35.64,
          34.1,
          39.16,
          30.59,
          30.2,
          24.31,
          27.265,
          29.165,
          16.815,
          30.4,
          33.1,
          20.235,
          26.9,
          30.5,
          28.595,
          33.11,
          31.73,
          28.9,
          46.75,
          29.45,
          32.68,
          43.01,
          36.52,
          33.1,
          29.64,
          25.65,
          29.6,
          38.6,
          29.6,
          24.13,
          23.4,
          29.735,
          46.53,
          37.4,
          30.14,
          30.495,
          39.6,
          33,
          36.63,
          38.095,
          25.935,
          25.175,
          28.7,
          33.82,
          24.32,
          24.09,
          32.67,
          30.115,
          29.8,
          33.345,
          35.625,
          36.85,
          32.56,
          41.325,
          37.51,
          31.35,
          39.5,
          34.3,
          31.065,
          21.47,
          28.7,
          31.16,
          32.9,
          25.08,
          25.08,
          43.4,
          27.93,
          23.6,
          28.7,
          23.98,
          39.2,
          26.03,
          28.93,
          30.875,
          31.35,
          23.75,
          25.27,
          28.7,
          32.11,
          33.66,
          22.42,
          30.4,
          35.7,
          35.31,
          30.495,
          31,
          30.875,
          27.36,
          44.22,
          33.915,
          37.73,
          33.88,
          30.59,
          25.8,
          39.425,
          25.46,
          31.73,
          29.7,
          36.19,
          40.48,
          28.025,
          38.9,
          30.2,
          28.05,
          31.35,
          38,
          31.79,
          36.3,
          30.21,
          35.435,
          46.7,
          28.595,
          30.8,
          28.93,
          21.4,
          31.73,
          41.325,
          23.8,
          33.44,
          34.21,
          35.53,
          19.95,
          32.68,
          30.5,
          44.77,
          32.12,
          30.495,
          40.565,
          30.59,
          31.9,
          29.1,
          37.29,
          43.12,
          36.86,
          34.295,
          27.17,
          26.84,
          30.2,
          23.465,
          25.46,
          30.59,
          45.43,
          23.65,
          20.7,
          28.27,
          20.235,
          35.91,
          30.69,
          29,
          19.57,
          31.13,
          40.26,
          33.725,
          29.48,
          33.25,
          32.6,
          37.525,
          39.16,
          31.635,
          25.3,
          39.05,
          34.1,
          25.175,
          26.98,
          29.37,
          34.8,
          33.155,
          19,
          33,
          28.595,
          37.1,
          31.4,
          21.3,
          28.785,
          26.03,
          28.88,
          42.46,
          38,
          36.1,
          29.3,
          35.53,
          22.705,
          39.7,
          38.19,
          24.51,
          38.095,
          33.66,
          42.4,
          33.915,
          34.96,
          35.31,
          30.78,
          26.22,
          23.37,
          28.5,
          32.965,
          42.68,
          39.6,
          31.13,
          36.3,
          35.2,
          42.4,
          33.155,
          35.91,
          28.785,
          46.53,
          23.98,
          31.54,
          33.66,
          28.7,
          29.81,
          31.57,
          31.16,
          29.7,
          31.02,
          21.375,
          40.81,
          36.1,
          23.18,
          17.4,
          20.3,
          24.32,
          18.5,
          26.41,
          26.125,
          41.69,
          24.1,
          27.36,
          36.2,
          32.395,
          23.655,
          34.8,
          40.185,
          32.3,
          33.725,
          39.27,
          34.87,
          44.745,
          41.47,
          26.41,
          29.545,
          32.9,
          28.69,
          30.495,
          27.74,
          35.2,
          23.54,
          30.685,
          40.47,
          22.6,
          28.9,
          22.61,
          24.32,
          36.67,
          33.44,
          40.66,
          36.6,
          37.4,
          35.4,
          27.075,
          28.405,
          40.28,
          36.08,
          21.4,
          30.1,
          27.265,
          32.1,
          34.77,
          23.7,
          24.035,
          26.62,
          26.41,
          30.115,
          27,
          21.755,
          36,
          30.875,
          28.975,
          37.905,
          22.77,
          33.63,
          27.645,
          22.8,
          37.43,
          34.58,
          35.2,
          26.03,
          25.175,
          31.825,
          32.3,
          29,
          39.7,
          19.475,
          36.1,
          26.7,
          36.48,
          34.2,
          33.33,
          32.3,
          39.805,
          34.32,
          28.88,
          41.14,
          35.97,
          29.26,
          27.7,
          36.955,
          36.86,
          22.515,
          29.92,
          41.8,
          27.6,
          23.18,
          31.92,
          44.22,
          22.895,
          33.1,
          26.18,
          35.97,
          22.3,
          26.51,
          35.815,
          41.42,
          36.575,
          30.14,
          25.84,
          30.8,
          42.94,
          21.01,
          22.515,
          34.43,
          31.46,
          24.225,
          37.1,
          33.7,
          17.67,
          31.13,
          29.81,
          24.32,
          31.825,
          21.85,
          33.1,
          25.84,
          23.845,
          34.39,
          33.82,
          35.97,
          31.5,
          28.31,
          23.465,
          31.35,
          31.1,
          24.7,
          30.495,
          34.2,
          50.38,
          24.1,
          32.775,
          32.3,
          23.75,
          29.6,
          32.23,
          28.1,
          28,
          33.535,
          19.855,
          25.4,
          29.9,
          37.29,
          43.7,
          23.655,
          24.3,
          36.2,
          29.48,
          24.86,
          30.1,
          21.85,
          28.12,
          27.1,
          33.44,
          28.8,
          29.5,
          34.8,
          27.36,
          22.135,
          26.695,
          30.02,
          39.5,
          33.63,
          29.04,
          24.035,
          32.11,
          44,
          25.555,
          40.26,
          22.515,
          22.515,
          27.265,
          36.85,
          35.1,
          29.355,
          32.585,
          32.34,
          39.8,
          28.31,
          26.695,
          27.5,
          24.605,
          33.99,
          28.2,
          34.21,
          25,
          33.2,
          31,
          35.815,
          23.2,
          32.11,
          23.4,
          20.1,
          39.16,
          34.21,
          46.53,
          32.5,
          25.8,
          35.3,
          37.18,
          27.5,
          29.735,
          24.225,
          26.18,
          29.48,
          23.21,
          46.09,
          40.185,
          22.61,
          39.93,
          35.8,
          35.8,
          31.255,
          18.335,
          28.405,
          39.49,
          26.79,
          36.67,
          39.615,
          25.9,
          35.2,
          24.795,
          36.765,
          27.1,
          25.365,
          25.745,
          34.32,
          28.16,
          23.56,
          20.235,
          40.5,
          35.42,
          40.15,
          29.15,
          39.995,
          29.92,
          25.46,
          21.375,
          30.59,
          30.115,
          25.8,
          30.115,
          27.645,
          34.675,
          19.8,
          27.835,
          31.6,
          28.27,
          23.275,
          34.1,
          36.85,
          36.29,
          26.885,
          25.8,
          29.6,
          19.19,
          31.73,
          29.26,
          24.985,
          27.74,
          22.8,
          33.33,
          32.3,
          27.6,
          25.46,
          24.605,
          34.2,
          35.815,
          32.68,
          37,
          23.32,
          45.32,
          34.6,
          18.715,
          31.6,
          17.29,
          27.93,
          38.38,
          23,
          28.88,
          27.265,
          23.085,
          25.8,
          35.245,
          25.08,
          22.515,
          36.955,
          26.41,
          29.83,
          21.47,
          27.645,
          28.9,
          31.79,
          39.49,
          33.82,
          32.01,
          27.94,
          28.595,
          25.6,
          25.3,
          37.29,
          42.655,
          21.66,
          31.9,
          31.445,
          31.255,
          28.88,
          18.335,
          29.59,
          32,
          26.03,
          33.66,
          21.78,
          27.835,
          19.95,
          31.5,
          30.495,
          28.975,
          31.54,
          47.74,
          22.1,
          29.83,
          32.7,
          33.7,
          31.35,
          33.77,
          30.875,
          33.99,
          28.6,
          38.94,
          36.08,
          29.8,
          31.24,
          29.925,
          26.22,
          30,
          20.35,
          32.3,
          26.315,
          24.51,
          32.67,
          29.64,
          19.95,
          38.17,
          32.395,
          25.08,
          29.9,
          35.86,
          32.8,
          18.6,
          23.87,
          45.9,
          40.28,
          18.335,
          33.82,
          28.12,
          25,
          22.23,
          30.25,
          37.07,
          32.6,
          24.86,
          32.34,
          32.3,
          32.775,
          31.92,
          21.5,
          34.1,
          30.305,
          36.48,
          35.815,
          27.93,
          22.135,
          23.18,
          30.59,
          41.1,
          34.58,
          42.13,
          38.83,
          28.215,
          28.31,
          26.125,
          40.37,
          24.6,
          35.2,
          34.105,
          41.91,
          29.26,
          32.11,
          27.1,
          27.4,
          34.865,
          41.325,
          29.925,
          30.3,
          27.36,
          23.56,
          32.68,
          28,
          32.775,
          21.755,
          32.395,
          36.575,
          21.755,
          27.93,
          33.55,
          29.355,
          25.8,
          24.32,
          40.375,
          32.11,
          32.3,
          17.86,
          34.8,
          37.1,
          30.875,
          34.1,
          21.47,
          33.3,
          31.255,
          39.14,
          25.08,
          37.29,
          30.21,
          21.945,
          24.97,
          25.3,
          23.94,
          39.82,
          16.815,
          37.18,
          34.43,
          30.305,
          24.605,
          23.3,
          27.83,
          31.065,
          21.66,
          28.215,
          22.705,
          42.13,
          21.28,
          33.11,
          33.33,
          24.3,
          25.7,
          29.4,
          39.82,
          19.8,
          29.3,
          27.72,
          37.9,
          36.385,
          27.645,
          37.715,
          23.18,
          20.52,
          37.1,
          28.05,
          29.9,
          33.345,
          30.5,
          33.3,
          27.5,
          33.915,
          34.485,
          25.52,
          27.61,
          23.7,
          30.4,
          29.735,
          26.79,
          33.33,
          30.03,
          24.32,
          17.29,
          25.9,
          34.32,
          19.95,
          23.21,
          25.745,
          25.175,
          22,
          26.125,
          26.51,
          27.455,
          25.745,
          20.8,
          27.72,
          32.2,
          26.315,
          26.695,
          42.9,
          28.31,
          20.6,
          53.13,
          39.71,
          26.315,
          31.065,
          38.83,
          25.935,
          33.535,
          32.87,
          30.03,
          24.225,
          38.6,
          25.74,
          33.4,
          44.7,
          30.97,
          31.92,
          36.85,
          25.8
         ],
         "xaxis": "x",
         "y": [
          1725.5523,
          4449.462,
          21984.47061,
          3866.8552,
          3756.6216,
          8240.5896,
          7281.5056,
          6406.4107,
          28923.13692,
          2721.3208,
          1826.843,
          11090.7178,
          1837.237,
          10797.3362,
          2395.17155,
          10602.385,
          13228.84695,
          4149.736,
          1137.011,
          6203.90175,
          14001.1338,
          14451.83515,
          12268.63225,
          2775.19215,
          2198.18985,
          4687.797,
          13770.0979,
          1625.43375,
          15612.19335,
          2302.3,
          3046.062,
          4949.7587,
          6272.4772,
          6313.759,
          6079.6715,
          20630.28351,
          3393.35635,
          3556.9223,
          12629.8967,
          2211.13075,
          3579.8287,
          8059.6791,
          13607.36875,
          5989.52365,
          8606.2174,
          4504.6624,
          30166.61817,
          4133.64165,
          1743.214,
          14235.072,
          6389.37785,
          5920.1041,
          6799.458,
          11741.726,
          11946.6259,
          7726.854,
          11356.6609,
          3947.4131,
          1532.4697,
          2755.02095,
          6571.02435,
          4441.21315,
          7935.29115,
          11033.6617,
          11073.176,
          8026.6666,
          11082.5772,
          2026.9741,
          10942.13205,
          5729.0053,
          3766.8838,
          12105.32,
          10226.2842,
          6186.127,
          3645.0894,
          21344.8467,
          5003.853,
          2331.519,
          3877.30425,
          2867.1196,
          10825.2537,
          11881.358,
          4646.759,
          2404.7338,
          11488.31695,
          30259.99556,
          11381.3254,
          8601.3293,
          6686.4313,
          7740.337,
          1705.6245,
          2257.47525,
          10115.00885,
          3385.39915,
          9634.538,
          6082.405,
          12815.44495,
          13616.3586,
          11163.568,
          1632.56445,
          2457.21115,
          2155.6815,
          1261.442,
          2045.68525,
          27322.73386,
          2166.732,
          27375.90478,
          3490.5491,
          18157.876,
          5138.2567,
          9877.6077,
          10959.6947,
          1842.519,
          5125.2157,
          7789.635,
          6334.34355,
          7077.1894,
          6948.7008,
          19749.38338,
          10450.552,
          5152.134,
          5028.1466,
          10407.08585,
          4830.63,
          6128.79745,
          2719.27975,
          4827.90495,
          13405.3903,
          8116.68,
          1694.7964,
          5246.047,
          2855.43755,
          6455.86265,
          10436.096,
          8823.279,
          8538.28845,
          11735.87905,
          1631.8212,
          4005.4225,
          7419.4779,
          7731.4271,
          3981.9768,
          5325.651,
          6775.961,
          4922.9159,
          12557.6053,
          4883.866,
          2137.6536,
          12044.342,
          1137.4697,
          1639.5631,
          5649.715,
          8516.829,
          9644.2525,
          14901.5167,
          2130.6759,
          8871.1517,
          13012.20865,
          7147.105,
          4337.7352,
          11743.299,
          13880.949,
          6610.1097,
          1980.07,
          8162.71625,
          3537.703,
          5002.7827,
          8520.026,
          7371.772,
          10355.641,
          2483.736,
          3392.9768,
          25081.76784,
          5012.471,
          10564.8845,
          5253.524,
          11987.1682,
          2689.4954,
          24227.33724,
          7358.17565,
          9225.2564,
          7443.64305,
          14001.2867,
          1727.785,
          12333.828,
          6710.1919,
          1615.7667,
          4463.2051,
          7152.6714,
          5354.07465,
          35160.13457,
          7196.867,
          24476.47851,
          12648.7034,
          1986.9334,
          1832.094,
          4040.55825,
          4260.744,
          13047.33235,
          5400.9805,
          11520.09985,
          11837.16,
          20462.99766,
          14590.63205,
          7441.053,
          9282.4806,
          1719.4363,
          7265.7025,
          9617.66245,
          2523.1695,
          9715.841,
          2803.69785,
          2150.469,
          12928.7911,
          9855.1314,
          4237.12655,
          11879.10405,
          9625.92,
          7742.1098,
          9432.9253,
          14256.1928,
          25992.82104,
          3172.018,
          20277.80751,
          2156.7518,
          3906.127,
          1704.5681,
          9249.4952,
          6746.7425,
          12265.5069,
          4349.462,
          12646.207,
          19442.3535,
          20177.67113,
          4151.0287,
          11944.59435,
          7749.1564,
          8444.474,
          1737.376,
          8124.4084,
          9722.7695,
          8835.26495,
          10435.06525,
          7421.19455,
          4667.60765,
          4894.7533,
          24671.66334,
          11566.30055,
          2866.091,
          6600.20595,
          3561.8889,
          9144.565,
          13429.0354,
          11658.37915,
          19144.57652,
          13822.803,
          12142.5786,
          13937.6665,
          8232.6388,
          18955.22017,
          13352.0998,
          13217.0945,
          13981.85035,
          10977.2063,
          6184.2994,
          4889.9995,
          8334.45755,
          5478.0368,
          1635.73365,
          11830.6072,
          8932.084,
          3554.203,
          12404.8791,
          14133.03775,
          24603.04837,
          8944.1151,
          9620.3307,
          1837.2819,
          1607.5101,
          10043.249,
          4751.07,
          2597.779,
          3180.5101,
          9778.3472,
          13430.265,
          8017.06115,
          8116.26885,
          3481.868,
          13415.0381,
          12029.2867,
          7639.41745,
          1391.5287,
          16455.70785,
          27000.98473,
          20781.48892,
          5846.9176,
          8302.53565,
          1261.859,
          11856.4115,
          30284.64294,
          3176.8159,
          4618.0799,
          10736.87075,
          2138.0707,
          8964.06055,
          9290.1395,
          9411.005,
          7526.70645,
          8522.003,
          16586.49771,
          14988.432,
          1631.6683,
          9264.797,
          8083.9198,
          14692.66935,
          10269.46,
          3260.199,
          11396.9002,
          4185.0979,
          8539.671,
          6652.5288,
          4074.4537,
          1621.3402,
          5080.096,
          2134.9015,
          7345.7266,
          9140.951,
          14418.2804,
          2727.3951,
          8968.33,
          9788.8659,
          6555.07035,
          7323.734819,
          3167.45585,
          18804.7524,
          23082.95533,
          4906.40965,
          5969.723,
          12638.195,
          4243.59005,
          13919.8229,
          2254.7967,
          5926.846,
          12592.5345,
          2897.3235,
          4738.2682,
          1149.3959,
          28287.89766,
          7345.084,
          12730.9996,
          11454.0215,
          5910.944,
          4762.329,
          7512.267,
          4032.2407,
          1969.614,
          1769.53165,
          4686.3887,
          21797.0004,
          11881.9696,
          11840.77505,
          10601.412,
          7682.67,
          10381.4787,
          15230.32405,
          11165.41765,
          1632.03625,
          13224.693,
          12643.3778,
          23288.9284,
          2201.0971,
          2497.0383,
          2203.47185,
          1744.465,
          20878.78443,
          2534.39375,
          1534.3045,
          1824.2854,
          15555.18875,
          9304.7019,
          1622.1885,
          9880.068,
          9563.029,
          4347.02335,
          12475.3513,
          1253.936,
          10461.9794,
          1748.774,
          24513.09126,
          2196.4732,
          12574.049,
          1967.0227,
          4931.647,
          8027.968,
          8211.1002,
          13470.86,
          6837.3687,
          5974.3847,
          6796.86325,
          2643.2685,
          3077.0955,
          3044.2133,
          11455.28,
          11763.0009,
          2498.4144,
          9361.3268,
          1256.299,
          11362.755,
          27724.28875,
          8413.46305,
          5240.765,
          3857.75925,
          25656.57526,
          3994.1778,
          9866.30485,
          5397.6167,
          11482.63485,
          24059.68019,
          9861.025,
          8342.90875,
          1708.0014,
          14043.4767,
          12925.886,
          19214.70553,
          13831.1152,
          6067.12675,
          5972.378,
          8825.086,
          8233.0975,
          27346.04207,
          6196.448,
          3056.3881,
          13887.204,
          10231.4999,
          3268.84665,
          11538.421,
          3213.62205,
          13390.559,
          3972.9247,
          12957.118,
          11187.6567,
          17878.90068,
          3847.674,
          8334.5896,
          3935.1799,
          1646.4297,
          9193.8385,
          10923.9332,
          2494.022,
          9058.7303,
          2801.2588,
          2128.43105,
          6373.55735,
          7256.7231,
          11552.904,
          3761.292,
          2219.4451,
          4753.6368,
          31620.00106,
          13224.05705,
          12222.8983,
          1664.9996,
          9724.53,
          3206.49135,
          12913.9924,
          1639.5631,
          6356.2707,
          17626.23951,
          1242.816,
          4779.6023,
          3861.20965,
          13635.6379,
          5976.8311,
          11842.442,
          8428.0693,
          2566.4707,
          5709.1644,
          8823.98575,
          7640.3092,
          5594.8455,
          7441.501,
          33471.97189,
          1633.0444,
          9174.13565,
          11070.535,
          16085.1275,
          9283.562,
          3558.62025,
          4435.0942,
          8547.6913,
          6571.544,
          2207.69745,
          6753.038,
          1880.07,
          11658.11505,
          10713.644,
          3659.346,
          9182.17,
          12129.61415,
          3736.4647,
          6748.5912,
          11326.71487,
          11365.952,
          10085.846,
          1977.815,
          3366.6697,
          7173.35995,
          9391.346,
          14410.9321,
          2709.1119,
          24915.04626,
          12949.1554,
          6666.243,
          13143.86485,
          4466.6214,
          18806.14547,
          10141.1362,
          6123.5688,
          8252.2843,
          1712.227,
          12430.95335,
          9800.8882,
          10579.711,
          8280.6227,
          8527.532,
          12244.531,
          3410.324,
          4058.71245,
          26392.26029,
          14394.39815,
          6435.6237,
          22192.43711,
          5148.5526,
          1136.3994,
          8703.456,
          6500.2359,
          4837.5823,
          3943.5954,
          4399.731,
          6185.3208,
          7222.78625,
          12485.8009,
          12363.547,
          10156.7832,
          2585.269,
          1242.26,
          9863.4718,
          4766.022,
          11244.3769,
          7729.64575,
          5438.7491,
          26236.57997,
          2104.1134,
          8068.185,
          2362.22905,
          2352.96845,
          3577.999,
          3201.24515,
          29186.48236,
          10976.24575,
          3500.6123,
          2020.5523,
          9541.69555,
          9504.3103,
          5385.3379,
          8930.93455,
          5375.038,
          10264.4421,
          6113.23105,
          5469.0066,
          1727.54,
          10107.2206,
          8310.83915,
          1984.4533,
          2457.502,
          12146.971,
          9566.9909,
          13112.6048,
          10848.1343,
          12231.6136,
          9875.6804,
          11264.541,
          12979.358,
          1263.249,
          10106.13425,
          6664.68595,
          2217.6012,
          6781.3542,
          10065.413,
          4234.927,
          9447.25035,
          14007.222,
          9583.8933,
          3484.331,
          8604.48365,
          3757.8448,
          8827.2099,
          9910.35985,
          11737.84884,
          1627.28245,
          8556.907,
          3062.50825,
          1906.35825,
          14210.53595,
          11833.7823,
          17128.42608,
          5031.26955,
          7985.815,
          5428.7277,
          3925.7582,
          2416.955,
          3070.8087,
          9095.06825,
          11842.62375,
          8062.764,
          7050.642,
          14319.031,
          6933.24225,
          27941.28758,
          11150.78,
          12797.20962,
          7261.741,
          10560.4917,
          6986.697,
          7448.40395,
          5934.3798,
          9869.8102,
          1146.7966,
          9386.1613,
          4350.5144,
          6414.178,
          12741.16745,
          1917.3184,
          5209.57885,
          13457.9608,
          5662.225,
          1252.407,
          2731.9122,
          7209.4918,
          4266.1658,
          4719.52405,
          11848.141,
          7046.7222,
          14313.8463,
          2103.08,
          1815.8759,
          7731.85785,
          28476.73499,
          2136.88225,
          1131.5066,
          3309.7926,
          9414.92,
          6360.9936,
          11013.7119,
          4428.88785,
          5584.3057,
          1877.9294,
          2842.76075,
          3597.596,
          7445.918,
          2680.9493,
          1621.8827,
          8219.2039,
          12523.6048,
          16069.08475,
          6117.4945,
          13393.756,
          5266.3656,
          4719.73655,
          11743.9341,
          5377.4578,
          7160.3303,
          4402.233,
          11657.7189,
          6402.29135,
          12622.1795,
          1526.312,
          12323.936,
          10072.05505,
          9872.701,
          2438.0552,
          2974.126,
          10601.63225,
          14119.62,
          11729.6795,
          1875.344,
          18218.16139,
          10965.446,
          7151.092,
          12269.68865,
          5458.04645,
          8782.469,
          6600.361,
          1141.4451,
          11576.13,
          13129.60345,
          4391.652,
          8457.818,
          3392.3652,
          5966.8874,
          6849.026,
          8891.1395,
          2690.1138,
          26140.3603,
          6653.7886,
          6282.235,
          6311.952,
          3443.064,
          2789.0574,
          2585.85065,
          4877.98105,
          5272.1758,
          1682.597,
          11945.1327,
          7243.8136,
          10422.91665,
          13555.0049,
          13063.883,
          2221.56445,
          1634.5734,
          2117.33885,
          8688.85885,
          4661.28635,
          8125.7845,
          12644.589,
          4564.19145,
          4846.92015,
          7633.7206,
          15170.069,
          2639.0429,
          14382.70905,
          7626.993,
          5257.50795,
          2473.3341,
          13041.921,
          5245.2269,
          13451.122,
          13462.52,
          5488.262,
          4320.41085,
          6250.435,
          25333.33284,
          2913.569,
          12032.326,
          13470.8044,
          6289.7549,
          2927.0647,
          6238.298,
          10096.97,
          7348.142,
          4673.3922,
          12233.828,
          32108.66282,
          8965.79575,
          2304.0022,
          9487.6442,
          1121.8739,
          9549.5651,
          2217.46915,
          1628.4709,
          12982.8747,
          11674.13,
          7160.094,
          6358.77645,
          11534.87265,
          4527.18295,
          3875.7341,
          12609.88702,
          28468.91901,
          2730.10785,
          3353.284,
          14474.675,
          9500.57305,
          26467.09737,
          4746.344,
          7518.02535,
          3279.86855,
          8596.8278,
          10702.6424,
          4992.3764,
          2527.81865,
          1759.338,
          2322.6218,
          7804.1605,
          2902.9065,
          9704.66805,
          4889.0368,
          25517.11363,
          4500.33925,
          16796.41194,
          4915.05985,
          7624.63,
          8410.04685,
          28340.18885,
          4518.82625,
          3378.91,
          7144.86265,
          10118.424,
          5484.4673,
          7986.47525,
          7418.522,
          13887.9685,
          6551.7501,
          5267.81815,
          1972.95,
          21232.18226,
          8627.5411,
          4433.3877,
          4438.2634,
          23241.47453,
          9957.7216,
          8269.044,
          36580.28216,
          8765.249,
          5383.536,
          12124.9924,
          2709.24395,
          3987.926,
          12495.29085,
          26018.95052,
          8798.593,
          1711.0268,
          8569.8618,
          2020.177,
          21595.38229,
          9850.432,
          6877.9801,
          4137.5227,
          12950.0712,
          12094.478,
          2250.8352,
          22493.65964,
          1704.70015,
          3161.454,
          11394.06555,
          7325.0482,
          3594.17085,
          8023.13545,
          14394.5579,
          9288.0267,
          3353.4703,
          10594.50155,
          8277.523,
          17929.30337,
          2480.9791,
          4462.7218,
          1981.5819,
          11554.2236,
          6548.19505,
          5708.867,
          7045.499,
          8978.1851,
          5757.41345,
          14349.8544,
          10928.849,
          13974.45555,
          1909.52745,
          12096.6512,
          13204.28565,
          4562.8421,
          8551.347,
          2102.2647,
          15161.5344,
          11884.04858,
          4454.40265,
          5855.9025,
          4076.497,
          15019.76005,
          10796.35025,
          11353.2276,
          9748.9106,
          10577.087,
          11286.5387,
          3591.48,
          11299.343,
          4561.1885,
          1674.6323,
          23045.56616,
          3227.1211,
          11253.421,
          3471.4096,
          11363.2832,
          20420.60465,
          10338.9316,
          8988.15875,
          10493.9458,
          2904.088,
          8605.3615,
          11512.405,
          5312.16985,
          2396.0959,
          10807.4863,
          9222.4026,
          5693.4305,
          8347.1643,
          18903.49141,
          14254.6082,
          10214.636,
          5836.5204,
          14358.36437,
          1728.897,
          8582.3023,
          3693.428,
          20709.02034,
          9991.03765,
          19673.33573,
          11085.5868,
          7623.518,
          3176.2877,
          3704.3545,
          9048.0273,
          7954.517,
          27117.99378,
          6338.0756,
          9630.397,
          11289.10925,
          2261.5688,
          10791.96,
          5979.731,
          2203.73595,
          12235.8392,
          5630.45785,
          11015.1747,
          7228.21565,
          14426.07385,
          2459.7201,
          3989.841,
          7727.2532,
          5124.1887,
          18963.17192,
          2200.83085,
          7153.5539,
          5227.98875,
          10982.5013,
          4529.477,
          4670.64,
          6112.35295,
          11093.6229,
          6457.8434,
          4433.9159,
          2154.361,
          6496.886,
          2899.48935,
          7650.77375,
          2850.68375,
          2632.992,
          9447.3824,
          8603.8234,
          13844.7972,
          13126.67745,
          5327.40025,
          13725.47184,
          13019.16105,
          8671.19125,
          4134.08245,
          18838.70366,
          5699.8375,
          6393.60345,
          4934.705,
          6198.7518,
          8733.22925,
          2055.3249,
          9964.06,
          5116.5004,
          36910.60803,
          12347.172,
          5373.36425,
          23563.01618,
          1702.4553,
          10806.839,
          3956.07145,
          12890.05765,
          5415.6612,
          4058.1161,
          7537.1639,
          4718.20355,
          6593.5083,
          8442.667,
          6858.4796,
          4795.6568,
          6640.54485,
          7162.0122,
          10594.2257,
          11938.25595,
          12479.70895,
          11345.519,
          8515.7587,
          2699.56835,
          14449.8544,
          12224.35085,
          6985.50695,
          3238.4357,
          4296.2712,
          3171.6149,
          1135.9407,
          5615.369,
          9101.798,
          6059.173,
          1633.9618,
          1241.565,
          15828.82173,
          4415.1588,
          6474.013,
          11436.73815,
          11305.93455,
          30063.58055,
          10197.7722,
          4544.2348,
          3277.161,
          6770.1925,
          7337.748,
          10370.91255,
          10704.47,
          1880.487,
          8615.3,
          3292.52985,
          3021.80915,
          14478.33015,
          4747.0529,
          10959.33,
          2741.948,
          4357.04365,
          4189.1131,
          8283.6807,
          1720.3537,
          8534.6718,
          3732.6251,
          5472.449,
          7147.4728,
          7133.9025,
          1515.3449,
          9301.89355,
          11931.12525,
          1964.78,
          1708.92575,
          4340.4409,
          5261.46945,
          2710.82855,
          3208.787,
          2464.6188,
          6875.961,
          6940.90985,
          4571.41305,
          4536.259,
          11272.33139,
          1731.677,
          1163.4627,
          19496.71917,
          7201.70085,
          5425.02335,
          12981.3457,
          4239.89265,
          13143.33665,
          7050.0213,
          9377.9047,
          22395.74424,
          10325.206,
          12629.1656,
          10795.93733,
          11411.685,
          10600.5483,
          2205.9808,
          1629.8335,
          2007.945
         ],
         "yaxis": "y"
        }
       ],
       "layout": {
        "legend": {
         "title": {
          "text": "smoker"
         },
         "tracegroupgap": 0
        },
        "template": {
         "data": {
          "bar": [
           {
            "error_x": {
             "color": "#2a3f5f"
            },
            "error_y": {
             "color": "#2a3f5f"
            },
            "marker": {
             "line": {
              "color": "#E5ECF6",
              "width": 0.5
             },
             "pattern": {
              "fillmode": "overlay",
              "size": 10,
              "solidity": 0.2
             }
            },
            "type": "bar"
           }
          ],
          "barpolar": [
           {
            "marker": {
             "line": {
              "color": "#E5ECF6",
              "width": 0.5
             },
             "pattern": {
              "fillmode": "overlay",
              "size": 10,
              "solidity": 0.2
             }
            },
            "type": "barpolar"
           }
          ],
          "carpet": [
           {
            "aaxis": {
             "endlinecolor": "#2a3f5f",
             "gridcolor": "white",
             "linecolor": "white",
             "minorgridcolor": "white",
             "startlinecolor": "#2a3f5f"
            },
            "baxis": {
             "endlinecolor": "#2a3f5f",
             "gridcolor": "white",
             "linecolor": "white",
             "minorgridcolor": "white",
             "startlinecolor": "#2a3f5f"
            },
            "type": "carpet"
           }
          ],
          "choropleth": [
           {
            "colorbar": {
             "outlinewidth": 0,
             "ticks": ""
            },
            "type": "choropleth"
           }
          ],
          "contour": [
           {
            "colorbar": {
             "outlinewidth": 0,
             "ticks": ""
            },
            "colorscale": [
             [
              0,
              "#0d0887"
             ],
             [
              0.1111111111111111,
              "#46039f"
             ],
             [
              0.2222222222222222,
              "#7201a8"
             ],
             [
              0.3333333333333333,
              "#9c179e"
             ],
             [
              0.4444444444444444,
              "#bd3786"
             ],
             [
              0.5555555555555556,
              "#d8576b"
             ],
             [
              0.6666666666666666,
              "#ed7953"
             ],
             [
              0.7777777777777778,
              "#fb9f3a"
             ],
             [
              0.8888888888888888,
              "#fdca26"
             ],
             [
              1,
              "#f0f921"
             ]
            ],
            "type": "contour"
           }
          ],
          "contourcarpet": [
           {
            "colorbar": {
             "outlinewidth": 0,
             "ticks": ""
            },
            "type": "contourcarpet"
           }
          ],
          "heatmap": [
           {
            "colorbar": {
             "outlinewidth": 0,
             "ticks": ""
            },
            "colorscale": [
             [
              0,
              "#0d0887"
             ],
             [
              0.1111111111111111,
              "#46039f"
             ],
             [
              0.2222222222222222,
              "#7201a8"
             ],
             [
              0.3333333333333333,
              "#9c179e"
             ],
             [
              0.4444444444444444,
              "#bd3786"
             ],
             [
              0.5555555555555556,
              "#d8576b"
             ],
             [
              0.6666666666666666,
              "#ed7953"
             ],
             [
              0.7777777777777778,
              "#fb9f3a"
             ],
             [
              0.8888888888888888,
              "#fdca26"
             ],
             [
              1,
              "#f0f921"
             ]
            ],
            "type": "heatmap"
           }
          ],
          "heatmapgl": [
           {
            "colorbar": {
             "outlinewidth": 0,
             "ticks": ""
            },
            "colorscale": [
             [
              0,
              "#0d0887"
             ],
             [
              0.1111111111111111,
              "#46039f"
             ],
             [
              0.2222222222222222,
              "#7201a8"
             ],
             [
              0.3333333333333333,
              "#9c179e"
             ],
             [
              0.4444444444444444,
              "#bd3786"
             ],
             [
              0.5555555555555556,
              "#d8576b"
             ],
             [
              0.6666666666666666,
              "#ed7953"
             ],
             [
              0.7777777777777778,
              "#fb9f3a"
             ],
             [
              0.8888888888888888,
              "#fdca26"
             ],
             [
              1,
              "#f0f921"
             ]
            ],
            "type": "heatmapgl"
           }
          ],
          "histogram": [
           {
            "marker": {
             "pattern": {
              "fillmode": "overlay",
              "size": 10,
              "solidity": 0.2
             }
            },
            "type": "histogram"
           }
          ],
          "histogram2d": [
           {
            "colorbar": {
             "outlinewidth": 0,
             "ticks": ""
            },
            "colorscale": [
             [
              0,
              "#0d0887"
             ],
             [
              0.1111111111111111,
              "#46039f"
             ],
             [
              0.2222222222222222,
              "#7201a8"
             ],
             [
              0.3333333333333333,
              "#9c179e"
             ],
             [
              0.4444444444444444,
              "#bd3786"
             ],
             [
              0.5555555555555556,
              "#d8576b"
             ],
             [
              0.6666666666666666,
              "#ed7953"
             ],
             [
              0.7777777777777778,
              "#fb9f3a"
             ],
             [
              0.8888888888888888,
              "#fdca26"
             ],
             [
              1,
              "#f0f921"
             ]
            ],
            "type": "histogram2d"
           }
          ],
          "histogram2dcontour": [
           {
            "colorbar": {
             "outlinewidth": 0,
             "ticks": ""
            },
            "colorscale": [
             [
              0,
              "#0d0887"
             ],
             [
              0.1111111111111111,
              "#46039f"
             ],
             [
              0.2222222222222222,
              "#7201a8"
             ],
             [
              0.3333333333333333,
              "#9c179e"
             ],
             [
              0.4444444444444444,
              "#bd3786"
             ],
             [
              0.5555555555555556,
              "#d8576b"
             ],
             [
              0.6666666666666666,
              "#ed7953"
             ],
             [
              0.7777777777777778,
              "#fb9f3a"
             ],
             [
              0.8888888888888888,
              "#fdca26"
             ],
             [
              1,
              "#f0f921"
             ]
            ],
            "type": "histogram2dcontour"
           }
          ],
          "mesh3d": [
           {
            "colorbar": {
             "outlinewidth": 0,
             "ticks": ""
            },
            "type": "mesh3d"
           }
          ],
          "parcoords": [
           {
            "line": {
             "colorbar": {
              "outlinewidth": 0,
              "ticks": ""
             }
            },
            "type": "parcoords"
           }
          ],
          "pie": [
           {
            "automargin": true,
            "type": "pie"
           }
          ],
          "scatter": [
           {
            "marker": {
             "colorbar": {
              "outlinewidth": 0,
              "ticks": ""
             }
            },
            "type": "scatter"
           }
          ],
          "scatter3d": [
           {
            "line": {
             "colorbar": {
              "outlinewidth": 0,
              "ticks": ""
             }
            },
            "marker": {
             "colorbar": {
              "outlinewidth": 0,
              "ticks": ""
             }
            },
            "type": "scatter3d"
           }
          ],
          "scattercarpet": [
           {
            "marker": {
             "colorbar": {
              "outlinewidth": 0,
              "ticks": ""
             }
            },
            "type": "scattercarpet"
           }
          ],
          "scattergeo": [
           {
            "marker": {
             "colorbar": {
              "outlinewidth": 0,
              "ticks": ""
             }
            },
            "type": "scattergeo"
           }
          ],
          "scattergl": [
           {
            "marker": {
             "colorbar": {
              "outlinewidth": 0,
              "ticks": ""
             }
            },
            "type": "scattergl"
           }
          ],
          "scattermapbox": [
           {
            "marker": {
             "colorbar": {
              "outlinewidth": 0,
              "ticks": ""
             }
            },
            "type": "scattermapbox"
           }
          ],
          "scatterpolar": [
           {
            "marker": {
             "colorbar": {
              "outlinewidth": 0,
              "ticks": ""
             }
            },
            "type": "scatterpolar"
           }
          ],
          "scatterpolargl": [
           {
            "marker": {
             "colorbar": {
              "outlinewidth": 0,
              "ticks": ""
             }
            },
            "type": "scatterpolargl"
           }
          ],
          "scatterternary": [
           {
            "marker": {
             "colorbar": {
              "outlinewidth": 0,
              "ticks": ""
             }
            },
            "type": "scatterternary"
           }
          ],
          "surface": [
           {
            "colorbar": {
             "outlinewidth": 0,
             "ticks": ""
            },
            "colorscale": [
             [
              0,
              "#0d0887"
             ],
             [
              0.1111111111111111,
              "#46039f"
             ],
             [
              0.2222222222222222,
              "#7201a8"
             ],
             [
              0.3333333333333333,
              "#9c179e"
             ],
             [
              0.4444444444444444,
              "#bd3786"
             ],
             [
              0.5555555555555556,
              "#d8576b"
             ],
             [
              0.6666666666666666,
              "#ed7953"
             ],
             [
              0.7777777777777778,
              "#fb9f3a"
             ],
             [
              0.8888888888888888,
              "#fdca26"
             ],
             [
              1,
              "#f0f921"
             ]
            ],
            "type": "surface"
           }
          ],
          "table": [
           {
            "cells": {
             "fill": {
              "color": "#EBF0F8"
             },
             "line": {
              "color": "white"
             }
            },
            "header": {
             "fill": {
              "color": "#C8D4E3"
             },
             "line": {
              "color": "white"
             }
            },
            "type": "table"
           }
          ]
         },
         "layout": {
          "annotationdefaults": {
           "arrowcolor": "#2a3f5f",
           "arrowhead": 0,
           "arrowwidth": 1
          },
          "autotypenumbers": "strict",
          "coloraxis": {
           "colorbar": {
            "outlinewidth": 0,
            "ticks": ""
           }
          },
          "colorscale": {
           "diverging": [
            [
             0,
             "#8e0152"
            ],
            [
             0.1,
             "#c51b7d"
            ],
            [
             0.2,
             "#de77ae"
            ],
            [
             0.3,
             "#f1b6da"
            ],
            [
             0.4,
             "#fde0ef"
            ],
            [
             0.5,
             "#f7f7f7"
            ],
            [
             0.6,
             "#e6f5d0"
            ],
            [
             0.7,
             "#b8e186"
            ],
            [
             0.8,
             "#7fbc41"
            ],
            [
             0.9,
             "#4d9221"
            ],
            [
             1,
             "#276419"
            ]
           ],
           "sequential": [
            [
             0,
             "#0d0887"
            ],
            [
             0.1111111111111111,
             "#46039f"
            ],
            [
             0.2222222222222222,
             "#7201a8"
            ],
            [
             0.3333333333333333,
             "#9c179e"
            ],
            [
             0.4444444444444444,
             "#bd3786"
            ],
            [
             0.5555555555555556,
             "#d8576b"
            ],
            [
             0.6666666666666666,
             "#ed7953"
            ],
            [
             0.7777777777777778,
             "#fb9f3a"
            ],
            [
             0.8888888888888888,
             "#fdca26"
            ],
            [
             1,
             "#f0f921"
            ]
           ],
           "sequentialminus": [
            [
             0,
             "#0d0887"
            ],
            [
             0.1111111111111111,
             "#46039f"
            ],
            [
             0.2222222222222222,
             "#7201a8"
            ],
            [
             0.3333333333333333,
             "#9c179e"
            ],
            [
             0.4444444444444444,
             "#bd3786"
            ],
            [
             0.5555555555555556,
             "#d8576b"
            ],
            [
             0.6666666666666666,
             "#ed7953"
            ],
            [
             0.7777777777777778,
             "#fb9f3a"
            ],
            [
             0.8888888888888888,
             "#fdca26"
            ],
            [
             1,
             "#f0f921"
            ]
           ]
          },
          "colorway": [
           "#636efa",
           "#EF553B",
           "#00cc96",
           "#ab63fa",
           "#FFA15A",
           "#19d3f3",
           "#FF6692",
           "#B6E880",
           "#FF97FF",
           "#FECB52"
          ],
          "font": {
           "color": "#2a3f5f"
          },
          "geo": {
           "bgcolor": "white",
           "lakecolor": "white",
           "landcolor": "#E5ECF6",
           "showlakes": true,
           "showland": true,
           "subunitcolor": "white"
          },
          "hoverlabel": {
           "align": "left"
          },
          "hovermode": "closest",
          "mapbox": {
           "style": "light"
          },
          "paper_bgcolor": "white",
          "plot_bgcolor": "#E5ECF6",
          "polar": {
           "angularaxis": {
            "gridcolor": "white",
            "linecolor": "white",
            "ticks": ""
           },
           "bgcolor": "#E5ECF6",
           "radialaxis": {
            "gridcolor": "white",
            "linecolor": "white",
            "ticks": ""
           }
          },
          "scene": {
           "xaxis": {
            "backgroundcolor": "#E5ECF6",
            "gridcolor": "white",
            "gridwidth": 2,
            "linecolor": "white",
            "showbackground": true,
            "ticks": "",
            "zerolinecolor": "white"
           },
           "yaxis": {
            "backgroundcolor": "#E5ECF6",
            "gridcolor": "white",
            "gridwidth": 2,
            "linecolor": "white",
            "showbackground": true,
            "ticks": "",
            "zerolinecolor": "white"
           },
           "zaxis": {
            "backgroundcolor": "#E5ECF6",
            "gridcolor": "white",
            "gridwidth": 2,
            "linecolor": "white",
            "showbackground": true,
            "ticks": "",
            "zerolinecolor": "white"
           }
          },
          "shapedefaults": {
           "line": {
            "color": "#2a3f5f"
           }
          },
          "ternary": {
           "aaxis": {
            "gridcolor": "white",
            "linecolor": "white",
            "ticks": ""
           },
           "baxis": {
            "gridcolor": "white",
            "linecolor": "white",
            "ticks": ""
           },
           "bgcolor": "#E5ECF6",
           "caxis": {
            "gridcolor": "white",
            "linecolor": "white",
            "ticks": ""
           }
          },
          "title": {
           "x": 0.05
          },
          "xaxis": {
           "automargin": true,
           "gridcolor": "white",
           "linecolor": "white",
           "ticks": "",
           "title": {
            "standoff": 15
           },
           "zerolinecolor": "white",
           "zerolinewidth": 2
          },
          "yaxis": {
           "automargin": true,
           "gridcolor": "white",
           "linecolor": "white",
           "ticks": "",
           "title": {
            "standoff": 15
           },
           "zerolinecolor": "white",
           "zerolinewidth": 2
          }
         }
        },
        "title": {
         "text": "BMI vs. Charges"
        },
        "xaxis": {
         "anchor": "y",
         "domain": [
          0,
          1
         ],
         "title": {
          "text": "bmi"
         }
        },
        "yaxis": {
         "anchor": "x",
         "domain": [
          0,
          1
         ],
         "title": {
          "text": "charges"
         }
        }
       }
      }
     },
     "metadata": {},
     "output_type": "display_data"
    }
   ],
   "source": [
    "fig = px.scatter(medical_df, \n",
    "                 x='bmi', \n",
    "                 y='charges', \n",
    "                 color='smoker', \n",
    "                 opacity=0.8, \n",
    "                 hover_data=['sex'], \n",
    "                 title='BMI vs. Charges')\n",
    "fig.update_traces(marker_size=5)\n",
    "fig.show()"
   ]
  },
  {
   "cell_type": "markdown",
   "id": "227a0317",
   "metadata": {},
   "source": [
    "It appears that for non-smokers, an increase in BMI doesn't seem to be related to an increase in medical charges. However, medical charges seem to be significantly higher for smokers with a BMI greater than 30.\n"
   ]
  },
  {
   "cell_type": "code",
   "execution_count": null,
   "id": "5049aaf4",
   "metadata": {},
   "outputs": [],
   "source": []
  },
  {
   "cell_type": "markdown",
   "id": "33d33ac6",
   "metadata": {},
   "source": [
    "## Correlation\n",
    "\n",
    "- As you can tell from the analysis, the values in some columns are more closely related to the values in \"charges\" compared to other columns. E.g. \"age\" and \"charges\" seem to grow together, whereas \"bmi\" and \"charges\" don't.\n",
    "\n",
    "- Let see the correlation between each feature."
   ]
  },
  {
   "cell_type": "markdown",
   "id": "8d9852b4",
   "metadata": {},
   "source": [
    "\n",
    "\n",
    "\n",
    "Here's how correlation coefficients can be interpreted ([source](https://statisticsbyjim.com/basics/correlations)):\n",
    "\n",
    "* **Strength**: The greater the absolute value of the correlation coefficient, the stronger the relationship.\n",
    "\n",
    "    * The extreme values of -1 and 1 indicate a perfectly linear relationship where a change in one variable is accompanied by a perfectly consistent change in the other. For these relationships, all of the data points fall on a line. In practice, you won’t see either type of perfect relationship.\n",
    "\n",
    "    * A coefficient of zero represents no linear relationship. As one variable increases, there is no tendency in the other variable to either increase or decrease.\n",
    "    \n",
    "    * When the value is in-between 0 and +1/-1, there is a relationship, but the points don’t all fall on a line. As r approaches -1 or 1, the strength of the relationship increases and the data points tend to fall closer to a line.\n",
    "\n",
    "\n",
    "* **Direction**: The sign of the correlation coefficient represents the direction of the relationship.\n",
    "\n",
    "    * Positive coefficients indicate that when the value of one variable increases, the value of the other variable also tends to increase. Positive relationships produce an upward slope on a scatterplot.\n",
    "    \n",
    "    * Negative coefficients represent cases when the value of one variable increases, the value of the other variable tends to decrease. Negative relationships produce a downward slope.\n",
    "\n",
    "Here's the same relationship expressed visually ([source](https://www.cuemath.com/data/how-to-calculate-correlation-coefficient/)):\n",
    "\n",
    "<img src=\"https://i.imgur.com/3XUpDlw.png\" width=\"360\">\n",
    "\n",
    "The correlation coefficient has the following formula:\n",
    "\n",
    "<img src=\"https://i.imgur.com/unapugP.png\" width=\"360\">\n",
    "\n",
    "Pandas dataframes also provide a `.corr` method to compute the correlation coefficients between all pairs of numeric columns."
   ]
  },
  {
   "cell_type": "code",
   "execution_count": 13,
   "id": "53b625c7",
   "metadata": {},
   "outputs": [
    {
     "data": {
      "text/html": [
       "<div>\n",
       "<style scoped>\n",
       "    .dataframe tbody tr th:only-of-type {\n",
       "        vertical-align: middle;\n",
       "    }\n",
       "\n",
       "    .dataframe tbody tr th {\n",
       "        vertical-align: top;\n",
       "    }\n",
       "\n",
       "    .dataframe thead th {\n",
       "        text-align: right;\n",
       "    }\n",
       "</style>\n",
       "<table border=\"1\" class=\"dataframe\">\n",
       "  <thead>\n",
       "    <tr style=\"text-align: right;\">\n",
       "      <th></th>\n",
       "      <th>age</th>\n",
       "      <th>bmi</th>\n",
       "      <th>children</th>\n",
       "      <th>charges</th>\n",
       "    </tr>\n",
       "  </thead>\n",
       "  <tbody>\n",
       "    <tr>\n",
       "      <th>age</th>\n",
       "      <td>1.000000</td>\n",
       "      <td>0.109272</td>\n",
       "      <td>0.042469</td>\n",
       "      <td>0.299008</td>\n",
       "    </tr>\n",
       "    <tr>\n",
       "      <th>bmi</th>\n",
       "      <td>0.109272</td>\n",
       "      <td>1.000000</td>\n",
       "      <td>0.012759</td>\n",
       "      <td>0.198341</td>\n",
       "    </tr>\n",
       "    <tr>\n",
       "      <th>children</th>\n",
       "      <td>0.042469</td>\n",
       "      <td>0.012759</td>\n",
       "      <td>1.000000</td>\n",
       "      <td>0.067998</td>\n",
       "    </tr>\n",
       "    <tr>\n",
       "      <th>charges</th>\n",
       "      <td>0.299008</td>\n",
       "      <td>0.198341</td>\n",
       "      <td>0.067998</td>\n",
       "      <td>1.000000</td>\n",
       "    </tr>\n",
       "  </tbody>\n",
       "</table>\n",
       "</div>"
      ],
      "text/plain": [
       "               age       bmi  children   charges\n",
       "age       1.000000  0.109272  0.042469  0.299008\n",
       "bmi       0.109272  1.000000  0.012759  0.198341\n",
       "children  0.042469  0.012759  1.000000  0.067998\n",
       "charges   0.299008  0.198341  0.067998  1.000000"
      ]
     },
     "execution_count": 13,
     "metadata": {},
     "output_type": "execute_result"
    }
   ],
   "source": [
    "medical_df.corr()"
   ]
  },
  {
   "cell_type": "code",
   "execution_count": 14,
   "id": "c94049f3",
   "metadata": {},
   "outputs": [
    {
     "data": {
      "image/png": "[encoded data removed]",
      "text/plain": [
       "<Figure size 720x432 with 2 Axes>"
      ]
     },
     "metadata": {
      "needs_background": "light"
     },
     "output_type": "display_data"
    }
   ],
   "source": [
    "sns.heatmap(medical_df.corr(), cmap='RdBu_r', annot=True)\n",
    "plt.title('Correlation Matrix');"
   ]
  },
  {
   "cell_type": "markdown",
   "id": "68de3f2a",
   "metadata": {},
   "source": [
    "**Correlation vs causation fallacy:** Note that a high correlation cannot be used to interpret a cause-effect relationship between features. Two features $X$ and $Y$ can be correlated if $X$ causes $Y$ or if $Y$ causes $X$, or if both are caused independently by some other factor $Z$, and the correlation will no longer hold true if one of the cause-effect relationships is broken. It's also possible that $X$ are $Y$ simply appear to be correlated because the sample is too small. \n",
    "\n",
    "While this may seem obvious, computers can't differentiate between correlation and causation, and decisions based on automated system can often have major consequences on society, so it's important to study why automated systems lead to a given result. Determining cause-effect relationships requires human insight."
   ]
  },
  {
   "cell_type": "markdown",
   "id": "1f23cfc0",
   "metadata": {},
   "source": [
    "# 3. DATA PREPARATION"
   ]
  },
  {
   "cell_type": "markdown",
   "id": "c0a905ea",
   "metadata": {},
   "source": [
    "### Loss/Cost Function\n",
    "\n",
    "We can compare our model's predictions with the actual targets using the following method:\n",
    "\n",
    "* Calculate the difference between the targets and predictions (the differenced is called the \"residual\")\n",
    "* Square all elements of the difference matrix to remove negative values.\n",
    "* Calculate the average of the elements in the resulting matrix.\n",
    "* Take the square root of the result\n",
    "\n",
    "The result is a single number, known as the **root mean squared error** (RMSE). The above description can be stated mathematically as follows: \n",
    "\n",
    "<img src=\"https://i.imgur.com/WCanPkA.png\" width=\"360\">\n",
    "\n",
    "Geometrically, the residuals can be visualized as follows:\n",
    "\n",
    "<img src=\"https://i.imgur.com/ll3NL80.png\" width=\"420\">\n",
    "\n",
    "Let's define a function to compute the RMSE."
   ]
  },
  {
   "cell_type": "code",
   "execution_count": null,
   "id": "b69db3e3",
   "metadata": {},
   "outputs": [],
   "source": [
    "# !pip install numpy --quiet"
   ]
  },
  {
   "cell_type": "code",
   "execution_count": 15,
   "id": "498d84d9",
   "metadata": {},
   "outputs": [],
   "source": [
    "import numpy as np"
   ]
  },
  {
   "cell_type": "code",
   "execution_count": null,
   "id": "91b67730",
   "metadata": {},
   "outputs": [],
   "source": [
    "# !pip install scikit-learn --quiet"
   ]
  },
  {
   "cell_type": "markdown",
   "id": "bdd9464d",
   "metadata": {},
   "source": [
    "## Using Categorical Features for Machine Learning\n",
    "\n",
    "So far we've been using only numeric columns, since we can only perform computations with numbers. If we could use categorical columns like \"smoker\", we can train a single model for the entire dataset.\n",
    "\n",
    "To use the categorical columns, we simply need to convert them to numbers. There are three common techniques for doing this:\n",
    "\n",
    "1. If a categorical column has just two categories (it's called a binary category), then we can replace their values with 0 and 1.\n",
    "2. If a categorical column has more than 2 categories, we can perform one-hot encoding i.e. create a new column for each category with 1s and 0s.\n",
    "3. If the categories have a natural order (e.g. cold, neutral, warm, hot), then they can be converted to numbers (e.g. 1, 2, 3, 4) preserving the order. These are called ordinals\n",
    "\n",
    "\n"
   ]
  },
  {
   "cell_type": "markdown",
   "id": "e30d9812",
   "metadata": {},
   "source": [
    "## Binary Categories\n",
    "\n",
    "The \"smoker\" category has just two values \"yes\" and \"no\". Let's create a new column \"smoker_code\" containing 0 for \"no\" and 1 for \"yes\".\n"
   ]
  },
  {
   "cell_type": "code",
   "execution_count": 16,
   "id": "2d5d03bf",
   "metadata": {},
   "outputs": [
    {
     "data": {
      "image/png": "[encoded data removed]",
      "text/plain": [
       "<Figure size 720x432 with 1 Axes>"
      ]
     },
     "metadata": {
      "needs_background": "light"
     },
     "output_type": "display_data"
    }
   ],
   "source": [
    "sns.barplot(data=medical_df, x='smoker', y='charges');"
   ]
  },
  {
   "cell_type": "code",
   "execution_count": 17,
   "id": "6256f5f5",
   "metadata": {},
   "outputs": [],
   "source": [
    "smoker_codes = {'no': 0, 'yes': 1}\n",
    "medical_df['smoker_code'] = medical_df.smoker.map(smoker_codes)"
   ]
  },
  {
   "cell_type": "code",
   "execution_count": 18,
   "id": "684c92db",
   "metadata": {},
   "outputs": [
    {
     "data": {
      "text/plain": [
       "0.7872514304984778"
      ]
     },
     "execution_count": 18,
     "metadata": {},
     "output_type": "execute_result"
    }
   ],
   "source": [
    "medical_df.charges.corr(medical_df.smoker_code)"
   ]
  },
  {
   "cell_type": "code",
   "execution_count": null,
   "id": "69f219a9",
   "metadata": {},
   "outputs": [],
   "source": [
    "medical_df.head()\n"
   ]
  },
  {
   "cell_type": "code",
   "execution_count": 19,
   "id": "0d2a2c3d",
   "metadata": {},
   "outputs": [
    {
     "data": {
      "text/plain": [
       "<AxesSubplot:xlabel='sex', ylabel='charges'>"
      ]
     },
     "execution_count": 19,
     "metadata": {},
     "output_type": "execute_result"
    },
    {
     "data": {
      "image/png": "[encoded data removed]",
      "text/plain": [
       "<Figure size 720x432 with 1 Axes>"
      ]
     },
     "metadata": {
      "needs_background": "light"
     },
     "output_type": "display_data"
    }
   ],
   "source": [
    "sns.barplot(data=medical_df, x='sex', y='charges')"
   ]
  },
  {
   "cell_type": "code",
   "execution_count": 20,
   "id": "0c3724b0",
   "metadata": {},
   "outputs": [],
   "source": [
    "sex_codes = {'female': 0, 'male': 1}"
   ]
  },
  {
   "cell_type": "code",
   "execution_count": 21,
   "id": "989dbb4a",
   "metadata": {},
   "outputs": [],
   "source": [
    "medical_df['sex_code'] = medical_df.sex.map(sex_codes)"
   ]
  },
  {
   "cell_type": "code",
   "execution_count": 22,
   "id": "affe8344",
   "metadata": {},
   "outputs": [
    {
     "data": {
      "text/plain": [
       "0.05729206220202533"
      ]
     },
     "execution_count": 22,
     "metadata": {},
     "output_type": "execute_result"
    }
   ],
   "source": [
    "medical_df.charges.corr(medical_df.sex_code)"
   ]
  },
  {
   "cell_type": "markdown",
   "id": "1e4e201a",
   "metadata": {},
   "source": [
    "As you might expect, this does have a significant impact on the loss."
   ]
  },
  {
   "cell_type": "markdown",
   "id": "7853dc56",
   "metadata": {},
   "source": [
    "\n",
    "### One-hot Encoding"
   ]
  },
  {
   "cell_type": "code",
   "execution_count": 23,
   "id": "e3041f74",
   "metadata": {},
   "outputs": [
    {
     "data": {
      "image/png": "[encoded data removed]",
      "text/plain": [
       "<Figure size 720x432 with 1 Axes>"
      ]
     },
     "metadata": {
      "needs_background": "light"
     },
     "output_type": "display_data"
    }
   ],
   "source": [
    "sns.barplot(data=medical_df, x='region', y='charges');"
   ]
  },
  {
   "cell_type": "code",
   "execution_count": 24,
   "id": "483627b3",
   "metadata": {},
   "outputs": [
    {
     "data": {
      "text/plain": [
       "[array(['northeast', 'northwest', 'southeast', 'southwest'], dtype=object)]"
      ]
     },
     "execution_count": 24,
     "metadata": {},
     "output_type": "execute_result"
    }
   ],
   "source": [
    "from sklearn import preprocessing\n",
    "enc = preprocessing.OneHotEncoder()\n",
    "enc.fit(medical_df[['region']])\n",
    "enc.categories_"
   ]
  },
  {
   "cell_type": "code",
   "execution_count": 25,
   "id": "39bfd58d",
   "metadata": {},
   "outputs": [
    {
     "data": {
      "text/plain": [
       "array([[0., 0., 0., 1.],\n",
       "       [0., 0., 1., 0.],\n",
       "       [0., 0., 1., 0.],\n",
       "       ...,\n",
       "       [0., 0., 1., 0.],\n",
       "       [0., 0., 0., 1.],\n",
       "       [0., 1., 0., 0.]])"
      ]
     },
     "execution_count": 25,
     "metadata": {},
     "output_type": "execute_result"
    }
   ],
   "source": [
    "one_hot = enc.transform(medical_df[['region']]).toarray()\n",
    "one_hot"
   ]
  },
  {
   "cell_type": "code",
   "execution_count": 26,
   "id": "b456d839",
   "metadata": {},
   "outputs": [],
   "source": [
    "medical_df[['northeast', 'northwest', 'southeast', 'southwest']] = one_hot"
   ]
  },
  {
   "cell_type": "code",
   "execution_count": 27,
   "id": "09669544",
   "metadata": {},
   "outputs": [
    {
     "data": {
      "text/html": [
       "<div>\n",
       "<style scoped>\n",
       "    .dataframe tbody tr th:only-of-type {\n",
       "        vertical-align: middle;\n",
       "    }\n",
       "\n",
       "    .dataframe tbody tr th {\n",
       "        vertical-align: top;\n",
       "    }\n",
       "\n",
       "    .dataframe thead th {\n",
       "        text-align: right;\n",
       "    }\n",
       "</style>\n",
       "<table border=\"1\" class=\"dataframe\">\n",
       "  <thead>\n",
       "    <tr style=\"text-align: right;\">\n",
       "      <th></th>\n",
       "      <th>age</th>\n",
       "      <th>sex</th>\n",
       "      <th>bmi</th>\n",
       "      <th>children</th>\n",
       "      <th>smoker</th>\n",
       "      <th>region</th>\n",
       "      <th>charges</th>\n",
       "      <th>smoker_code</th>\n",
       "      <th>sex_code</th>\n",
       "      <th>northeast</th>\n",
       "      <th>northwest</th>\n",
       "      <th>southeast</th>\n",
       "      <th>southwest</th>\n",
       "    </tr>\n",
       "  </thead>\n",
       "  <tbody>\n",
       "    <tr>\n",
       "      <th>0</th>\n",
       "      <td>19</td>\n",
       "      <td>female</td>\n",
       "      <td>27.900</td>\n",
       "      <td>0</td>\n",
       "      <td>yes</td>\n",
       "      <td>southwest</td>\n",
       "      <td>16884.92400</td>\n",
       "      <td>1</td>\n",
       "      <td>0</td>\n",
       "      <td>0.0</td>\n",
       "      <td>0.0</td>\n",
       "      <td>0.0</td>\n",
       "      <td>1.0</td>\n",
       "    </tr>\n",
       "    <tr>\n",
       "      <th>1</th>\n",
       "      <td>18</td>\n",
       "      <td>male</td>\n",
       "      <td>33.770</td>\n",
       "      <td>1</td>\n",
       "      <td>no</td>\n",
       "      <td>southeast</td>\n",
       "      <td>1725.55230</td>\n",
       "      <td>0</td>\n",
       "      <td>1</td>\n",
       "      <td>0.0</td>\n",
       "      <td>0.0</td>\n",
       "      <td>1.0</td>\n",
       "      <td>0.0</td>\n",
       "    </tr>\n",
       "    <tr>\n",
       "      <th>2</th>\n",
       "      <td>28</td>\n",
       "      <td>male</td>\n",
       "      <td>33.000</td>\n",
       "      <td>3</td>\n",
       "      <td>no</td>\n",
       "      <td>southeast</td>\n",
       "      <td>4449.46200</td>\n",
       "      <td>0</td>\n",
       "      <td>1</td>\n",
       "      <td>0.0</td>\n",
       "      <td>0.0</td>\n",
       "      <td>1.0</td>\n",
       "      <td>0.0</td>\n",
       "    </tr>\n",
       "    <tr>\n",
       "      <th>3</th>\n",
       "      <td>33</td>\n",
       "      <td>male</td>\n",
       "      <td>22.705</td>\n",
       "      <td>0</td>\n",
       "      <td>no</td>\n",
       "      <td>northwest</td>\n",
       "      <td>21984.47061</td>\n",
       "      <td>0</td>\n",
       "      <td>1</td>\n",
       "      <td>0.0</td>\n",
       "      <td>1.0</td>\n",
       "      <td>0.0</td>\n",
       "      <td>0.0</td>\n",
       "    </tr>\n",
       "    <tr>\n",
       "      <th>4</th>\n",
       "      <td>32</td>\n",
       "      <td>male</td>\n",
       "      <td>28.880</td>\n",
       "      <td>0</td>\n",
       "      <td>no</td>\n",
       "      <td>northwest</td>\n",
       "      <td>3866.85520</td>\n",
       "      <td>0</td>\n",
       "      <td>1</td>\n",
       "      <td>0.0</td>\n",
       "      <td>1.0</td>\n",
       "      <td>0.0</td>\n",
       "      <td>0.0</td>\n",
       "    </tr>\n",
       "    <tr>\n",
       "      <th>...</th>\n",
       "      <td>...</td>\n",
       "      <td>...</td>\n",
       "      <td>...</td>\n",
       "      <td>...</td>\n",
       "      <td>...</td>\n",
       "      <td>...</td>\n",
       "      <td>...</td>\n",
       "      <td>...</td>\n",
       "      <td>...</td>\n",
       "      <td>...</td>\n",
       "      <td>...</td>\n",
       "      <td>...</td>\n",
       "      <td>...</td>\n",
       "    </tr>\n",
       "    <tr>\n",
       "      <th>1333</th>\n",
       "      <td>50</td>\n",
       "      <td>male</td>\n",
       "      <td>30.970</td>\n",
       "      <td>3</td>\n",
       "      <td>no</td>\n",
       "      <td>northwest</td>\n",
       "      <td>10600.54830</td>\n",
       "      <td>0</td>\n",
       "      <td>1</td>\n",
       "      <td>0.0</td>\n",
       "      <td>1.0</td>\n",
       "      <td>0.0</td>\n",
       "      <td>0.0</td>\n",
       "    </tr>\n",
       "    <tr>\n",
       "      <th>1334</th>\n",
       "      <td>18</td>\n",
       "      <td>female</td>\n",
       "      <td>31.920</td>\n",
       "      <td>0</td>\n",
       "      <td>no</td>\n",
       "      <td>northeast</td>\n",
       "      <td>2205.98080</td>\n",
       "      <td>0</td>\n",
       "      <td>0</td>\n",
       "      <td>1.0</td>\n",
       "      <td>0.0</td>\n",
       "      <td>0.0</td>\n",
       "      <td>0.0</td>\n",
       "    </tr>\n",
       "    <tr>\n",
       "      <th>1335</th>\n",
       "      <td>18</td>\n",
       "      <td>female</td>\n",
       "      <td>36.850</td>\n",
       "      <td>0</td>\n",
       "      <td>no</td>\n",
       "      <td>southeast</td>\n",
       "      <td>1629.83350</td>\n",
       "      <td>0</td>\n",
       "      <td>0</td>\n",
       "      <td>0.0</td>\n",
       "      <td>0.0</td>\n",
       "      <td>1.0</td>\n",
       "      <td>0.0</td>\n",
       "    </tr>\n",
       "    <tr>\n",
       "      <th>1336</th>\n",
       "      <td>21</td>\n",
       "      <td>female</td>\n",
       "      <td>25.800</td>\n",
       "      <td>0</td>\n",
       "      <td>no</td>\n",
       "      <td>southwest</td>\n",
       "      <td>2007.94500</td>\n",
       "      <td>0</td>\n",
       "      <td>0</td>\n",
       "      <td>0.0</td>\n",
       "      <td>0.0</td>\n",
       "      <td>0.0</td>\n",
       "      <td>1.0</td>\n",
       "    </tr>\n",
       "    <tr>\n",
       "      <th>1337</th>\n",
       "      <td>61</td>\n",
       "      <td>female</td>\n",
       "      <td>29.070</td>\n",
       "      <td>0</td>\n",
       "      <td>yes</td>\n",
       "      <td>northwest</td>\n",
       "      <td>29141.36030</td>\n",
       "      <td>1</td>\n",
       "      <td>0</td>\n",
       "      <td>0.0</td>\n",
       "      <td>1.0</td>\n",
       "      <td>0.0</td>\n",
       "      <td>0.0</td>\n",
       "    </tr>\n",
       "  </tbody>\n",
       "</table>\n",
       "<p>1338 rows × 13 columns</p>\n",
       "</div>"
      ],
      "text/plain": [
       "      age     sex     bmi  children smoker     region      charges  \\\n",
       "0      19  female  27.900         0    yes  southwest  16884.92400   \n",
       "1      18    male  33.770         1     no  southeast   1725.55230   \n",
       "2      28    male  33.000         3     no  southeast   4449.46200   \n",
       "3      33    male  22.705         0     no  northwest  21984.47061   \n",
       "4      32    male  28.880         0     no  northwest   3866.85520   \n",
       "...   ...     ...     ...       ...    ...        ...          ...   \n",
       "1333   50    male  30.970         3     no  northwest  10600.54830   \n",
       "1334   18  female  31.920         0     no  northeast   2205.98080   \n",
       "1335   18  female  36.850         0     no  southeast   1629.83350   \n",
       "1336   21  female  25.800         0     no  southwest   2007.94500   \n",
       "1337   61  female  29.070         0    yes  northwest  29141.36030   \n",
       "\n",
       "      smoker_code  sex_code  northeast  northwest  southeast  southwest  \n",
       "0               1         0        0.0        0.0        0.0        1.0  \n",
       "1               0         1        0.0        0.0        1.0        0.0  \n",
       "2               0         1        0.0        0.0        1.0        0.0  \n",
       "3               0         1        0.0        1.0        0.0        0.0  \n",
       "4               0         1        0.0        1.0        0.0        0.0  \n",
       "...           ...       ...        ...        ...        ...        ...  \n",
       "1333            0         1        0.0        1.0        0.0        0.0  \n",
       "1334            0         0        1.0        0.0        0.0        0.0  \n",
       "1335            0         0        0.0        0.0        1.0        0.0  \n",
       "1336            0         0        0.0        0.0        0.0        1.0  \n",
       "1337            1         0        0.0        1.0        0.0        0.0  \n",
       "\n",
       "[1338 rows x 13 columns]"
      ]
     },
     "execution_count": 27,
     "metadata": {},
     "output_type": "execute_result"
    }
   ],
   "source": [
    "medical_df"
   ]
  },
  {
   "cell_type": "code",
   "execution_count": 28,
   "id": "454a23df",
   "metadata": {},
   "outputs": [
    {
     "data": {
      "text/plain": [
       "<AxesSubplot:>"
      ]
     },
     "execution_count": 28,
     "metadata": {},
     "output_type": "execute_result"
    },
    {
     "data": {
      "image/png": "[encoded data removed]",
      "text/plain": [
       "<Figure size 720x432 with 2 Axes>"
      ]
     },
     "metadata": {
      "needs_background": "light"
     },
     "output_type": "display_data"
    }
   ],
   "source": [
    "sns.heatmap(medical_df.corr(), annot=True)"
   ]
  },
  {
   "cell_type": "markdown",
   "id": "6082be63",
   "metadata": {},
   "source": [
    "\n",
    "## Feature Scaling\n",
    "\n"
   ]
  },
  {
   "cell_type": "markdown",
   "id": "18f58f94",
   "metadata": {},
   "source": [
    "The most important feature are:\n",
    "\n",
    "1. Smoker\n",
    "2. Age\n",
    "3. BMI\n"
   ]
  },
  {
   "cell_type": "markdown",
   "id": "9be5d2df",
   "metadata": {},
   "source": [
    "# EXTRACTING THE FEATURES THATS REQUIRED FOR THE MODEL"
   ]
  },
  {
   "cell_type": "code",
   "execution_count": 130,
   "id": "3be695ae",
   "metadata": {},
   "outputs": [],
   "source": [
    "from sklearn.preprocessing import StandardScaler\n",
    "sc = StandardScaler()"
   ]
  },
  {
   "cell_type": "code",
   "execution_count": 131,
   "id": "fddcd390",
   "metadata": {},
   "outputs": [],
   "source": [
    "numerical_data = medical_df[['age','bmi','children']]\n",
    "numerical_data = sc.fit_transform(numerical_data)\n",
    "categorical_data = medical_df[['smoker_code','sex_code','northeast','northwest','southeast','southwest']]\n",
    "input_data = np.concatenate((numerical_data,categorical_data),axis=1)\n"
   ]
  },
  {
   "cell_type": "code",
   "execution_count": 132,
   "id": "1cf6ba23",
   "metadata": {},
   "outputs": [],
   "source": [
    "output_data = medical_df['charges']\n",
    "# output_data.values"
   ]
  },
  {
   "cell_type": "code",
   "execution_count": 101,
   "id": "22af70a0",
   "metadata": {},
   "outputs": [],
   "source": []
  },
  {
   "cell_type": "markdown",
   "id": "a60286e3",
   "metadata": {},
   "source": [
    "# 4.  MODELS TRAINING AND TESTING "
   ]
  },
  {
   "cell_type": "markdown",
   "id": "e9394790",
   "metadata": {},
   "source": [
    "## Creating a Test Set\n"
   ]
  },
  {
   "cell_type": "code",
   "execution_count": 133,
   "id": "99cb8e6a",
   "metadata": {},
   "outputs": [],
   "source": [
    "from sklearn.model_selection import train_test_split"
   ]
  },
  {
   "cell_type": "code",
   "execution_count": 134,
   "id": "1142e391",
   "metadata": {},
   "outputs": [],
   "source": [
    "x_train, x_test, y_train, y_test = train_test_split(input_data, output_data, test_size = 0.2, random_state = 1)"
   ]
  },
  {
   "cell_type": "code",
   "execution_count": 137,
   "id": "31377f78",
   "metadata": {},
   "outputs": [
    {
     "name": "stdout",
     "output_type": "stream",
     "text": [
      "(1070, 9)\n"
     ]
    },
    {
     "data": {
      "text/plain": [
       "1"
      ]
     },
     "execution_count": 137,
     "metadata": {},
     "output_type": "execute_result"
    }
   ],
   "source": [
    "print(x_train.shape)\n",
    "len(y_train.shape)"
   ]
  },
  {
   "cell_type": "code",
   "execution_count": null,
   "id": "8e905801",
   "metadata": {},
   "outputs": [],
   "source": [
    "# pip install tensorflow --quiet"
   ]
  },
  {
   "cell_type": "code",
   "execution_count": 138,
   "id": "60c05567",
   "metadata": {},
   "outputs": [],
   "source": [
    "# sc.transform([[33,22.705,0]])"
   ]
  },
  {
   "cell_type": "code",
   "execution_count": 139,
   "id": "21aed9c3",
   "metadata": {},
   "outputs": [],
   "source": [
    "# pred = model.predict([[-0.4419476 , -1.30553108, -0.90861367,0,1]])\n",
    "# print(pred)"
   ]
  },
  {
   "cell_type": "code",
   "execution_count": 140,
   "id": "242c4c39",
   "metadata": {},
   "outputs": [],
   "source": [
    "from tensorflow import keras\n",
    "from keras.models import Sequential"
   ]
  },
  {
   "cell_type": "code",
   "execution_count": 141,
   "id": "85af598f",
   "metadata": {},
   "outputs": [],
   "source": [
    "model = Sequential([\n",
    "        keras.layers.Dense(128, activation = \"relu\",input_shape=(9,),use_bias=True),\n",
    "        keras.layers.Dense(64 , activation='relu'),\n",
    "        keras.layers.Dense(32 , activation='relu'),\n",
    "        keras.layers.Dense(1)\n",
    "    ])"
   ]
  },
  {
   "cell_type": "code",
   "execution_count": 142,
   "id": "25785778",
   "metadata": {},
   "outputs": [
    {
     "name": "stdout",
     "output_type": "stream",
     "text": [
      "Model: \"sequential_11\"\n",
      "_________________________________________________________________\n",
      " Layer (type)                Output Shape              Param #   \n",
      "=================================================================\n",
      " dense_83 (Dense)            (None, 128)               1280      \n",
      "                                                                 \n",
      " dense_84 (Dense)            (None, 64)                8256      \n",
      "                                                                 \n",
      " dense_85 (Dense)            (None, 32)                2080      \n",
      "                                                                 \n",
      " dense_86 (Dense)            (None, 1)                 33        \n",
      "                                                                 \n",
      "=================================================================\n",
      "Total params: 11,649\n",
      "Trainable params: 11,649\n",
      "Non-trainable params: 0\n",
      "_________________________________________________________________\n"
     ]
    }
   ],
   "source": [
    "model.summary()"
   ]
  },
  {
   "cell_type": "code",
   "execution_count": 143,
   "id": "8a4605b8",
   "metadata": {},
   "outputs": [],
   "source": [
    "from tensorflow.keras.optimizers import Adam\n",
    "adam = Adam(0.001)\n",
    "model.compile(optimizer=adam,loss=\"mean_squared_error\")"
   ]
  },
  {
   "cell_type": "code",
   "execution_count": 144,
   "id": "16df9bbe",
   "metadata": {},
   "outputs": [
    {
     "name": "stdout",
     "output_type": "stream",
     "text": [
      "Epoch 1/300\n",
      "34/34 [==============================] - 1s 6ms/step - loss: 320816384.0000 - val_loss: 329461952.0000\n",
      "Epoch 2/300\n",
      "34/34 [==============================] - 0s 3ms/step - loss: 320152256.0000 - val_loss: 327878016.0000\n",
      "Epoch 3/300\n",
      "34/34 [==============================] - 0s 3ms/step - loss: 316213984.0000 - val_loss: 319901504.0000\n",
      "Epoch 4/300\n",
      "34/34 [==============================] - 0s 3ms/step - loss: 301096064.0000 - val_loss: 294260960.0000\n",
      "Epoch 5/300\n",
      "34/34 [==============================] - 0s 3ms/step - loss: 262601216.0000 - val_loss: 237699440.0000\n",
      "Epoch 6/300\n",
      "34/34 [==============================] - 0s 3ms/step - loss: 195815872.0000 - val_loss: 159737200.0000\n",
      "Epoch 7/300\n",
      "34/34 [==============================] - 0s 3ms/step - loss: 127267328.0000 - val_loss: 105617936.0000\n",
      "Epoch 8/300\n",
      "34/34 [==============================] - 0s 3ms/step - loss: 97411208.0000 - val_loss: 92122336.0000\n",
      "Epoch 9/300\n",
      "34/34 [==============================] - 0s 3ms/step - loss: 91237816.0000 - val_loss: 86775720.0000\n",
      "Epoch 10/300\n",
      "34/34 [==============================] - 0s 3ms/step - loss: 86575104.0000 - val_loss: 82487592.0000\n",
      "Epoch 11/300\n",
      "34/34 [==============================] - 0s 3ms/step - loss: 82002368.0000 - val_loss: 78014752.0000\n",
      "Epoch 12/300\n",
      "34/34 [==============================] - 0s 4ms/step - loss: 77759640.0000 - val_loss: 73788960.0000\n",
      "Epoch 13/300\n",
      "34/34 [==============================] - 0s 3ms/step - loss: 73565872.0000 - val_loss: 69518896.0000\n",
      "Epoch 14/300\n",
      "34/34 [==============================] - 0s 3ms/step - loss: 69449528.0000 - val_loss: 65299136.0000\n",
      "Epoch 15/300\n",
      "34/34 [==============================] - 0s 3ms/step - loss: 65346664.0000 - val_loss: 61544148.0000\n",
      "Epoch 16/300\n",
      "34/34 [==============================] - 0s 3ms/step - loss: 61582424.0000 - val_loss: 57828496.0000\n",
      "Epoch 17/300\n",
      "34/34 [==============================] - 0s 3ms/step - loss: 57551728.0000 - val_loss: 53880916.0000\n",
      "Epoch 18/300\n",
      "34/34 [==============================] - 0s 3ms/step - loss: 53795664.0000 - val_loss: 50572952.0000\n",
      "Epoch 19/300\n",
      "34/34 [==============================] - 0s 3ms/step - loss: 50272536.0000 - val_loss: 47134628.0000\n",
      "Epoch 20/300\n",
      "34/34 [==============================] - 0s 3ms/step - loss: 47216840.0000 - val_loss: 44379952.0000\n",
      "Epoch 21/300\n",
      "34/34 [==============================] - 0s 3ms/step - loss: 44488548.0000 - val_loss: 41718424.0000\n",
      "Epoch 22/300\n",
      "34/34 [==============================] - 0s 3ms/step - loss: 42107924.0000 - val_loss: 39567272.0000\n",
      "Epoch 23/300\n",
      "34/34 [==============================] - 0s 3ms/step - loss: 40101636.0000 - val_loss: 37789388.0000\n",
      "Epoch 24/300\n",
      "34/34 [==============================] - 0s 3ms/step - loss: 38705692.0000 - val_loss: 36603828.0000\n",
      "Epoch 25/300\n",
      "34/34 [==============================] - 0s 3ms/step - loss: 37658396.0000 - val_loss: 35515752.0000\n",
      "Epoch 26/300\n",
      "34/34 [==============================] - 0s 3ms/step - loss: 36662724.0000 - val_loss: 34842172.0000\n",
      "Epoch 27/300\n",
      "34/34 [==============================] - 0s 3ms/step - loss: 35997140.0000 - val_loss: 34188876.0000\n",
      "Epoch 28/300\n",
      "34/34 [==============================] - 0s 3ms/step - loss: 35510236.0000 - val_loss: 33848180.0000\n",
      "Epoch 29/300\n",
      "34/34 [==============================] - 0s 3ms/step - loss: 35145660.0000 - val_loss: 33460480.0000\n",
      "Epoch 30/300\n",
      "34/34 [==============================] - 0s 3ms/step - loss: 34848988.0000 - val_loss: 33206280.0000\n",
      "Epoch 31/300\n",
      "34/34 [==============================] - 0s 3ms/step - loss: 34690464.0000 - val_loss: 32943888.0000\n",
      "Epoch 32/300\n",
      "34/34 [==============================] - 0s 3ms/step - loss: 34422296.0000 - val_loss: 32775474.0000\n",
      "Epoch 33/300\n",
      "34/34 [==============================] - 0s 3ms/step - loss: 34319836.0000 - val_loss: 32388214.0000\n",
      "Epoch 34/300\n",
      "34/34 [==============================] - 0s 3ms/step - loss: 34060476.0000 - val_loss: 32392800.0000\n",
      "Epoch 35/300\n",
      "34/34 [==============================] - 0s 3ms/step - loss: 33889968.0000 - val_loss: 32047444.0000\n",
      "Epoch 36/300\n",
      "34/34 [==============================] - 0s 3ms/step - loss: 33724580.0000 - val_loss: 31998938.0000\n",
      "Epoch 37/300\n",
      "34/34 [==============================] - 0s 3ms/step - loss: 33706048.0000 - val_loss: 31989314.0000\n",
      "Epoch 38/300\n",
      "34/34 [==============================] - 0s 3ms/step - loss: 33445352.0000 - val_loss: 31544816.0000\n",
      "Epoch 39/300\n",
      "34/34 [==============================] - 0s 3ms/step - loss: 33182010.0000 - val_loss: 31356936.0000\n",
      "Epoch 40/300\n",
      "34/34 [==============================] - 0s 3ms/step - loss: 33032732.0000 - val_loss: 31289312.0000\n",
      "Epoch 41/300\n",
      "34/34 [==============================] - 0s 3ms/step - loss: 32825096.0000 - val_loss: 31001786.0000\n",
      "Epoch 42/300\n",
      "34/34 [==============================] - 0s 3ms/step - loss: 32767020.0000 - val_loss: 30895642.0000\n",
      "Epoch 43/300\n",
      "34/34 [==============================] - 0s 3ms/step - loss: 32496362.0000 - val_loss: 30759296.0000\n",
      "Epoch 44/300\n",
      "34/34 [==============================] - 0s 3ms/step - loss: 32323962.0000 - val_loss: 30520854.0000\n",
      "Epoch 45/300\n",
      "34/34 [==============================] - 0s 3ms/step - loss: 32164426.0000 - val_loss: 30448012.0000\n",
      "Epoch 46/300\n",
      "34/34 [==============================] - 0s 3ms/step - loss: 31974690.0000 - val_loss: 30182024.0000\n",
      "Epoch 47/300\n",
      "34/34 [==============================] - 0s 3ms/step - loss: 31815368.0000 - val_loss: 30102996.0000\n",
      "Epoch 48/300\n",
      "34/34 [==============================] - 0s 3ms/step - loss: 31611478.0000 - val_loss: 29910868.0000\n",
      "Epoch 49/300\n",
      "34/34 [==============================] - 0s 3ms/step - loss: 31465508.0000 - val_loss: 29658142.0000\n",
      "Epoch 50/300\n",
      "34/34 [==============================] - 0s 3ms/step - loss: 31295106.0000 - val_loss: 29552562.0000\n",
      "Epoch 51/300\n",
      "34/34 [==============================] - 0s 3ms/step - loss: 31199186.0000 - val_loss: 29433008.0000\n",
      "Epoch 52/300\n",
      "34/34 [==============================] - 0s 3ms/step - loss: 30974194.0000 - val_loss: 29272806.0000\n",
      "Epoch 53/300\n",
      "34/34 [==============================] - 0s 3ms/step - loss: 30802590.0000 - val_loss: 29123904.0000\n",
      "Epoch 54/300\n",
      "34/34 [==============================] - 0s 3ms/step - loss: 30734492.0000 - val_loss: 28879910.0000\n",
      "Epoch 55/300\n",
      "34/34 [==============================] - 0s 3ms/step - loss: 30459470.0000 - val_loss: 28670192.0000\n",
      "Epoch 56/300\n",
      "34/34 [==============================] - 0s 3ms/step - loss: 30316044.0000 - val_loss: 28584866.0000\n",
      "Epoch 57/300\n",
      "34/34 [==============================] - 0s 3ms/step - loss: 30098588.0000 - val_loss: 28363868.0000\n",
      "Epoch 58/300\n",
      "34/34 [==============================] - 0s 3ms/step - loss: 29977100.0000 - val_loss: 28357624.0000\n",
      "Epoch 59/300\n",
      "34/34 [==============================] - 0s 3ms/step - loss: 29832490.0000 - val_loss: 28101266.0000\n",
      "Epoch 60/300\n",
      "34/34 [==============================] - 0s 3ms/step - loss: 29619794.0000 - val_loss: 27914432.0000\n",
      "Epoch 61/300\n",
      "34/34 [==============================] - 0s 3ms/step - loss: 29479994.0000 - val_loss: 27844464.0000\n",
      "Epoch 62/300\n",
      "34/34 [==============================] - 0s 3ms/step - loss: 29329966.0000 - val_loss: 27522656.0000\n",
      "Epoch 63/300\n",
      "34/34 [==============================] - 0s 3ms/step - loss: 29098602.0000 - val_loss: 27533102.0000\n",
      "Epoch 64/300\n",
      "34/34 [==============================] - 0s 3ms/step - loss: 28944514.0000 - val_loss: 27207506.0000\n",
      "Epoch 65/300\n",
      "34/34 [==============================] - 0s 3ms/step - loss: 28834468.0000 - val_loss: 27233292.0000\n",
      "Epoch 66/300\n",
      "34/34 [==============================] - 0s 3ms/step - loss: 28640120.0000 - val_loss: 26820294.0000\n",
      "Epoch 67/300\n",
      "34/34 [==============================] - 0s 3ms/step - loss: 28375878.0000 - val_loss: 26696706.0000\n",
      "Epoch 68/300\n",
      "34/34 [==============================] - 0s 3ms/step - loss: 28187696.0000 - val_loss: 26459660.0000\n",
      "Epoch 69/300\n",
      "34/34 [==============================] - 0s 3ms/step - loss: 28033400.0000 - val_loss: 26232768.0000\n",
      "Epoch 70/300\n",
      "34/34 [==============================] - 0s 3ms/step - loss: 27798526.0000 - val_loss: 26182586.0000\n",
      "Epoch 71/300\n",
      "34/34 [==============================] - 0s 3ms/step - loss: 27767222.0000 - val_loss: 25867348.0000\n",
      "Epoch 72/300\n",
      "34/34 [==============================] - 0s 3ms/step - loss: 27481556.0000 - val_loss: 25721334.0000\n",
      "Epoch 73/300\n",
      "34/34 [==============================] - 0s 3ms/step - loss: 27289084.0000 - val_loss: 25515934.0000\n",
      "Epoch 74/300\n",
      "34/34 [==============================] - 0s 3ms/step - loss: 27159722.0000 - val_loss: 25593846.0000\n",
      "Epoch 75/300\n",
      "34/34 [==============================] - 0s 3ms/step - loss: 26952114.0000 - val_loss: 25142294.0000\n",
      "Epoch 76/300\n",
      "34/34 [==============================] - 0s 3ms/step - loss: 26698610.0000 - val_loss: 24834432.0000\n",
      "Epoch 77/300\n",
      "34/34 [==============================] - 0s 3ms/step - loss: 26559888.0000 - val_loss: 24809538.0000\n",
      "Epoch 78/300\n",
      "34/34 [==============================] - 0s 3ms/step - loss: 26374892.0000 - val_loss: 24596846.0000\n",
      "Epoch 79/300\n",
      "34/34 [==============================] - 0s 3ms/step - loss: 26206726.0000 - val_loss: 24443664.0000\n",
      "Epoch 80/300\n",
      "34/34 [==============================] - 0s 3ms/step - loss: 26034094.0000 - val_loss: 24265730.0000\n",
      "Epoch 81/300\n",
      "34/34 [==============================] - 0s 3ms/step - loss: 25777274.0000 - val_loss: 24026628.0000\n",
      "Epoch 82/300\n",
      "34/34 [==============================] - 0s 3ms/step - loss: 25672706.0000 - val_loss: 23799174.0000\n",
      "Epoch 83/300\n",
      "34/34 [==============================] - 0s 3ms/step - loss: 25446722.0000 - val_loss: 23657318.0000\n",
      "Epoch 84/300\n",
      "34/34 [==============================] - 0s 3ms/step - loss: 25277672.0000 - val_loss: 23414242.0000\n",
      "Epoch 85/300\n",
      "34/34 [==============================] - 0s 3ms/step - loss: 25098522.0000 - val_loss: 23363204.0000\n",
      "Epoch 86/300\n",
      "34/34 [==============================] - 0s 3ms/step - loss: 24945152.0000 - val_loss: 23053032.0000\n",
      "Epoch 87/300\n",
      "34/34 [==============================] - 0s 3ms/step - loss: 24828070.0000 - val_loss: 22965542.0000\n",
      "Epoch 88/300\n",
      "34/34 [==============================] - 0s 3ms/step - loss: 24617064.0000 - val_loss: 22820156.0000\n",
      "Epoch 89/300\n",
      "34/34 [==============================] - 0s 3ms/step - loss: 24581208.0000 - val_loss: 23028860.0000\n",
      "Epoch 90/300\n",
      "34/34 [==============================] - 0s 3ms/step - loss: 24366730.0000 - val_loss: 22426310.0000\n",
      "Epoch 91/300\n",
      "34/34 [==============================] - 0s 3ms/step - loss: 24166656.0000 - val_loss: 22436886.0000\n",
      "Epoch 92/300\n",
      "34/34 [==============================] - 0s 3ms/step - loss: 24099952.0000 - val_loss: 22256222.0000\n",
      "Epoch 93/300\n",
      "34/34 [==============================] - 0s 3ms/step - loss: 23870608.0000 - val_loss: 22044632.0000\n",
      "Epoch 94/300\n",
      "34/34 [==============================] - 0s 3ms/step - loss: 23731304.0000 - val_loss: 21914892.0000\n",
      "Epoch 95/300\n",
      "34/34 [==============================] - 0s 3ms/step - loss: 23682566.0000 - val_loss: 21815842.0000\n",
      "Epoch 96/300\n",
      "34/34 [==============================] - 0s 3ms/step - loss: 23488060.0000 - val_loss: 21700884.0000\n",
      "Epoch 97/300\n",
      "34/34 [==============================] - 0s 5ms/step - loss: 23363042.0000 - val_loss: 21583226.0000\n",
      "Epoch 98/300\n",
      "34/34 [==============================] - 0s 3ms/step - loss: 23248598.0000 - val_loss: 21419086.0000\n",
      "Epoch 99/300\n",
      "34/34 [==============================] - 0s 3ms/step - loss: 23147542.0000 - val_loss: 21408642.0000\n",
      "Epoch 100/300\n",
      "34/34 [==============================] - 0s 3ms/step - loss: 23052428.0000 - val_loss: 21289864.0000\n",
      "Epoch 101/300\n",
      "34/34 [==============================] - 0s 3ms/step - loss: 22952904.0000 - val_loss: 21202274.0000\n",
      "Epoch 102/300\n",
      "34/34 [==============================] - 0s 3ms/step - loss: 22856322.0000 - val_loss: 20981772.0000\n",
      "Epoch 103/300\n",
      "34/34 [==============================] - 0s 3ms/step - loss: 22760352.0000 - val_loss: 20982716.0000\n",
      "Epoch 104/300\n",
      "34/34 [==============================] - 0s 3ms/step - loss: 22715530.0000 - val_loss: 20884040.0000\n",
      "Epoch 105/300\n",
      "34/34 [==============================] - 0s 3ms/step - loss: 22628640.0000 - val_loss: 21021262.0000\n",
      "Epoch 106/300\n",
      "34/34 [==============================] - 0s 3ms/step - loss: 22475948.0000 - val_loss: 20726576.0000\n",
      "Epoch 107/300\n",
      "34/34 [==============================] - 0s 3ms/step - loss: 22479360.0000 - val_loss: 20710882.0000\n",
      "Epoch 108/300\n",
      "34/34 [==============================] - 0s 3ms/step - loss: 22363038.0000 - val_loss: 20579884.0000\n",
      "Epoch 109/300\n",
      "34/34 [==============================] - 0s 3ms/step - loss: 22303314.0000 - val_loss: 20519146.0000\n",
      "Epoch 110/300\n",
      "34/34 [==============================] - 0s 3ms/step - loss: 22178984.0000 - val_loss: 20574966.0000\n",
      "Epoch 111/300\n",
      "34/34 [==============================] - 0s 3ms/step - loss: 22296702.0000 - val_loss: 20433998.0000\n",
      "Epoch 112/300\n",
      "34/34 [==============================] - 0s 3ms/step - loss: 22142444.0000 - val_loss: 20609196.0000\n",
      "Epoch 113/300\n",
      "34/34 [==============================] - 0s 3ms/step - loss: 22118860.0000 - val_loss: 20355774.0000\n",
      "Epoch 114/300\n",
      "34/34 [==============================] - 0s 3ms/step - loss: 22005786.0000 - val_loss: 20312036.0000\n",
      "Epoch 115/300\n",
      "34/34 [==============================] - 0s 3ms/step - loss: 22039768.0000 - val_loss: 20311966.0000\n",
      "Epoch 116/300\n",
      "34/34 [==============================] - 0s 3ms/step - loss: 21929860.0000 - val_loss: 20190330.0000\n",
      "Epoch 117/300\n",
      "34/34 [==============================] - 0s 3ms/step - loss: 21850206.0000 - val_loss: 20204636.0000\n",
      "Epoch 118/300\n",
      "34/34 [==============================] - 0s 3ms/step - loss: 21806920.0000 - val_loss: 20202984.0000\n",
      "Epoch 119/300\n",
      "34/34 [==============================] - 0s 3ms/step - loss: 21756572.0000 - val_loss: 20012228.0000\n",
      "Epoch 120/300\n",
      "34/34 [==============================] - 0s 3ms/step - loss: 21697036.0000 - val_loss: 19986070.0000\n",
      "Epoch 121/300\n",
      "34/34 [==============================] - 0s 3ms/step - loss: 21719238.0000 - val_loss: 20161994.0000\n",
      "Epoch 122/300\n",
      "34/34 [==============================] - 0s 3ms/step - loss: 21675342.0000 - val_loss: 19925874.0000\n",
      "Epoch 123/300\n",
      "34/34 [==============================] - 0s 3ms/step - loss: 21597316.0000 - val_loss: 19894126.0000\n",
      "Epoch 124/300\n",
      "34/34 [==============================] - 0s 3ms/step - loss: 21558338.0000 - val_loss: 19905046.0000\n",
      "Epoch 125/300\n",
      "34/34 [==============================] - 0s 3ms/step - loss: 21503386.0000 - val_loss: 19962126.0000\n",
      "Epoch 126/300\n",
      "34/34 [==============================] - 0s 3ms/step - loss: 21485308.0000 - val_loss: 19882700.0000\n",
      "Epoch 127/300\n",
      "34/34 [==============================] - 0s 3ms/step - loss: 21484516.0000 - val_loss: 19926540.0000\n",
      "Epoch 128/300\n",
      "34/34 [==============================] - 0s 3ms/step - loss: 21429242.0000 - val_loss: 19779404.0000\n",
      "Epoch 129/300\n",
      "34/34 [==============================] - 0s 3ms/step - loss: 21372760.0000 - val_loss: 19793226.0000\n",
      "Epoch 130/300\n",
      "34/34 [==============================] - 0s 3ms/step - loss: 21352456.0000 - val_loss: 19782896.0000\n",
      "Epoch 131/300\n",
      "34/34 [==============================] - 0s 3ms/step - loss: 21320180.0000 - val_loss: 19802418.0000\n",
      "Epoch 132/300\n",
      "34/34 [==============================] - 0s 3ms/step - loss: 21318324.0000 - val_loss: 19670398.0000\n",
      "Epoch 133/300\n",
      "34/34 [==============================] - 0s 3ms/step - loss: 21254688.0000 - val_loss: 19711606.0000\n",
      "Epoch 134/300\n",
      "34/34 [==============================] - 0s 3ms/step - loss: 21198024.0000 - val_loss: 19731404.0000\n",
      "Epoch 135/300\n",
      "34/34 [==============================] - 0s 3ms/step - loss: 21249138.0000 - val_loss: 19777684.0000\n",
      "Epoch 136/300\n",
      "34/34 [==============================] - 0s 3ms/step - loss: 21154574.0000 - val_loss: 19694056.0000\n",
      "Epoch 137/300\n",
      "34/34 [==============================] - 0s 3ms/step - loss: 21145266.0000 - val_loss: 19596282.0000\n",
      "Epoch 138/300\n",
      "34/34 [==============================] - 0s 3ms/step - loss: 21155506.0000 - val_loss: 19576356.0000\n",
      "Epoch 139/300\n",
      "34/34 [==============================] - 0s 3ms/step - loss: 21130412.0000 - val_loss: 19642844.0000\n",
      "Epoch 140/300\n",
      "34/34 [==============================] - 0s 3ms/step - loss: 21082490.0000 - val_loss: 19499862.0000\n",
      "Epoch 141/300\n",
      "34/34 [==============================] - 0s 3ms/step - loss: 21122200.0000 - val_loss: 19558558.0000\n",
      "Epoch 142/300\n",
      "34/34 [==============================] - 0s 3ms/step - loss: 21011284.0000 - val_loss: 19647498.0000\n",
      "Epoch 143/300\n",
      "34/34 [==============================] - 0s 3ms/step - loss: 21064280.0000 - val_loss: 19504674.0000\n",
      "Epoch 144/300\n",
      "34/34 [==============================] - 0s 3ms/step - loss: 20991880.0000 - val_loss: 19452540.0000\n",
      "Epoch 145/300\n",
      "34/34 [==============================] - 0s 3ms/step - loss: 20953708.0000 - val_loss: 19562650.0000\n",
      "Epoch 146/300\n",
      "34/34 [==============================] - 0s 3ms/step - loss: 20975616.0000 - val_loss: 19485828.0000\n",
      "Epoch 147/300\n",
      "34/34 [==============================] - 0s 3ms/step - loss: 20915610.0000 - val_loss: 19512674.0000\n",
      "Epoch 148/300\n",
      "34/34 [==============================] - 0s 3ms/step - loss: 20993486.0000 - val_loss: 19421984.0000\n",
      "Epoch 149/300\n",
      "34/34 [==============================] - 0s 3ms/step - loss: 20872650.0000 - val_loss: 19477042.0000\n",
      "Epoch 150/300\n",
      "34/34 [==============================] - 0s 3ms/step - loss: 20887032.0000 - val_loss: 19454556.0000\n",
      "Epoch 151/300\n",
      "34/34 [==============================] - 0s 3ms/step - loss: 20936472.0000 - val_loss: 19419944.0000\n",
      "Epoch 152/300\n",
      "34/34 [==============================] - 0s 3ms/step - loss: 20805976.0000 - val_loss: 19416402.0000\n",
      "Epoch 153/300\n",
      "34/34 [==============================] - 0s 3ms/step - loss: 20773412.0000 - val_loss: 19385214.0000\n",
      "Epoch 154/300\n",
      "34/34 [==============================] - 0s 3ms/step - loss: 20739480.0000 - val_loss: 19357962.0000\n",
      "Epoch 155/300\n",
      "34/34 [==============================] - 0s 3ms/step - loss: 20817552.0000 - val_loss: 19529916.0000\n",
      "Epoch 156/300\n",
      "34/34 [==============================] - 0s 3ms/step - loss: 20807520.0000 - val_loss: 19310406.0000\n",
      "Epoch 157/300\n",
      "34/34 [==============================] - 0s 3ms/step - loss: 20701730.0000 - val_loss: 19359964.0000\n",
      "Epoch 158/300\n",
      "34/34 [==============================] - 0s 3ms/step - loss: 20763104.0000 - val_loss: 19282776.0000\n",
      "Epoch 159/300\n",
      "34/34 [==============================] - 0s 3ms/step - loss: 20665056.0000 - val_loss: 19469168.0000\n",
      "Epoch 160/300\n",
      "34/34 [==============================] - 0s 3ms/step - loss: 20818458.0000 - val_loss: 19316706.0000\n",
      "Epoch 161/300\n",
      "34/34 [==============================] - 0s 3ms/step - loss: 20686662.0000 - val_loss: 19413768.0000\n",
      "Epoch 162/300\n",
      "34/34 [==============================] - 0s 3ms/step - loss: 20703020.0000 - val_loss: 19203578.0000\n",
      "Epoch 163/300\n",
      "34/34 [==============================] - 0s 3ms/step - loss: 20616072.0000 - val_loss: 19264680.0000\n",
      "Epoch 164/300\n",
      "34/34 [==============================] - 0s 3ms/step - loss: 20612924.0000 - val_loss: 19178976.0000\n",
      "Epoch 165/300\n",
      "34/34 [==============================] - 0s 3ms/step - loss: 20549796.0000 - val_loss: 19236790.0000\n",
      "Epoch 166/300\n",
      "34/34 [==============================] - 0s 3ms/step - loss: 20601430.0000 - val_loss: 19225964.0000\n",
      "Epoch 167/300\n",
      "34/34 [==============================] - 0s 3ms/step - loss: 20567662.0000 - val_loss: 19315456.0000\n",
      "Epoch 168/300\n",
      "34/34 [==============================] - 0s 3ms/step - loss: 20604706.0000 - val_loss: 19130460.0000\n",
      "Epoch 169/300\n",
      "34/34 [==============================] - 0s 3ms/step - loss: 20522426.0000 - val_loss: 19172130.0000\n",
      "Epoch 170/300\n",
      "34/34 [==============================] - 0s 3ms/step - loss: 20505740.0000 - val_loss: 19179916.0000\n",
      "Epoch 171/300\n",
      "34/34 [==============================] - 0s 3ms/step - loss: 20510604.0000 - val_loss: 19149058.0000\n",
      "Epoch 172/300\n",
      "34/34 [==============================] - 0s 3ms/step - loss: 20475744.0000 - val_loss: 19112590.0000\n",
      "Epoch 173/300\n",
      "34/34 [==============================] - 0s 3ms/step - loss: 20492080.0000 - val_loss: 19321004.0000\n",
      "Epoch 174/300\n",
      "34/34 [==============================] - 0s 3ms/step - loss: 20522738.0000 - val_loss: 19124398.0000\n",
      "Epoch 175/300\n",
      "34/34 [==============================] - 0s 3ms/step - loss: 20497732.0000 - val_loss: 19102458.0000\n",
      "Epoch 176/300\n",
      "34/34 [==============================] - 0s 3ms/step - loss: 20416210.0000 - val_loss: 19138764.0000\n",
      "Epoch 177/300\n",
      "34/34 [==============================] - 0s 3ms/step - loss: 20419066.0000 - val_loss: 19134132.0000\n",
      "Epoch 178/300\n",
      "34/34 [==============================] - 0s 3ms/step - loss: 20454266.0000 - val_loss: 19042360.0000\n",
      "Epoch 179/300\n",
      "34/34 [==============================] - 0s 3ms/step - loss: 20488738.0000 - val_loss: 19250648.0000\n",
      "Epoch 180/300\n",
      "34/34 [==============================] - 0s 3ms/step - loss: 20524682.0000 - val_loss: 19058032.0000\n",
      "Epoch 181/300\n",
      "34/34 [==============================] - 0s 3ms/step - loss: 20460360.0000 - val_loss: 19138154.0000\n",
      "Epoch 182/300\n",
      "34/34 [==============================] - 0s 3ms/step - loss: 20386550.0000 - val_loss: 19106942.0000\n",
      "Epoch 183/300\n",
      "34/34 [==============================] - 0s 3ms/step - loss: 20368306.0000 - val_loss: 19014226.0000\n",
      "Epoch 184/300\n",
      "34/34 [==============================] - 0s 3ms/step - loss: 20387008.0000 - val_loss: 19089588.0000\n",
      "Epoch 185/300\n",
      "34/34 [==============================] - 0s 3ms/step - loss: 20349454.0000 - val_loss: 18956364.0000\n",
      "Epoch 186/300\n",
      "34/34 [==============================] - 0s 3ms/step - loss: 20328890.0000 - val_loss: 19047060.0000\n",
      "Epoch 187/300\n",
      "34/34 [==============================] - 0s 3ms/step - loss: 20432368.0000 - val_loss: 19007068.0000\n",
      "Epoch 188/300\n",
      "34/34 [==============================] - 0s 3ms/step - loss: 20362838.0000 - val_loss: 19090994.0000\n",
      "Epoch 189/300\n",
      "34/34 [==============================] - 0s 3ms/step - loss: 20235206.0000 - val_loss: 18995256.0000\n",
      "Epoch 190/300\n",
      "34/34 [==============================] - 0s 3ms/step - loss: 20293650.0000 - val_loss: 18953242.0000\n",
      "Epoch 191/300\n",
      "34/34 [==============================] - 0s 3ms/step - loss: 20334420.0000 - val_loss: 19277312.0000\n",
      "Epoch 192/300\n",
      "34/34 [==============================] - 0s 3ms/step - loss: 20222252.0000 - val_loss: 19192978.0000\n",
      "Epoch 193/300\n",
      "34/34 [==============================] - 0s 3ms/step - loss: 20367650.0000 - val_loss: 19052450.0000\n",
      "Epoch 194/300\n",
      "34/34 [==============================] - 0s 3ms/step - loss: 20313652.0000 - val_loss: 18995194.0000\n",
      "Epoch 195/300\n",
      "34/34 [==============================] - 0s 3ms/step - loss: 20198346.0000 - val_loss: 18969464.0000\n",
      "Epoch 196/300\n",
      "34/34 [==============================] - 0s 3ms/step - loss: 20278294.0000 - val_loss: 19034636.0000\n",
      "Epoch 197/300\n",
      "34/34 [==============================] - 0s 3ms/step - loss: 20285980.0000 - val_loss: 18984106.0000\n",
      "Epoch 198/300\n",
      "34/34 [==============================] - 0s 3ms/step - loss: 20184684.0000 - val_loss: 19014776.0000\n",
      "Epoch 199/300\n",
      "34/34 [==============================] - 0s 3ms/step - loss: 20248590.0000 - val_loss: 18997526.0000\n",
      "Epoch 200/300\n",
      "34/34 [==============================] - 0s 3ms/step - loss: 20293238.0000 - val_loss: 18996016.0000\n",
      "Epoch 201/300\n",
      "34/34 [==============================] - 0s 3ms/step - loss: 20214632.0000 - val_loss: 18984992.0000\n",
      "Epoch 202/300\n",
      "34/34 [==============================] - 0s 3ms/step - loss: 20156720.0000 - val_loss: 18978208.0000\n",
      "Epoch 203/300\n",
      "34/34 [==============================] - 0s 3ms/step - loss: 20142074.0000 - val_loss: 18994922.0000\n",
      "Epoch 204/300\n",
      "34/34 [==============================] - 0s 3ms/step - loss: 20132156.0000 - val_loss: 19013346.0000\n",
      "Epoch 205/300\n",
      "34/34 [==============================] - 0s 3ms/step - loss: 20248038.0000 - val_loss: 18906758.0000\n",
      "Epoch 206/300\n",
      "34/34 [==============================] - 0s 3ms/step - loss: 20182286.0000 - val_loss: 19012036.0000\n",
      "Epoch 207/300\n",
      "34/34 [==============================] - 0s 3ms/step - loss: 20146566.0000 - val_loss: 18940168.0000\n",
      "Epoch 208/300\n",
      "34/34 [==============================] - 0s 3ms/step - loss: 20207298.0000 - val_loss: 18877726.0000\n",
      "Epoch 209/300\n",
      "34/34 [==============================] - 0s 3ms/step - loss: 20135642.0000 - val_loss: 18990858.0000\n",
      "Epoch 210/300\n",
      "34/34 [==============================] - 0s 3ms/step - loss: 20179052.0000 - val_loss: 18888018.0000\n",
      "Epoch 211/300\n",
      "34/34 [==============================] - 0s 3ms/step - loss: 20119956.0000 - val_loss: 18997434.0000\n",
      "Epoch 212/300\n",
      "34/34 [==============================] - 0s 3ms/step - loss: 20071468.0000 - val_loss: 18884952.0000\n",
      "Epoch 213/300\n",
      "34/34 [==============================] - 0s 3ms/step - loss: 20172812.0000 - val_loss: 18929894.0000\n",
      "Epoch 214/300\n",
      "34/34 [==============================] - 0s 3ms/step - loss: 20020718.0000 - val_loss: 18959776.0000\n",
      "Epoch 215/300\n",
      "34/34 [==============================] - 0s 3ms/step - loss: 20070244.0000 - val_loss: 18939758.0000\n",
      "Epoch 216/300\n",
      "34/34 [==============================] - 0s 3ms/step - loss: 20001344.0000 - val_loss: 19133026.0000\n",
      "Epoch 217/300\n",
      "34/34 [==============================] - 0s 3ms/step - loss: 20014824.0000 - val_loss: 18904428.0000\n",
      "Epoch 218/300\n",
      "34/34 [==============================] - 0s 3ms/step - loss: 20085258.0000 - val_loss: 19000522.0000\n",
      "Epoch 219/300\n",
      "34/34 [==============================] - 0s 3ms/step - loss: 20067058.0000 - val_loss: 18926910.0000\n",
      "Epoch 220/300\n",
      "34/34 [==============================] - 0s 3ms/step - loss: 20028818.0000 - val_loss: 19009866.0000\n",
      "Epoch 221/300\n",
      "34/34 [==============================] - 0s 3ms/step - loss: 20161148.0000 - val_loss: 18884516.0000\n",
      "Epoch 222/300\n",
      "34/34 [==============================] - 0s 3ms/step - loss: 20004722.0000 - val_loss: 18951120.0000\n",
      "Epoch 223/300\n",
      "34/34 [==============================] - 0s 3ms/step - loss: 19975714.0000 - val_loss: 18883836.0000\n",
      "Epoch 224/300\n",
      "34/34 [==============================] - 0s 3ms/step - loss: 19942692.0000 - val_loss: 18924926.0000\n",
      "Epoch 225/300\n",
      "34/34 [==============================] - 0s 3ms/step - loss: 19977056.0000 - val_loss: 18925968.0000\n",
      "Epoch 226/300\n",
      "34/34 [==============================] - 0s 3ms/step - loss: 19965244.0000 - val_loss: 18839328.0000\n",
      "Epoch 227/300\n",
      "34/34 [==============================] - 0s 3ms/step - loss: 20076480.0000 - val_loss: 18970776.0000\n",
      "Epoch 228/300\n",
      "34/34 [==============================] - 0s 3ms/step - loss: 19951760.0000 - val_loss: 18808930.0000\n",
      "Epoch 229/300\n",
      "34/34 [==============================] - 0s 3ms/step - loss: 19964350.0000 - val_loss: 18791166.0000\n",
      "Epoch 230/300\n",
      "34/34 [==============================] - 0s 3ms/step - loss: 20019564.0000 - val_loss: 18893908.0000\n",
      "Epoch 231/300\n",
      "34/34 [==============================] - 0s 3ms/step - loss: 19970034.0000 - val_loss: 18930880.0000\n",
      "Epoch 232/300\n",
      "34/34 [==============================] - 0s 3ms/step - loss: 19965656.0000 - val_loss: 18866072.0000\n",
      "Epoch 233/300\n",
      "34/34 [==============================] - 0s 3ms/step - loss: 19987776.0000 - val_loss: 18983540.0000\n",
      "Epoch 234/300\n",
      "34/34 [==============================] - 0s 3ms/step - loss: 19894028.0000 - val_loss: 19061052.0000\n",
      "Epoch 235/300\n",
      "34/34 [==============================] - 0s 3ms/step - loss: 20057456.0000 - val_loss: 18824794.0000\n",
      "Epoch 236/300\n",
      "34/34 [==============================] - 0s 3ms/step - loss: 19869440.0000 - val_loss: 18978378.0000\n",
      "Epoch 237/300\n",
      "34/34 [==============================] - 0s 3ms/step - loss: 19919380.0000 - val_loss: 18904370.0000\n",
      "Epoch 238/300\n",
      "34/34 [==============================] - 0s 3ms/step - loss: 19897554.0000 - val_loss: 18816928.0000\n",
      "Epoch 239/300\n",
      "34/34 [==============================] - 0s 3ms/step - loss: 19866484.0000 - val_loss: 18856352.0000\n",
      "Epoch 240/300\n",
      "34/34 [==============================] - 0s 3ms/step - loss: 19951944.0000 - val_loss: 19027724.0000\n",
      "Epoch 241/300\n",
      "34/34 [==============================] - 0s 3ms/step - loss: 19842270.0000 - val_loss: 18877206.0000\n",
      "Epoch 242/300\n",
      "34/34 [==============================] - 0s 3ms/step - loss: 19960952.0000 - val_loss: 18767758.0000\n",
      "Epoch 243/300\n",
      "34/34 [==============================] - 0s 3ms/step - loss: 19811350.0000 - val_loss: 18991578.0000\n",
      "Epoch 244/300\n",
      "34/34 [==============================] - 0s 3ms/step - loss: 19809248.0000 - val_loss: 18908726.0000\n",
      "Epoch 245/300\n",
      "34/34 [==============================] - 0s 3ms/step - loss: 19872950.0000 - val_loss: 18901394.0000\n",
      "Epoch 246/300\n",
      "34/34 [==============================] - 0s 3ms/step - loss: 19875494.0000 - val_loss: 18893272.0000\n",
      "Epoch 247/300\n",
      "34/34 [==============================] - 0s 3ms/step - loss: 19779974.0000 - val_loss: 18837118.0000\n",
      "Epoch 248/300\n",
      "34/34 [==============================] - 0s 3ms/step - loss: 19820122.0000 - val_loss: 18942170.0000\n",
      "Epoch 249/300\n",
      "34/34 [==============================] - 0s 3ms/step - loss: 19859552.0000 - val_loss: 18854712.0000\n",
      "Epoch 250/300\n",
      "34/34 [==============================] - 0s 3ms/step - loss: 19757208.0000 - val_loss: 18823812.0000\n",
      "Epoch 251/300\n",
      "34/34 [==============================] - 0s 3ms/step - loss: 19734490.0000 - val_loss: 18819822.0000\n",
      "Epoch 252/300\n",
      "34/34 [==============================] - 0s 3ms/step - loss: 19760186.0000 - val_loss: 19038604.0000\n",
      "Epoch 253/300\n",
      "34/34 [==============================] - 0s 3ms/step - loss: 19728094.0000 - val_loss: 18852726.0000\n",
      "Epoch 254/300\n",
      "34/34 [==============================] - 0s 3ms/step - loss: 19871098.0000 - val_loss: 18958974.0000\n",
      "Epoch 255/300\n",
      "34/34 [==============================] - 0s 3ms/step - loss: 19755372.0000 - val_loss: 18912932.0000\n",
      "Epoch 256/300\n",
      "34/34 [==============================] - 0s 3ms/step - loss: 19760536.0000 - val_loss: 18965018.0000\n",
      "Epoch 257/300\n",
      "34/34 [==============================] - 0s 3ms/step - loss: 19787012.0000 - val_loss: 18815516.0000\n",
      "Epoch 258/300\n",
      "34/34 [==============================] - 0s 3ms/step - loss: 19741080.0000 - val_loss: 18840164.0000\n",
      "Epoch 259/300\n",
      "34/34 [==============================] - 0s 3ms/step - loss: 19704646.0000 - val_loss: 18864156.0000\n",
      "Epoch 260/300\n",
      "34/34 [==============================] - 0s 3ms/step - loss: 19759126.0000 - val_loss: 18805264.0000\n",
      "Epoch 261/300\n",
      "34/34 [==============================] - 0s 3ms/step - loss: 19727570.0000 - val_loss: 18874216.0000\n",
      "Epoch 262/300\n",
      "34/34 [==============================] - 0s 3ms/step - loss: 19700048.0000 - val_loss: 18878230.0000\n",
      "Epoch 263/300\n",
      "34/34 [==============================] - 0s 3ms/step - loss: 19702526.0000 - val_loss: 18860170.0000\n",
      "Epoch 264/300\n",
      "34/34 [==============================] - 0s 3ms/step - loss: 19707816.0000 - val_loss: 18926304.0000\n",
      "Epoch 265/300\n",
      "34/34 [==============================] - 0s 3ms/step - loss: 19658790.0000 - val_loss: 18800232.0000\n",
      "Epoch 266/300\n",
      "34/34 [==============================] - 0s 3ms/step - loss: 19679382.0000 - val_loss: 18817174.0000\n",
      "Epoch 267/300\n",
      "34/34 [==============================] - 0s 3ms/step - loss: 19644038.0000 - val_loss: 18797096.0000\n",
      "Epoch 268/300\n",
      "34/34 [==============================] - 0s 3ms/step - loss: 19662246.0000 - val_loss: 18923178.0000\n",
      "Epoch 269/300\n",
      "34/34 [==============================] - 0s 3ms/step - loss: 19728534.0000 - val_loss: 18901540.0000\n",
      "Epoch 270/300\n",
      "34/34 [==============================] - 0s 3ms/step - loss: 19754428.0000 - val_loss: 18883614.0000\n",
      "Epoch 271/300\n",
      "34/34 [==============================] - 0s 3ms/step - loss: 19634142.0000 - val_loss: 18793204.0000\n",
      "Epoch 272/300\n",
      "34/34 [==============================] - 0s 3ms/step - loss: 19640716.0000 - val_loss: 19031616.0000\n",
      "Epoch 273/300\n",
      "34/34 [==============================] - 0s 3ms/step - loss: 19627292.0000 - val_loss: 18787312.0000\n",
      "Epoch 274/300\n",
      "34/34 [==============================] - 0s 3ms/step - loss: 19625034.0000 - val_loss: 19215806.0000\n",
      "Epoch 275/300\n",
      "34/34 [==============================] - 0s 3ms/step - loss: 19682214.0000 - val_loss: 18776304.0000\n",
      "Epoch 276/300\n",
      "34/34 [==============================] - 0s 3ms/step - loss: 19625816.0000 - val_loss: 18801690.0000\n",
      "Epoch 277/300\n",
      "34/34 [==============================] - 0s 3ms/step - loss: 19640652.0000 - val_loss: 18855440.0000\n",
      "Epoch 278/300\n",
      "34/34 [==============================] - 0s 3ms/step - loss: 19608052.0000 - val_loss: 18879468.0000\n",
      "Epoch 279/300\n",
      "34/34 [==============================] - 0s 3ms/step - loss: 19643878.0000 - val_loss: 18906132.0000\n",
      "Epoch 280/300\n",
      "34/34 [==============================] - 0s 3ms/step - loss: 19538884.0000 - val_loss: 18742816.0000\n",
      "Epoch 281/300\n",
      "34/34 [==============================] - 0s 3ms/step - loss: 19627166.0000 - val_loss: 18907532.0000\n",
      "Epoch 282/300\n",
      "34/34 [==============================] - 0s 3ms/step - loss: 19630694.0000 - val_loss: 18869648.0000\n",
      "Epoch 283/300\n",
      "34/34 [==============================] - 0s 3ms/step - loss: 19497290.0000 - val_loss: 18903690.0000\n",
      "Epoch 284/300\n",
      "34/34 [==============================] - 0s 3ms/step - loss: 19587628.0000 - val_loss: 18774750.0000\n",
      "Epoch 285/300\n",
      "34/34 [==============================] - 0s 3ms/step - loss: 19580170.0000 - val_loss: 18843720.0000\n",
      "Epoch 286/300\n",
      "34/34 [==============================] - 0s 3ms/step - loss: 19565902.0000 - val_loss: 18820662.0000\n",
      "Epoch 287/300\n",
      "34/34 [==============================] - 0s 3ms/step - loss: 19535360.0000 - val_loss: 18841838.0000\n",
      "Epoch 288/300\n",
      "34/34 [==============================] - 0s 3ms/step - loss: 19624420.0000 - val_loss: 18900262.0000\n",
      "Epoch 289/300\n",
      "34/34 [==============================] - 0s 3ms/step - loss: 19508616.0000 - val_loss: 18868278.0000\n",
      "Epoch 290/300\n",
      "34/34 [==============================] - 0s 3ms/step - loss: 19564138.0000 - val_loss: 18718952.0000\n",
      "Epoch 291/300\n",
      "34/34 [==============================] - 0s 3ms/step - loss: 19541462.0000 - val_loss: 18951330.0000\n",
      "Epoch 292/300\n",
      "34/34 [==============================] - 0s 3ms/step - loss: 19604492.0000 - val_loss: 18857772.0000\n",
      "Epoch 293/300\n",
      "34/34 [==============================] - 0s 3ms/step - loss: 19382780.0000 - val_loss: 19050012.0000\n",
      "Epoch 294/300\n",
      "34/34 [==============================] - 0s 3ms/step - loss: 19690460.0000 - val_loss: 19108758.0000\n",
      "Epoch 295/300\n",
      "34/34 [==============================] - 0s 3ms/step - loss: 19553796.0000 - val_loss: 18834084.0000\n",
      "Epoch 296/300\n",
      "34/34 [==============================] - 0s 3ms/step - loss: 19497546.0000 - val_loss: 18839914.0000\n",
      "Epoch 297/300\n",
      "34/34 [==============================] - 0s 3ms/step - loss: 19530358.0000 - val_loss: 18831758.0000\n",
      "Epoch 298/300\n",
      "34/34 [==============================] - 0s 3ms/step - loss: 19527350.0000 - val_loss: 18858514.0000\n",
      "Epoch 299/300\n",
      "34/34 [==============================] - 0s 3ms/step - loss: 19505472.0000 - val_loss: 18809572.0000\n",
      "Epoch 300/300\n",
      "34/34 [==============================] - 0s 3ms/step - loss: 19482080.0000 - val_loss: 18862710.0000\n"
     ]
    },
    {
     "data": {
      "text/plain": [
       "<keras.callbacks.History at 0x294aea4d4c0>"
      ]
     },
     "execution_count": 144,
     "metadata": {},
     "output_type": "execute_result"
    }
   ],
   "source": [
    "model.fit(x_train , y_train , epochs=300, validation_data=(x_test,y_test))"
   ]
  },
  {
   "cell_type": "code",
   "execution_count": null,
   "id": "26167ab0",
   "metadata": {},
   "outputs": [],
   "source": [
    "# medical_df.head()"
   ]
  },
  {
   "cell_type": "code",
   "execution_count": null,
   "id": "1bbb1edb",
   "metadata": {},
   "outputs": [],
   "source": [
    "# pred = model.predict(sc.transform([[18,33.770,1,0,1]]))\n",
    "# pred\n",
    "# print(minMax.inverse_transform(pred))"
   ]
  },
  {
   "cell_type": "markdown",
   "id": "3792af17",
   "metadata": {},
   "source": [
    "# 5.  FINE TUNING"
   ]
  },
  {
   "cell_type": "code",
   "execution_count": null,
   "id": "c4ed65ff",
   "metadata": {},
   "outputs": [],
   "source": [
    "#pip install keras-tuner --quiet"
   ]
  },
  {
   "cell_type": "code",
   "execution_count": 152,
   "id": "346d0931",
   "metadata": {},
   "outputs": [],
   "source": [
    "from tensorflow.keras import layers\n",
    "from tensorflow.keras.layers import Dense\n",
    "from keras_tuner.tuners import RandomSearch \n"
   ]
  },
  {
   "cell_type": "markdown",
   "id": "d0479d4c",
   "metadata": {},
   "source": [
    "## Hyperparameters\n",
    "- How many number of hidden layers we should have?\n",
    "- How many number of neurons we should have in hidden layers?\n",
    "- Learning Rate"
   ]
  },
  {
   "cell_type": "code",
   "execution_count": 146,
   "id": "9bc9a60e",
   "metadata": {},
   "outputs": [],
   "source": [
    "# from keras import backend as K\n",
    "# def root_mean_squared_error(y_true, y_pred):\n",
    "#         return K.sqrt(K.mean(K.square(y_pred - y_true)))"
   ]
  },
  {
   "cell_type": "code",
   "execution_count": 160,
   "id": "01c62637",
   "metadata": {},
   "outputs": [],
   "source": [
    "def build_model(hp):\n",
    "    model = keras.Sequential()\n",
    "    for i in range(hp.Int('num_layers', 2, 20)):\n",
    "        model.add(layers.Dense(units=hp.Int('units_' + str(i),\n",
    "                                            min_value=32,\n",
    "                                            max_value=512,\n",
    "                                            step=32),\n",
    "                               activation='relu'))\n",
    "    model.add(layers.Dense(1, activation='linear'))\n",
    "    model.compile(\n",
    "        optimizer=keras.optimizers.Adam(\n",
    "            hp.Choice('learning_rate', [1e-2, 1e-3, 1e-4])),\n",
    "        loss= 'mean_absolute_error',\n",
    "    metrics=['mean_absolute_error'])\n",
    "    return model"
   ]
  },
  {
   "cell_type": "code",
   "execution_count": 162,
   "id": "36a9e298",
   "metadata": {},
   "outputs": [],
   "source": [
    "tuner  = RandomSearch(\n",
    "    build_model,\n",
    "    objective=\"val_mean_absolute_error\",\n",
    "    max_trials=5,\n",
    "    executions_per_trial=3,\n",
    "    directory='Hyperparameter_tuning',\n",
    "    project_name='Insurance estimator'\n",
    ")"
   ]
  },
  {
   "cell_type": "code",
   "execution_count": 163,
   "metadata": {},
   "outputs": [
    {
     "name": "stdout",
     "output_type": "stream",
     "text": [
      "Search space summary\n",
      "Default search space size: 4\n",
      "num_layers (Int)\n",
      "{'default': None, 'conditions': [], 'min_value': 2, 'max_value': 20, 'step': 1, 'sampling': None}\n",
      "units_0 (Int)\n",
      "{'default': None, 'conditions': [], 'min_value': 32, 'max_value': 512, 'step': 32, 'sampling': None}\n",
      "units_1 (Int)\n",
      "{'default': None, 'conditions': [], 'min_value': 32, 'max_value': 512, 'step': 32, 'sampling': None}\n",
      "learning_rate (Choice)\n",
      "{'default': 0.01, 'conditions': [], 'values': [0.01, 0.001, 0.0001], 'ordered': True}\n"
     ]
    }
   ],
   "source": [
    "tuner.search_space_summary()"
   ]
  },
  {
   "cell_type": "code",
   "execution_count": 158,
   "id": "6cfc1711",
   "metadata": {},
   "outputs": [],
   "source": [
    "# tuner.results_summary()"
   ]
  },
  {
   "cell_type": "code",
   "execution_count": 164,
   "id": "dc5291f1",
   "metadata": {},
   "outputs": [
    {
     "name": "stdout",
     "output_type": "stream",
     "text": [
      "Trial 5 Complete [00h 11m 25s]\n",
      "val_mean_absolute_error: 1417.5961507161458\n",
      "\n",
      "Best val_mean_absolute_error So Far: 1309.2873128255208\n",
      "Total elapsed time: 00h 45m 53s\n",
      "INFO:tensorflow:Oracle triggered exit\n"
     ]
    }
   ],
   "source": [
    "tuner.search(x_train , y_train , epochs=500 , validation_data = (x_test , y_test))"
   ]
  },
  {
   "cell_type": "code",
   "execution_count": 167,
   "id": "3c4ff47d",
   "metadata": {},
   "outputs": [
    {
     "name": "stdout",
     "output_type": "stream",
     "text": [
      "Results summary\n",
      "Results in project\\Insurance estimator\n",
      "Showing 10 best trials\n",
      "<keras_tuner.engine.objective.Objective object at 0x00000294AFFEF0A0>\n",
      "Trial summary\n",
      "Hyperparameters:\n",
      "num_layers: 8\n",
      "units_0: 480\n",
      "units_1: 224\n",
      "learning_rate: 0.0001\n",
      "units_2: 256\n",
      "units_3: 32\n",
      "units_4: 288\n",
      "units_5: 384\n",
      "units_6: 64\n",
      "units_7: 160\n",
      "units_8: 128\n",
      "units_9: 320\n",
      "units_10: 96\n",
      "units_11: 256\n",
      "units_12: 32\n",
      "units_13: 448\n",
      "Score: 1309.2873128255208\n",
      "Trial summary\n",
      "Hyperparameters:\n",
      "num_layers: 13\n",
      "units_0: 416\n",
      "units_1: 128\n",
      "learning_rate: 0.001\n",
      "units_2: 352\n",
      "units_3: 128\n",
      "units_4: 32\n",
      "units_5: 192\n",
      "units_6: 64\n",
      "units_7: 64\n",
      "units_8: 64\n",
      "units_9: 320\n",
      "units_10: 192\n",
      "units_11: 96\n",
      "units_12: 96\n",
      "units_13: 96\n",
      "Score: 1377.228515625\n",
      "Trial summary\n",
      "Hyperparameters:\n",
      "num_layers: 7\n",
      "units_0: 256\n",
      "units_1: 128\n",
      "learning_rate: 0.01\n",
      "units_2: 416\n",
      "units_3: 512\n",
      "units_4: 320\n",
      "units_5: 416\n",
      "units_6: 128\n",
      "units_7: 288\n",
      "units_8: 224\n",
      "units_9: 416\n",
      "units_10: 128\n",
      "units_11: 64\n",
      "units_12: 448\n",
      "units_13: 256\n",
      "Score: 1384.55712890625\n",
      "Trial summary\n",
      "Hyperparameters:\n",
      "num_layers: 11\n",
      "units_0: 384\n",
      "units_1: 224\n",
      "learning_rate: 0.0001\n",
      "units_2: 416\n",
      "units_3: 384\n",
      "units_4: 320\n",
      "units_5: 448\n",
      "units_6: 64\n",
      "units_7: 96\n",
      "units_8: 160\n",
      "units_9: 320\n",
      "units_10: 448\n",
      "units_11: 448\n",
      "units_12: 32\n",
      "units_13: 384\n",
      "Score: 1417.5961507161458\n",
      "Trial summary\n",
      "Hyperparameters:\n",
      "num_layers: 14\n",
      "units_0: 416\n",
      "units_1: 416\n",
      "learning_rate: 0.0001\n",
      "units_2: 32\n",
      "units_3: 32\n",
      "units_4: 32\n",
      "units_5: 32\n",
      "units_6: 32\n",
      "units_7: 32\n",
      "units_8: 32\n",
      "units_9: 32\n",
      "units_10: 32\n",
      "units_11: 32\n",
      "units_12: 32\n",
      "units_13: 32\n",
      "Score: 1439.0086263020833\n"
     ]
    }
   ],
   "source": [
    "tuner.results_summary()"
   ]
  },
  {
   "cell_type": "code",
   "execution_count": 180,
   "id": "1da87001",
   "metadata": {},
   "outputs": [],
   "source": [
    "model = Sequential([\n",
    "        keras.layers.Dense(480, activation = \"relu\",input_shape=(9,)),\n",
    "        keras.layers.Dense(224 , activation='relu'),\n",
    "        keras.layers.Dense(256 , activation='relu'),\n",
    "        keras.layers.Dense(32 , activation='relu'),\n",
    "        keras.layers.Dense(288 , activation='relu'),\n",
    "        keras.layers.Dense(384 , activation='relu'),\n",
    "        keras.layers.Dense(64 , activation='relu'),\n",
    "        keras.layers.Dense(160 , activation='relu'),\n",
    "        keras.layers.Dense(128 , activation='relu'),\n",
    "        keras.layers.Dense(320 , activation='relu'),\n",
    "        keras.layers.Dense(96 , activation='relu'),\n",
    "        keras.layers.Dense(256 , activation='relu'),\n",
    "        keras.layers.Dense(32 , activation='relu'),\n",
    "        keras.layers.Dense(448 , activation='relu'),\n",
    "        keras.layers.Dense(1,activation='linear')\n",
    "    ])\n",
    "    "
   ]
  },
  {
   "cell_type": "code",
   "execution_count": 181,
   "id": "9ae1f5cd",
   "metadata": {},
   "outputs": [],
   "source": [
    "from tensorflow.keras.optimizers import Adam\n",
    "adam = Adam(0.0001)\n",
    "model.compile(optimizer=adam,loss=\"mean_absolute_error\")"
   ]
  },
  {
   "cell_type": "code",
   "execution_count": 188,
   "id": "b8a0a6b5",
   "metadata": {},
   "outputs": [
    {
     "name": "stdout",
     "output_type": "stream",
     "text": [
      "Epoch 1/1000\n",
      "34/34 [==============================] - 1s 15ms/step - loss: 1315.7449 - val_loss: 1432.6171\n",
      "Epoch 2/1000\n",
      "34/34 [==============================] - 0s 12ms/step - loss: 1305.7595 - val_loss: 1431.0433\n",
      "Epoch 3/1000\n",
      "34/34 [==============================] - 0s 12ms/step - loss: 1313.7684 - val_loss: 1444.9402\n",
      "Epoch 4/1000\n",
      "34/34 [==============================] - 0s 13ms/step - loss: 1330.3656 - val_loss: 1435.9100\n",
      "Epoch 5/1000\n",
      "34/34 [==============================] - 0s 12ms/step - loss: 1309.1133 - val_loss: 1433.4479\n",
      "Epoch 6/1000\n",
      "34/34 [==============================] - 0s 12ms/step - loss: 1327.3973 - val_loss: 1431.7804\n",
      "Epoch 7/1000\n",
      "34/34 [==============================] - 1s 15ms/step - loss: 1317.6377 - val_loss: 1432.5181\n",
      "Epoch 8/1000\n",
      "34/34 [==============================] - 0s 13ms/step - loss: 1310.3071 - val_loss: 1424.7209\n",
      "Epoch 9/1000\n",
      "34/34 [==============================] - 0s 13ms/step - loss: 1307.6514 - val_loss: 1426.3325\n",
      "Epoch 10/1000\n",
      "34/34 [==============================] - 0s 13ms/step - loss: 1311.2988 - val_loss: 1461.8823\n",
      "Epoch 11/1000\n",
      "34/34 [==============================] - 0s 14ms/step - loss: 1350.4954 - val_loss: 1512.6941\n",
      "Epoch 12/1000\n",
      "34/34 [==============================] - 0s 14ms/step - loss: 1340.6696 - val_loss: 1431.3612\n",
      "Epoch 13/1000\n",
      "34/34 [==============================] - 0s 13ms/step - loss: 1311.2946 - val_loss: 1457.1617\n",
      "Epoch 14/1000\n",
      "34/34 [==============================] - 0s 13ms/step - loss: 1329.5819 - val_loss: 1466.9147\n",
      "Epoch 15/1000\n",
      "34/34 [==============================] - 0s 14ms/step - loss: 1324.2351 - val_loss: 1429.2216\n",
      "Epoch 16/1000\n",
      "34/34 [==============================] - 0s 13ms/step - loss: 1344.0452 - val_loss: 1492.7782\n",
      "Epoch 17/1000\n",
      "34/34 [==============================] - 0s 12ms/step - loss: 1318.6530 - val_loss: 1448.3682\n",
      "Epoch 18/1000\n",
      "34/34 [==============================] - 0s 11ms/step - loss: 1323.9984 - val_loss: 1433.4014\n",
      "Epoch 19/1000\n",
      "34/34 [==============================] - 0s 13ms/step - loss: 1299.2836 - val_loss: 1437.5399\n",
      "Epoch 20/1000\n",
      "34/34 [==============================] - 0s 13ms/step - loss: 1308.2953 - val_loss: 1437.4729\n",
      "Epoch 21/1000\n",
      "34/34 [==============================] - 0s 12ms/step - loss: 1295.7023 - val_loss: 1432.5444\n",
      "Epoch 22/1000\n",
      "34/34 [==============================] - 0s 12ms/step - loss: 1335.1001 - val_loss: 1446.8081\n",
      "Epoch 23/1000\n",
      "34/34 [==============================] - 0s 11ms/step - loss: 1321.8368 - val_loss: 1426.4648\n",
      "Epoch 24/1000\n",
      "34/34 [==============================] - 0s 11ms/step - loss: 1298.1565 - val_loss: 1479.5002\n",
      "Epoch 25/1000\n",
      "34/34 [==============================] - 0s 12ms/step - loss: 1328.3411 - val_loss: 1440.8190\n",
      "Epoch 26/1000\n",
      "34/34 [==============================] - 0s 12ms/step - loss: 1305.6180 - val_loss: 1483.9395\n",
      "Epoch 27/1000\n",
      "34/34 [==============================] - 0s 11ms/step - loss: 1349.4971 - val_loss: 1437.3314\n",
      "Epoch 28/1000\n",
      "34/34 [==============================] - 0s 11ms/step - loss: 1326.1187 - val_loss: 1448.7982\n",
      "Epoch 29/1000\n",
      "34/34 [==============================] - 0s 12ms/step - loss: 1328.5013 - val_loss: 1439.2322\n",
      "Epoch 30/1000\n",
      "34/34 [==============================] - 0s 11ms/step - loss: 1309.7079 - val_loss: 1467.8026\n",
      "Epoch 31/1000\n",
      "34/34 [==============================] - 0s 11ms/step - loss: 1360.5193 - val_loss: 1431.9594\n",
      "Epoch 32/1000\n",
      "34/34 [==============================] - 0s 11ms/step - loss: 1315.9550 - val_loss: 1475.5486\n",
      "Epoch 33/1000\n",
      "34/34 [==============================] - 0s 12ms/step - loss: 1313.6241 - val_loss: 1438.6702\n",
      "Epoch 34/1000\n",
      "34/34 [==============================] - 0s 12ms/step - loss: 1299.9231 - val_loss: 1487.2073\n",
      "Epoch 35/1000\n",
      "34/34 [==============================] - 0s 12ms/step - loss: 1320.1656 - val_loss: 1495.7184\n",
      "Epoch 36/1000\n",
      "34/34 [==============================] - 0s 12ms/step - loss: 1314.1814 - val_loss: 1441.5552\n",
      "Epoch 37/1000\n",
      "34/34 [==============================] - 0s 11ms/step - loss: 1338.7380 - val_loss: 1496.1011\n",
      "Epoch 38/1000\n",
      "34/34 [==============================] - 0s 11ms/step - loss: 1333.5557 - val_loss: 1456.3934\n",
      "Epoch 39/1000\n",
      "34/34 [==============================] - 0s 11ms/step - loss: 1310.1931 - val_loss: 1448.7300\n",
      "Epoch 40/1000\n",
      "34/34 [==============================] - 0s 12ms/step - loss: 1306.7220 - val_loss: 1482.7902\n",
      "Epoch 41/1000\n",
      "34/34 [==============================] - 0s 12ms/step - loss: 1308.9681 - val_loss: 1447.0818\n",
      "Epoch 42/1000\n",
      "34/34 [==============================] - 0s 11ms/step - loss: 1305.4121 - val_loss: 1497.0505\n",
      "Epoch 43/1000\n",
      "34/34 [==============================] - 0s 11ms/step - loss: 1307.8776 - val_loss: 1468.8575\n",
      "Epoch 44/1000\n",
      "34/34 [==============================] - 0s 12ms/step - loss: 1342.8563 - val_loss: 1468.7053\n",
      "Epoch 45/1000\n",
      "34/34 [==============================] - 0s 13ms/step - loss: 1308.2042 - val_loss: 1448.6338\n",
      "Epoch 46/1000\n",
      "34/34 [==============================] - 0s 12ms/step - loss: 1329.0978 - val_loss: 1460.8872\n",
      "Epoch 47/1000\n",
      "34/34 [==============================] - 0s 11ms/step - loss: 1331.2749 - val_loss: 1441.8890\n",
      "Epoch 48/1000\n",
      "34/34 [==============================] - 0s 13ms/step - loss: 1296.7123 - val_loss: 1457.6815\n",
      "Epoch 49/1000\n",
      "34/34 [==============================] - 0s 12ms/step - loss: 1331.9320 - val_loss: 1479.4861\n",
      "Epoch 50/1000\n",
      "34/34 [==============================] - 0s 11ms/step - loss: 1322.5925 - val_loss: 1517.7513\n",
      "Epoch 51/1000\n",
      "34/34 [==============================] - 0s 12ms/step - loss: 1308.6980 - val_loss: 1485.3608\n",
      "Epoch 52/1000\n",
      "34/34 [==============================] - 0s 12ms/step - loss: 1302.3228 - val_loss: 1461.9921\n",
      "Epoch 53/1000\n",
      "34/34 [==============================] - 0s 13ms/step - loss: 1295.4009 - val_loss: 1451.9492\n",
      "Epoch 54/1000\n",
      "34/34 [==============================] - 1s 15ms/step - loss: 1290.9534 - val_loss: 1451.5876\n",
      "Epoch 55/1000\n",
      "34/34 [==============================] - 0s 11ms/step - loss: 1305.0883 - val_loss: 1477.9701\n",
      "Epoch 56/1000\n",
      "34/34 [==============================] - 0s 11ms/step - loss: 1298.5111 - val_loss: 1465.1725\n",
      "Epoch 57/1000\n",
      "34/34 [==============================] - 0s 12ms/step - loss: 1324.4534 - val_loss: 1473.5116\n",
      "Epoch 58/1000\n",
      "34/34 [==============================] - 0s 12ms/step - loss: 1303.1725 - val_loss: 1461.4208\n",
      "Epoch 59/1000\n",
      "34/34 [==============================] - 0s 12ms/step - loss: 1328.6444 - val_loss: 1471.1158\n",
      "Epoch 60/1000\n",
      "34/34 [==============================] - 0s 12ms/step - loss: 1312.7090 - val_loss: 1462.7970\n",
      "Epoch 61/1000\n",
      "34/34 [==============================] - 0s 12ms/step - loss: 1288.7661 - val_loss: 1454.1216\n",
      "Epoch 62/1000\n",
      "34/34 [==============================] - 0s 13ms/step - loss: 1290.6151 - val_loss: 1453.2261\n",
      "Epoch 63/1000\n",
      "34/34 [==============================] - 0s 12ms/step - loss: 1283.3457 - val_loss: 1443.4019\n",
      "Epoch 64/1000\n",
      "34/34 [==============================] - 0s 12ms/step - loss: 1282.3169 - val_loss: 1477.7689\n",
      "Epoch 65/1000\n",
      "34/34 [==============================] - 0s 13ms/step - loss: 1302.2643 - val_loss: 1492.5110\n",
      "Epoch 66/1000\n",
      "34/34 [==============================] - 0s 12ms/step - loss: 1300.3743 - val_loss: 1453.6656\n",
      "Epoch 67/1000\n",
      "34/34 [==============================] - 0s 12ms/step - loss: 1278.8795 - val_loss: 1452.6823\n",
      "Epoch 68/1000\n",
      "34/34 [==============================] - 0s 12ms/step - loss: 1295.9695 - val_loss: 1469.1162\n",
      "Epoch 69/1000\n",
      "34/34 [==============================] - 0s 12ms/step - loss: 1296.9893 - val_loss: 1478.4919\n",
      "Epoch 70/1000\n",
      "34/34 [==============================] - 0s 11ms/step - loss: 1326.0656 - val_loss: 1499.6367\n",
      "Epoch 71/1000\n",
      "34/34 [==============================] - 0s 11ms/step - loss: 1299.6814 - val_loss: 1459.9604\n",
      "Epoch 72/1000\n",
      "34/34 [==============================] - 0s 11ms/step - loss: 1336.1641 - val_loss: 1492.4724\n",
      "Epoch 73/1000\n",
      "34/34 [==============================] - 0s 12ms/step - loss: 1327.3650 - val_loss: 1456.3428\n",
      "Epoch 74/1000\n",
      "34/34 [==============================] - 0s 12ms/step - loss: 1295.2123 - val_loss: 1451.9805\n",
      "Epoch 75/1000\n",
      "34/34 [==============================] - 0s 11ms/step - loss: 1285.4601 - val_loss: 1466.8092\n",
      "Epoch 76/1000\n",
      "34/34 [==============================] - 0s 12ms/step - loss: 1322.1239 - val_loss: 1479.4066\n",
      "Epoch 77/1000\n",
      "34/34 [==============================] - 0s 12ms/step - loss: 1357.8595 - val_loss: 1490.7561\n",
      "Epoch 78/1000\n",
      "34/34 [==============================] - 0s 11ms/step - loss: 1298.0828 - val_loss: 1479.0272\n",
      "Epoch 79/1000\n",
      "34/34 [==============================] - 0s 11ms/step - loss: 1302.9539 - val_loss: 1459.2689\n",
      "Epoch 80/1000\n",
      "34/34 [==============================] - 0s 11ms/step - loss: 1300.0543 - val_loss: 1468.7950\n",
      "Epoch 81/1000\n",
      "34/34 [==============================] - 0s 12ms/step - loss: 1288.5682 - val_loss: 1475.9365\n",
      "Epoch 82/1000\n",
      "34/34 [==============================] - 0s 11ms/step - loss: 1279.3219 - val_loss: 1470.4827\n",
      "Epoch 83/1000\n",
      "34/34 [==============================] - 0s 12ms/step - loss: 1280.2228 - val_loss: 1479.2513\n",
      "Epoch 84/1000\n",
      "34/34 [==============================] - 0s 12ms/step - loss: 1289.1223 - val_loss: 1461.7341\n",
      "Epoch 85/1000\n",
      "34/34 [==============================] - 0s 12ms/step - loss: 1300.1763 - val_loss: 1581.6432\n",
      "Epoch 86/1000\n",
      "34/34 [==============================] - 0s 11ms/step - loss: 1330.1685 - val_loss: 1471.1031\n",
      "Epoch 87/1000\n",
      "34/34 [==============================] - 0s 11ms/step - loss: 1311.6952 - val_loss: 1467.5106\n",
      "Epoch 88/1000\n",
      "34/34 [==============================] - 0s 13ms/step - loss: 1279.5621 - val_loss: 1459.0872\n",
      "Epoch 89/1000\n",
      "34/34 [==============================] - 0s 15ms/step - loss: 1299.6263 - val_loss: 1513.4664\n",
      "Epoch 90/1000\n",
      "34/34 [==============================] - 0s 12ms/step - loss: 1307.2623 - val_loss: 1467.6094\n",
      "Epoch 91/1000\n",
      "34/34 [==============================] - 1s 15ms/step - loss: 1290.8397 - val_loss: 1487.7972\n",
      "Epoch 92/1000\n",
      "34/34 [==============================] - 0s 11ms/step - loss: 1291.5205 - val_loss: 1477.3994\n",
      "Epoch 93/1000\n",
      "34/34 [==============================] - 0s 12ms/step - loss: 1365.4220 - val_loss: 1521.4911\n",
      "Epoch 94/1000\n",
      "34/34 [==============================] - 0s 12ms/step - loss: 1320.5913 - val_loss: 1472.0841\n",
      "Epoch 95/1000\n",
      "34/34 [==============================] - 0s 12ms/step - loss: 1285.0508 - val_loss: 1467.3156\n",
      "Epoch 96/1000\n",
      "34/34 [==============================] - 0s 11ms/step - loss: 1304.9878 - val_loss: 1472.6821\n",
      "Epoch 97/1000\n",
      "34/34 [==============================] - 0s 11ms/step - loss: 1286.6085 - val_loss: 1480.3918\n",
      "Epoch 98/1000\n",
      "34/34 [==============================] - 0s 12ms/step - loss: 1315.3572 - val_loss: 1474.1458\n",
      "Epoch 99/1000\n",
      "34/34 [==============================] - 0s 12ms/step - loss: 1329.2057 - val_loss: 1518.3593\n",
      "Epoch 100/1000\n",
      "34/34 [==============================] - 0s 11ms/step - loss: 1286.1670 - val_loss: 1473.6263\n",
      "Epoch 101/1000\n",
      "34/34 [==============================] - 0s 11ms/step - loss: 1271.6340 - val_loss: 1510.8983\n",
      "Epoch 102/1000\n",
      "34/34 [==============================] - 0s 11ms/step - loss: 1350.9579 - val_loss: 1619.7971\n",
      "Epoch 103/1000\n",
      "34/34 [==============================] - 0s 11ms/step - loss: 1326.6545 - val_loss: 1469.1350\n",
      "Epoch 104/1000\n",
      "34/34 [==============================] - 0s 11ms/step - loss: 1293.1470 - val_loss: 1490.0825\n",
      "Epoch 105/1000\n",
      "34/34 [==============================] - 0s 12ms/step - loss: 1300.1675 - val_loss: 1468.3368\n",
      "Epoch 106/1000\n",
      "34/34 [==============================] - 0s 11ms/step - loss: 1290.8464 - val_loss: 1478.6121\n",
      "Epoch 107/1000\n",
      "34/34 [==============================] - 0s 11ms/step - loss: 1310.8179 - val_loss: 1519.9860\n",
      "Epoch 108/1000\n",
      "34/34 [==============================] - 0s 12ms/step - loss: 1291.6774 - val_loss: 1478.3018\n",
      "Epoch 109/1000\n",
      "34/34 [==============================] - 0s 11ms/step - loss: 1273.4220 - val_loss: 1473.4462\n",
      "Epoch 110/1000\n",
      "34/34 [==============================] - 0s 11ms/step - loss: 1273.3369 - val_loss: 1485.3804\n",
      "Epoch 111/1000\n",
      "34/34 [==============================] - 0s 12ms/step - loss: 1279.3029 - val_loss: 1485.5387\n",
      "Epoch 112/1000\n",
      "34/34 [==============================] - 0s 11ms/step - loss: 1283.2632 - val_loss: 1490.7230\n",
      "Epoch 113/1000\n",
      "34/34 [==============================] - 0s 12ms/step - loss: 1291.4990 - val_loss: 1484.6724\n",
      "Epoch 114/1000\n",
      "34/34 [==============================] - 0s 12ms/step - loss: 1306.3715 - val_loss: 1541.7386\n",
      "Epoch 115/1000\n",
      "34/34 [==============================] - 0s 12ms/step - loss: 1338.6655 - val_loss: 1491.3257\n",
      "Epoch 116/1000\n",
      "34/34 [==============================] - 0s 12ms/step - loss: 1305.7762 - val_loss: 1475.6771\n",
      "Epoch 117/1000\n",
      "34/34 [==============================] - 0s 11ms/step - loss: 1290.3896 - val_loss: 1501.6060\n",
      "Epoch 118/1000\n",
      "34/34 [==============================] - 0s 12ms/step - loss: 1279.9153 - val_loss: 1505.5851\n",
      "Epoch 119/1000\n",
      "34/34 [==============================] - 0s 12ms/step - loss: 1302.7228 - val_loss: 1505.1749\n",
      "Epoch 120/1000\n",
      "34/34 [==============================] - 0s 11ms/step - loss: 1307.0083 - val_loss: 1500.7666\n",
      "Epoch 121/1000\n",
      "34/34 [==============================] - 0s 12ms/step - loss: 1323.7135 - val_loss: 1485.3408\n",
      "Epoch 122/1000\n",
      "34/34 [==============================] - 0s 11ms/step - loss: 1271.1997 - val_loss: 1475.8337\n",
      "Epoch 123/1000\n",
      "34/34 [==============================] - 0s 12ms/step - loss: 1284.7362 - val_loss: 1477.5095\n",
      "Epoch 124/1000\n",
      "34/34 [==============================] - 0s 11ms/step - loss: 1297.4226 - val_loss: 1478.1754\n",
      "Epoch 125/1000\n",
      "34/34 [==============================] - 0s 11ms/step - loss: 1269.2426 - val_loss: 1477.2169\n",
      "Epoch 126/1000\n",
      "34/34 [==============================] - 0s 11ms/step - loss: 1286.1725 - val_loss: 1499.6614\n",
      "Epoch 127/1000\n",
      "34/34 [==============================] - 0s 11ms/step - loss: 1284.6598 - val_loss: 1517.1674\n",
      "Epoch 128/1000\n",
      "34/34 [==============================] - 0s 11ms/step - loss: 1314.9907 - val_loss: 1528.1978\n",
      "Epoch 129/1000\n",
      "34/34 [==============================] - 0s 12ms/step - loss: 1291.3365 - val_loss: 1491.9764\n",
      "Epoch 130/1000\n",
      "34/34 [==============================] - 0s 12ms/step - loss: 1273.1986 - val_loss: 1485.8600\n",
      "Epoch 131/1000\n",
      "34/34 [==============================] - 0s 12ms/step - loss: 1288.5286 - val_loss: 1494.6265\n",
      "Epoch 132/1000\n",
      "34/34 [==============================] - 0s 11ms/step - loss: 1284.0753 - val_loss: 1560.0122\n",
      "Epoch 133/1000\n",
      "34/34 [==============================] - 0s 12ms/step - loss: 1288.6969 - val_loss: 1496.9552\n",
      "Epoch 134/1000\n",
      "34/34 [==============================] - 0s 11ms/step - loss: 1291.0565 - val_loss: 1475.4142\n",
      "Epoch 135/1000\n",
      "34/34 [==============================] - 0s 11ms/step - loss: 1321.6454 - val_loss: 1513.3257\n",
      "Epoch 136/1000\n",
      "34/34 [==============================] - 0s 11ms/step - loss: 1301.2059 - val_loss: 1499.7755\n",
      "Epoch 137/1000\n",
      "34/34 [==============================] - 0s 11ms/step - loss: 1279.2500 - val_loss: 1495.9585\n",
      "Epoch 138/1000\n",
      "34/34 [==============================] - 0s 11ms/step - loss: 1280.5869 - val_loss: 1493.5891\n",
      "Epoch 139/1000\n",
      "34/34 [==============================] - 0s 12ms/step - loss: 1305.1119 - val_loss: 1500.9490\n",
      "Epoch 140/1000\n",
      "34/34 [==============================] - 0s 11ms/step - loss: 1270.5045 - val_loss: 1520.6864\n",
      "Epoch 141/1000\n",
      "34/34 [==============================] - 0s 12ms/step - loss: 1304.4713 - val_loss: 1507.8615\n",
      "Epoch 142/1000\n",
      "34/34 [==============================] - 0s 13ms/step - loss: 1294.2134 - val_loss: 1519.2068\n",
      "Epoch 143/1000\n",
      "34/34 [==============================] - 0s 12ms/step - loss: 1276.0286 - val_loss: 1526.6060\n",
      "Epoch 144/1000\n",
      "34/34 [==============================] - 0s 11ms/step - loss: 1278.4819 - val_loss: 1506.0140\n",
      "Epoch 145/1000\n",
      "34/34 [==============================] - 0s 11ms/step - loss: 1266.1199 - val_loss: 1496.8258\n",
      "Epoch 146/1000\n",
      "34/34 [==============================] - 0s 12ms/step - loss: 1276.2073 - val_loss: 1511.8667\n",
      "Epoch 147/1000\n",
      "34/34 [==============================] - 0s 13ms/step - loss: 1277.7738 - val_loss: 1533.0726\n",
      "Epoch 148/1000\n",
      "34/34 [==============================] - 0s 15ms/step - loss: 1345.8269 - val_loss: 1542.3773\n",
      "Epoch 149/1000\n",
      "34/34 [==============================] - 0s 11ms/step - loss: 1271.0233 - val_loss: 1580.7472\n",
      "Epoch 150/1000\n",
      "34/34 [==============================] - 1s 16ms/step - loss: 1398.0753 - val_loss: 1511.9493\n",
      "Epoch 151/1000\n",
      "34/34 [==============================] - 0s 12ms/step - loss: 1277.1263 - val_loss: 1511.0170\n",
      "Epoch 152/1000\n",
      "34/34 [==============================] - 0s 12ms/step - loss: 1256.2765 - val_loss: 1513.6819\n",
      "Epoch 153/1000\n",
      "34/34 [==============================] - 0s 12ms/step - loss: 1285.2933 - val_loss: 1518.6521\n",
      "Epoch 154/1000\n",
      "34/34 [==============================] - 0s 11ms/step - loss: 1274.0645 - val_loss: 1511.0695\n",
      "Epoch 155/1000\n",
      "34/34 [==============================] - 0s 11ms/step - loss: 1279.5129 - val_loss: 1495.6798\n",
      "Epoch 156/1000\n",
      "34/34 [==============================] - 0s 11ms/step - loss: 1347.3397 - val_loss: 1502.6604\n",
      "Epoch 157/1000\n",
      "34/34 [==============================] - 0s 12ms/step - loss: 1309.5614 - val_loss: 1542.4415\n",
      "Epoch 158/1000\n",
      "34/34 [==============================] - 0s 12ms/step - loss: 1291.0751 - val_loss: 1520.4911\n",
      "Epoch 159/1000\n",
      "34/34 [==============================] - 0s 12ms/step - loss: 1270.4647 - val_loss: 1513.7963\n",
      "Epoch 160/1000\n",
      "34/34 [==============================] - 0s 11ms/step - loss: 1285.1329 - val_loss: 1585.7472\n",
      "Epoch 161/1000\n",
      "34/34 [==============================] - 0s 12ms/step - loss: 1289.2441 - val_loss: 1519.8575\n",
      "Epoch 162/1000\n",
      "34/34 [==============================] - 0s 13ms/step - loss: 1290.9745 - val_loss: 1602.0704\n",
      "Epoch 163/1000\n",
      "34/34 [==============================] - 0s 12ms/step - loss: 1288.2023 - val_loss: 1514.6559\n",
      "Epoch 164/1000\n",
      "34/34 [==============================] - 0s 12ms/step - loss: 1262.9056 - val_loss: 1518.2018\n",
      "Epoch 165/1000\n",
      "34/34 [==============================] - 0s 12ms/step - loss: 1274.7592 - val_loss: 1526.5948\n",
      "Epoch 166/1000\n",
      "34/34 [==============================] - 0s 12ms/step - loss: 1364.2545 - val_loss: 1522.4800\n",
      "Epoch 167/1000\n",
      "34/34 [==============================] - 0s 13ms/step - loss: 1284.6287 - val_loss: 1540.1467\n",
      "Epoch 168/1000\n",
      "34/34 [==============================] - 0s 11ms/step - loss: 1268.9829 - val_loss: 1567.2968\n",
      "Epoch 169/1000\n",
      "34/34 [==============================] - 0s 11ms/step - loss: 1330.2797 - val_loss: 1544.9406\n",
      "Epoch 170/1000\n",
      "34/34 [==============================] - 0s 11ms/step - loss: 1286.7957 - val_loss: 1576.2786\n",
      "Epoch 171/1000\n",
      "34/34 [==============================] - 0s 11ms/step - loss: 1279.3191 - val_loss: 1576.3046\n",
      "Epoch 172/1000\n",
      "34/34 [==============================] - 0s 12ms/step - loss: 1301.0079 - val_loss: 1512.6788\n",
      "Epoch 173/1000\n",
      "34/34 [==============================] - 0s 12ms/step - loss: 1255.1000 - val_loss: 1518.8956\n",
      "Epoch 174/1000\n",
      "34/34 [==============================] - 0s 12ms/step - loss: 1244.6002 - val_loss: 1514.8048\n",
      "Epoch 175/1000\n",
      "34/34 [==============================] - 0s 12ms/step - loss: 1274.0312 - val_loss: 1515.3524\n",
      "Epoch 176/1000\n",
      "34/34 [==============================] - 0s 13ms/step - loss: 1287.8871 - val_loss: 1517.0579\n",
      "Epoch 177/1000\n",
      "34/34 [==============================] - 0s 12ms/step - loss: 1281.4438 - val_loss: 1524.9388\n",
      "Epoch 178/1000\n",
      "34/34 [==============================] - 0s 11ms/step - loss: 1262.6072 - val_loss: 1554.4989\n",
      "Epoch 179/1000\n",
      "34/34 [==============================] - 0s 11ms/step - loss: 1267.6713 - val_loss: 1536.3695\n",
      "Epoch 180/1000\n",
      "34/34 [==============================] - 0s 11ms/step - loss: 1277.5280 - val_loss: 1526.5519\n",
      "Epoch 181/1000\n",
      "34/34 [==============================] - 0s 11ms/step - loss: 1272.5795 - val_loss: 1526.5117\n",
      "Epoch 182/1000\n",
      "34/34 [==============================] - 0s 11ms/step - loss: 1250.8206 - val_loss: 1540.3358\n",
      "Epoch 183/1000\n",
      "34/34 [==============================] - 0s 11ms/step - loss: 1272.5413 - val_loss: 1530.6522\n",
      "Epoch 184/1000\n",
      "34/34 [==============================] - 0s 11ms/step - loss: 1255.3258 - val_loss: 1527.3506\n",
      "Epoch 185/1000\n",
      "34/34 [==============================] - 0s 11ms/step - loss: 1236.5212 - val_loss: 1517.0620\n",
      "Epoch 186/1000\n",
      "34/34 [==============================] - 0s 12ms/step - loss: 1241.8754 - val_loss: 1560.6447\n",
      "Epoch 187/1000\n",
      "34/34 [==============================] - 0s 12ms/step - loss: 1300.6654 - val_loss: 1534.4904\n",
      "Epoch 188/1000\n",
      "34/34 [==============================] - 0s 12ms/step - loss: 1254.0994 - val_loss: 1547.0924\n",
      "Epoch 189/1000\n",
      "34/34 [==============================] - 0s 11ms/step - loss: 1240.3490 - val_loss: 1538.0651\n",
      "Epoch 190/1000\n",
      "34/34 [==============================] - 0s 12ms/step - loss: 1233.5374 - val_loss: 1533.4635\n",
      "Epoch 191/1000\n",
      "34/34 [==============================] - 0s 11ms/step - loss: 1269.6555 - val_loss: 1560.7618\n",
      "Epoch 192/1000\n",
      "34/34 [==============================] - 0s 12ms/step - loss: 1267.1033 - val_loss: 1551.9496\n",
      "Epoch 193/1000\n",
      "34/34 [==============================] - 0s 11ms/step - loss: 1296.9340 - val_loss: 1580.4100\n",
      "Epoch 194/1000\n",
      "34/34 [==============================] - 0s 11ms/step - loss: 1286.7817 - val_loss: 1611.9314\n",
      "Epoch 195/1000\n",
      "34/34 [==============================] - 0s 12ms/step - loss: 1319.8362 - val_loss: 1553.4205\n",
      "Epoch 196/1000\n",
      "34/34 [==============================] - 0s 13ms/step - loss: 1274.1377 - val_loss: 1579.7258\n",
      "Epoch 197/1000\n",
      "34/34 [==============================] - 0s 12ms/step - loss: 1262.4138 - val_loss: 1552.4172\n",
      "Epoch 198/1000\n",
      "34/34 [==============================] - 0s 12ms/step - loss: 1248.1455 - val_loss: 1545.9723\n",
      "Epoch 199/1000\n",
      "34/34 [==============================] - 0s 11ms/step - loss: 1256.7419 - val_loss: 1552.8932\n",
      "Epoch 200/1000\n",
      "34/34 [==============================] - 0s 11ms/step - loss: 1244.8567 - val_loss: 1542.4919\n",
      "Epoch 201/1000\n",
      "34/34 [==============================] - 0s 11ms/step - loss: 1247.0482 - val_loss: 1539.4504\n",
      "Epoch 202/1000\n",
      "34/34 [==============================] - 0s 12ms/step - loss: 1239.9697 - val_loss: 1550.4713\n",
      "Epoch 203/1000\n",
      "34/34 [==============================] - 0s 12ms/step - loss: 1263.1438 - val_loss: 1560.9012\n",
      "Epoch 204/1000\n",
      "34/34 [==============================] - 0s 12ms/step - loss: 1275.2949 - val_loss: 1534.9282\n",
      "Epoch 205/1000\n",
      "34/34 [==============================] - 0s 13ms/step - loss: 1258.6105 - val_loss: 1533.5729\n",
      "Epoch 206/1000\n",
      "34/34 [==============================] - 0s 11ms/step - loss: 1241.7808 - val_loss: 1567.3640\n",
      "Epoch 207/1000\n",
      "34/34 [==============================] - 0s 11ms/step - loss: 1283.7114 - val_loss: 1583.6455\n",
      "Epoch 208/1000\n",
      "34/34 [==============================] - 0s 12ms/step - loss: 1270.8551 - val_loss: 1579.3582\n",
      "Epoch 209/1000\n",
      "34/34 [==============================] - 0s 12ms/step - loss: 1245.9000 - val_loss: 1555.4049\n",
      "Epoch 210/1000\n",
      "34/34 [==============================] - 0s 11ms/step - loss: 1255.3395 - val_loss: 1554.7629\n",
      "Epoch 211/1000\n",
      "34/34 [==============================] - 0s 11ms/step - loss: 1244.0085 - val_loss: 1556.5458\n",
      "Epoch 212/1000\n",
      "34/34 [==============================] - 0s 12ms/step - loss: 1230.9720 - val_loss: 1567.8134\n",
      "Epoch 213/1000\n",
      "34/34 [==============================] - 0s 11ms/step - loss: 1235.8646 - val_loss: 1556.7627\n",
      "Epoch 214/1000\n",
      "34/34 [==============================] - 0s 11ms/step - loss: 1261.7247 - val_loss: 1553.6119\n",
      "Epoch 215/1000\n",
      "34/34 [==============================] - 0s 12ms/step - loss: 1252.7465 - val_loss: 1577.1318\n",
      "Epoch 216/1000\n",
      "34/34 [==============================] - 0s 11ms/step - loss: 1319.9603 - val_loss: 1672.5565\n",
      "Epoch 217/1000\n",
      "34/34 [==============================] - 0s 14ms/step - loss: 1306.4733 - val_loss: 1554.2196\n",
      "Epoch 218/1000\n",
      "34/34 [==============================] - 0s 12ms/step - loss: 1259.5183 - val_loss: 1597.8627\n",
      "Epoch 219/1000\n",
      "34/34 [==============================] - 0s 12ms/step - loss: 1249.6655 - val_loss: 1612.2400\n",
      "Epoch 220/1000\n",
      "34/34 [==============================] - 0s 12ms/step - loss: 1257.1427 - val_loss: 1569.5419\n",
      "Epoch 221/1000\n",
      "34/34 [==============================] - 0s 12ms/step - loss: 1249.8677 - val_loss: 1578.3524\n",
      "Epoch 222/1000\n",
      "34/34 [==============================] - 0s 11ms/step - loss: 1255.6920 - val_loss: 1611.7726\n",
      "Epoch 223/1000\n",
      "34/34 [==============================] - 0s 12ms/step - loss: 1275.5016 - val_loss: 1579.4388\n",
      "Epoch 224/1000\n",
      "34/34 [==============================] - 0s 13ms/step - loss: 1262.2938 - val_loss: 1625.3922\n",
      "Epoch 225/1000\n",
      "34/34 [==============================] - 0s 13ms/step - loss: 1283.1456 - val_loss: 1580.8394\n",
      "Epoch 226/1000\n",
      "34/34 [==============================] - 0s 12ms/step - loss: 1273.9652 - val_loss: 1606.0999\n",
      "Epoch 227/1000\n",
      "34/34 [==============================] - 1s 15ms/step - loss: 1347.6405 - val_loss: 1749.7034\n",
      "Epoch 228/1000\n",
      "34/34 [==============================] - 0s 14ms/step - loss: 1310.3330 - val_loss: 1613.9550\n",
      "Epoch 229/1000\n",
      "34/34 [==============================] - 1s 15ms/step - loss: 1256.4297 - val_loss: 1578.3962\n",
      "Epoch 230/1000\n",
      "34/34 [==============================] - 0s 11ms/step - loss: 1238.3900 - val_loss: 1584.3580\n",
      "Epoch 231/1000\n",
      "34/34 [==============================] - 0s 12ms/step - loss: 1253.9447 - val_loss: 1610.7810\n",
      "Epoch 232/1000\n",
      "34/34 [==============================] - 0s 12ms/step - loss: 1230.2111 - val_loss: 1568.0975\n",
      "Epoch 233/1000\n",
      "34/34 [==============================] - 0s 11ms/step - loss: 1215.1801 - val_loss: 1573.2123\n",
      "Epoch 234/1000\n",
      "34/34 [==============================] - 0s 11ms/step - loss: 1241.7518 - val_loss: 1572.7815\n",
      "Epoch 235/1000\n",
      "34/34 [==============================] - 0s 11ms/step - loss: 1227.4214 - val_loss: 1572.2427\n",
      "Epoch 236/1000\n",
      "34/34 [==============================] - 0s 12ms/step - loss: 1224.7422 - val_loss: 1578.1699\n",
      "Epoch 237/1000\n",
      "34/34 [==============================] - 0s 13ms/step - loss: 1241.6576 - val_loss: 1598.6976\n",
      "Epoch 238/1000\n",
      "34/34 [==============================] - 0s 12ms/step - loss: 1240.1881 - val_loss: 1579.3049\n",
      "Epoch 239/1000\n",
      "34/34 [==============================] - 0s 13ms/step - loss: 1246.2222 - val_loss: 1604.6630\n",
      "Epoch 240/1000\n",
      "34/34 [==============================] - 0s 11ms/step - loss: 1278.9208 - val_loss: 1610.7129\n",
      "Epoch 241/1000\n",
      "34/34 [==============================] - 0s 12ms/step - loss: 1276.7646 - val_loss: 1594.3866\n",
      "Epoch 242/1000\n",
      "34/34 [==============================] - 0s 12ms/step - loss: 1224.9497 - val_loss: 1608.4713\n",
      "Epoch 243/1000\n",
      "34/34 [==============================] - 0s 12ms/step - loss: 1240.3073 - val_loss: 1581.2729\n",
      "Epoch 244/1000\n",
      "34/34 [==============================] - 0s 12ms/step - loss: 1230.8806 - val_loss: 1620.3901\n",
      "Epoch 245/1000\n",
      "34/34 [==============================] - 0s 14ms/step - loss: 1276.7871 - val_loss: 1580.1185\n",
      "Epoch 246/1000\n",
      "34/34 [==============================] - 0s 12ms/step - loss: 1230.6012 - val_loss: 1586.1725\n",
      "Epoch 247/1000\n",
      "34/34 [==============================] - 0s 11ms/step - loss: 1225.3193 - val_loss: 1588.2518\n",
      "Epoch 248/1000\n",
      "34/34 [==============================] - 0s 12ms/step - loss: 1203.2056 - val_loss: 1592.3733\n",
      "Epoch 249/1000\n",
      "34/34 [==============================] - 0s 13ms/step - loss: 1212.6860 - val_loss: 1600.5283\n",
      "Epoch 250/1000\n",
      "34/34 [==============================] - 0s 11ms/step - loss: 1232.3251 - val_loss: 1646.4103\n",
      "Epoch 251/1000\n",
      "34/34 [==============================] - 0s 11ms/step - loss: 1240.8420 - val_loss: 1602.2252\n",
      "Epoch 252/1000\n",
      "34/34 [==============================] - 0s 12ms/step - loss: 1234.4402 - val_loss: 1595.2828\n",
      "Epoch 253/1000\n",
      "34/34 [==============================] - 0s 12ms/step - loss: 1250.6945 - val_loss: 1605.4082\n",
      "Epoch 254/1000\n",
      "34/34 [==============================] - 0s 13ms/step - loss: 1252.0339 - val_loss: 1617.7747\n",
      "Epoch 255/1000\n",
      "34/34 [==============================] - 0s 12ms/step - loss: 1263.5823 - val_loss: 1620.2129\n",
      "Epoch 256/1000\n",
      "34/34 [==============================] - 0s 12ms/step - loss: 1317.8734 - val_loss: 1613.5380\n",
      "Epoch 257/1000\n",
      "34/34 [==============================] - 0s 12ms/step - loss: 1255.9390 - val_loss: 1605.7476\n",
      "Epoch 258/1000\n",
      "34/34 [==============================] - 0s 12ms/step - loss: 1213.1964 - val_loss: 1593.3149\n",
      "Epoch 259/1000\n",
      "34/34 [==============================] - 0s 11ms/step - loss: 1245.0430 - val_loss: 1633.3484\n",
      "Epoch 260/1000\n",
      "34/34 [==============================] - 0s 11ms/step - loss: 1297.2866 - val_loss: 1612.5668\n",
      "Epoch 261/1000\n",
      "34/34 [==============================] - 0s 12ms/step - loss: 1224.4716 - val_loss: 1628.1263\n",
      "Epoch 262/1000\n",
      "34/34 [==============================] - 0s 12ms/step - loss: 1221.3545 - val_loss: 1600.1639\n",
      "Epoch 263/1000\n",
      "34/34 [==============================] - 0s 12ms/step - loss: 1246.2941 - val_loss: 1599.6368\n",
      "Epoch 264/1000\n",
      "34/34 [==============================] - 0s 12ms/step - loss: 1221.4918 - val_loss: 1606.1328\n",
      "Epoch 265/1000\n",
      "34/34 [==============================] - 0s 13ms/step - loss: 1234.2532 - val_loss: 1659.5562\n",
      "Epoch 266/1000\n",
      "34/34 [==============================] - 0s 11ms/step - loss: 1242.0259 - val_loss: 1667.6980\n",
      "Epoch 267/1000\n",
      "34/34 [==============================] - 0s 12ms/step - loss: 1237.5172 - val_loss: 1610.7467\n",
      "Epoch 268/1000\n",
      "34/34 [==============================] - 0s 12ms/step - loss: 1234.4908 - val_loss: 1605.7720\n",
      "Epoch 269/1000\n",
      "34/34 [==============================] - 0s 12ms/step - loss: 1226.0729 - val_loss: 1655.2979\n",
      "Epoch 270/1000\n",
      "34/34 [==============================] - 0s 12ms/step - loss: 1227.1997 - val_loss: 1608.8766\n",
      "Epoch 271/1000\n",
      "34/34 [==============================] - 0s 12ms/step - loss: 1219.9661 - val_loss: 1617.8927\n",
      "Epoch 272/1000\n",
      "34/34 [==============================] - 0s 11ms/step - loss: 1214.4371 - val_loss: 1622.0057\n",
      "Epoch 273/1000\n",
      "34/34 [==============================] - 0s 11ms/step - loss: 1237.9001 - val_loss: 1605.2888\n",
      "Epoch 274/1000\n",
      "34/34 [==============================] - 0s 11ms/step - loss: 1216.4313 - val_loss: 1607.4082\n",
      "Epoch 275/1000\n",
      "34/34 [==============================] - 0s 12ms/step - loss: 1212.1433 - val_loss: 1622.8080\n",
      "Epoch 276/1000\n",
      "34/34 [==============================] - 0s 13ms/step - loss: 1233.6080 - val_loss: 1626.5852\n",
      "Epoch 277/1000\n",
      "34/34 [==============================] - 0s 12ms/step - loss: 1207.0361 - val_loss: 1622.3778\n",
      "Epoch 278/1000\n",
      "34/34 [==============================] - 0s 11ms/step - loss: 1209.3989 - val_loss: 1633.0261\n",
      "Epoch 279/1000\n",
      "34/34 [==============================] - 0s 11ms/step - loss: 1205.8328 - val_loss: 1659.7180\n",
      "Epoch 280/1000\n",
      "34/34 [==============================] - 0s 12ms/step - loss: 1261.3704 - val_loss: 1643.1737\n",
      "Epoch 281/1000\n",
      "34/34 [==============================] - 0s 12ms/step - loss: 1209.5903 - val_loss: 1637.2245\n",
      "Epoch 282/1000\n",
      "34/34 [==============================] - 0s 13ms/step - loss: 1190.2911 - val_loss: 1623.1049\n",
      "Epoch 283/1000\n",
      "34/34 [==============================] - 0s 11ms/step - loss: 1241.0828 - val_loss: 1635.3019\n",
      "Epoch 284/1000\n",
      "34/34 [==============================] - 0s 12ms/step - loss: 1217.6052 - val_loss: 1651.4468\n",
      "Epoch 285/1000\n",
      "34/34 [==============================] - 0s 12ms/step - loss: 1209.2926 - val_loss: 1631.0796\n",
      "Epoch 286/1000\n",
      "34/34 [==============================] - 0s 12ms/step - loss: 1213.0258 - val_loss: 1649.8312\n",
      "Epoch 287/1000\n",
      "34/34 [==============================] - 0s 12ms/step - loss: 1239.2379 - val_loss: 1650.1829\n",
      "Epoch 288/1000\n",
      "34/34 [==============================] - 0s 11ms/step - loss: 1196.1227 - val_loss: 1629.8760\n",
      "Epoch 289/1000\n",
      "34/34 [==============================] - 0s 11ms/step - loss: 1185.1028 - val_loss: 1628.1554\n",
      "Epoch 290/1000\n",
      "34/34 [==============================] - 0s 11ms/step - loss: 1212.3159 - val_loss: 1645.7969\n",
      "Epoch 291/1000\n",
      "34/34 [==============================] - 0s 12ms/step - loss: 1199.9489 - val_loss: 1634.4971\n",
      "Epoch 292/1000\n",
      "34/34 [==============================] - 0s 12ms/step - loss: 1203.2551 - val_loss: 1656.1193\n",
      "Epoch 293/1000\n",
      "34/34 [==============================] - 0s 12ms/step - loss: 1262.3585 - val_loss: 1708.6998\n",
      "Epoch 294/1000\n",
      "34/34 [==============================] - 0s 12ms/step - loss: 1224.9056 - val_loss: 1649.4546\n",
      "Epoch 295/1000\n",
      "34/34 [==============================] - 0s 11ms/step - loss: 1242.0026 - val_loss: 1634.9094\n",
      "Epoch 296/1000\n",
      "34/34 [==============================] - 0s 12ms/step - loss: 1191.6938 - val_loss: 1652.6714\n",
      "Epoch 297/1000\n",
      "34/34 [==============================] - 0s 12ms/step - loss: 1235.8035 - val_loss: 1764.4552\n",
      "Epoch 298/1000\n",
      "34/34 [==============================] - 0s 11ms/step - loss: 1244.2269 - val_loss: 1647.5946\n",
      "Epoch 299/1000\n",
      "34/34 [==============================] - 0s 11ms/step - loss: 1202.1482 - val_loss: 1659.7238\n",
      "Epoch 300/1000\n",
      "34/34 [==============================] - 0s 12ms/step - loss: 1225.9083 - val_loss: 1643.1166\n",
      "Epoch 301/1000\n",
      "34/34 [==============================] - 0s 12ms/step - loss: 1281.1055 - val_loss: 1778.0752\n",
      "Epoch 302/1000\n",
      "34/34 [==============================] - 0s 12ms/step - loss: 1267.1423 - val_loss: 1710.9657\n",
      "Epoch 303/1000\n",
      "34/34 [==============================] - 0s 12ms/step - loss: 1228.1520 - val_loss: 1703.5565\n",
      "Epoch 304/1000\n",
      "34/34 [==============================] - 0s 12ms/step - loss: 1221.3356 - val_loss: 1692.7142\n",
      "Epoch 305/1000\n",
      "34/34 [==============================] - 0s 12ms/step - loss: 1231.1591 - val_loss: 1676.0468\n",
      "Epoch 306/1000\n",
      "34/34 [==============================] - 0s 11ms/step - loss: 1187.1273 - val_loss: 1667.6401\n",
      "Epoch 307/1000\n",
      "34/34 [==============================] - 0s 11ms/step - loss: 1200.6625 - val_loss: 1707.9913\n",
      "Epoch 308/1000\n",
      "34/34 [==============================] - 0s 12ms/step - loss: 1199.5105 - val_loss: 1671.8032\n",
      "Epoch 309/1000\n",
      "34/34 [==============================] - 0s 12ms/step - loss: 1207.7317 - val_loss: 1668.4708\n",
      "Epoch 310/1000\n",
      "34/34 [==============================] - 0s 12ms/step - loss: 1203.5906 - val_loss: 1692.8330\n",
      "Epoch 311/1000\n",
      "34/34 [==============================] - 0s 12ms/step - loss: 1228.6075 - val_loss: 1695.8512\n",
      "Epoch 312/1000\n",
      "34/34 [==============================] - 0s 12ms/step - loss: 1248.4609 - val_loss: 1779.7141\n",
      "Epoch 313/1000\n",
      "34/34 [==============================] - 0s 12ms/step - loss: 1232.7468 - val_loss: 1667.8036\n",
      "Epoch 314/1000\n",
      "34/34 [==============================] - 0s 12ms/step - loss: 1220.6025 - val_loss: 1740.5154\n",
      "Epoch 315/1000\n",
      "34/34 [==============================] - 0s 11ms/step - loss: 1212.9148 - val_loss: 1657.4866\n",
      "Epoch 316/1000\n",
      "34/34 [==============================] - 0s 13ms/step - loss: 1162.4417 - val_loss: 1651.4641\n",
      "Epoch 317/1000\n",
      "34/34 [==============================] - 0s 11ms/step - loss: 1175.9337 - val_loss: 1675.1317\n",
      "Epoch 318/1000\n",
      "34/34 [==============================] - 0s 11ms/step - loss: 1176.5701 - val_loss: 1668.0900\n",
      "Epoch 319/1000\n",
      "34/34 [==============================] - 0s 11ms/step - loss: 1188.3086 - val_loss: 1723.3846\n",
      "Epoch 320/1000\n",
      "34/34 [==============================] - 0s 12ms/step - loss: 1185.5610 - val_loss: 1667.9053\n",
      "Epoch 321/1000\n",
      "34/34 [==============================] - 0s 12ms/step - loss: 1177.4661 - val_loss: 1660.9883\n",
      "Epoch 322/1000\n",
      "34/34 [==============================] - 0s 11ms/step - loss: 1172.1254 - val_loss: 1657.9336\n",
      "Epoch 323/1000\n",
      "34/34 [==============================] - 0s 11ms/step - loss: 1173.0208 - val_loss: 1719.7096\n",
      "Epoch 324/1000\n",
      "34/34 [==============================] - 0s 11ms/step - loss: 1216.8124 - val_loss: 1726.2964\n",
      "Epoch 325/1000\n",
      "34/34 [==============================] - 0s 11ms/step - loss: 1243.9988 - val_loss: 1695.4789\n",
      "Epoch 326/1000\n",
      "34/34 [==============================] - 0s 11ms/step - loss: 1164.3120 - val_loss: 1687.3051\n",
      "Epoch 327/1000\n",
      "34/34 [==============================] - 0s 11ms/step - loss: 1191.5063 - val_loss: 1673.5387\n",
      "Epoch 328/1000\n",
      "34/34 [==============================] - 0s 11ms/step - loss: 1186.7867 - val_loss: 1685.7721\n",
      "Epoch 329/1000\n",
      "34/34 [==============================] - 0s 12ms/step - loss: 1173.4143 - val_loss: 1684.5475\n",
      "Epoch 330/1000\n",
      "34/34 [==============================] - 0s 12ms/step - loss: 1158.8324 - val_loss: 1670.5197\n",
      "Epoch 331/1000\n",
      "34/34 [==============================] - 0s 11ms/step - loss: 1168.4763 - val_loss: 1693.2860\n",
      "Epoch 332/1000\n",
      "34/34 [==============================] - 0s 11ms/step - loss: 1164.7314 - val_loss: 1679.2963\n",
      "Epoch 333/1000\n",
      "34/34 [==============================] - 0s 11ms/step - loss: 1164.7388 - val_loss: 1692.4243\n",
      "Epoch 334/1000\n",
      "34/34 [==============================] - 0s 12ms/step - loss: 1185.5710 - val_loss: 1679.3864\n",
      "Epoch 335/1000\n",
      "34/34 [==============================] - 0s 11ms/step - loss: 1163.6057 - val_loss: 1728.8781\n",
      "Epoch 336/1000\n",
      "34/34 [==============================] - 0s 11ms/step - loss: 1210.4674 - val_loss: 1705.8041\n",
      "Epoch 337/1000\n",
      "34/34 [==============================] - 0s 12ms/step - loss: 1195.2657 - val_loss: 1701.3899\n",
      "Epoch 338/1000\n",
      "34/34 [==============================] - 0s 12ms/step - loss: 1170.2625 - val_loss: 1697.9210\n",
      "Epoch 339/1000\n",
      "34/34 [==============================] - 0s 12ms/step - loss: 1162.7532 - val_loss: 1693.8584\n",
      "Epoch 340/1000\n",
      "34/34 [==============================] - 0s 11ms/step - loss: 1162.7202 - val_loss: 1722.9010\n",
      "Epoch 341/1000\n",
      "34/34 [==============================] - 0s 11ms/step - loss: 1194.9602 - val_loss: 1723.4669\n",
      "Epoch 342/1000\n",
      "34/34 [==============================] - 0s 12ms/step - loss: 1289.0028 - val_loss: 1731.8422\n",
      "Epoch 343/1000\n",
      "34/34 [==============================] - 0s 11ms/step - loss: 1176.3079 - val_loss: 1701.2705\n",
      "Epoch 344/1000\n",
      "34/34 [==============================] - 0s 11ms/step - loss: 1174.4478 - val_loss: 1674.4368\n",
      "Epoch 345/1000\n",
      "34/34 [==============================] - 0s 11ms/step - loss: 1171.0071 - val_loss: 1716.0232\n",
      "Epoch 346/1000\n",
      "34/34 [==============================] - 0s 12ms/step - loss: 1180.4109 - val_loss: 1737.4326\n",
      "Epoch 347/1000\n",
      "34/34 [==============================] - 0s 12ms/step - loss: 1178.5638 - val_loss: 1698.4994\n",
      "Epoch 348/1000\n",
      "34/34 [==============================] - 0s 11ms/step - loss: 1182.6310 - val_loss: 1707.8949\n",
      "Epoch 349/1000\n",
      "34/34 [==============================] - 0s 11ms/step - loss: 1184.1517 - val_loss: 1714.9678\n",
      "Epoch 350/1000\n",
      "34/34 [==============================] - 0s 12ms/step - loss: 1174.9337 - val_loss: 1689.6407\n",
      "Epoch 351/1000\n",
      "34/34 [==============================] - 0s 11ms/step - loss: 1178.3550 - val_loss: 1687.5221\n",
      "Epoch 352/1000\n",
      "34/34 [==============================] - 0s 15ms/step - loss: 1181.3566 - val_loss: 1771.5162\n",
      "Epoch 353/1000\n",
      "34/34 [==============================] - 0s 12ms/step - loss: 1186.1296 - val_loss: 1703.9969\n",
      "Epoch 354/1000\n",
      "34/34 [==============================] - 0s 12ms/step - loss: 1167.3695 - val_loss: 1695.6776\n",
      "Epoch 355/1000\n",
      "34/34 [==============================] - 0s 12ms/step - loss: 1149.8602 - val_loss: 1752.9935\n",
      "Epoch 356/1000\n",
      "34/34 [==============================] - 0s 13ms/step - loss: 1206.1730 - val_loss: 1760.2043\n",
      "Epoch 357/1000\n",
      "34/34 [==============================] - 1s 17ms/step - loss: 1219.4401 - val_loss: 1697.1157\n",
      "Epoch 358/1000\n",
      "34/34 [==============================] - 0s 14ms/step - loss: 1173.5638 - val_loss: 1696.2933\n",
      "Epoch 359/1000\n",
      "34/34 [==============================] - 0s 12ms/step - loss: 1175.9734 - val_loss: 1697.8374\n",
      "Epoch 360/1000\n",
      "34/34 [==============================] - 0s 12ms/step - loss: 1152.3684 - val_loss: 1706.9022\n",
      "Epoch 361/1000\n",
      "34/34 [==============================] - 0s 12ms/step - loss: 1164.1855 - val_loss: 1738.3199\n",
      "Epoch 362/1000\n",
      "34/34 [==============================] - 0s 14ms/step - loss: 1182.5421 - val_loss: 1807.0806\n",
      "Epoch 363/1000\n",
      "34/34 [==============================] - 0s 14ms/step - loss: 1207.2958 - val_loss: 1699.1077\n",
      "Epoch 364/1000\n",
      "34/34 [==============================] - 0s 12ms/step - loss: 1155.3450 - val_loss: 1724.2128\n",
      "Epoch 365/1000\n",
      "34/34 [==============================] - 0s 12ms/step - loss: 1186.2654 - val_loss: 1723.3715\n",
      "Epoch 366/1000\n",
      "34/34 [==============================] - 0s 12ms/step - loss: 1195.3225 - val_loss: 1709.6179\n",
      "Epoch 367/1000\n",
      "34/34 [==============================] - 0s 11ms/step - loss: 1156.5699 - val_loss: 1695.1182\n",
      "Epoch 368/1000\n",
      "34/34 [==============================] - 0s 12ms/step - loss: 1153.9449 - val_loss: 1742.9100\n",
      "Epoch 369/1000\n",
      "34/34 [==============================] - 0s 12ms/step - loss: 1155.4178 - val_loss: 1689.9642\n",
      "Epoch 370/1000\n",
      "34/34 [==============================] - 0s 13ms/step - loss: 1132.6681 - val_loss: 1731.9432\n",
      "Epoch 371/1000\n",
      "34/34 [==============================] - 0s 11ms/step - loss: 1168.9764 - val_loss: 1718.8522\n",
      "Epoch 372/1000\n",
      "34/34 [==============================] - 0s 12ms/step - loss: 1154.8832 - val_loss: 1707.2390\n",
      "Epoch 373/1000\n",
      "34/34 [==============================] - 0s 12ms/step - loss: 1135.2334 - val_loss: 1727.2451\n",
      "Epoch 374/1000\n",
      "34/34 [==============================] - 0s 12ms/step - loss: 1189.1028 - val_loss: 1722.4857\n",
      "Epoch 375/1000\n",
      "34/34 [==============================] - 0s 11ms/step - loss: 1141.4979 - val_loss: 1695.6127\n",
      "Epoch 376/1000\n",
      "34/34 [==============================] - 0s 12ms/step - loss: 1147.2677 - val_loss: 1789.0485\n",
      "Epoch 377/1000\n",
      "34/34 [==============================] - 0s 11ms/step - loss: 1189.1219 - val_loss: 1744.3624\n",
      "Epoch 378/1000\n",
      "34/34 [==============================] - 0s 12ms/step - loss: 1145.7551 - val_loss: 1731.5673\n",
      "Epoch 379/1000\n",
      "34/34 [==============================] - 0s 12ms/step - loss: 1158.6560 - val_loss: 1712.6580\n",
      "Epoch 380/1000\n",
      "34/34 [==============================] - 0s 12ms/step - loss: 1158.0945 - val_loss: 1720.1150\n",
      "Epoch 381/1000\n",
      "34/34 [==============================] - 0s 11ms/step - loss: 1158.7782 - val_loss: 1745.9221\n",
      "Epoch 382/1000\n",
      "34/34 [==============================] - 0s 11ms/step - loss: 1169.0795 - val_loss: 1733.4377\n",
      "Epoch 383/1000\n",
      "34/34 [==============================] - 0s 12ms/step - loss: 1147.8903 - val_loss: 1712.3340\n",
      "Epoch 384/1000\n",
      "34/34 [==============================] - 0s 11ms/step - loss: 1203.8157 - val_loss: 1738.5680\n",
      "Epoch 385/1000\n",
      "34/34 [==============================] - 0s 11ms/step - loss: 1183.1753 - val_loss: 1729.8868\n",
      "Epoch 386/1000\n",
      "34/34 [==============================] - 0s 11ms/step - loss: 1156.9750 - val_loss: 1741.0321\n",
      "Epoch 387/1000\n",
      "34/34 [==============================] - 0s 12ms/step - loss: 1161.3875 - val_loss: 1708.0834\n",
      "Epoch 388/1000\n",
      "34/34 [==============================] - 0s 11ms/step - loss: 1148.2881 - val_loss: 1726.6205\n",
      "Epoch 389/1000\n",
      "34/34 [==============================] - 0s 12ms/step - loss: 1147.7999 - val_loss: 1723.5413\n",
      "Epoch 390/1000\n",
      "34/34 [==============================] - 0s 11ms/step - loss: 1141.7593 - val_loss: 1711.5205\n",
      "Epoch 391/1000\n",
      "34/34 [==============================] - 0s 12ms/step - loss: 1132.5986 - val_loss: 1722.3667\n",
      "Epoch 392/1000\n",
      "34/34 [==============================] - 0s 11ms/step - loss: 1158.6637 - val_loss: 1722.3049\n",
      "Epoch 393/1000\n",
      "34/34 [==============================] - 0s 12ms/step - loss: 1159.2501 - val_loss: 1748.8311\n",
      "Epoch 394/1000\n",
      "34/34 [==============================] - 0s 11ms/step - loss: 1168.8240 - val_loss: 1781.1135\n",
      "Epoch 395/1000\n",
      "34/34 [==============================] - 0s 12ms/step - loss: 1183.8889 - val_loss: 1820.4824\n",
      "Epoch 396/1000\n",
      "34/34 [==============================] - 0s 12ms/step - loss: 1183.1176 - val_loss: 1771.4565\n",
      "Epoch 397/1000\n",
      "34/34 [==============================] - 0s 11ms/step - loss: 1172.2075 - val_loss: 1744.5627\n",
      "Epoch 398/1000\n",
      "34/34 [==============================] - 0s 12ms/step - loss: 1136.9231 - val_loss: 1746.7908\n",
      "Epoch 399/1000\n",
      "34/34 [==============================] - 0s 11ms/step - loss: 1133.5713 - val_loss: 1725.3477\n",
      "Epoch 400/1000\n",
      "34/34 [==============================] - 0s 11ms/step - loss: 1165.6920 - val_loss: 1780.9023\n",
      "Epoch 401/1000\n",
      "34/34 [==============================] - 0s 14ms/step - loss: 1156.5542 - val_loss: 1771.4689\n",
      "Epoch 402/1000\n",
      "34/34 [==============================] - 0s 14ms/step - loss: 1187.5367 - val_loss: 1748.9453\n",
      "Epoch 403/1000\n",
      "34/34 [==============================] - 0s 11ms/step - loss: 1131.9517 - val_loss: 1753.7029\n",
      "Epoch 404/1000\n",
      "34/34 [==============================] - 0s 12ms/step - loss: 1151.7987 - val_loss: 1741.7513\n",
      "Epoch 405/1000\n",
      "34/34 [==============================] - 0s 12ms/step - loss: 1130.4720 - val_loss: 1723.9160\n",
      "Epoch 406/1000\n",
      "34/34 [==============================] - 0s 12ms/step - loss: 1193.5388 - val_loss: 1757.8879\n",
      "Epoch 407/1000\n",
      "34/34 [==============================] - 0s 11ms/step - loss: 1178.0837 - val_loss: 1750.5028\n",
      "Epoch 408/1000\n",
      "34/34 [==============================] - 0s 12ms/step - loss: 1131.2706 - val_loss: 1731.5344\n",
      "Epoch 409/1000\n",
      "34/34 [==============================] - 0s 12ms/step - loss: 1129.8420 - val_loss: 1750.9001\n",
      "Epoch 410/1000\n",
      "34/34 [==============================] - 0s 11ms/step - loss: 1130.3286 - val_loss: 1761.2465\n",
      "Epoch 411/1000\n",
      "34/34 [==============================] - 0s 12ms/step - loss: 1162.3685 - val_loss: 1790.0424\n",
      "Epoch 412/1000\n",
      "34/34 [==============================] - 0s 12ms/step - loss: 1203.8925 - val_loss: 1755.5498\n",
      "Epoch 413/1000\n",
      "34/34 [==============================] - 0s 12ms/step - loss: 1140.5364 - val_loss: 1731.9314\n",
      "Epoch 414/1000\n",
      "34/34 [==============================] - 0s 11ms/step - loss: 1143.7021 - val_loss: 1744.1110\n",
      "Epoch 415/1000\n",
      "34/34 [==============================] - 0s 14ms/step - loss: 1151.1545 - val_loss: 1765.4425\n",
      "Epoch 416/1000\n",
      "34/34 [==============================] - 0s 11ms/step - loss: 1185.7086 - val_loss: 1745.5392\n",
      "Epoch 417/1000\n",
      "34/34 [==============================] - 0s 11ms/step - loss: 1158.1813 - val_loss: 1731.1647\n",
      "Epoch 418/1000\n",
      "34/34 [==============================] - 0s 12ms/step - loss: 1193.4192 - val_loss: 1746.5433\n",
      "Epoch 419/1000\n",
      "34/34 [==============================] - 0s 12ms/step - loss: 1195.7333 - val_loss: 1758.1467\n",
      "Epoch 420/1000\n",
      "34/34 [==============================] - 0s 12ms/step - loss: 1167.6652 - val_loss: 1731.2853\n",
      "Epoch 421/1000\n",
      "34/34 [==============================] - 0s 12ms/step - loss: 1119.2831 - val_loss: 1763.5221\n",
      "Epoch 422/1000\n",
      "34/34 [==============================] - 0s 12ms/step - loss: 1155.9363 - val_loss: 1763.8086\n",
      "Epoch 423/1000\n",
      "34/34 [==============================] - 0s 13ms/step - loss: 1129.6903 - val_loss: 1758.6627\n",
      "Epoch 424/1000\n",
      "34/34 [==============================] - 0s 13ms/step - loss: 1144.3188 - val_loss: 1757.0228\n",
      "Epoch 425/1000\n",
      "34/34 [==============================] - 0s 11ms/step - loss: 1123.0913 - val_loss: 1750.0096\n",
      "Epoch 426/1000\n",
      "34/34 [==============================] - 0s 12ms/step - loss: 1136.1055 - val_loss: 1779.8440\n",
      "Epoch 427/1000\n",
      "34/34 [==============================] - 0s 12ms/step - loss: 1172.2542 - val_loss: 1814.8601\n",
      "Epoch 428/1000\n",
      "34/34 [==============================] - 0s 11ms/step - loss: 1206.0533 - val_loss: 1745.6166\n",
      "Epoch 429/1000\n",
      "34/34 [==============================] - 0s 12ms/step - loss: 1116.8148 - val_loss: 1772.9078\n",
      "Epoch 430/1000\n",
      "34/34 [==============================] - 0s 13ms/step - loss: 1161.9408 - val_loss: 1736.3103\n",
      "Epoch 431/1000\n",
      "34/34 [==============================] - 0s 12ms/step - loss: 1138.2729 - val_loss: 1743.4441\n",
      "Epoch 432/1000\n",
      "34/34 [==============================] - 0s 12ms/step - loss: 1134.4944 - val_loss: 1757.5198\n",
      "Epoch 433/1000\n",
      "34/34 [==============================] - 0s 13ms/step - loss: 1179.2401 - val_loss: 1758.6833\n",
      "Epoch 434/1000\n",
      "34/34 [==============================] - 0s 11ms/step - loss: 1134.8024 - val_loss: 1768.2877\n",
      "Epoch 435/1000\n",
      "34/34 [==============================] - 0s 12ms/step - loss: 1127.7023 - val_loss: 1768.7119\n",
      "Epoch 436/1000\n",
      "34/34 [==============================] - 0s 13ms/step - loss: 1114.7549 - val_loss: 1775.9554\n",
      "Epoch 437/1000\n",
      "34/34 [==============================] - 0s 12ms/step - loss: 1120.6849 - val_loss: 1754.6616\n",
      "Epoch 438/1000\n",
      "34/34 [==============================] - 0s 12ms/step - loss: 1127.2092 - val_loss: 1761.6084\n",
      "Epoch 439/1000\n",
      "34/34 [==============================] - 0s 13ms/step - loss: 1112.5908 - val_loss: 1784.5482\n",
      "Epoch 440/1000\n",
      "34/34 [==============================] - 0s 11ms/step - loss: 1135.2242 - val_loss: 1753.1439\n",
      "Epoch 441/1000\n",
      "34/34 [==============================] - 0s 12ms/step - loss: 1111.2711 - val_loss: 1743.6660\n",
      "Epoch 442/1000\n",
      "34/34 [==============================] - 0s 13ms/step - loss: 1117.4471 - val_loss: 1776.2887\n",
      "Epoch 443/1000\n",
      "34/34 [==============================] - 0s 12ms/step - loss: 1108.5225 - val_loss: 1757.5228\n",
      "Epoch 444/1000\n",
      "34/34 [==============================] - 0s 11ms/step - loss: 1134.4296 - val_loss: 1777.6311\n",
      "Epoch 445/1000\n",
      "34/34 [==============================] - 0s 12ms/step - loss: 1134.3544 - val_loss: 1761.8241\n",
      "Epoch 446/1000\n",
      "34/34 [==============================] - 0s 13ms/step - loss: 1151.3776 - val_loss: 1802.9181\n",
      "Epoch 447/1000\n",
      "34/34 [==============================] - 0s 12ms/step - loss: 1157.3893 - val_loss: 1772.3656\n",
      "Epoch 448/1000\n",
      "34/34 [==============================] - 0s 11ms/step - loss: 1137.8978 - val_loss: 1767.2644\n",
      "Epoch 449/1000\n",
      "34/34 [==============================] - 0s 12ms/step - loss: 1117.5525 - val_loss: 1814.3079\n",
      "Epoch 450/1000\n",
      "34/34 [==============================] - 0s 11ms/step - loss: 1142.1028 - val_loss: 1782.9111\n",
      "Epoch 451/1000\n",
      "34/34 [==============================] - 0s 12ms/step - loss: 1143.5408 - val_loss: 1802.8572\n",
      "Epoch 452/1000\n",
      "34/34 [==============================] - 0s 12ms/step - loss: 1159.0938 - val_loss: 1753.4594\n",
      "Epoch 453/1000\n",
      "34/34 [==============================] - 0s 12ms/step - loss: 1109.3347 - val_loss: 1773.6276\n",
      "Epoch 454/1000\n",
      "34/34 [==============================] - 0s 12ms/step - loss: 1099.1423 - val_loss: 1757.2156\n",
      "Epoch 455/1000\n",
      "34/34 [==============================] - 0s 12ms/step - loss: 1097.7170 - val_loss: 1829.6686\n",
      "Epoch 456/1000\n",
      "34/34 [==============================] - 0s 13ms/step - loss: 1125.4097 - val_loss: 1788.0690\n",
      "Epoch 457/1000\n",
      "34/34 [==============================] - 0s 13ms/step - loss: 1108.4551 - val_loss: 1781.4231\n",
      "Epoch 458/1000\n",
      "34/34 [==============================] - 0s 12ms/step - loss: 1124.8464 - val_loss: 1774.9674\n",
      "Epoch 459/1000\n",
      "34/34 [==============================] - 0s 12ms/step - loss: 1096.0321 - val_loss: 1774.6877\n",
      "Epoch 460/1000\n",
      "34/34 [==============================] - 0s 13ms/step - loss: 1099.6233 - val_loss: 1812.0702\n",
      "Epoch 461/1000\n",
      "34/34 [==============================] - 0s 13ms/step - loss: 1098.5022 - val_loss: 1773.9435\n",
      "Epoch 462/1000\n",
      "34/34 [==============================] - 0s 12ms/step - loss: 1097.2878 - val_loss: 1768.8507\n",
      "Epoch 463/1000\n",
      "34/34 [==============================] - 0s 11ms/step - loss: 1119.3623 - val_loss: 1794.1250\n",
      "Epoch 464/1000\n",
      "34/34 [==============================] - 0s 12ms/step - loss: 1139.4802 - val_loss: 1831.5964\n",
      "Epoch 465/1000\n",
      "34/34 [==============================] - 0s 12ms/step - loss: 1105.7894 - val_loss: 1766.7389\n",
      "Epoch 466/1000\n",
      "34/34 [==============================] - 0s 12ms/step - loss: 1101.1506 - val_loss: 1780.8574\n",
      "Epoch 467/1000\n",
      "34/34 [==============================] - 0s 13ms/step - loss: 1103.3727 - val_loss: 1770.6997\n",
      "Epoch 468/1000\n",
      "34/34 [==============================] - 0s 13ms/step - loss: 1143.4010 - val_loss: 1797.1406\n",
      "Epoch 469/1000\n",
      "34/34 [==============================] - 0s 12ms/step - loss: 1101.3392 - val_loss: 1781.6027\n",
      "Epoch 470/1000\n",
      "34/34 [==============================] - 0s 12ms/step - loss: 1103.7579 - val_loss: 1801.4224\n",
      "Epoch 471/1000\n",
      "34/34 [==============================] - 0s 11ms/step - loss: 1079.7131 - val_loss: 1783.6150\n",
      "Epoch 472/1000\n",
      "34/34 [==============================] - 0s 12ms/step - loss: 1108.1083 - val_loss: 1802.3373\n",
      "Epoch 473/1000\n",
      "34/34 [==============================] - 0s 12ms/step - loss: 1129.8524 - val_loss: 1783.1919\n",
      "Epoch 474/1000\n",
      "34/34 [==============================] - 0s 11ms/step - loss: 1108.6198 - val_loss: 1785.7269\n",
      "Epoch 475/1000\n",
      "34/34 [==============================] - 0s 12ms/step - loss: 1120.2460 - val_loss: 1859.2507\n",
      "Epoch 476/1000\n",
      "34/34 [==============================] - 0s 12ms/step - loss: 1109.8037 - val_loss: 1792.1881\n",
      "Epoch 477/1000\n",
      "34/34 [==============================] - 0s 12ms/step - loss: 1083.1051 - val_loss: 1776.6326\n",
      "Epoch 478/1000\n",
      "34/34 [==============================] - 0s 12ms/step - loss: 1112.1290 - val_loss: 1766.3730\n",
      "Epoch 479/1000\n",
      "34/34 [==============================] - 0s 13ms/step - loss: 1108.2413 - val_loss: 1789.1790\n",
      "Epoch 480/1000\n",
      "34/34 [==============================] - 0s 11ms/step - loss: 1093.5874 - val_loss: 1770.8685\n",
      "Epoch 481/1000\n",
      "34/34 [==============================] - 0s 12ms/step - loss: 1063.9121 - val_loss: 1796.8571\n",
      "Epoch 482/1000\n",
      "34/34 [==============================] - 0s 12ms/step - loss: 1088.9957 - val_loss: 1784.5374\n",
      "Epoch 483/1000\n",
      "34/34 [==============================] - 0s 12ms/step - loss: 1136.0709 - val_loss: 1798.4458\n",
      "Epoch 484/1000\n",
      "34/34 [==============================] - 0s 11ms/step - loss: 1080.6830 - val_loss: 1832.9761\n",
      "Epoch 485/1000\n",
      "34/34 [==============================] - 0s 12ms/step - loss: 1062.0143 - val_loss: 1794.0594\n",
      "Epoch 486/1000\n",
      "34/34 [==============================] - 0s 12ms/step - loss: 1094.0890 - val_loss: 1807.2633\n",
      "Epoch 487/1000\n",
      "34/34 [==============================] - 0s 12ms/step - loss: 1071.7689 - val_loss: 1845.7056\n",
      "Epoch 488/1000\n",
      "34/34 [==============================] - 0s 12ms/step - loss: 1093.1696 - val_loss: 1813.3077\n",
      "Epoch 489/1000\n",
      "34/34 [==============================] - 0s 12ms/step - loss: 1094.3723 - val_loss: 1862.0959\n",
      "Epoch 490/1000\n",
      "34/34 [==============================] - 0s 12ms/step - loss: 1121.7340 - val_loss: 1802.3374\n",
      "Epoch 491/1000\n",
      "34/34 [==============================] - 0s 12ms/step - loss: 1074.1364 - val_loss: 1812.2872\n",
      "Epoch 492/1000\n",
      "34/34 [==============================] - 0s 11ms/step - loss: 1099.3744 - val_loss: 1792.7365\n",
      "Epoch 493/1000\n",
      "34/34 [==============================] - 0s 11ms/step - loss: 1085.2999 - val_loss: 1834.7843\n",
      "Epoch 494/1000\n",
      "34/34 [==============================] - 0s 11ms/step - loss: 1070.4718 - val_loss: 1802.9331\n",
      "Epoch 495/1000\n",
      "34/34 [==============================] - 0s 12ms/step - loss: 1071.6561 - val_loss: 1809.5192\n",
      "Epoch 496/1000\n",
      "34/34 [==============================] - 0s 11ms/step - loss: 1092.6509 - val_loss: 1828.8281\n",
      "Epoch 497/1000\n",
      "34/34 [==============================] - 0s 11ms/step - loss: 1153.5828 - val_loss: 1809.2579\n",
      "Epoch 498/1000\n",
      "34/34 [==============================] - 0s 11ms/step - loss: 1101.6338 - val_loss: 1811.4639\n",
      "Epoch 499/1000\n",
      "34/34 [==============================] - 0s 12ms/step - loss: 1082.8979 - val_loss: 1798.1111\n",
      "Epoch 500/1000\n",
      "34/34 [==============================] - 0s 13ms/step - loss: 1095.2493 - val_loss: 1853.4586\n",
      "Epoch 501/1000\n",
      "34/34 [==============================] - 0s 12ms/step - loss: 1115.2198 - val_loss: 1873.3640\n",
      "Epoch 502/1000\n",
      "34/34 [==============================] - 0s 12ms/step - loss: 1106.9938 - val_loss: 1798.5024\n",
      "Epoch 503/1000\n",
      "34/34 [==============================] - 0s 12ms/step - loss: 1084.0502 - val_loss: 1798.7708\n",
      "Epoch 504/1000\n",
      "34/34 [==============================] - 0s 12ms/step - loss: 1084.4352 - val_loss: 1826.7993\n",
      "Epoch 505/1000\n",
      "34/34 [==============================] - 0s 13ms/step - loss: 1069.9714 - val_loss: 1815.3290\n",
      "Epoch 506/1000\n",
      "34/34 [==============================] - 0s 11ms/step - loss: 1110.4027 - val_loss: 1840.7089\n",
      "Epoch 507/1000\n",
      "34/34 [==============================] - 0s 12ms/step - loss: 1098.8146 - val_loss: 1852.2834\n",
      "Epoch 508/1000\n",
      "34/34 [==============================] - 0s 11ms/step - loss: 1088.5653 - val_loss: 1805.1997\n",
      "Epoch 509/1000\n",
      "34/34 [==============================] - 0s 14ms/step - loss: 1080.1912 - val_loss: 1868.3539\n",
      "Epoch 510/1000\n",
      "34/34 [==============================] - 0s 13ms/step - loss: 1088.4843 - val_loss: 1852.1400\n",
      "Epoch 511/1000\n",
      "34/34 [==============================] - 0s 12ms/step - loss: 1071.7098 - val_loss: 1809.1388\n",
      "Epoch 512/1000\n",
      "34/34 [==============================] - 0s 12ms/step - loss: 1077.3793 - val_loss: 1880.7773\n",
      "Epoch 513/1000\n",
      "34/34 [==============================] - 0s 12ms/step - loss: 1090.4644 - val_loss: 1803.7089\n",
      "Epoch 514/1000\n",
      "34/34 [==============================] - 0s 11ms/step - loss: 1066.9341 - val_loss: 1875.2118\n",
      "Epoch 515/1000\n",
      "34/34 [==============================] - 0s 11ms/step - loss: 1105.1647 - val_loss: 1873.8777\n",
      "Epoch 516/1000\n",
      "34/34 [==============================] - 0s 12ms/step - loss: 1086.5066 - val_loss: 1907.1792\n",
      "Epoch 517/1000\n",
      "34/34 [==============================] - 0s 11ms/step - loss: 1088.1609 - val_loss: 1838.0305\n",
      "Epoch 518/1000\n",
      "34/34 [==============================] - 0s 11ms/step - loss: 1072.9691 - val_loss: 1829.5361\n",
      "Epoch 519/1000\n",
      "34/34 [==============================] - 0s 12ms/step - loss: 1082.1326 - val_loss: 1881.0721\n",
      "Epoch 520/1000\n",
      "34/34 [==============================] - 0s 11ms/step - loss: 1108.5378 - val_loss: 1863.1329\n",
      "Epoch 521/1000\n",
      "34/34 [==============================] - 0s 11ms/step - loss: 1088.2649 - val_loss: 1823.6541\n",
      "Epoch 522/1000\n",
      "34/34 [==============================] - 0s 11ms/step - loss: 1111.5962 - val_loss: 1859.7292\n",
      "Epoch 523/1000\n",
      "34/34 [==============================] - 0s 12ms/step - loss: 1080.1591 - val_loss: 1839.3579\n",
      "Epoch 524/1000\n",
      "34/34 [==============================] - 0s 12ms/step - loss: 1045.4707 - val_loss: 1789.7008\n",
      "Epoch 525/1000\n",
      "34/34 [==============================] - 0s 12ms/step - loss: 1095.7532 - val_loss: 1850.5426\n",
      "Epoch 526/1000\n",
      "34/34 [==============================] - 0s 12ms/step - loss: 1115.9176 - val_loss: 1849.0197\n",
      "Epoch 527/1000\n",
      "34/34 [==============================] - 0s 12ms/step - loss: 1110.4534 - val_loss: 1854.8141\n",
      "Epoch 528/1000\n",
      "34/34 [==============================] - 0s 12ms/step - loss: 1089.5486 - val_loss: 1852.1345\n",
      "Epoch 529/1000\n",
      "34/34 [==============================] - 0s 12ms/step - loss: 1063.3541 - val_loss: 1860.6554\n",
      "Epoch 530/1000\n",
      "34/34 [==============================] - 0s 12ms/step - loss: 1054.3159 - val_loss: 1822.3407\n",
      "Epoch 531/1000\n",
      "34/34 [==============================] - 0s 11ms/step - loss: 1073.1716 - val_loss: 1843.9764\n",
      "Epoch 532/1000\n",
      "34/34 [==============================] - 0s 11ms/step - loss: 1093.4176 - val_loss: 1851.7123\n",
      "Epoch 533/1000\n",
      "34/34 [==============================] - 0s 12ms/step - loss: 1111.5109 - val_loss: 1823.9689\n",
      "Epoch 534/1000\n",
      "34/34 [==============================] - 0s 12ms/step - loss: 1060.2378 - val_loss: 1897.9021\n",
      "Epoch 535/1000\n",
      "34/34 [==============================] - 0s 13ms/step - loss: 1088.9120 - val_loss: 1801.1254\n",
      "Epoch 536/1000\n",
      "34/34 [==============================] - 0s 12ms/step - loss: 1077.2614 - val_loss: 1827.3304\n",
      "Epoch 537/1000\n",
      "34/34 [==============================] - 0s 11ms/step - loss: 1050.3650 - val_loss: 1821.7787\n",
      "Epoch 538/1000\n",
      "34/34 [==============================] - 0s 11ms/step - loss: 1033.0250 - val_loss: 1825.9852\n",
      "Epoch 539/1000\n",
      "34/34 [==============================] - 0s 12ms/step - loss: 1046.7283 - val_loss: 1838.9119\n",
      "Epoch 540/1000\n",
      "34/34 [==============================] - 0s 12ms/step - loss: 1049.0875 - val_loss: 1851.7262\n",
      "Epoch 541/1000\n",
      "34/34 [==============================] - 0s 11ms/step - loss: 1074.3717 - val_loss: 1857.9236\n",
      "Epoch 542/1000\n",
      "34/34 [==============================] - 0s 13ms/step - loss: 1082.1559 - val_loss: 1859.1732\n",
      "Epoch 543/1000\n",
      "34/34 [==============================] - 0s 11ms/step - loss: 1047.7812 - val_loss: 1834.3845\n",
      "Epoch 544/1000\n",
      "34/34 [==============================] - 0s 12ms/step - loss: 1049.5028 - val_loss: 1869.9620\n",
      "Epoch 545/1000\n",
      "34/34 [==============================] - 0s 11ms/step - loss: 1097.2372 - val_loss: 1834.0393\n",
      "Epoch 546/1000\n",
      "34/34 [==============================] - 0s 11ms/step - loss: 1063.6376 - val_loss: 1840.0764\n",
      "Epoch 547/1000\n",
      "34/34 [==============================] - 0s 14ms/step - loss: 1085.1351 - val_loss: 1841.2581\n",
      "Epoch 548/1000\n",
      "34/34 [==============================] - 0s 13ms/step - loss: 1065.0167 - val_loss: 1891.8890\n",
      "Epoch 549/1000\n",
      "34/34 [==============================] - 0s 11ms/step - loss: 1073.1056 - val_loss: 1928.4033\n",
      "Epoch 550/1000\n",
      "34/34 [==============================] - 0s 11ms/step - loss: 1086.5375 - val_loss: 1847.3589\n",
      "Epoch 551/1000\n",
      "34/34 [==============================] - 0s 11ms/step - loss: 1057.2880 - val_loss: 1868.8181\n",
      "Epoch 552/1000\n",
      "34/34 [==============================] - 0s 11ms/step - loss: 1061.1926 - val_loss: 1855.6042\n",
      "Epoch 553/1000\n",
      "34/34 [==============================] - 0s 11ms/step - loss: 1089.9203 - val_loss: 1873.8373\n",
      "Epoch 554/1000\n",
      "34/34 [==============================] - 0s 11ms/step - loss: 1061.2113 - val_loss: 1850.6940\n",
      "Epoch 555/1000\n",
      "34/34 [==============================] - 0s 12ms/step - loss: 1109.7460 - val_loss: 1976.7966\n",
      "Epoch 556/1000\n",
      "34/34 [==============================] - 0s 12ms/step - loss: 1121.3907 - val_loss: 1835.4391\n",
      "Epoch 557/1000\n",
      "34/34 [==============================] - 0s 11ms/step - loss: 1055.0153 - val_loss: 1845.5178\n",
      "Epoch 558/1000\n",
      "34/34 [==============================] - 0s 12ms/step - loss: 1063.9683 - val_loss: 1859.8712\n",
      "Epoch 559/1000\n",
      "34/34 [==============================] - 0s 13ms/step - loss: 1059.5557 - val_loss: 1871.0289\n",
      "Epoch 560/1000\n",
      "34/34 [==============================] - 0s 12ms/step - loss: 1140.0233 - val_loss: 1832.5806\n",
      "Epoch 561/1000\n",
      "34/34 [==============================] - 0s 11ms/step - loss: 1103.6254 - val_loss: 1869.4318\n",
      "Epoch 562/1000\n",
      "34/34 [==============================] - 0s 12ms/step - loss: 1049.5197 - val_loss: 1911.2565\n",
      "Epoch 563/1000\n",
      "34/34 [==============================] - 0s 12ms/step - loss: 1150.4938 - val_loss: 1859.8442\n",
      "Epoch 564/1000\n",
      "34/34 [==============================] - 0s 11ms/step - loss: 1103.9326 - val_loss: 1859.6654\n",
      "Epoch 565/1000\n",
      "34/34 [==============================] - 0s 13ms/step - loss: 1063.9357 - val_loss: 1852.0132\n",
      "Epoch 566/1000\n",
      "34/34 [==============================] - 0s 13ms/step - loss: 1034.8849 - val_loss: 1839.3776\n",
      "Epoch 567/1000\n",
      "34/34 [==============================] - 0s 13ms/step - loss: 1019.4786 - val_loss: 1855.4462\n",
      "Epoch 568/1000\n",
      "34/34 [==============================] - 0s 12ms/step - loss: 1072.1348 - val_loss: 1877.7874\n",
      "Epoch 569/1000\n",
      "34/34 [==============================] - 0s 12ms/step - loss: 1059.8779 - val_loss: 1842.4084\n",
      "Epoch 570/1000\n",
      "34/34 [==============================] - 0s 11ms/step - loss: 1055.8713 - val_loss: 1823.5435\n",
      "Epoch 571/1000\n",
      "34/34 [==============================] - 0s 12ms/step - loss: 1079.3779 - val_loss: 1905.5532\n",
      "Epoch 572/1000\n",
      "34/34 [==============================] - 0s 11ms/step - loss: 1071.7576 - val_loss: 1830.4525\n",
      "Epoch 573/1000\n",
      "34/34 [==============================] - 0s 12ms/step - loss: 1077.0544 - val_loss: 1849.8147\n",
      "Epoch 574/1000\n",
      "34/34 [==============================] - 0s 12ms/step - loss: 1045.1676 - val_loss: 1858.6434\n",
      "Epoch 575/1000\n",
      "34/34 [==============================] - 0s 12ms/step - loss: 1041.3291 - val_loss: 1824.0403\n",
      "Epoch 576/1000\n",
      "34/34 [==============================] - 0s 12ms/step - loss: 1110.1768 - val_loss: 1855.9596\n",
      "Epoch 577/1000\n",
      "34/34 [==============================] - 0s 12ms/step - loss: 1028.1244 - val_loss: 1833.7891\n",
      "Epoch 578/1000\n",
      "34/34 [==============================] - 0s 12ms/step - loss: 1050.2538 - val_loss: 1839.2273\n",
      "Epoch 579/1000\n",
      "34/34 [==============================] - 0s 12ms/step - loss: 1027.5863 - val_loss: 1874.5259\n",
      "Epoch 580/1000\n",
      "34/34 [==============================] - 0s 12ms/step - loss: 1068.8955 - val_loss: 1970.1593\n",
      "Epoch 581/1000\n",
      "34/34 [==============================] - 0s 13ms/step - loss: 1168.8348 - val_loss: 2038.0236\n",
      "Epoch 582/1000\n",
      "34/34 [==============================] - 0s 13ms/step - loss: 1190.9094 - val_loss: 1921.9651\n",
      "Epoch 583/1000\n",
      "34/34 [==============================] - 0s 12ms/step - loss: 1073.8168 - val_loss: 1870.6368\n",
      "Epoch 584/1000\n",
      "34/34 [==============================] - 0s 12ms/step - loss: 1035.4225 - val_loss: 1850.2721\n",
      "Epoch 585/1000\n",
      "34/34 [==============================] - 0s 12ms/step - loss: 1054.2781 - val_loss: 1852.1780\n",
      "Epoch 586/1000\n",
      "34/34 [==============================] - 0s 12ms/step - loss: 1129.7397 - val_loss: 1942.7606\n",
      "Epoch 587/1000\n",
      "34/34 [==============================] - 0s 12ms/step - loss: 1099.8403 - val_loss: 1873.7924\n",
      "Epoch 588/1000\n",
      "34/34 [==============================] - 0s 12ms/step - loss: 1066.5812 - val_loss: 1858.5087\n",
      "Epoch 589/1000\n",
      "34/34 [==============================] - 0s 12ms/step - loss: 1080.3234 - val_loss: 1857.2738\n",
      "Epoch 590/1000\n",
      "34/34 [==============================] - 0s 11ms/step - loss: 1060.1094 - val_loss: 1877.3922\n",
      "Epoch 591/1000\n",
      "34/34 [==============================] - 0s 11ms/step - loss: 1028.8180 - val_loss: 1844.6517\n",
      "Epoch 592/1000\n",
      "34/34 [==============================] - 0s 11ms/step - loss: 1032.8639 - val_loss: 1826.6112\n",
      "Epoch 593/1000\n",
      "34/34 [==============================] - 0s 12ms/step - loss: 1036.5481 - val_loss: 1859.6763\n",
      "Epoch 594/1000\n",
      "34/34 [==============================] - 0s 11ms/step - loss: 1058.3717 - val_loss: 1887.4205\n",
      "Epoch 595/1000\n",
      "34/34 [==============================] - 0s 11ms/step - loss: 1049.6171 - val_loss: 1858.4305\n",
      "Epoch 596/1000\n",
      "34/34 [==============================] - 0s 13ms/step - loss: 1063.2754 - val_loss: 1901.1613\n",
      "Epoch 597/1000\n",
      "34/34 [==============================] - 0s 11ms/step - loss: 1033.7540 - val_loss: 1826.9454\n",
      "Epoch 598/1000\n",
      "34/34 [==============================] - 0s 12ms/step - loss: 1054.3770 - val_loss: 1919.1509\n",
      "Epoch 599/1000\n",
      "34/34 [==============================] - 0s 11ms/step - loss: 1047.2141 - val_loss: 1869.6792\n",
      "Epoch 600/1000\n",
      "34/34 [==============================] - 0s 11ms/step - loss: 1120.7834 - val_loss: 1864.3798\n",
      "Epoch 601/1000\n",
      "34/34 [==============================] - 0s 12ms/step - loss: 1083.3003 - val_loss: 1863.5358\n",
      "Epoch 602/1000\n",
      "34/34 [==============================] - 0s 11ms/step - loss: 1050.5380 - val_loss: 1859.8688\n",
      "Epoch 603/1000\n",
      "34/34 [==============================] - 0s 12ms/step - loss: 1071.6265 - val_loss: 1844.4004\n",
      "Epoch 604/1000\n",
      "34/34 [==============================] - 0s 12ms/step - loss: 1034.6420 - val_loss: 1862.3862\n",
      "Epoch 605/1000\n",
      "34/34 [==============================] - 0s 11ms/step - loss: 1059.7030 - val_loss: 1981.9305\n",
      "Epoch 606/1000\n",
      "34/34 [==============================] - 0s 12ms/step - loss: 1100.4639 - val_loss: 1856.7329\n",
      "Epoch 607/1000\n",
      "34/34 [==============================] - 0s 13ms/step - loss: 1010.7075 - val_loss: 1861.8020\n",
      "Epoch 608/1000\n",
      "34/34 [==============================] - 0s 12ms/step - loss: 1051.0300 - val_loss: 1856.6935\n",
      "Epoch 609/1000\n",
      "34/34 [==============================] - 0s 13ms/step - loss: 1055.8206 - val_loss: 1909.1571\n",
      "Epoch 610/1000\n",
      "34/34 [==============================] - 0s 13ms/step - loss: 1058.8463 - val_loss: 1904.7090\n",
      "Epoch 611/1000\n",
      "34/34 [==============================] - 0s 12ms/step - loss: 1068.1453 - val_loss: 1908.9664\n",
      "Epoch 612/1000\n",
      "34/34 [==============================] - 0s 12ms/step - loss: 1033.1531 - val_loss: 1853.7574\n",
      "Epoch 613/1000\n",
      "34/34 [==============================] - 0s 11ms/step - loss: 1020.8374 - val_loss: 1871.0266\n",
      "Epoch 614/1000\n",
      "34/34 [==============================] - 0s 11ms/step - loss: 1021.0143 - val_loss: 1902.2823\n",
      "Epoch 615/1000\n",
      "34/34 [==============================] - 1s 16ms/step - loss: 1070.3295 - val_loss: 1865.2505\n",
      "Epoch 616/1000\n",
      "34/34 [==============================] - 0s 12ms/step - loss: 1047.1462 - val_loss: 1936.4005\n",
      "Epoch 617/1000\n",
      "34/34 [==============================] - 0s 12ms/step - loss: 1055.7568 - val_loss: 1856.2754\n",
      "Epoch 618/1000\n",
      "34/34 [==============================] - 0s 13ms/step - loss: 1030.9132 - val_loss: 1859.1727\n",
      "Epoch 619/1000\n",
      "34/34 [==============================] - 0s 13ms/step - loss: 1046.6937 - val_loss: 2000.9321\n",
      "Epoch 620/1000\n",
      "34/34 [==============================] - 0s 12ms/step - loss: 1096.9857 - val_loss: 1868.8738\n",
      "Epoch 621/1000\n",
      "34/34 [==============================] - 0s 12ms/step - loss: 1056.3694 - val_loss: 1890.6578\n",
      "Epoch 622/1000\n",
      "34/34 [==============================] - 0s 12ms/step - loss: 1046.2687 - val_loss: 1865.2725\n",
      "Epoch 623/1000\n",
      "34/34 [==============================] - 0s 11ms/step - loss: 1035.3379 - val_loss: 1881.5176\n",
      "Epoch 624/1000\n",
      "34/34 [==============================] - 0s 12ms/step - loss: 1030.8688 - val_loss: 1871.4989\n",
      "Epoch 625/1000\n",
      "34/34 [==============================] - 0s 11ms/step - loss: 1012.4219 - val_loss: 1869.6215\n",
      "Epoch 626/1000\n",
      "34/34 [==============================] - 0s 12ms/step - loss: 1008.5836 - val_loss: 1853.6278\n",
      "Epoch 627/1000\n",
      "34/34 [==============================] - 0s 11ms/step - loss: 1028.3219 - val_loss: 1916.3312\n",
      "Epoch 628/1000\n",
      "34/34 [==============================] - 0s 12ms/step - loss: 1092.2604 - val_loss: 1895.2150\n",
      "Epoch 629/1000\n",
      "34/34 [==============================] - 0s 12ms/step - loss: 1023.2550 - val_loss: 1891.5591\n",
      "Epoch 630/1000\n",
      "34/34 [==============================] - 0s 12ms/step - loss: 1144.4175 - val_loss: 1893.3578\n",
      "Epoch 631/1000\n",
      "34/34 [==============================] - 0s 12ms/step - loss: 1069.7960 - val_loss: 1933.0582\n",
      "Epoch 632/1000\n",
      "34/34 [==============================] - 0s 11ms/step - loss: 1064.6349 - val_loss: 1843.6277\n",
      "Epoch 633/1000\n",
      "34/34 [==============================] - 0s 12ms/step - loss: 1079.5471 - val_loss: 1950.6907\n",
      "Epoch 634/1000\n",
      "34/34 [==============================] - 0s 12ms/step - loss: 1058.5072 - val_loss: 1857.8846\n",
      "Epoch 635/1000\n",
      "34/34 [==============================] - 0s 13ms/step - loss: 1040.3649 - val_loss: 1863.1212\n",
      "Epoch 636/1000\n",
      "34/34 [==============================] - 0s 12ms/step - loss: 1008.9550 - val_loss: 1900.6250\n",
      "Epoch 637/1000\n",
      "34/34 [==============================] - 0s 12ms/step - loss: 1024.6594 - val_loss: 1890.1255\n",
      "Epoch 638/1000\n",
      "34/34 [==============================] - 0s 13ms/step - loss: 1062.4727 - val_loss: 1847.7670\n",
      "Epoch 639/1000\n",
      "34/34 [==============================] - 0s 13ms/step - loss: 992.5674 - val_loss: 1861.5339\n",
      "Epoch 640/1000\n",
      "34/34 [==============================] - 0s 13ms/step - loss: 1008.1780 - val_loss: 1863.6571\n",
      "Epoch 641/1000\n",
      "34/34 [==============================] - 0s 11ms/step - loss: 1007.9999 - val_loss: 1871.8231\n",
      "Epoch 642/1000\n",
      "34/34 [==============================] - 0s 12ms/step - loss: 1032.7639 - val_loss: 1934.7726\n",
      "Epoch 643/1000\n",
      "34/34 [==============================] - 0s 14ms/step - loss: 1019.7812 - val_loss: 1862.9244\n",
      "Epoch 644/1000\n",
      "34/34 [==============================] - 0s 11ms/step - loss: 1039.8835 - val_loss: 1903.2238\n",
      "Epoch 645/1000\n",
      "34/34 [==============================] - 0s 12ms/step - loss: 1022.7418 - val_loss: 1866.5579\n",
      "Epoch 646/1000\n",
      "34/34 [==============================] - 0s 12ms/step - loss: 1042.5448 - val_loss: 1851.8655\n",
      "Epoch 647/1000\n",
      "34/34 [==============================] - 0s 12ms/step - loss: 1034.3381 - val_loss: 1868.2223\n",
      "Epoch 648/1000\n",
      "34/34 [==============================] - 0s 12ms/step - loss: 1007.5948 - val_loss: 1923.0017\n",
      "Epoch 649/1000\n",
      "34/34 [==============================] - 0s 12ms/step - loss: 1033.8254 - val_loss: 1859.3363\n",
      "Epoch 650/1000\n",
      "34/34 [==============================] - 0s 12ms/step - loss: 1022.2750 - val_loss: 1888.9753\n",
      "Epoch 651/1000\n",
      "34/34 [==============================] - 0s 12ms/step - loss: 1037.0938 - val_loss: 1914.8169\n",
      "Epoch 652/1000\n",
      "34/34 [==============================] - 0s 12ms/step - loss: 1073.6147 - val_loss: 2019.9050\n",
      "Epoch 653/1000\n",
      "34/34 [==============================] - 0s 12ms/step - loss: 1081.5919 - val_loss: 1906.4919\n",
      "Epoch 654/1000\n",
      "34/34 [==============================] - 0s 13ms/step - loss: 1025.1941 - val_loss: 1897.5382\n",
      "Epoch 655/1000\n",
      "34/34 [==============================] - 0s 12ms/step - loss: 1011.7921 - val_loss: 1887.7197\n",
      "Epoch 656/1000\n",
      "34/34 [==============================] - 0s 13ms/step - loss: 1006.5615 - val_loss: 1883.4855\n",
      "Epoch 657/1000\n",
      "34/34 [==============================] - 0s 12ms/step - loss: 1014.1746 - val_loss: 1878.1704\n",
      "Epoch 658/1000\n",
      "34/34 [==============================] - 0s 14ms/step - loss: 1000.3254 - val_loss: 1887.4371\n",
      "Epoch 659/1000\n",
      "34/34 [==============================] - 0s 11ms/step - loss: 990.7528 - val_loss: 1879.0463\n",
      "Epoch 660/1000\n",
      "34/34 [==============================] - 0s 12ms/step - loss: 1061.6674 - val_loss: 1891.8982\n",
      "Epoch 661/1000\n",
      "34/34 [==============================] - 0s 12ms/step - loss: 1053.4469 - val_loss: 1884.5446\n",
      "Epoch 662/1000\n",
      "34/34 [==============================] - 0s 12ms/step - loss: 998.0699 - val_loss: 1933.5266\n",
      "Epoch 663/1000\n",
      "34/34 [==============================] - 0s 12ms/step - loss: 1025.8160 - val_loss: 1898.5093\n",
      "Epoch 664/1000\n",
      "34/34 [==============================] - 0s 12ms/step - loss: 1070.1398 - val_loss: 1908.6619\n",
      "Epoch 665/1000\n",
      "34/34 [==============================] - 0s 13ms/step - loss: 1003.2484 - val_loss: 1915.8365\n",
      "Epoch 666/1000\n",
      "34/34 [==============================] - 0s 12ms/step - loss: 1029.9769 - val_loss: 1891.0035\n",
      "Epoch 667/1000\n",
      "34/34 [==============================] - 0s 12ms/step - loss: 1061.7001 - val_loss: 1912.0833\n",
      "Epoch 668/1000\n",
      "34/34 [==============================] - 0s 13ms/step - loss: 1046.4667 - val_loss: 1903.9370\n",
      "Epoch 669/1000\n",
      "34/34 [==============================] - 0s 12ms/step - loss: 1027.9606 - val_loss: 1998.4126\n",
      "Epoch 670/1000\n",
      "34/34 [==============================] - 0s 13ms/step - loss: 1037.0787 - val_loss: 1906.8279\n",
      "Epoch 671/1000\n",
      "34/34 [==============================] - 0s 11ms/step - loss: 1025.4015 - val_loss: 1890.9651\n",
      "Epoch 672/1000\n",
      "34/34 [==============================] - 0s 11ms/step - loss: 1016.5346 - val_loss: 1871.4337\n",
      "Epoch 673/1000\n",
      "34/34 [==============================] - 0s 12ms/step - loss: 1033.5007 - val_loss: 1923.2626\n",
      "Epoch 674/1000\n",
      "34/34 [==============================] - 0s 13ms/step - loss: 1005.8333 - val_loss: 1865.9623\n",
      "Epoch 675/1000\n",
      "34/34 [==============================] - 0s 12ms/step - loss: 1011.0410 - val_loss: 1923.5337\n",
      "Epoch 676/1000\n",
      "34/34 [==============================] - 0s 12ms/step - loss: 1049.2640 - val_loss: 1897.6533\n",
      "Epoch 677/1000\n",
      "34/34 [==============================] - 0s 13ms/step - loss: 1037.0237 - val_loss: 1912.0763\n",
      "Epoch 678/1000\n",
      "34/34 [==============================] - 1s 16ms/step - loss: 1009.6284 - val_loss: 1862.5826\n",
      "Epoch 679/1000\n",
      "34/34 [==============================] - 1s 17ms/step - loss: 991.5140 - val_loss: 1915.5725\n",
      "Epoch 680/1000\n",
      "34/34 [==============================] - 0s 14ms/step - loss: 1000.2099 - val_loss: 1878.9180\n",
      "Epoch 681/1000\n",
      "34/34 [==============================] - 0s 12ms/step - loss: 1008.9846 - val_loss: 1951.5145\n",
      "Epoch 682/1000\n",
      "34/34 [==============================] - 0s 11ms/step - loss: 990.3098 - val_loss: 1878.2419\n",
      "Epoch 683/1000\n",
      "34/34 [==============================] - 0s 12ms/step - loss: 1007.1412 - val_loss: 2005.7223\n",
      "Epoch 684/1000\n",
      "34/34 [==============================] - 0s 14ms/step - loss: 1069.7804 - val_loss: 1922.3868\n",
      "Epoch 685/1000\n",
      "34/34 [==============================] - 1s 17ms/step - loss: 1026.7557 - val_loss: 1879.7095\n",
      "Epoch 686/1000\n",
      "34/34 [==============================] - 0s 12ms/step - loss: 988.7357 - val_loss: 1878.2570\n",
      "Epoch 687/1000\n",
      "34/34 [==============================] - 0s 13ms/step - loss: 1031.9041 - val_loss: 1936.2184\n",
      "Epoch 688/1000\n",
      "34/34 [==============================] - 0s 12ms/step - loss: 982.3243 - val_loss: 1896.5721\n",
      "Epoch 689/1000\n",
      "34/34 [==============================] - 0s 11ms/step - loss: 1000.2153 - val_loss: 1939.6155\n",
      "Epoch 690/1000\n",
      "34/34 [==============================] - 0s 12ms/step - loss: 1033.5557 - val_loss: 1906.8682\n",
      "Epoch 691/1000\n",
      "34/34 [==============================] - 0s 12ms/step - loss: 1019.5056 - val_loss: 1886.6992\n",
      "Epoch 692/1000\n",
      "34/34 [==============================] - 0s 11ms/step - loss: 1036.1383 - val_loss: 1947.2222\n",
      "Epoch 693/1000\n",
      "34/34 [==============================] - 0s 12ms/step - loss: 1070.1232 - val_loss: 1957.4175\n",
      "Epoch 694/1000\n",
      "34/34 [==============================] - 0s 12ms/step - loss: 1023.8033 - val_loss: 1872.6187\n",
      "Epoch 695/1000\n",
      "34/34 [==============================] - 0s 12ms/step - loss: 1037.5280 - val_loss: 1938.4822\n",
      "Epoch 696/1000\n",
      "34/34 [==============================] - 0s 12ms/step - loss: 989.4403 - val_loss: 1907.5405\n",
      "Epoch 697/1000\n",
      "34/34 [==============================] - 0s 13ms/step - loss: 972.9109 - val_loss: 1927.1156\n",
      "Epoch 698/1000\n",
      "34/34 [==============================] - 0s 12ms/step - loss: 992.9825 - val_loss: 1911.6245\n",
      "Epoch 699/1000\n",
      "34/34 [==============================] - 0s 12ms/step - loss: 1005.7260 - val_loss: 1914.7218\n",
      "Epoch 700/1000\n",
      "34/34 [==============================] - 0s 11ms/step - loss: 1012.0730 - val_loss: 1894.2526\n",
      "Epoch 701/1000\n",
      "34/34 [==============================] - 0s 12ms/step - loss: 1015.2646 - val_loss: 1895.5117\n",
      "Epoch 702/1000\n",
      "34/34 [==============================] - 0s 13ms/step - loss: 991.7235 - val_loss: 1921.1959\n",
      "Epoch 703/1000\n",
      "34/34 [==============================] - 0s 12ms/step - loss: 993.2358 - val_loss: 1897.2972\n",
      "Epoch 704/1000\n",
      "34/34 [==============================] - 0s 12ms/step - loss: 974.2476 - val_loss: 1897.2860\n",
      "Epoch 705/1000\n",
      "34/34 [==============================] - 0s 11ms/step - loss: 1008.9346 - val_loss: 1975.1029\n",
      "Epoch 706/1000\n",
      "34/34 [==============================] - 0s 11ms/step - loss: 1015.5178 - val_loss: 1941.6642\n",
      "Epoch 707/1000\n",
      "34/34 [==============================] - 0s 13ms/step - loss: 1005.4211 - val_loss: 1952.5269\n",
      "Epoch 708/1000\n",
      "34/34 [==============================] - 0s 11ms/step - loss: 995.1339 - val_loss: 1901.1321\n",
      "Epoch 709/1000\n",
      "34/34 [==============================] - 0s 13ms/step - loss: 1026.8444 - val_loss: 1935.6219\n",
      "Epoch 710/1000\n",
      "34/34 [==============================] - 0s 12ms/step - loss: 1002.8521 - val_loss: 1933.9950\n",
      "Epoch 711/1000\n",
      "34/34 [==============================] - 0s 11ms/step - loss: 978.4438 - val_loss: 1896.1158\n",
      "Epoch 712/1000\n",
      "34/34 [==============================] - 0s 12ms/step - loss: 1004.8006 - val_loss: 1937.7549\n",
      "Epoch 713/1000\n",
      "34/34 [==============================] - 0s 11ms/step - loss: 1017.1849 - val_loss: 1891.7952\n",
      "Epoch 714/1000\n",
      "34/34 [==============================] - 0s 12ms/step - loss: 1003.3820 - val_loss: 1912.3553\n",
      "Epoch 715/1000\n",
      "34/34 [==============================] - 0s 12ms/step - loss: 977.9651 - val_loss: 1865.4847\n",
      "Epoch 716/1000\n",
      "34/34 [==============================] - 0s 13ms/step - loss: 966.1568 - val_loss: 1904.3296\n",
      "Epoch 717/1000\n",
      "34/34 [==============================] - 0s 11ms/step - loss: 1012.6747 - val_loss: 1943.6831\n",
      "Epoch 718/1000\n",
      "34/34 [==============================] - 0s 12ms/step - loss: 1014.5165 - val_loss: 1953.9486\n",
      "Epoch 719/1000\n",
      "34/34 [==============================] - 0s 14ms/step - loss: 987.5348 - val_loss: 1918.7695\n",
      "Epoch 720/1000\n",
      "34/34 [==============================] - 0s 12ms/step - loss: 967.6231 - val_loss: 1897.1432\n",
      "Epoch 721/1000\n",
      "34/34 [==============================] - 0s 12ms/step - loss: 955.2573 - val_loss: 1891.6720\n",
      "Epoch 722/1000\n",
      "34/34 [==============================] - 0s 13ms/step - loss: 977.6230 - val_loss: 1913.7046\n",
      "Epoch 723/1000\n",
      "34/34 [==============================] - 0s 11ms/step - loss: 994.6724 - val_loss: 1932.2799\n",
      "Epoch 724/1000\n",
      "34/34 [==============================] - 0s 11ms/step - loss: 998.7362 - val_loss: 1942.3483\n",
      "Epoch 725/1000\n",
      "34/34 [==============================] - 0s 12ms/step - loss: 1001.0417 - val_loss: 1921.9006\n",
      "Epoch 726/1000\n",
      "34/34 [==============================] - 0s 12ms/step - loss: 982.1182 - val_loss: 1896.8311\n",
      "Epoch 727/1000\n",
      "34/34 [==============================] - 0s 12ms/step - loss: 989.4615 - val_loss: 1981.8038\n",
      "Epoch 728/1000\n",
      "34/34 [==============================] - 0s 12ms/step - loss: 983.7891 - val_loss: 1941.0322\n",
      "Epoch 729/1000\n",
      "34/34 [==============================] - 0s 12ms/step - loss: 993.2937 - val_loss: 1897.3036\n",
      "Epoch 730/1000\n",
      "34/34 [==============================] - 0s 13ms/step - loss: 989.8160 - val_loss: 1954.9703\n",
      "Epoch 731/1000\n",
      "34/34 [==============================] - 0s 11ms/step - loss: 1014.5579 - val_loss: 1912.9487\n",
      "Epoch 732/1000\n",
      "34/34 [==============================] - 0s 12ms/step - loss: 967.4764 - val_loss: 1933.9052\n",
      "Epoch 733/1000\n",
      "34/34 [==============================] - 0s 11ms/step - loss: 974.3712 - val_loss: 1882.4888\n",
      "Epoch 734/1000\n",
      "34/34 [==============================] - 0s 11ms/step - loss: 1012.5042 - val_loss: 1894.2612\n",
      "Epoch 735/1000\n",
      "34/34 [==============================] - 0s 12ms/step - loss: 965.2023 - val_loss: 1899.1343\n",
      "Epoch 736/1000\n",
      "34/34 [==============================] - 0s 12ms/step - loss: 998.1488 - val_loss: 1940.0533\n",
      "Epoch 737/1000\n",
      "34/34 [==============================] - 0s 12ms/step - loss: 1013.8549 - val_loss: 1945.4264\n",
      "Epoch 738/1000\n",
      "34/34 [==============================] - 0s 12ms/step - loss: 995.2803 - val_loss: 1895.9340\n",
      "Epoch 739/1000\n",
      "34/34 [==============================] - 0s 12ms/step - loss: 966.1651 - val_loss: 1952.9862\n",
      "Epoch 740/1000\n",
      "34/34 [==============================] - 0s 12ms/step - loss: 989.1796 - val_loss: 1949.0598\n",
      "Epoch 741/1000\n",
      "34/34 [==============================] - 0s 13ms/step - loss: 981.1549 - val_loss: 1970.5718\n",
      "Epoch 742/1000\n",
      "34/34 [==============================] - 0s 12ms/step - loss: 972.9186 - val_loss: 2026.0975\n",
      "Epoch 743/1000\n",
      "34/34 [==============================] - 0s 12ms/step - loss: 1023.8239 - val_loss: 1934.9316\n",
      "Epoch 744/1000\n",
      "34/34 [==============================] - 0s 13ms/step - loss: 1046.6288 - val_loss: 1943.1147\n",
      "Epoch 745/1000\n",
      "34/34 [==============================] - 0s 12ms/step - loss: 1030.8491 - val_loss: 1945.9307\n",
      "Epoch 746/1000\n",
      "34/34 [==============================] - 0s 12ms/step - loss: 1006.7285 - val_loss: 2004.5950\n",
      "Epoch 747/1000\n",
      "34/34 [==============================] - 0s 15ms/step - loss: 1053.6409 - val_loss: 1962.0781\n",
      "Epoch 748/1000\n",
      "34/34 [==============================] - 0s 12ms/step - loss: 1028.4983 - val_loss: 1923.3745\n",
      "Epoch 749/1000\n",
      "34/34 [==============================] - 0s 12ms/step - loss: 988.3879 - val_loss: 2076.7747\n",
      "Epoch 750/1000\n",
      "34/34 [==============================] - 0s 11ms/step - loss: 1076.0328 - val_loss: 1922.2048\n",
      "Epoch 751/1000\n",
      "34/34 [==============================] - 0s 11ms/step - loss: 1001.5431 - val_loss: 1975.1460\n",
      "Epoch 752/1000\n",
      "34/34 [==============================] - 0s 12ms/step - loss: 971.6830 - val_loss: 1923.5601\n",
      "Epoch 753/1000\n",
      "34/34 [==============================] - 0s 12ms/step - loss: 1009.8772 - val_loss: 1966.1752\n",
      "Epoch 754/1000\n",
      "34/34 [==============================] - 0s 13ms/step - loss: 1019.8216 - val_loss: 1987.4513\n",
      "Epoch 755/1000\n",
      "34/34 [==============================] - 0s 12ms/step - loss: 991.4948 - val_loss: 1942.5585\n",
      "Epoch 756/1000\n",
      "34/34 [==============================] - 0s 13ms/step - loss: 982.3580 - val_loss: 1920.4270\n",
      "Epoch 757/1000\n",
      "34/34 [==============================] - 0s 11ms/step - loss: 958.0514 - val_loss: 1933.1747\n",
      "Epoch 758/1000\n",
      "34/34 [==============================] - 0s 12ms/step - loss: 1035.2833 - val_loss: 1955.4923\n",
      "Epoch 759/1000\n",
      "34/34 [==============================] - 0s 12ms/step - loss: 1005.4646 - val_loss: 1939.8888\n",
      "Epoch 760/1000\n",
      "34/34 [==============================] - 0s 13ms/step - loss: 965.8420 - val_loss: 1920.0602\n",
      "Epoch 761/1000\n",
      "34/34 [==============================] - 0s 13ms/step - loss: 1053.4680 - val_loss: 1877.2971\n",
      "Epoch 762/1000\n",
      "34/34 [==============================] - 0s 13ms/step - loss: 979.2014 - val_loss: 1937.5552\n",
      "Epoch 763/1000\n",
      "34/34 [==============================] - 0s 12ms/step - loss: 1010.2103 - val_loss: 1905.7863\n",
      "Epoch 764/1000\n",
      "34/34 [==============================] - 0s 11ms/step - loss: 1013.7938 - val_loss: 1948.6317\n",
      "Epoch 765/1000\n",
      "34/34 [==============================] - 0s 12ms/step - loss: 1009.2084 - val_loss: 1961.8435\n",
      "Epoch 766/1000\n",
      "34/34 [==============================] - 0s 12ms/step - loss: 965.3676 - val_loss: 1915.5647\n",
      "Epoch 767/1000\n",
      "34/34 [==============================] - 0s 12ms/step - loss: 932.7144 - val_loss: 1884.5992\n",
      "Epoch 768/1000\n",
      "34/34 [==============================] - 0s 13ms/step - loss: 963.7765 - val_loss: 1908.9771\n",
      "Epoch 769/1000\n",
      "34/34 [==============================] - 0s 12ms/step - loss: 969.5270 - val_loss: 1888.4099\n",
      "Epoch 770/1000\n",
      "34/34 [==============================] - 0s 12ms/step - loss: 924.4602 - val_loss: 1906.9623\n",
      "Epoch 771/1000\n",
      "34/34 [==============================] - 0s 12ms/step - loss: 978.3869 - val_loss: 1946.5453\n",
      "Epoch 772/1000\n",
      "34/34 [==============================] - 0s 12ms/step - loss: 953.0987 - val_loss: 1919.9591\n",
      "Epoch 773/1000\n",
      "34/34 [==============================] - 0s 11ms/step - loss: 943.0303 - val_loss: 1948.9725\n",
      "Epoch 774/1000\n",
      "34/34 [==============================] - 0s 12ms/step - loss: 961.1572 - val_loss: 1915.6571\n",
      "Epoch 775/1000\n",
      "34/34 [==============================] - 0s 13ms/step - loss: 989.0350 - val_loss: 2186.1238\n",
      "Epoch 776/1000\n",
      "34/34 [==============================] - 0s 12ms/step - loss: 977.9988 - val_loss: 1919.9224\n",
      "Epoch 777/1000\n",
      "34/34 [==============================] - 0s 12ms/step - loss: 943.8911 - val_loss: 1922.3959\n",
      "Epoch 778/1000\n",
      "34/34 [==============================] - 0s 13ms/step - loss: 980.4838 - val_loss: 1892.5504\n",
      "Epoch 779/1000\n",
      "34/34 [==============================] - 0s 11ms/step - loss: 945.0136 - val_loss: 1951.7992\n",
      "Epoch 780/1000\n",
      "34/34 [==============================] - 0s 11ms/step - loss: 981.4719 - val_loss: 1921.3912\n",
      "Epoch 781/1000\n",
      "34/34 [==============================] - 1s 15ms/step - loss: 1034.5780 - val_loss: 1907.8881\n",
      "Epoch 782/1000\n",
      "34/34 [==============================] - 0s 11ms/step - loss: 964.7004 - val_loss: 2000.1460\n",
      "Epoch 783/1000\n",
      "34/34 [==============================] - 0s 11ms/step - loss: 975.5989 - val_loss: 2055.5842\n",
      "Epoch 784/1000\n",
      "34/34 [==============================] - 0s 13ms/step - loss: 981.1418 - val_loss: 1961.9885\n",
      "Epoch 785/1000\n",
      "34/34 [==============================] - 0s 12ms/step - loss: 964.7054 - val_loss: 1979.1030\n",
      "Epoch 786/1000\n",
      "34/34 [==============================] - 0s 12ms/step - loss: 963.6401 - val_loss: 1940.7480\n",
      "Epoch 787/1000\n",
      "34/34 [==============================] - 0s 11ms/step - loss: 947.4803 - val_loss: 1934.3032\n",
      "Epoch 788/1000\n",
      "34/34 [==============================] - 0s 13ms/step - loss: 951.9649 - val_loss: 1952.5048\n",
      "Epoch 789/1000\n",
      "34/34 [==============================] - 0s 12ms/step - loss: 941.8716 - val_loss: 1909.9808\n",
      "Epoch 790/1000\n",
      "34/34 [==============================] - 0s 13ms/step - loss: 939.9493 - val_loss: 1929.1233\n",
      "Epoch 791/1000\n",
      "34/34 [==============================] - 0s 12ms/step - loss: 968.1711 - val_loss: 1934.1594\n",
      "Epoch 792/1000\n",
      "34/34 [==============================] - 0s 12ms/step - loss: 999.4218 - val_loss: 1937.3030\n",
      "Epoch 793/1000\n",
      "34/34 [==============================] - 0s 13ms/step - loss: 994.5875 - val_loss: 1957.7892\n",
      "Epoch 794/1000\n",
      "34/34 [==============================] - 0s 12ms/step - loss: 952.4716 - val_loss: 1891.2899\n",
      "Epoch 795/1000\n",
      "34/34 [==============================] - 0s 13ms/step - loss: 926.0709 - val_loss: 1930.5557\n",
      "Epoch 796/1000\n",
      "34/34 [==============================] - 0s 12ms/step - loss: 923.1556 - val_loss: 2039.5504\n",
      "Epoch 797/1000\n",
      "34/34 [==============================] - 0s 12ms/step - loss: 995.1851 - val_loss: 1972.3237\n",
      "Epoch 798/1000\n",
      "34/34 [==============================] - 0s 12ms/step - loss: 998.2065 - val_loss: 2019.5861\n",
      "Epoch 799/1000\n",
      "34/34 [==============================] - 0s 11ms/step - loss: 957.3699 - val_loss: 1921.8530\n",
      "Epoch 800/1000\n",
      "34/34 [==============================] - 0s 13ms/step - loss: 1010.5959 - val_loss: 1994.3762\n",
      "Epoch 801/1000\n",
      "34/34 [==============================] - 0s 11ms/step - loss: 955.2242 - val_loss: 1946.8851\n",
      "Epoch 802/1000\n",
      "34/34 [==============================] - 0s 13ms/step - loss: 981.4312 - val_loss: 1925.4750\n",
      "Epoch 803/1000\n",
      "34/34 [==============================] - 0s 12ms/step - loss: 930.5403 - val_loss: 1926.0961\n",
      "Epoch 804/1000\n",
      "34/34 [==============================] - 0s 13ms/step - loss: 919.9210 - val_loss: 1925.4122\n",
      "Epoch 805/1000\n",
      "34/34 [==============================] - 0s 12ms/step - loss: 922.9471 - val_loss: 1958.1655\n",
      "Epoch 806/1000\n",
      "34/34 [==============================] - 0s 12ms/step - loss: 936.5551 - val_loss: 1948.5154\n",
      "Epoch 807/1000\n",
      "34/34 [==============================] - 0s 12ms/step - loss: 962.5508 - val_loss: 1917.5723\n",
      "Epoch 808/1000\n",
      "34/34 [==============================] - 0s 12ms/step - loss: 933.3011 - val_loss: 1920.0955\n",
      "Epoch 809/1000\n",
      "34/34 [==============================] - 0s 13ms/step - loss: 965.3333 - val_loss: 2009.6078\n",
      "Epoch 810/1000\n",
      "34/34 [==============================] - 1s 15ms/step - loss: 943.9486 - val_loss: 1988.3394\n",
      "Epoch 811/1000\n",
      "34/34 [==============================] - 0s 11ms/step - loss: 919.3990 - val_loss: 1965.7803\n",
      "Epoch 812/1000\n",
      "34/34 [==============================] - 0s 11ms/step - loss: 912.6614 - val_loss: 1978.4027\n",
      "Epoch 813/1000\n",
      "34/34 [==============================] - 0s 12ms/step - loss: 909.6872 - val_loss: 1941.7408\n",
      "Epoch 814/1000\n",
      "34/34 [==============================] - 0s 11ms/step - loss: 918.3396 - val_loss: 1926.1648\n",
      "Epoch 815/1000\n",
      "34/34 [==============================] - 0s 13ms/step - loss: 946.3480 - val_loss: 1969.6434\n",
      "Epoch 816/1000\n",
      "34/34 [==============================] - 0s 12ms/step - loss: 916.8087 - val_loss: 1957.6257\n",
      "Epoch 817/1000\n",
      "34/34 [==============================] - 0s 13ms/step - loss: 972.7489 - val_loss: 1924.6445\n",
      "Epoch 818/1000\n",
      "34/34 [==============================] - 0s 11ms/step - loss: 957.6794 - val_loss: 1932.6523\n",
      "Epoch 819/1000\n",
      "34/34 [==============================] - 0s 13ms/step - loss: 935.1685 - val_loss: 2000.8442\n",
      "Epoch 820/1000\n",
      "34/34 [==============================] - 0s 12ms/step - loss: 918.2059 - val_loss: 1947.8419\n",
      "Epoch 821/1000\n",
      "34/34 [==============================] - 0s 12ms/step - loss: 925.7729 - val_loss: 1899.1533\n",
      "Epoch 822/1000\n",
      "34/34 [==============================] - 0s 11ms/step - loss: 920.0437 - val_loss: 1941.7832\n",
      "Epoch 823/1000\n",
      "34/34 [==============================] - 0s 13ms/step - loss: 964.7333 - val_loss: 1976.3002\n",
      "Epoch 824/1000\n",
      "34/34 [==============================] - 0s 14ms/step - loss: 892.8563 - val_loss: 1976.2277\n",
      "Epoch 825/1000\n",
      "34/34 [==============================] - 0s 13ms/step - loss: 936.6368 - val_loss: 1998.1217\n",
      "Epoch 826/1000\n",
      "34/34 [==============================] - 0s 12ms/step - loss: 890.3751 - val_loss: 1983.3740\n",
      "Epoch 827/1000\n",
      "34/34 [==============================] - 0s 12ms/step - loss: 943.4349 - val_loss: 1940.8212\n",
      "Epoch 828/1000\n",
      "34/34 [==============================] - 0s 12ms/step - loss: 949.4476 - val_loss: 1970.2360\n",
      "Epoch 829/1000\n",
      "34/34 [==============================] - 0s 12ms/step - loss: 950.9169 - val_loss: 1975.3632\n",
      "Epoch 830/1000\n",
      "34/34 [==============================] - 0s 12ms/step - loss: 924.0845 - val_loss: 2084.2422\n",
      "Epoch 831/1000\n",
      "34/34 [==============================] - 0s 11ms/step - loss: 958.0085 - val_loss: 1943.6284\n",
      "Epoch 832/1000\n",
      "34/34 [==============================] - 0s 13ms/step - loss: 901.0309 - val_loss: 2032.5450\n",
      "Epoch 833/1000\n",
      "34/34 [==============================] - 0s 13ms/step - loss: 910.1925 - val_loss: 1985.6052\n",
      "Epoch 834/1000\n",
      "34/34 [==============================] - 0s 12ms/step - loss: 950.1531 - val_loss: 1917.5793\n",
      "Epoch 835/1000\n",
      "34/34 [==============================] - 0s 11ms/step - loss: 905.4634 - val_loss: 1916.1342\n",
      "Epoch 836/1000\n",
      "34/34 [==============================] - 0s 12ms/step - loss: 929.5876 - val_loss: 1927.1255\n",
      "Epoch 837/1000\n",
      "34/34 [==============================] - 0s 15ms/step - loss: 912.4871 - val_loss: 1970.8176\n",
      "Epoch 838/1000\n",
      "34/34 [==============================] - 0s 13ms/step - loss: 909.4226 - val_loss: 2011.6681\n",
      "Epoch 839/1000\n",
      "34/34 [==============================] - 0s 11ms/step - loss: 910.3483 - val_loss: 1965.8820\n",
      "Epoch 840/1000\n",
      "34/34 [==============================] - 0s 13ms/step - loss: 916.3878 - val_loss: 1960.3274\n",
      "Epoch 841/1000\n",
      "34/34 [==============================] - 0s 13ms/step - loss: 887.5222 - val_loss: 1927.4764\n",
      "Epoch 842/1000\n",
      "34/34 [==============================] - 0s 12ms/step - loss: 901.2051 - val_loss: 1989.5039\n",
      "Epoch 843/1000\n",
      "34/34 [==============================] - 0s 12ms/step - loss: 874.5689 - val_loss: 1978.0248\n",
      "Epoch 844/1000\n",
      "34/34 [==============================] - 0s 11ms/step - loss: 913.7278 - val_loss: 2058.2935\n",
      "Epoch 845/1000\n",
      "34/34 [==============================] - 0s 12ms/step - loss: 969.4896 - val_loss: 2036.9170\n",
      "Epoch 846/1000\n",
      "34/34 [==============================] - 0s 12ms/step - loss: 891.5830 - val_loss: 1989.4047\n",
      "Epoch 847/1000\n",
      "34/34 [==============================] - 0s 12ms/step - loss: 889.2195 - val_loss: 1957.7262\n",
      "Epoch 848/1000\n",
      "34/34 [==============================] - 0s 13ms/step - loss: 883.3395 - val_loss: 2051.3574\n",
      "Epoch 849/1000\n",
      "34/34 [==============================] - 0s 12ms/step - loss: 898.4837 - val_loss: 1958.3633\n",
      "Epoch 850/1000\n",
      "34/34 [==============================] - 0s 13ms/step - loss: 886.1542 - val_loss: 2014.2615\n",
      "Epoch 851/1000\n",
      "34/34 [==============================] - 0s 12ms/step - loss: 866.6658 - val_loss: 1929.4036\n",
      "Epoch 852/1000\n",
      "34/34 [==============================] - 0s 12ms/step - loss: 874.3626 - val_loss: 2050.3577\n",
      "Epoch 853/1000\n",
      "34/34 [==============================] - 0s 12ms/step - loss: 938.6273 - val_loss: 2001.9562\n",
      "Epoch 854/1000\n",
      "34/34 [==============================] - 0s 12ms/step - loss: 910.3017 - val_loss: 1988.9032\n",
      "Epoch 855/1000\n",
      "34/34 [==============================] - 0s 12ms/step - loss: 921.3361 - val_loss: 2070.2253\n",
      "Epoch 856/1000\n",
      "34/34 [==============================] - 0s 12ms/step - loss: 890.5715 - val_loss: 1983.9703\n",
      "Epoch 857/1000\n",
      "34/34 [==============================] - 0s 12ms/step - loss: 902.3444 - val_loss: 1980.3722\n",
      "Epoch 858/1000\n",
      "34/34 [==============================] - 1s 16ms/step - loss: 892.1394 - val_loss: 1989.9531\n",
      "Epoch 859/1000\n",
      "34/34 [==============================] - 0s 12ms/step - loss: 862.0717 - val_loss: 1947.6565\n",
      "Epoch 860/1000\n",
      "34/34 [==============================] - 0s 13ms/step - loss: 850.0529 - val_loss: 2085.5601\n",
      "Epoch 861/1000\n",
      "34/34 [==============================] - 0s 12ms/step - loss: 904.5883 - val_loss: 1974.8174\n",
      "Epoch 862/1000\n",
      "34/34 [==============================] - 0s 13ms/step - loss: 994.7183 - val_loss: 2139.8811\n",
      "Epoch 863/1000\n",
      "34/34 [==============================] - 0s 11ms/step - loss: 887.9882 - val_loss: 2014.9152\n",
      "Epoch 864/1000\n",
      "34/34 [==============================] - 0s 12ms/step - loss: 873.6207 - val_loss: 1953.8014\n",
      "Epoch 865/1000\n",
      "34/34 [==============================] - 0s 12ms/step - loss: 902.2073 - val_loss: 2018.4047\n",
      "Epoch 866/1000\n",
      "34/34 [==============================] - 0s 13ms/step - loss: 979.2872 - val_loss: 1958.8051\n",
      "Epoch 867/1000\n",
      "34/34 [==============================] - 0s 11ms/step - loss: 963.5414 - val_loss: 1995.4928\n",
      "Epoch 868/1000\n",
      "34/34 [==============================] - 0s 11ms/step - loss: 861.0307 - val_loss: 1981.6859\n",
      "Epoch 869/1000\n",
      "34/34 [==============================] - 0s 11ms/step - loss: 899.1620 - val_loss: 2131.6777\n",
      "Epoch 870/1000\n",
      "34/34 [==============================] - 0s 12ms/step - loss: 1016.8230 - val_loss: 1942.8549\n",
      "Epoch 871/1000\n",
      "34/34 [==============================] - 1s 16ms/step - loss: 916.7873 - val_loss: 2049.6528\n",
      "Epoch 872/1000\n",
      "34/34 [==============================] - 0s 13ms/step - loss: 887.7451 - val_loss: 2032.3978\n",
      "Epoch 873/1000\n",
      "34/34 [==============================] - 0s 12ms/step - loss: 898.4579 - val_loss: 2107.8611\n",
      "Epoch 874/1000\n",
      "34/34 [==============================] - 0s 12ms/step - loss: 897.7236 - val_loss: 1996.8627\n",
      "Epoch 875/1000\n",
      "34/34 [==============================] - 0s 12ms/step - loss: 894.9588 - val_loss: 2040.3853\n",
      "Epoch 876/1000\n",
      "34/34 [==============================] - 0s 12ms/step - loss: 849.4861 - val_loss: 2001.4027\n",
      "Epoch 877/1000\n",
      "34/34 [==============================] - 0s 12ms/step - loss: 863.1332 - val_loss: 2044.0149\n",
      "Epoch 878/1000\n",
      "34/34 [==============================] - 0s 12ms/step - loss: 841.2747 - val_loss: 1961.1532\n",
      "Epoch 879/1000\n",
      "34/34 [==============================] - 0s 11ms/step - loss: 863.6450 - val_loss: 2074.9370\n",
      "Epoch 880/1000\n",
      "34/34 [==============================] - 0s 12ms/step - loss: 874.2367 - val_loss: 2010.5735\n",
      "Epoch 881/1000\n",
      "34/34 [==============================] - 0s 12ms/step - loss: 870.2199 - val_loss: 1993.4701\n",
      "Epoch 882/1000\n",
      "34/34 [==============================] - 0s 13ms/step - loss: 890.9116 - val_loss: 1954.0188\n",
      "Epoch 883/1000\n",
      "34/34 [==============================] - 0s 13ms/step - loss: 830.0540 - val_loss: 2039.8022\n",
      "Epoch 884/1000\n",
      "34/34 [==============================] - 1s 15ms/step - loss: 821.6414 - val_loss: 2016.3573\n",
      "Epoch 885/1000\n",
      "34/34 [==============================] - 0s 12ms/step - loss: 909.5627 - val_loss: 2009.0487\n",
      "Epoch 886/1000\n",
      "34/34 [==============================] - 1s 15ms/step - loss: 936.8038 - val_loss: 2046.5991\n",
      "Epoch 887/1000\n",
      "34/34 [==============================] - 0s 12ms/step - loss: 866.2654 - val_loss: 2016.4158\n",
      "Epoch 888/1000\n",
      "34/34 [==============================] - 0s 12ms/step - loss: 832.4500 - val_loss: 1996.9485\n",
      "Epoch 889/1000\n",
      "34/34 [==============================] - 0s 11ms/step - loss: 903.9698 - val_loss: 1943.0977\n",
      "Epoch 890/1000\n",
      "34/34 [==============================] - 0s 12ms/step - loss: 835.6683 - val_loss: 1969.0016\n",
      "Epoch 891/1000\n",
      "34/34 [==============================] - 0s 11ms/step - loss: 853.7421 - val_loss: 2100.1042\n",
      "Epoch 892/1000\n",
      "34/34 [==============================] - 0s 12ms/step - loss: 832.0593 - val_loss: 1978.7787\n",
      "Epoch 893/1000\n",
      "34/34 [==============================] - 0s 11ms/step - loss: 867.4959 - val_loss: 2084.2310\n",
      "Epoch 894/1000\n",
      "34/34 [==============================] - 0s 13ms/step - loss: 926.7877 - val_loss: 2023.4792\n",
      "Epoch 895/1000\n",
      "34/34 [==============================] - 0s 12ms/step - loss: 797.8826 - val_loss: 2033.3981\n",
      "Epoch 896/1000\n",
      "34/34 [==============================] - 0s 12ms/step - loss: 929.7566 - val_loss: 2108.0859\n",
      "Epoch 897/1000\n",
      "34/34 [==============================] - 0s 11ms/step - loss: 836.5262 - val_loss: 2063.5481\n",
      "Epoch 898/1000\n",
      "34/34 [==============================] - 0s 12ms/step - loss: 794.0173 - val_loss: 2053.7600\n",
      "Epoch 899/1000\n",
      "34/34 [==============================] - 0s 13ms/step - loss: 842.2692 - val_loss: 2017.6481\n",
      "Epoch 900/1000\n",
      "34/34 [==============================] - 0s 11ms/step - loss: 810.0231 - val_loss: 2008.1655\n",
      "Epoch 901/1000\n",
      "34/34 [==============================] - 0s 12ms/step - loss: 796.1488 - val_loss: 2034.3948\n",
      "Epoch 902/1000\n",
      "34/34 [==============================] - 0s 12ms/step - loss: 785.5974 - val_loss: 2085.2241\n",
      "Epoch 903/1000\n",
      "34/34 [==============================] - 0s 11ms/step - loss: 842.0153 - val_loss: 2074.3552\n",
      "Epoch 904/1000\n",
      "34/34 [==============================] - 0s 12ms/step - loss: 812.9124 - val_loss: 2053.7996\n",
      "Epoch 905/1000\n",
      "34/34 [==============================] - 0s 12ms/step - loss: 774.4418 - val_loss: 2005.7869\n",
      "Epoch 906/1000\n",
      "34/34 [==============================] - 0s 11ms/step - loss: 833.8893 - val_loss: 2061.9153\n",
      "Epoch 907/1000\n",
      "34/34 [==============================] - 0s 11ms/step - loss: 791.5151 - val_loss: 2035.9298\n",
      "Epoch 908/1000\n",
      "34/34 [==============================] - 1s 16ms/step - loss: 797.1058 - val_loss: 2011.9700\n",
      "Epoch 909/1000\n",
      "34/34 [==============================] - 0s 12ms/step - loss: 799.8585 - val_loss: 2049.3547\n",
      "Epoch 910/1000\n",
      "34/34 [==============================] - 0s 11ms/step - loss: 815.1948 - val_loss: 2121.2354\n",
      "Epoch 911/1000\n",
      "34/34 [==============================] - 0s 11ms/step - loss: 813.8425 - val_loss: 2064.7759\n",
      "Epoch 912/1000\n",
      "34/34 [==============================] - 0s 11ms/step - loss: 809.1926 - val_loss: 2056.9314\n",
      "Epoch 913/1000\n",
      "34/34 [==============================] - 0s 11ms/step - loss: 780.9959 - val_loss: 2030.6964\n",
      "Epoch 914/1000\n",
      "34/34 [==============================] - 0s 11ms/step - loss: 827.4991 - val_loss: 2063.1997\n",
      "Epoch 915/1000\n",
      "34/34 [==============================] - 0s 12ms/step - loss: 844.5546 - val_loss: 1985.3235\n",
      "Epoch 916/1000\n",
      "34/34 [==============================] - 0s 12ms/step - loss: 780.7666 - val_loss: 2115.9124\n",
      "Epoch 917/1000\n",
      "34/34 [==============================] - 0s 12ms/step - loss: 754.7578 - val_loss: 2003.1393\n",
      "Epoch 918/1000\n",
      "34/34 [==============================] - 0s 12ms/step - loss: 746.2031 - val_loss: 2042.3036\n",
      "Epoch 919/1000\n",
      "34/34 [==============================] - 0s 13ms/step - loss: 802.6908 - val_loss: 2098.8611\n",
      "Epoch 920/1000\n",
      "34/34 [==============================] - 0s 12ms/step - loss: 889.5873 - val_loss: 2094.2634\n",
      "Epoch 921/1000\n",
      "34/34 [==============================] - 0s 12ms/step - loss: 870.4866 - val_loss: 2093.5684\n",
      "Epoch 922/1000\n",
      "34/34 [==============================] - 0s 12ms/step - loss: 776.9749 - val_loss: 2097.6033\n",
      "Epoch 923/1000\n",
      "34/34 [==============================] - 0s 13ms/step - loss: 840.9462 - val_loss: 2080.0649\n",
      "Epoch 924/1000\n",
      "34/34 [==============================] - 0s 11ms/step - loss: 771.5815 - val_loss: 2002.5359\n",
      "Epoch 925/1000\n",
      "34/34 [==============================] - 0s 12ms/step - loss: 766.4468 - val_loss: 2013.9039\n",
      "Epoch 926/1000\n",
      "34/34 [==============================] - 0s 13ms/step - loss: 766.9838 - val_loss: 1915.8196\n",
      "Epoch 927/1000\n",
      "34/34 [==============================] - 0s 13ms/step - loss: 762.2183 - val_loss: 2028.9802\n",
      "Epoch 928/1000\n",
      "34/34 [==============================] - 0s 11ms/step - loss: 745.5475 - val_loss: 2014.6066\n",
      "Epoch 929/1000\n",
      "34/34 [==============================] - 0s 12ms/step - loss: 760.9237 - val_loss: 2051.9956\n",
      "Epoch 930/1000\n",
      "34/34 [==============================] - 0s 12ms/step - loss: 765.1523 - val_loss: 1988.0863\n",
      "Epoch 931/1000\n",
      "34/34 [==============================] - 1s 15ms/step - loss: 780.5616 - val_loss: 2043.3967\n",
      "Epoch 932/1000\n",
      "34/34 [==============================] - 0s 13ms/step - loss: 776.9586 - val_loss: 2174.9939\n",
      "Epoch 933/1000\n",
      "34/34 [==============================] - 0s 12ms/step - loss: 807.9250 - val_loss: 2113.8882\n",
      "Epoch 934/1000\n",
      "34/34 [==============================] - 0s 12ms/step - loss: 777.5459 - val_loss: 2005.1448\n",
      "Epoch 935/1000\n",
      "34/34 [==============================] - 0s 11ms/step - loss: 784.5278 - val_loss: 2022.9780\n",
      "Epoch 936/1000\n",
      "34/34 [==============================] - 0s 12ms/step - loss: 750.5535 - val_loss: 2064.7205\n",
      "Epoch 937/1000\n",
      "34/34 [==============================] - 0s 12ms/step - loss: 722.2159 - val_loss: 2018.7889\n",
      "Epoch 938/1000\n",
      "34/34 [==============================] - 0s 13ms/step - loss: 823.2261 - val_loss: 1948.6710\n",
      "Epoch 939/1000\n",
      "34/34 [==============================] - 0s 12ms/step - loss: 735.5086 - val_loss: 2144.9297\n",
      "Epoch 940/1000\n",
      "34/34 [==============================] - 0s 12ms/step - loss: 785.9799 - val_loss: 2099.3633\n",
      "Epoch 941/1000\n",
      "34/34 [==============================] - 0s 13ms/step - loss: 735.7045 - val_loss: 2006.1724\n",
      "Epoch 942/1000\n",
      "34/34 [==============================] - 0s 11ms/step - loss: 769.1820 - val_loss: 2025.7825\n",
      "Epoch 943/1000\n",
      "34/34 [==============================] - 0s 11ms/step - loss: 707.7617 - val_loss: 1998.7607\n",
      "Epoch 944/1000\n",
      "34/34 [==============================] - 0s 12ms/step - loss: 716.8826 - val_loss: 2047.6147\n",
      "Epoch 945/1000\n",
      "34/34 [==============================] - 0s 13ms/step - loss: 734.9661 - val_loss: 2071.7793\n",
      "Epoch 946/1000\n",
      "34/34 [==============================] - 0s 12ms/step - loss: 755.8359 - val_loss: 2298.3611\n",
      "Epoch 947/1000\n",
      "34/34 [==============================] - 0s 11ms/step - loss: 850.2294 - val_loss: 2321.0808\n",
      "Epoch 948/1000\n",
      "34/34 [==============================] - 0s 11ms/step - loss: 874.2145 - val_loss: 2189.0161\n",
      "Epoch 949/1000\n",
      "34/34 [==============================] - 0s 13ms/step - loss: 747.1263 - val_loss: 2062.7041\n",
      "Epoch 950/1000\n",
      "34/34 [==============================] - 0s 13ms/step - loss: 780.5463 - val_loss: 2019.0845\n",
      "Epoch 951/1000\n",
      "34/34 [==============================] - 0s 13ms/step - loss: 735.9263 - val_loss: 2094.6765\n",
      "Epoch 952/1000\n",
      "34/34 [==============================] - 0s 13ms/step - loss: 706.3243 - val_loss: 2066.8127\n",
      "Epoch 953/1000\n",
      "34/34 [==============================] - 0s 11ms/step - loss: 733.9161 - val_loss: 2082.5759\n",
      "Epoch 954/1000\n",
      "34/34 [==============================] - 0s 11ms/step - loss: 699.2293 - val_loss: 2133.1064\n",
      "Epoch 955/1000\n",
      "34/34 [==============================] - 0s 13ms/step - loss: 749.3389 - val_loss: 2067.6262\n",
      "Epoch 956/1000\n",
      "34/34 [==============================] - 0s 13ms/step - loss: 737.3100 - val_loss: 2121.2434\n",
      "Epoch 957/1000\n",
      "34/34 [==============================] - 0s 12ms/step - loss: 704.1060 - val_loss: 2052.2488\n",
      "Epoch 958/1000\n",
      "34/34 [==============================] - 0s 11ms/step - loss: 712.3027 - val_loss: 2106.9929\n",
      "Epoch 959/1000\n",
      "34/34 [==============================] - 0s 12ms/step - loss: 727.5031 - val_loss: 2049.8955\n",
      "Epoch 960/1000\n",
      "34/34 [==============================] - 1s 16ms/step - loss: 686.8223 - val_loss: 2034.4445\n",
      "Epoch 961/1000\n",
      "34/34 [==============================] - 0s 12ms/step - loss: 663.9594 - val_loss: 2115.2603\n",
      "Epoch 962/1000\n",
      "34/34 [==============================] - 0s 12ms/step - loss: 778.5685 - val_loss: 1994.8358\n",
      "Epoch 963/1000\n",
      "34/34 [==============================] - 0s 12ms/step - loss: 698.5670 - val_loss: 2135.8167\n",
      "Epoch 964/1000\n",
      "34/34 [==============================] - 0s 12ms/step - loss: 698.4792 - val_loss: 2088.2625\n",
      "Epoch 965/1000\n",
      "34/34 [==============================] - 0s 12ms/step - loss: 720.1751 - val_loss: 2091.8062\n",
      "Epoch 966/1000\n",
      "34/34 [==============================] - 0s 12ms/step - loss: 709.4451 - val_loss: 2121.5701\n",
      "Epoch 967/1000\n",
      "34/34 [==============================] - 1s 16ms/step - loss: 762.2439 - val_loss: 2052.6238\n",
      "Epoch 968/1000\n",
      "34/34 [==============================] - 0s 12ms/step - loss: 735.3611 - val_loss: 2152.1895\n",
      "Epoch 969/1000\n",
      "34/34 [==============================] - 0s 11ms/step - loss: 685.9869 - val_loss: 2083.3474\n",
      "Epoch 970/1000\n",
      "34/34 [==============================] - 0s 12ms/step - loss: 656.7018 - val_loss: 2166.8411\n",
      "Epoch 971/1000\n",
      "34/34 [==============================] - 0s 12ms/step - loss: 693.1275 - val_loss: 2013.7397\n",
      "Epoch 972/1000\n",
      "34/34 [==============================] - 0s 14ms/step - loss: 696.3599 - val_loss: 2135.0203\n",
      "Epoch 973/1000\n",
      "34/34 [==============================] - 0s 12ms/step - loss: 706.7944 - val_loss: 2073.4712\n",
      "Epoch 974/1000\n",
      "34/34 [==============================] - 0s 12ms/step - loss: 660.3051 - val_loss: 2059.6172\n",
      "Epoch 975/1000\n",
      "34/34 [==============================] - 0s 13ms/step - loss: 652.7683 - val_loss: 2012.6232\n",
      "Epoch 976/1000\n",
      "34/34 [==============================] - 0s 12ms/step - loss: 765.7287 - val_loss: 1977.4550\n",
      "Epoch 977/1000\n",
      "34/34 [==============================] - 0s 12ms/step - loss: 708.3400 - val_loss: 2073.9888\n",
      "Epoch 978/1000\n",
      "34/34 [==============================] - 0s 11ms/step - loss: 706.1135 - val_loss: 2060.7168\n",
      "Epoch 979/1000\n",
      "34/34 [==============================] - 0s 11ms/step - loss: 725.7194 - val_loss: 2048.1387\n",
      "Epoch 980/1000\n",
      "34/34 [==============================] - 0s 13ms/step - loss: 678.1105 - val_loss: 2053.6616\n",
      "Epoch 981/1000\n",
      "34/34 [==============================] - 0s 13ms/step - loss: 689.2548 - val_loss: 2068.4243\n",
      "Epoch 982/1000\n",
      "34/34 [==============================] - 0s 12ms/step - loss: 664.0366 - val_loss: 2031.9183\n",
      "Epoch 983/1000\n",
      "34/34 [==============================] - 0s 12ms/step - loss: 714.5708 - val_loss: 2076.5276\n",
      "Epoch 984/1000\n",
      "34/34 [==============================] - 0s 11ms/step - loss: 665.0291 - val_loss: 2070.5898\n",
      "Epoch 985/1000\n",
      "34/34 [==============================] - 0s 11ms/step - loss: 671.5031 - val_loss: 2137.2214\n",
      "Epoch 986/1000\n",
      "34/34 [==============================] - 0s 11ms/step - loss: 722.6301 - val_loss: 2243.8545\n",
      "Epoch 987/1000\n",
      "34/34 [==============================] - 1s 15ms/step - loss: 706.0674 - val_loss: 2164.0193\n",
      "Epoch 988/1000\n",
      "34/34 [==============================] - 0s 13ms/step - loss: 730.7061 - val_loss: 2021.6499\n",
      "Epoch 989/1000\n",
      "34/34 [==============================] - 0s 13ms/step - loss: 638.0433 - val_loss: 2165.6799\n",
      "Epoch 990/1000\n",
      "34/34 [==============================] - 0s 12ms/step - loss: 680.9109 - val_loss: 2089.2290\n",
      "Epoch 991/1000\n",
      "34/34 [==============================] - 0s 12ms/step - loss: 632.3156 - val_loss: 2176.9114\n",
      "Epoch 992/1000\n",
      "34/34 [==============================] - 0s 12ms/step - loss: 667.8517 - val_loss: 2129.8848\n",
      "Epoch 993/1000\n",
      "34/34 [==============================] - 1s 15ms/step - loss: 755.9380 - val_loss: 2053.8828\n",
      "Epoch 994/1000\n",
      "34/34 [==============================] - 0s 12ms/step - loss: 801.1818 - val_loss: 2183.6233\n",
      "Epoch 995/1000\n",
      "34/34 [==============================] - 0s 13ms/step - loss: 710.4619 - val_loss: 2010.8356\n",
      "Epoch 996/1000\n",
      "34/34 [==============================] - 0s 12ms/step - loss: 657.4832 - val_loss: 2120.8369\n",
      "Epoch 997/1000\n",
      "34/34 [==============================] - 0s 13ms/step - loss: 635.5794 - val_loss: 1958.2052\n",
      "Epoch 998/1000\n",
      "34/34 [==============================] - 0s 12ms/step - loss: 640.4898 - val_loss: 2062.2637\n",
      "Epoch 999/1000\n",
      "34/34 [==============================] - 0s 13ms/step - loss: 679.5635 - val_loss: 2009.8475\n",
      "Epoch 1000/1000\n",
      "34/34 [==============================] - 0s 14ms/step - loss: 624.0331 - val_loss: 2165.3584\n"
     ]
    },
    {
     "data": {
      "text/plain": [
       "<keras.callbacks.History at 0x294bdb35a30>"
      ]
     },
     "execution_count": 188,
     "metadata": {},
     "output_type": "execute_result"
    }
   ],
   "source": [
    "model.fit(x_train , y_train , epochs=1000, validation_data=(x_test,y_test))"
   ]
  },
  {
   "cell_type": "code",
   "execution_count": 234,
   "id": "5c3dcae7",
   "metadata": {},
   "outputs": [
    {
     "data": {
      "text/html": [
       "<div>\n",
       "<style scoped>\n",
       "    .dataframe tbody tr th:only-of-type {\n",
       "        vertical-align: middle;\n",
       "    }\n",
       "\n",
       "    .dataframe tbody tr th {\n",
       "        vertical-align: top;\n",
       "    }\n",
       "\n",
       "    .dataframe thead th {\n",
       "        text-align: right;\n",
       "    }\n",
       "</style>\n",
       "<table border=\"1\" class=\"dataframe\">\n",
       "  <thead>\n",
       "    <tr style=\"text-align: right;\">\n",
       "      <th></th>\n",
       "      <th>age</th>\n",
       "      <th>sex</th>\n",
       "      <th>bmi</th>\n",
       "      <th>children</th>\n",
       "      <th>smoker</th>\n",
       "      <th>region</th>\n",
       "      <th>charges</th>\n",
       "      <th>smoker_code</th>\n",
       "      <th>sex_code</th>\n",
       "      <th>northeast</th>\n",
       "      <th>northwest</th>\n",
       "      <th>southeast</th>\n",
       "      <th>southwest</th>\n",
       "    </tr>\n",
       "  </thead>\n",
       "  <tbody>\n",
       "    <tr>\n",
       "      <th>0</th>\n",
       "      <td>19</td>\n",
       "      <td>female</td>\n",
       "      <td>27.900</td>\n",
       "      <td>0</td>\n",
       "      <td>yes</td>\n",
       "      <td>southwest</td>\n",
       "      <td>16884.92400</td>\n",
       "      <td>1</td>\n",
       "      <td>0</td>\n",
       "      <td>0.0</td>\n",
       "      <td>0.0</td>\n",
       "      <td>0.0</td>\n",
       "      <td>1.0</td>\n",
       "    </tr>\n",
       "    <tr>\n",
       "      <th>1</th>\n",
       "      <td>18</td>\n",
       "      <td>male</td>\n",
       "      <td>33.770</td>\n",
       "      <td>1</td>\n",
       "      <td>no</td>\n",
       "      <td>southeast</td>\n",
       "      <td>1725.55230</td>\n",
       "      <td>0</td>\n",
       "      <td>1</td>\n",
       "      <td>0.0</td>\n",
       "      <td>0.0</td>\n",
       "      <td>1.0</td>\n",
       "      <td>0.0</td>\n",
       "    </tr>\n",
       "    <tr>\n",
       "      <th>2</th>\n",
       "      <td>28</td>\n",
       "      <td>male</td>\n",
       "      <td>33.000</td>\n",
       "      <td>3</td>\n",
       "      <td>no</td>\n",
       "      <td>southeast</td>\n",
       "      <td>4449.46200</td>\n",
       "      <td>0</td>\n",
       "      <td>1</td>\n",
       "      <td>0.0</td>\n",
       "      <td>0.0</td>\n",
       "      <td>1.0</td>\n",
       "      <td>0.0</td>\n",
       "    </tr>\n",
       "    <tr>\n",
       "      <th>3</th>\n",
       "      <td>33</td>\n",
       "      <td>male</td>\n",
       "      <td>22.705</td>\n",
       "      <td>0</td>\n",
       "      <td>no</td>\n",
       "      <td>northwest</td>\n",
       "      <td>21984.47061</td>\n",
       "      <td>0</td>\n",
       "      <td>1</td>\n",
       "      <td>0.0</td>\n",
       "      <td>1.0</td>\n",
       "      <td>0.0</td>\n",
       "      <td>0.0</td>\n",
       "    </tr>\n",
       "    <tr>\n",
       "      <th>4</th>\n",
       "      <td>32</td>\n",
       "      <td>male</td>\n",
       "      <td>28.880</td>\n",
       "      <td>0</td>\n",
       "      <td>no</td>\n",
       "      <td>northwest</td>\n",
       "      <td>3866.85520</td>\n",
       "      <td>0</td>\n",
       "      <td>1</td>\n",
       "      <td>0.0</td>\n",
       "      <td>1.0</td>\n",
       "      <td>0.0</td>\n",
       "      <td>0.0</td>\n",
       "    </tr>\n",
       "  </tbody>\n",
       "</table>\n",
       "</div>"
      ],
      "text/plain": [
       "   age     sex     bmi  children smoker     region      charges  smoker_code  \\\n",
       "0   19  female  27.900         0    yes  southwest  16884.92400            1   \n",
       "1   18    male  33.770         1     no  southeast   1725.55230            0   \n",
       "2   28    male  33.000         3     no  southeast   4449.46200            0   \n",
       "3   33    male  22.705         0     no  northwest  21984.47061            0   \n",
       "4   32    male  28.880         0     no  northwest   3866.85520            0   \n",
       "\n",
       "   sex_code  northeast  northwest  southeast  southwest  \n",
       "0         0        0.0        0.0        0.0        1.0  \n",
       "1         1        0.0        0.0        1.0        0.0  \n",
       "2         1        0.0        0.0        1.0        0.0  \n",
       "3         1        0.0        1.0        0.0        0.0  \n",
       "4         1        0.0        1.0        0.0        0.0  "
      ]
     },
     "execution_count": 234,
     "metadata": {},
     "output_type": "execute_result"
    }
   ],
   "source": [
    "medical_df.head()"
   ]
  },
  {
   "cell_type": "code",
   "execution_count": 216,
   "id": "0082a602",
   "metadata": {},
   "outputs": [],
   "source": [
    "ab = medical_df[['age','bmi','children']]\n",
    "ab = sc.transform(ab)\n",
    "bc =  medical_df[['smoker_code','sex_code','northeast','northwest','southeast','southwest']]\n",
    "test = np.concatenate((ab,bc),axis=1)"
   ]
  },
  {
   "cell_type": "code",
   "execution_count": 235,
   "id": "751f694f",
   "metadata": {},
   "outputs": [
    {
     "name": "stdout",
     "output_type": "stream",
     "text": [
      "Out of  1338 data points  165 has difference of above 1000 .\n",
      "87.66816143497758 %\n"
     ]
    }
   ],
   "source": [
    "pred = model.predict([[test]])\n",
    "count=0\n",
    "limit = 1000\n",
    "for i in range(len(test)):\n",
    "    if(abs(pred[i]-medical_df['charges'][i]) > limit):\n",
    "        count = count + 1\n",
    "print(\"Out of \",len(test) , \"data points \" ,count , \"has difference of above\",limit,\".\")\n",
    "print(((1338-165)*100)/1338 , \"%\")"
   ]
  },
  {
   "cell_type": "markdown",
   "id": "62763d45",
   "metadata": {},
   "source": [
    "# 6. SAVING THE MODEL"
   ]
  },
  {
   "cell_type": "markdown",
   "id": "805352e4",
   "metadata": {},
   "source": [
    "# 7.  CONCLUSION"
   ]
  }
 ],
 "metadata": {
  "kernelspec": {
   "display_name": "Python 3.9.5 64-bit",
   "language": "python",
   "name": "python3"
  },
  "language_info": {
   "codemirror_mode": {
    "name": "ipython",
    "version": 3
   },
   "file_extension": ".py",
   "mimetype": "text/x-python",
   "name": "python",
   "nbconvert_exporter": "python",
   "pygments_lexer": "ipython3",
   "version": "3.9.5"
  },
  "vscode": {
   "interpreter": {
    "hash": "7d42b417d81c0d6a21cb80fa5301eb1777d3947f95341825a20df2ad36a88fbc"
   }
  }
 },
 "nbformat": 4,
 "nbformat_minor": 5
}
